{
  "nbformat": 4,
  "nbformat_minor": 0,
  "metadata": {
    "colab": {
      "name": "House Prices.ipynb",
      "provenance": [],
      "authorship_tag": "ABX9TyOgJXq/FnK5CgIkx89Kjkhu",
      "include_colab_link": true
    },
    "kernelspec": {
      "name": "python3",
      "display_name": "Python 3"
    },
    "language_info": {
      "name": "python"
    }
  },
  "cells": [
    {
      "cell_type": "markdown",
      "metadata": {
        "id": "view-in-github",
        "colab_type": "text"
      },
      "source": [
        "<a href=\"https://colab.research.google.com/github/PashaIanko/Kaggle.HousePrices/blob/NewProcessing/House_Prices.ipynb\" target=\"_parent\"><img src=\"https://colab.research.google.com/assets/colab-badge.svg\" alt=\"Open In Colab\"/></a>"
      ]
    },
    {
      "cell_type": "markdown",
      "metadata": {
        "id": "dOwBkv6KSQWq"
      },
      "source": [
        "### Objectives:\n",
        "1. Learn important feature selection\n",
        "- SelectKBest from scikit learn\n",
        "- Correlation matrix\n",
        "- Feature importance from classifiers\n",
        "\n",
        "### Train preparation:\n",
        "1. Delete certain Nan cols\n",
        "2. Keep only selected numeric & categorical features\n"
      ]
    },
    {
      "cell_type": "markdown",
      "metadata": {
        "id": "0Sk1ghqfZ7oP"
      },
      "source": [
        "## Packages"
      ]
    },
    {
      "cell_type": "code",
      "metadata": {
        "id": "Mz9r2L2_hL-L",
        "colab": {
          "base_uri": "https://localhost:8080/"
        },
        "outputId": "24b91289-dccb-4be9-ef66-74b9653236df"
      },
      "source": [
        "!pip install catboost"
      ],
      "execution_count": 86,
      "outputs": [
        {
          "output_type": "stream",
          "name": "stdout",
          "text": [
            "Requirement already satisfied: catboost in /usr/local/lib/python3.7/dist-packages (1.0.3)\n",
            "Requirement already satisfied: plotly in /usr/local/lib/python3.7/dist-packages (from catboost) (4.4.1)\n",
            "Requirement already satisfied: scipy in /usr/local/lib/python3.7/dist-packages (from catboost) (1.4.1)\n",
            "Requirement already satisfied: graphviz in /usr/local/lib/python3.7/dist-packages (from catboost) (0.10.1)\n",
            "Requirement already satisfied: matplotlib in /usr/local/lib/python3.7/dist-packages (from catboost) (3.2.2)\n",
            "Requirement already satisfied: six in /usr/local/lib/python3.7/dist-packages (from catboost) (1.15.0)\n",
            "Requirement already satisfied: pandas>=0.24.0 in /usr/local/lib/python3.7/dist-packages (from catboost) (1.1.5)\n",
            "Requirement already satisfied: numpy>=1.16.0 in /usr/local/lib/python3.7/dist-packages (from catboost) (1.19.5)\n",
            "Requirement already satisfied: python-dateutil>=2.7.3 in /usr/local/lib/python3.7/dist-packages (from pandas>=0.24.0->catboost) (2.8.2)\n",
            "Requirement already satisfied: pytz>=2017.2 in /usr/local/lib/python3.7/dist-packages (from pandas>=0.24.0->catboost) (2018.9)\n",
            "Requirement already satisfied: cycler>=0.10 in /usr/local/lib/python3.7/dist-packages (from matplotlib->catboost) (0.10.0)\n",
            "Requirement already satisfied: pyparsing!=2.0.4,!=2.1.2,!=2.1.6,>=2.0.1 in /usr/local/lib/python3.7/dist-packages (from matplotlib->catboost) (2.4.7)\n",
            "Requirement already satisfied: kiwisolver>=1.0.1 in /usr/local/lib/python3.7/dist-packages (from matplotlib->catboost) (1.3.2)\n",
            "Requirement already satisfied: retrying>=1.3.3 in /usr/local/lib/python3.7/dist-packages (from plotly->catboost) (1.3.3)\n"
          ]
        }
      ]
    },
    {
      "cell_type": "code",
      "metadata": {
        "id": "qkS-hIDT602H",
        "colab": {
          "base_uri": "https://localhost:8080/"
        },
        "outputId": "0de37b7d-965a-44af-adbf-e98faf1bbe04"
      },
      "source": [
        "!pip install category_encoders"
      ],
      "execution_count": 87,
      "outputs": [
        {
          "output_type": "stream",
          "name": "stdout",
          "text": [
            "Requirement already satisfied: category_encoders in /usr/local/lib/python3.7/dist-packages (2.3.0)\n",
            "Requirement already satisfied: numpy>=1.14.0 in /usr/local/lib/python3.7/dist-packages (from category_encoders) (1.19.5)\n",
            "Requirement already satisfied: pandas>=0.21.1 in /usr/local/lib/python3.7/dist-packages (from category_encoders) (1.1.5)\n",
            "Requirement already satisfied: statsmodels>=0.9.0 in /usr/local/lib/python3.7/dist-packages (from category_encoders) (0.10.2)\n",
            "Requirement already satisfied: scikit-learn>=0.20.0 in /usr/local/lib/python3.7/dist-packages (from category_encoders) (0.22.2.post1)\n",
            "Requirement already satisfied: scipy>=1.0.0 in /usr/local/lib/python3.7/dist-packages (from category_encoders) (1.4.1)\n",
            "Requirement already satisfied: patsy>=0.5.1 in /usr/local/lib/python3.7/dist-packages (from category_encoders) (0.5.2)\n",
            "Requirement already satisfied: pytz>=2017.2 in /usr/local/lib/python3.7/dist-packages (from pandas>=0.21.1->category_encoders) (2018.9)\n",
            "Requirement already satisfied: python-dateutil>=2.7.3 in /usr/local/lib/python3.7/dist-packages (from pandas>=0.21.1->category_encoders) (2.8.2)\n",
            "Requirement already satisfied: six in /usr/local/lib/python3.7/dist-packages (from patsy>=0.5.1->category_encoders) (1.15.0)\n",
            "Requirement already satisfied: joblib>=0.11 in /usr/local/lib/python3.7/dist-packages (from scikit-learn>=0.20.0->category_encoders) (1.0.1)\n"
          ]
        }
      ]
    },
    {
      "cell_type": "code",
      "metadata": {
        "id": "2k0DiSDHYGf0"
      },
      "source": [
        "import pandas as pd\n",
        "import numpy as np\n",
        "from google.colab import drive\n",
        "\n",
        "# Plots\n",
        "import matplotlib.pyplot as plt\n",
        "import seaborn as sns\n",
        "\n",
        "# Printing\n",
        "import pprint\n",
        "\n",
        "# Feature selection\n",
        "from sklearn.feature_selection import chi2\n",
        "from sklearn.feature_selection import f_classif\n",
        "from sklearn.feature_selection import SelectKBest\n",
        "\n",
        "# Encoding\n",
        "from sklearn.preprocessing import OrdinalEncoder\n",
        "import category_encoders as ce\n",
        "\n",
        "# Pipeline\n",
        "from sklearn.pipeline import Pipeline\n",
        "from sklearn.impute import KNNImputer, SimpleImputer\n",
        "from sklearn.pipeline import make_pipeline\n",
        "from scipy.stats import skew\n",
        "\n",
        "# Model\n",
        "from sklearn.linear_model import LinearRegression\n",
        "from sklearn.ensemble import RandomForestRegressor\n",
        "from xgboost.sklearn import XGBRegressor\n",
        "from catboost import CatBoostRegressor\n",
        "from sklearn.linear_model import SGDRegressor\n",
        "from sklearn.linear_model import ElasticNet\n",
        "from sklearn.ensemble import GradientBoostingRegressor\n",
        "from sklearn.svm import SVR\n",
        "from lightgbm import LGBMRegressor\n",
        "\n",
        "from sklearn.model_selection import GridSearchCV\n",
        "from sklearn.model_selection import RandomizedSearchCV\n",
        "from sklearn.preprocessing import OrdinalEncoder, StandardScaler\n",
        "from sklearn.preprocessing import OneHotEncoder, MinMaxScaler, RobustScaler\n",
        "from sklearn.model_selection import train_test_split\n",
        "\n",
        "# For my functions\n",
        "from sklearn.model_selection import cross_val_score\n",
        "from sklearn.compose import ColumnTransformer\n",
        "\n",
        "# Metrics\n",
        "from sklearn.metrics import mean_squared_log_error\n",
        "from sklearn.metrics import mean_squared_error"
      ],
      "execution_count": 88,
      "outputs": []
    },
    {
      "cell_type": "markdown",
      "metadata": {
        "id": "0CXWNiSkZjCI"
      },
      "source": [
        "## Constants"
      ]
    },
    {
      "cell_type": "code",
      "metadata": {
        "id": "D0Z1X3eqZqL-"
      },
      "source": [
        "train_proportion = 0.9\n",
        "validation_proportion = 0.1\n",
        "rand_state = 42\n",
        "\n",
        "# Feature selection\n",
        "select_k_numerics = 30  # select 20 out of 36 numeric features\n",
        "nan_drop_thresh = 0.25"
      ],
      "execution_count": 89,
      "outputs": []
    },
    {
      "cell_type": "markdown",
      "metadata": {
        "id": "bAEQWCI7Zm6n"
      },
      "source": [
        "## Functions"
      ]
    },
    {
      "cell_type": "code",
      "metadata": {
        "id": "ugkSwbcUZzzi"
      },
      "source": [
        "def nan_statistics(df, nan_thresh=0.0):\n",
        "    res = {}\n",
        "    nan_cols = df.loc[:, df.isna().any()].columns\n",
        "    for col in nan_cols:\n",
        "        res[col] = nan_percentage(df, col)\n",
        "    print(f'Col -- Nan percentage')\n",
        "    for key, val in sorted(res.items(), key=lambda item: item[1], reverse=True):\n",
        "        if val >= nan_thresh * 100:\n",
        "            print(key, val)\n",
        "        else:\n",
        "            del res[key]\n",
        "    return res\n",
        "\n",
        "def nan_percentage(df, colname):\n",
        "    return (df[colname].isnull().sum() / df.shape[0]) * 100\n",
        "\n",
        "def corr_filter(corr_matrix, target_feature, abs_thresh=0.3):\n",
        "    res = {}\n",
        "    series = corr_matrix[target_feature]\n",
        "    for idx, val in series.items():\n",
        "        if abs(val) >= abs_thresh:\n",
        "            res[idx] = val  # Feature names and corr coeff\n",
        "    return res\n",
        "\n",
        "def print_unique_dtypes(df):\n",
        "    print(set(train.dtypes.values))\n",
        "\n",
        "class FeaturesTransformers:\n",
        "    def __init__(self, features, transformers):\n",
        "        self.features = features\n",
        "        self.transformers = transformers"
      ],
      "execution_count": 90,
      "outputs": []
    },
    {
      "cell_type": "code",
      "metadata": {
        "id": "xgs5Ef8csT-z"
      },
      "source": [
        "def build_pipe(model, **transformers):\n",
        "    res_transformers = []\n",
        "    for key, val in transformers.items():\n",
        "        res_transformers.append((key, val.transformers, val.features))\n",
        "\n",
        "    preprocess = ColumnTransformer(\n",
        "        res_transformers\n",
        "    )\n",
        "    \n",
        "    pipe = Pipeline(\n",
        "        steps = [\n",
        "                 ('preprocessing', preprocess),\n",
        "                 ('model', model)\n",
        "        ]\n",
        "    )\n",
        "    return pipe\n",
        "\n",
        "def first_tune(models, scoring, X_train, Y_train, transformers):\n",
        "    res = dict()\n",
        "    for name, model in models:\n",
        "        model_pipeline = build_pipe(model, **transformers)\n",
        "        cv_scores = cross_val_score(model_pipeline, X_train, Y_train, scoring=scoring)\n",
        "        res[name] = cv_scores\n",
        "\n",
        "    return dict(sorted(res.items(), reverse=True, key=lambda x: np.mean(x[1])))"
      ],
      "execution_count": 91,
      "outputs": []
    },
    {
      "cell_type": "code",
      "metadata": {
        "id": "gZjqmf_vJgfp"
      },
      "source": [
        "def fine_tune(models, X_train, Y_train, strategy, search_params, transformers):\n",
        "\n",
        "    fine_tune_res = {}\n",
        "\n",
        "    for name, model, param_grid in models:\n",
        "        print(search_params)\n",
        "        pipe = build_pipe(model, **transformers)\n",
        "\n",
        "        if strategy == 'GridSearchCV':\n",
        "            search_res = GridSearchCV(\n",
        "                estimator = pipe, \n",
        "                param_grid = param_grid,\n",
        "                **search_params\n",
        "            )\n",
        "\n",
        "        elif strategy == 'RandomizedSearchCV':\n",
        "            search_res = RandomizedSearchCV(\n",
        "                pipe, \n",
        "                param_grid,\n",
        "                **search_params\n",
        "            )\n",
        "        search_res.fit(X_train, Y_train)\n",
        "        fine_tune_res[name] = search_res\n",
        "    \n",
        "    return dict(sorted(fine_tune_res.items(), reverse=True, key=lambda x: x[1].best_score_))"
      ],
      "execution_count": 92,
      "outputs": []
    },
    {
      "cell_type": "code",
      "metadata": {
        "id": "F7i4IaZf8qTX"
      },
      "source": [
        "import seaborn as sns\n",
        "import numpy as np\n",
        "import math\n",
        "import scipy.stats as ss\n",
        "import matplotlib.pyplot as plt\n",
        "\n",
        "def skew_autotransform(DF, include = None, exclude = None, plot = False, threshold = 1, exp = False):\n",
        "    \n",
        "    #Get list of column names that should be processed based on input parameters\n",
        "    if include is None and exclude is None:\n",
        "        colnames = DF.columns.values\n",
        "    elif include is not None:\n",
        "        colnames = include\n",
        "    elif exclude is not None:\n",
        "        colnames = [item for item in list(DF.columns.values) if item not in exclude]\n",
        "    else:\n",
        "        print('No columns to process!')\n",
        "    \n",
        "    #Helper function that checks if all values are positive\n",
        "    def make_positive(series):\n",
        "        minimum = np.amin(series)\n",
        "        #If minimum is negative, offset all values by a constant to move all values to positive teritory\n",
        "        if minimum <= 0:\n",
        "            series = series + abs(minimum) + 0.01\n",
        "        return series\n",
        "    \n",
        "    \n",
        "    #Go throug desired columns in DataFrame\n",
        "    for col in colnames:\n",
        "        #Get column skewness\n",
        "        skew = DF[col].skew()\n",
        "        transformed = True\n",
        "        \n",
        "        if plot:\n",
        "            #Prep the plot of original data\n",
        "            sns.set_style(\"darkgrid\")\n",
        "            sns.set_palette(\"Blues_r\")\n",
        "            fig, axes = plt.subplots(1, 2, figsize=(10, 5))\n",
        "            ax1 = sns.distplot(DF[col], ax=axes[0])\n",
        "            ax1.set(xlabel='Original ' + col)\n",
        "        \n",
        "        #If skewness is larger than threshold and positively skewed; If yes, apply appropriate transformation\n",
        "        if abs(skew) > threshold and skew > 0:\n",
        "            skewType = 'positive'\n",
        "            #Make sure all values are positive\n",
        "            DF[col] = make_positive(DF[col])\n",
        "            \n",
        "            if exp:\n",
        "               #Apply log transformation \n",
        "               DF[col] = DF[col].apply(math.log)\n",
        "            else:\n",
        "                #Apply boxcox transformation\n",
        "                DF[col] = ss.boxcox(DF[col])[0]\n",
        "            skew_new = DF[col].skew()\n",
        "         \n",
        "        elif abs(skew) > threshold and skew < 0:\n",
        "            skewType = 'negative'\n",
        "            #Make sure all values are positive\n",
        "            DF[col] = make_positive(DF[col])\n",
        "            \n",
        "            if exp:\n",
        "               #Apply exp transformation \n",
        "               DF[col] = DF[col].pow(10)\n",
        "            else:\n",
        "                #Apply boxcox transformation\n",
        "                DF[col] = ss.boxcox(DF[col])[0]\n",
        "            skew_new = DF[col].skew()\n",
        "        \n",
        "        else:\n",
        "            #Flag if no transformation was performed\n",
        "            transformed = False\n",
        "            skew_new = skew\n",
        "        \n",
        "        #Compare before and after if plot is True\n",
        "        if plot:\n",
        "            print('\\n ------------------------------------------------------')     \n",
        "            if transformed:\n",
        "                print('\\n %r had %r skewness of %2.2f' %(col, skewType, skew))\n",
        "                print('\\n Transformation yielded skewness of %2.2f' %(skew_new))\n",
        "                sns.set_palette(\"Paired\")\n",
        "                ax2 = sns.distplot(DF[col], ax=axes[1], color = 'r')\n",
        "                ax2.set(xlabel='Transformed ' + col)\n",
        "                plt.show()\n",
        "            else:\n",
        "                print('\\n NO TRANSFORMATION APPLIED FOR %r . Skewness = %2.2f' %(col, skew))\n",
        "                ax2 = sns.distplot(DF[col], ax=axes[1])\n",
        "                ax2.set(xlabel='NO TRANSFORM ' + col)\n",
        "                plt.show()\n",
        "                \n",
        "\n",
        "    return DF"
      ],
      "execution_count": 93,
      "outputs": []
    },
    {
      "cell_type": "code",
      "metadata": {
        "id": "eHVBZiQfLhDm"
      },
      "source": [
        "def get_order(df, feature):\n",
        "    # Impose order depending on the median price\n",
        "    subset = df[[feature, 'SalePrice']]\n",
        "    s = subset.groupby([feature]).median().sort_values(by='SalePrice')\n",
        "    return list(s.index)\n",
        "\n",
        "def prepare_labels(ordered_features):\n",
        "    return {k: ordered_features.index(k) + 1 for k in ordered_features}"
      ],
      "execution_count": 94,
      "outputs": []
    },
    {
      "cell_type": "markdown",
      "metadata": {
        "id": "jLW5Vm2ciR3k"
      },
      "source": [
        "## Transformers"
      ]
    },
    {
      "cell_type": "code",
      "metadata": {
        "id": "tM7iwlGKiUcf"
      },
      "source": [
        "from abc import abstractmethod\n",
        "\n",
        "class Transformer:\n",
        "    def __init__(self):\n",
        "        pass\n",
        "    @abstractmethod\n",
        "    def transform():\n",
        "        pass\n",
        "\n",
        "class NanRemover(Transformer):\n",
        "    def __init__(self):\n",
        "        super().__init__()\n",
        "\n",
        "    def transform(df, cols):\n",
        "        df.drop(columns = cols, inplace=True)\n",
        "\n",
        "class NanCatFiller(Transformer):\n",
        "    def __init__(self):\n",
        "        super().__init()\n",
        "    \n",
        "    def transform(df, cols, val):\n",
        "        for c in cols:\n",
        "            df[c].fillna(value=val, inplace=True)\n",
        "\n",
        "class NanNumFiller(Transformer):\n",
        "    def __init__(self):\n",
        "        super().__init__()\n",
        "\n",
        "    def transform(df, cols, method):\n",
        "        if method == 'median':\n",
        "            for c in cols:\n",
        "                df[c].fillna(value=df[c].median(), inplace=True)\n",
        "\n",
        "class CatEncoder(Transformer):\n",
        "    def __init__(self):\n",
        "        super().__init__()\n",
        "\n",
        "    def transform(df, colname, dictionary):\n",
        "        # dict with cat_feature_name: new_value\n",
        "        # dict = {'FeatureA': 1} // encoded value\n",
        "        series = df[colname]  # Series\n",
        "        for f_name, new_val in dictionary.items():\n",
        "            series[series == f_name] = new_val\n",
        "        df[colname] = series\n",
        "\n",
        "class ColumnKeeper(Transformer):\n",
        "    def __init__(self):\n",
        "        super().__init__()\n",
        "    \n",
        "    def transform(df, features_to_keep):\n",
        "        df.drop(df.columns.difference(features_to_keep), 1, inplace=True)"
      ],
      "execution_count": 95,
      "outputs": []
    },
    {
      "cell_type": "code",
      "metadata": {
        "id": "LoBVvGW3szZV"
      },
      "source": [
        "class LogTransformer(Transformer):\n",
        "    def __init__(self):\n",
        "        super().init()\n",
        "    def transform(df, colnames, offset=0.001):\n",
        "        for c in colnames:\n",
        "            df[c] = df[c].map(lambda i: np.log(i) if i > 0 else np.log(i + offset))"
      ],
      "execution_count": 96,
      "outputs": []
    },
    {
      "cell_type": "markdown",
      "metadata": {
        "id": "eqlgsEjCZ_b2"
      },
      "source": [
        "## Data download"
      ]
    },
    {
      "cell_type": "code",
      "metadata": {
        "id": "-RyB-68MYTrS",
        "colab": {
          "base_uri": "https://localhost:8080/"
        },
        "outputId": "be4a02f4-2874-4213-c1e6-2a1f510732cd"
      },
      "source": [
        "# Setting file download from google Drive\n",
        "drive.mount('/content/gdrive')\n",
        "gdrive_path = '/content/gdrive/MyDrive/'\n",
        "df_path = 'ML/Datasets/2.HousePrices/'\n",
        "\n",
        "train_path = gdrive_path + df_path + \"train.csv\"\n",
        "test_path =  gdrive_path + df_path + \"test.csv\"\n",
        "submission_path = gdrive_path + df_path + \"submission.csv\"\n",
        "sample_submission_path = gdrive_path + df_path + \"sample_submission.csv\""
      ],
      "execution_count": 97,
      "outputs": [
        {
          "output_type": "stream",
          "name": "stdout",
          "text": [
            "Drive already mounted at /content/gdrive; to attempt to forcibly remount, call drive.mount(\"/content/gdrive\", force_remount=True).\n"
          ]
        }
      ]
    },
    {
      "cell_type": "code",
      "metadata": {
        "id": "KGzQlfveYcxI"
      },
      "source": [
        "train = pd.read_csv(train_path, index_col='Id')\n",
        "test = pd.read_csv(test_path, index_col='Id')\n",
        "target = train['SalePrice']"
      ],
      "execution_count": 98,
      "outputs": []
    },
    {
      "cell_type": "markdown",
      "metadata": {
        "id": "Ib1P9wY7kMdL"
      },
      "source": [
        "## **Nan statistics & remove Nans**"
      ]
    },
    {
      "cell_type": "code",
      "metadata": {
        "id": "MN8ZS_FJarp2",
        "colab": {
          "base_uri": "https://localhost:8080/"
        },
        "outputId": "974d12d4-573d-4d66-8d6b-28de2905b726"
      },
      "source": [
        "# Remove columns with nan % > threshold\n",
        "res_nan_stat = nan_statistics(train, nan_thresh=0.2)\n",
        "print(res_nan_stat)\n",
        "NanRemover.transform(train, res_nan_stat.keys())\n",
        "NanRemover.transform(test, res_nan_stat.keys())"
      ],
      "execution_count": 99,
      "outputs": [
        {
          "output_type": "stream",
          "name": "stdout",
          "text": [
            "Col -- Nan percentage\n",
            "PoolQC 99.52054794520548\n",
            "MiscFeature 96.30136986301369\n",
            "Alley 93.76712328767123\n",
            "Fence 80.75342465753424\n",
            "FireplaceQu 47.26027397260274\n",
            "{'Alley': 93.76712328767123, 'FireplaceQu': 47.26027397260274, 'PoolQC': 99.52054794520548, 'Fence': 80.75342465753424, 'MiscFeature': 96.30136986301369}\n"
          ]
        }
      ]
    },
    {
      "cell_type": "markdown",
      "metadata": {
        "id": "Abd50tF_cSbv"
      },
      "source": [
        "**Insight #1: Remove features with Nans > 40% (PoolQC, MiscFeature, Alley, Fence, FireplaceQu)**"
      ]
    },
    {
      "cell_type": "markdown",
      "metadata": {
        "id": "Dr51gdz2i0Vm"
      },
      "source": [
        "## **Fill Na**"
      ]
    },
    {
      "cell_type": "code",
      "metadata": {
        "id": "nbJvWCxHi4xp",
        "colab": {
          "base_uri": "https://localhost:8080/"
        },
        "outputId": "ba033263-a91a-4ca8-99a6-b677147380f1"
      },
      "source": [
        "nan_statistics(train, nan_thresh=0.0).items()"
      ],
      "execution_count": 100,
      "outputs": [
        {
          "output_type": "stream",
          "name": "stdout",
          "text": [
            "Col -- Nan percentage\n",
            "LotFrontage 17.73972602739726\n",
            "GarageType 5.5479452054794525\n",
            "GarageYrBlt 5.5479452054794525\n",
            "GarageFinish 5.5479452054794525\n",
            "GarageQual 5.5479452054794525\n",
            "GarageCond 5.5479452054794525\n",
            "BsmtExposure 2.6027397260273974\n",
            "BsmtFinType2 2.6027397260273974\n",
            "BsmtQual 2.5342465753424657\n",
            "BsmtCond 2.5342465753424657\n",
            "BsmtFinType1 2.5342465753424657\n",
            "MasVnrType 0.547945205479452\n",
            "MasVnrArea 0.547945205479452\n",
            "Electrical 0.0684931506849315\n"
          ]
        },
        {
          "output_type": "execute_result",
          "data": {
            "text/plain": [
              "dict_items([('LotFrontage', 17.73972602739726), ('MasVnrType', 0.547945205479452), ('MasVnrArea', 0.547945205479452), ('BsmtQual', 2.5342465753424657), ('BsmtCond', 2.5342465753424657), ('BsmtExposure', 2.6027397260273974), ('BsmtFinType1', 2.5342465753424657), ('BsmtFinType2', 2.6027397260273974), ('Electrical', 0.0684931506849315), ('GarageType', 5.5479452054794525), ('GarageYrBlt', 5.5479452054794525), ('GarageFinish', 5.5479452054794525), ('GarageQual', 5.5479452054794525), ('GarageCond', 5.5479452054794525)])"
            ]
          },
          "metadata": {},
          "execution_count": 100
        }
      ]
    },
    {
      "cell_type": "code",
      "metadata": {
        "id": "2uO8lBo-jfAB"
      },
      "source": [
        "cat_colnames = train.select_dtypes(include=['O']).columns\n",
        "num_colnames = train.select_dtypes(include=['int64', 'float64']).columns\n",
        "num_test_colnames = [c for c in num_colnames if not (c == 'SalePrice')]\n",
        "\n",
        "NanCatFiller.transform(train, cat_colnames, val='Missing')\n",
        "NanCatFiller.transform(test, cat_colnames, val='Missing')\n",
        "\n",
        "NanNumFiller.transform(train, num_colnames, method='median')\n",
        "NanNumFiller.transform(test, num_test_colnames, method='median')"
      ],
      "execution_count": 101,
      "outputs": []
    },
    {
      "cell_type": "code",
      "metadata": {
        "id": "9XszMNerkgQy",
        "colab": {
          "base_uri": "https://localhost:8080/"
        },
        "outputId": "3f6bf076-0e68-4156-ee37-8db027999296"
      },
      "source": [
        "nan_statistics(train, nan_thresh=0.0)"
      ],
      "execution_count": 102,
      "outputs": [
        {
          "output_type": "stream",
          "name": "stdout",
          "text": [
            "Col -- Nan percentage\n"
          ]
        },
        {
          "output_type": "execute_result",
          "data": {
            "text/plain": [
              "{}"
            ]
          },
          "metadata": {},
          "execution_count": 102
        }
      ]
    },
    {
      "cell_type": "code",
      "metadata": {
        "id": "zjPjRSdiNbVz",
        "colab": {
          "base_uri": "https://localhost:8080/"
        },
        "outputId": "66df6d4c-f03a-431c-eb3f-1bc0a66fdff7"
      },
      "source": [
        "nan_statistics(test)"
      ],
      "execution_count": 103,
      "outputs": [
        {
          "output_type": "stream",
          "name": "stdout",
          "text": [
            "Col -- Nan percentage\n"
          ]
        },
        {
          "output_type": "execute_result",
          "data": {
            "text/plain": [
              "{}"
            ]
          },
          "metadata": {},
          "execution_count": 103
        }
      ]
    },
    {
      "cell_type": "markdown",
      "metadata": {
        "id": "Kc2gOxaWmzae"
      },
      "source": [
        "## **Explore categorical**"
      ]
    },
    {
      "cell_type": "code",
      "metadata": {
        "id": "d9ScM90Mm8Ln",
        "colab": {
          "base_uri": "https://localhost:8080/"
        },
        "outputId": "dd36b376-3b0e-486c-f306-7d59e98936e1"
      },
      "source": [
        "cat_features = train.select_dtypes(include=['O']).columns\n",
        "print(len(cat_features))"
      ],
      "execution_count": 104,
      "outputs": [
        {
          "output_type": "stream",
          "name": "stdout",
          "text": [
            "38\n"
          ]
        }
      ]
    },
    {
      "cell_type": "code",
      "metadata": {
        "id": "SxPIhEaboEDO",
        "colab": {
          "base_uri": "https://localhost:8080/",
          "height": 0
        },
        "outputId": "76a0b1dc-5856-4111-d1c3-5699bb9afc24"
      },
      "source": [
        "def plot(feature):\n",
        "    subset = train[[feature, 'SalePrice']]\n",
        "    s = subset.groupby([feature]).median().sort_values(by='SalePrice')\n",
        "    \n",
        "    fig = plt.figure(figsize=(15, 5))\n",
        "    plt.subplot(1, 2, 1)\n",
        "    sns.histplot(x = feature, data=train, stat='percent')\n",
        "    plt.subplot(1, 2, 2)\n",
        "    sns.boxplot(x=feature, y='SalePrice', data=train, order=s.index)\n",
        "\n",
        "plot(cat_features[0])"
      ],
      "execution_count": 105,
      "outputs": [
        {
          "output_type": "display_data",
          "data": {
            "image/png": "[encoded data removed]",
            "text/plain": [
              "<Figure size 1080x360 with 2 Axes>"
            ]
          },
          "metadata": {
            "needs_background": "light"
          }
        }
      ]
    },
    {
      "cell_type": "code",
      "metadata": {
        "id": "MIXFoSMsssY9",
        "colab": {
          "base_uri": "https://localhost:8080/",
          "height": 0
        },
        "outputId": "f7fe6870-28d3-44a4-98f8-aa7b1d9cd0b1"
      },
      "source": [
        "plot(cat_features[1])"
      ],
      "execution_count": 106,
      "outputs": [
        {
          "output_type": "display_data",
          "data": {
            "image/png": "[encoded data removed]",
            "text/plain": [
              "<Figure size 1080x360 with 2 Axes>"
            ]
          },
          "metadata": {
            "needs_background": "light"
          }
        }
      ]
    },
    {
      "cell_type": "code",
      "metadata": {
        "id": "_I1CHFUMs2Lx",
        "colab": {
          "base_uri": "https://localhost:8080/",
          "height": 0
        },
        "outputId": "00090537-50f0-4720-ebfe-3debceae3a9f"
      },
      "source": [
        "plot(cat_features[2])"
      ],
      "execution_count": 107,
      "outputs": [
        {
          "output_type": "display_data",
          "data": {
            "image/png": "[encoded data removed]",
            "text/plain": [
              "<Figure size 1080x360 with 2 Axes>"
            ]
          },
          "metadata": {
            "needs_background": "light"
          }
        }
      ]
    },
    {
      "cell_type": "code",
      "metadata": {
        "id": "S2qGxAO_ti9V",
        "colab": {
          "base_uri": "https://localhost:8080/",
          "height": 0
        },
        "outputId": "d81f65e5-7f35-4645-80b2-b91cfce75df6"
      },
      "source": [
        "plot(cat_features[3])"
      ],
      "execution_count": 108,
      "outputs": [
        {
          "output_type": "display_data",
          "data": {
            "image/png": "[encoded data removed]",
            "text/plain": [
              "<Figure size 1080x360 with 2 Axes>"
            ]
          },
          "metadata": {
            "needs_background": "light"
          }
        }
      ]
    },
    {
      "cell_type": "code",
      "metadata": {
        "id": "7k2kftZ5twXj",
        "colab": {
          "base_uri": "https://localhost:8080/",
          "height": 0
        },
        "outputId": "8e659fc4-d336-4ee3-9038-8bab7846d2fe"
      },
      "source": [
        "plot(cat_features[4])"
      ],
      "execution_count": 109,
      "outputs": [
        {
          "output_type": "display_data",
          "data": {
            "image/png": "[encoded data removed]",
            "text/plain": [
              "<Figure size 1080x360 with 2 Axes>"
            ]
          },
          "metadata": {
            "needs_background": "light"
          }
        }
      ]
    },
    {
      "cell_type": "code",
      "metadata": {
        "id": "x-eiV7JNt8cR",
        "colab": {
          "base_uri": "https://localhost:8080/",
          "height": 0
        },
        "outputId": "a7b138d4-6cd9-42c9-814c-267d8aa52757"
      },
      "source": [
        "plot(cat_features[5])"
      ],
      "execution_count": 110,
      "outputs": [
        {
          "output_type": "display_data",
          "data": {
            "image/png": "[encoded data removed]",
            "text/plain": [
              "<Figure size 1080x360 with 2 Axes>"
            ]
          },
          "metadata": {
            "needs_background": "light"
          }
        }
      ]
    },
    {
      "cell_type": "code",
      "metadata": {
        "id": "CzBfRSNOuUT_",
        "colab": {
          "base_uri": "https://localhost:8080/",
          "height": 0
        },
        "outputId": "e3a481f1-f9cf-4606-d69f-047381803da6"
      },
      "source": [
        "plot(cat_features[6])"
      ],
      "execution_count": 111,
      "outputs": [
        {
          "output_type": "display_data",
          "data": {
            "image/png": "[encoded data removed]",
            "text/plain": [
              "<Figure size 1080x360 with 2 Axes>"
            ]
          },
          "metadata": {
            "needs_background": "light"
          }
        }
      ]
    },
    {
      "cell_type": "code",
      "metadata": {
        "id": "4XqjVWhPuoc6",
        "colab": {
          "base_uri": "https://localhost:8080/",
          "height": 0
        },
        "outputId": "f2ebaba0-a6a3-4ba7-cb53-e1bd3ef5682b"
      },
      "source": [
        "plot(cat_features[7])"
      ],
      "execution_count": 112,
      "outputs": [
        {
          "output_type": "display_data",
          "data": {
            "image/png": "[encoded data removed]",
            "text/plain": [
              "<Figure size 1080x360 with 2 Axes>"
            ]
          },
          "metadata": {
            "needs_background": "light"
          }
        }
      ]
    },
    {
      "cell_type": "code",
      "metadata": {
        "id": "NoNJ_GJL0tNM",
        "colab": {
          "base_uri": "https://localhost:8080/",
          "height": 0
        },
        "outputId": "c6adaeb1-9467-4bc9-c51c-e49460ac9357"
      },
      "source": [
        "plot(cat_features[8])"
      ],
      "execution_count": 113,
      "outputs": [
        {
          "output_type": "display_data",
          "data": {
            "image/png": "[encoded data removed]",
            "text/plain": [
              "<Figure size 1080x360 with 2 Axes>"
            ]
          },
          "metadata": {
            "needs_background": "light"
          }
        }
      ]
    },
    {
      "cell_type": "code",
      "metadata": {
        "id": "ZQCo3t2B0vch",
        "colab": {
          "base_uri": "https://localhost:8080/",
          "height": 0
        },
        "outputId": "68ad77a6-ddae-4e23-a90f-bdd7176b71ae"
      },
      "source": [
        "plot(cat_features[9])"
      ],
      "execution_count": 114,
      "outputs": [
        {
          "output_type": "display_data",
          "data": {
            "image/png": "[encoded data removed]",
            "text/plain": [
              "<Figure size 1080x360 with 2 Axes>"
            ]
          },
          "metadata": {
            "needs_background": "light"
          }
        }
      ]
    },
    {
      "cell_type": "code",
      "metadata": {
        "id": "Q1WWmUzo09Di",
        "colab": {
          "base_uri": "https://localhost:8080/",
          "height": 0
        },
        "outputId": "3aa21116-b2bb-4255-b360-03497b71d8f1"
      },
      "source": [
        "plot(cat_features[10])"
      ],
      "execution_count": 115,
      "outputs": [
        {
          "output_type": "display_data",
          "data": {
            "image/png": "[encoded data removed]",
            "text/plain": [
              "<Figure size 1080x360 with 2 Axes>"
            ]
          },
          "metadata": {
            "needs_background": "light"
          }
        }
      ]
    },
    {
      "cell_type": "code",
      "metadata": {
        "id": "QfiOqs1Z1Dxv",
        "colab": {
          "base_uri": "https://localhost:8080/",
          "height": 0
        },
        "outputId": "db509de2-40ba-439e-a1de-e4829794a1ea"
      },
      "source": [
        "plot(cat_features[11])"
      ],
      "execution_count": 116,
      "outputs": [
        {
          "output_type": "display_data",
          "data": {
            "image/png": "[encoded data removed]",
            "text/plain": [
              "<Figure size 1080x360 with 2 Axes>"
            ]
          },
          "metadata": {
            "needs_background": "light"
          }
        }
      ]
    },
    {
      "cell_type": "markdown",
      "metadata": {
        "id": "xUjVghRQtA03"
      },
      "source": [
        "- MSZoning\n",
        "    - Order: I C FV A RH RM RL RP\n",
        "- LotShape\n",
        "    - R2 + R3 + R1 unite to 'irregular'\n",
        "- Utilities\n",
        "    - Remove column\n",
        "- Street\n",
        "    - Remove column\n",
        "- LotConfig\n",
        "    - Order: Inside FR2 Coner CullDSac FR3\n",
        "    - Remove FR3\n",
        "- LandSlope\n",
        "    - Mod & Sev -> unite\n",
        "    - Order: Gtl -> Other\n",
        "- Condition2\n",
        "    - Remove column\n",
        "- BidgeType\n",
        "    - Remove column\n"
      ]
    },
    {
      "cell_type": "markdown",
      "metadata": {
        "id": "HSdVxHFK1UGV"
      },
      "source": [
        "## **Encode categorical**"
      ]
    },
    {
      "cell_type": "code",
      "metadata": {
        "id": "Y_NpJ32MIvUW",
        "colab": {
          "base_uri": "https://localhost:8080/"
        },
        "outputId": "a498e27e-bd7b-457f-9788-af386cdd61a2"
      },
      "source": [
        "for f in cat_features:\n",
        "    order = get_order(train, f)\n",
        "\n",
        "    labels_dict = prepare_labels(order)\n",
        "    labels_dict.update({'Missing': 0})\n",
        "\n",
        "    CatEncoder.transform(train, f, labels_dict)\n",
        "    CatEncoder.transform(test, f, labels_dict)\n",
        "\n",
        "    train[f] = train[f].astype('int64')\n",
        "    test[f] = test[f].astype('int64')"
      ],
      "execution_count": 117,
      "outputs": [
        {
          "output_type": "stream",
          "name": "stderr",
          "text": [
            "/usr/local/lib/python3.7/dist-packages/ipykernel_launcher.py:43: SettingWithCopyWarning: \n",
            "A value is trying to be set on a copy of a slice from a DataFrame\n",
            "\n",
            "See the caveats in the documentation: https://pandas.pydata.org/pandas-docs/stable/user_guide/indexing.html#returning-a-view-versus-a-copy\n"
          ]
        }
      ]
    },
    {
      "cell_type": "code",
      "metadata": {
        "id": "udJUiqUzKh_b",
        "colab": {
          "base_uri": "https://localhost:8080/"
        },
        "outputId": "c109a199-f059-480f-b7ae-bd70cc19ea77"
      },
      "source": [
        "train.dtypes"
      ],
      "execution_count": 118,
      "outputs": [
        {
          "output_type": "execute_result",
          "data": {
            "text/plain": [
              "MSSubClass         int64\n",
              "MSZoning           int64\n",
              "LotFrontage      float64\n",
              "LotArea            int64\n",
              "Street             int64\n",
              "                  ...   \n",
              "MoSold             int64\n",
              "YrSold             int64\n",
              "SaleType           int64\n",
              "SaleCondition      int64\n",
              "SalePrice          int64\n",
              "Length: 75, dtype: object"
            ]
          },
          "metadata": {},
          "execution_count": 118
        }
      ]
    },
    {
      "cell_type": "code",
      "metadata": {
        "id": "vlPtoRG8Q51C",
        "colab": {
          "base_uri": "https://localhost:8080/",
          "height": 0
        },
        "outputId": "363e4ae9-784d-4990-95d2-b6b1193e9cec"
      },
      "source": [
        "test.head()"
      ],
      "execution_count": 119,
      "outputs": [
        {
          "output_type": "execute_result",
          "data": {
            "text/html": [
              "<div>\n",
              "<style scoped>\n",
              "    .dataframe tbody tr th:only-of-type {\n",
              "        vertical-align: middle;\n",
              "    }\n",
              "\n",
              "    .dataframe tbody tr th {\n",
              "        vertical-align: top;\n",
              "    }\n",
              "\n",
              "    .dataframe thead th {\n",
              "        text-align: right;\n",
              "    }\n",
              "</style>\n",
              "<table border=\"1\" class=\"dataframe\">\n",
              "  <thead>\n",
              "    <tr style=\"text-align: right;\">\n",
              "      <th></th>\n",
              "      <th>MSSubClass</th>\n",
              "      <th>MSZoning</th>\n",
              "      <th>LotFrontage</th>\n",
              "      <th>LotArea</th>\n",
              "      <th>Street</th>\n",
              "      <th>LotShape</th>\n",
              "      <th>LandContour</th>\n",
              "      <th>Utilities</th>\n",
              "      <th>LotConfig</th>\n",
              "      <th>LandSlope</th>\n",
              "      <th>Neighborhood</th>\n",
              "      <th>Condition1</th>\n",
              "      <th>Condition2</th>\n",
              "      <th>BldgType</th>\n",
              "      <th>HouseStyle</th>\n",
              "      <th>OverallQual</th>\n",
              "      <th>OverallCond</th>\n",
              "      <th>YearBuilt</th>\n",
              "      <th>YearRemodAdd</th>\n",
              "      <th>RoofStyle</th>\n",
              "      <th>RoofMatl</th>\n",
              "      <th>Exterior1st</th>\n",
              "      <th>Exterior2nd</th>\n",
              "      <th>MasVnrType</th>\n",
              "      <th>MasVnrArea</th>\n",
              "      <th>ExterQual</th>\n",
              "      <th>ExterCond</th>\n",
              "      <th>Foundation</th>\n",
              "      <th>BsmtQual</th>\n",
              "      <th>BsmtCond</th>\n",
              "      <th>BsmtExposure</th>\n",
              "      <th>BsmtFinType1</th>\n",
              "      <th>BsmtFinSF1</th>\n",
              "      <th>BsmtFinType2</th>\n",
              "      <th>BsmtFinSF2</th>\n",
              "      <th>BsmtUnfSF</th>\n",
              "      <th>TotalBsmtSF</th>\n",
              "      <th>Heating</th>\n",
              "      <th>HeatingQC</th>\n",
              "      <th>CentralAir</th>\n",
              "      <th>Electrical</th>\n",
              "      <th>1stFlrSF</th>\n",
              "      <th>2ndFlrSF</th>\n",
              "      <th>LowQualFinSF</th>\n",
              "      <th>GrLivArea</th>\n",
              "      <th>BsmtFullBath</th>\n",
              "      <th>BsmtHalfBath</th>\n",
              "      <th>FullBath</th>\n",
              "      <th>HalfBath</th>\n",
              "      <th>BedroomAbvGr</th>\n",
              "      <th>KitchenAbvGr</th>\n",
              "      <th>KitchenQual</th>\n",
              "      <th>TotRmsAbvGrd</th>\n",
              "      <th>Functional</th>\n",
              "      <th>Fireplaces</th>\n",
              "      <th>GarageType</th>\n",
              "      <th>GarageYrBlt</th>\n",
              "      <th>GarageFinish</th>\n",
              "      <th>GarageCars</th>\n",
              "      <th>GarageArea</th>\n",
              "      <th>GarageQual</th>\n",
              "      <th>GarageCond</th>\n",
              "      <th>PavedDrive</th>\n",
              "      <th>WoodDeckSF</th>\n",
              "      <th>OpenPorchSF</th>\n",
              "      <th>EnclosedPorch</th>\n",
              "      <th>3SsnPorch</th>\n",
              "      <th>ScreenPorch</th>\n",
              "      <th>PoolArea</th>\n",
              "      <th>MiscVal</th>\n",
              "      <th>MoSold</th>\n",
              "      <th>YrSold</th>\n",
              "      <th>SaleType</th>\n",
              "      <th>SaleCondition</th>\n",
              "    </tr>\n",
              "    <tr>\n",
              "      <th>Id</th>\n",
              "      <th></th>\n",
              "      <th></th>\n",
              "      <th></th>\n",
              "      <th></th>\n",
              "      <th></th>\n",
              "      <th></th>\n",
              "      <th></th>\n",
              "      <th></th>\n",
              "      <th></th>\n",
              "      <th></th>\n",
              "      <th></th>\n",
              "      <th></th>\n",
              "      <th></th>\n",
              "      <th></th>\n",
              "      <th></th>\n",
              "      <th></th>\n",
              "      <th></th>\n",
              "      <th></th>\n",
              "      <th></th>\n",
              "      <th></th>\n",
              "      <th></th>\n",
              "      <th></th>\n",
              "      <th></th>\n",
              "      <th></th>\n",
              "      <th></th>\n",
              "      <th></th>\n",
              "      <th></th>\n",
              "      <th></th>\n",
              "      <th></th>\n",
              "      <th></th>\n",
              "      <th></th>\n",
              "      <th></th>\n",
              "      <th></th>\n",
              "      <th></th>\n",
              "      <th></th>\n",
              "      <th></th>\n",
              "      <th></th>\n",
              "      <th></th>\n",
              "      <th></th>\n",
              "      <th></th>\n",
              "      <th></th>\n",
              "      <th></th>\n",
              "      <th></th>\n",
              "      <th></th>\n",
              "      <th></th>\n",
              "      <th></th>\n",
              "      <th></th>\n",
              "      <th></th>\n",
              "      <th></th>\n",
              "      <th></th>\n",
              "      <th></th>\n",
              "      <th></th>\n",
              "      <th></th>\n",
              "      <th></th>\n",
              "      <th></th>\n",
              "      <th></th>\n",
              "      <th></th>\n",
              "      <th></th>\n",
              "      <th></th>\n",
              "      <th></th>\n",
              "      <th></th>\n",
              "      <th></th>\n",
              "      <th></th>\n",
              "      <th></th>\n",
              "      <th></th>\n",
              "      <th></th>\n",
              "      <th></th>\n",
              "      <th></th>\n",
              "      <th></th>\n",
              "      <th></th>\n",
              "      <th></th>\n",
              "      <th></th>\n",
              "      <th></th>\n",
              "      <th></th>\n",
              "    </tr>\n",
              "  </thead>\n",
              "  <tbody>\n",
              "    <tr>\n",
              "      <th>1461</th>\n",
              "      <td>20</td>\n",
              "      <td>3</td>\n",
              "      <td>80.0</td>\n",
              "      <td>11622</td>\n",
              "      <td>2</td>\n",
              "      <td>1</td>\n",
              "      <td>2</td>\n",
              "      <td>2</td>\n",
              "      <td>1</td>\n",
              "      <td>1</td>\n",
              "      <td>10</td>\n",
              "      <td>2</td>\n",
              "      <td>5</td>\n",
              "      <td>4</td>\n",
              "      <td>5</td>\n",
              "      <td>5</td>\n",
              "      <td>6</td>\n",
              "      <td>1961</td>\n",
              "      <td>1961</td>\n",
              "      <td>2</td>\n",
              "      <td>3</td>\n",
              "      <td>12</td>\n",
              "      <td>14</td>\n",
              "      <td>2</td>\n",
              "      <td>0.0</td>\n",
              "      <td>2</td>\n",
              "      <td>5</td>\n",
              "      <td>4</td>\n",
              "      <td>3</td>\n",
              "      <td>4</td>\n",
              "      <td>2</td>\n",
              "      <td>4</td>\n",
              "      <td>468.0</td>\n",
              "      <td>4</td>\n",
              "      <td>144.0</td>\n",
              "      <td>270.0</td>\n",
              "      <td>882.0</td>\n",
              "      <td>6</td>\n",
              "      <td>3</td>\n",
              "      <td>2</td>\n",
              "      <td>6</td>\n",
              "      <td>896</td>\n",
              "      <td>0</td>\n",
              "      <td>0</td>\n",
              "      <td>896</td>\n",
              "      <td>0.0</td>\n",
              "      <td>0.0</td>\n",
              "      <td>1</td>\n",
              "      <td>0</td>\n",
              "      <td>2</td>\n",
              "      <td>1</td>\n",
              "      <td>2</td>\n",
              "      <td>5</td>\n",
              "      <td>7</td>\n",
              "      <td>0</td>\n",
              "      <td>6</td>\n",
              "      <td>1961.0</td>\n",
              "      <td>2</td>\n",
              "      <td>1.0</td>\n",
              "      <td>730.0</td>\n",
              "      <td>5</td>\n",
              "      <td>6</td>\n",
              "      <td>3</td>\n",
              "      <td>140</td>\n",
              "      <td>0</td>\n",
              "      <td>0</td>\n",
              "      <td>0</td>\n",
              "      <td>120</td>\n",
              "      <td>0</td>\n",
              "      <td>0</td>\n",
              "      <td>6</td>\n",
              "      <td>2010</td>\n",
              "      <td>6</td>\n",
              "      <td>5</td>\n",
              "    </tr>\n",
              "    <tr>\n",
              "      <th>1462</th>\n",
              "      <td>20</td>\n",
              "      <td>4</td>\n",
              "      <td>81.0</td>\n",
              "      <td>14267</td>\n",
              "      <td>2</td>\n",
              "      <td>2</td>\n",
              "      <td>2</td>\n",
              "      <td>2</td>\n",
              "      <td>2</td>\n",
              "      <td>1</td>\n",
              "      <td>10</td>\n",
              "      <td>4</td>\n",
              "      <td>5</td>\n",
              "      <td>4</td>\n",
              "      <td>5</td>\n",
              "      <td>6</td>\n",
              "      <td>6</td>\n",
              "      <td>1958</td>\n",
              "      <td>1958</td>\n",
              "      <td>4</td>\n",
              "      <td>3</td>\n",
              "      <td>6</td>\n",
              "      <td>3</td>\n",
              "      <td>3</td>\n",
              "      <td>108.0</td>\n",
              "      <td>2</td>\n",
              "      <td>5</td>\n",
              "      <td>4</td>\n",
              "      <td>3</td>\n",
              "      <td>4</td>\n",
              "      <td>2</td>\n",
              "      <td>5</td>\n",
              "      <td>923.0</td>\n",
              "      <td>5</td>\n",
              "      <td>0.0</td>\n",
              "      <td>406.0</td>\n",
              "      <td>1329.0</td>\n",
              "      <td>6</td>\n",
              "      <td>3</td>\n",
              "      <td>2</td>\n",
              "      <td>6</td>\n",
              "      <td>1329</td>\n",
              "      <td>0</td>\n",
              "      <td>0</td>\n",
              "      <td>1329</td>\n",
              "      <td>0.0</td>\n",
              "      <td>0.0</td>\n",
              "      <td>1</td>\n",
              "      <td>1</td>\n",
              "      <td>3</td>\n",
              "      <td>1</td>\n",
              "      <td>3</td>\n",
              "      <td>6</td>\n",
              "      <td>7</td>\n",
              "      <td>0</td>\n",
              "      <td>6</td>\n",
              "      <td>1958.0</td>\n",
              "      <td>2</td>\n",
              "      <td>1.0</td>\n",
              "      <td>312.0</td>\n",
              "      <td>5</td>\n",
              "      <td>6</td>\n",
              "      <td>3</td>\n",
              "      <td>393</td>\n",
              "      <td>36</td>\n",
              "      <td>0</td>\n",
              "      <td>0</td>\n",
              "      <td>0</td>\n",
              "      <td>0</td>\n",
              "      <td>12500</td>\n",
              "      <td>6</td>\n",
              "      <td>2010</td>\n",
              "      <td>6</td>\n",
              "      <td>5</td>\n",
              "    </tr>\n",
              "    <tr>\n",
              "      <th>1463</th>\n",
              "      <td>60</td>\n",
              "      <td>4</td>\n",
              "      <td>74.0</td>\n",
              "      <td>13830</td>\n",
              "      <td>2</td>\n",
              "      <td>2</td>\n",
              "      <td>2</td>\n",
              "      <td>2</td>\n",
              "      <td>1</td>\n",
              "      <td>1</td>\n",
              "      <td>14</td>\n",
              "      <td>4</td>\n",
              "      <td>5</td>\n",
              "      <td>4</td>\n",
              "      <td>7</td>\n",
              "      <td>5</td>\n",
              "      <td>5</td>\n",
              "      <td>1997</td>\n",
              "      <td>1998</td>\n",
              "      <td>2</td>\n",
              "      <td>3</td>\n",
              "      <td>12</td>\n",
              "      <td>14</td>\n",
              "      <td>2</td>\n",
              "      <td>0.0</td>\n",
              "      <td>2</td>\n",
              "      <td>5</td>\n",
              "      <td>6</td>\n",
              "      <td>4</td>\n",
              "      <td>4</td>\n",
              "      <td>2</td>\n",
              "      <td>7</td>\n",
              "      <td>791.0</td>\n",
              "      <td>5</td>\n",
              "      <td>0.0</td>\n",
              "      <td>137.0</td>\n",
              "      <td>928.0</td>\n",
              "      <td>6</td>\n",
              "      <td>4</td>\n",
              "      <td>2</td>\n",
              "      <td>6</td>\n",
              "      <td>928</td>\n",
              "      <td>701</td>\n",
              "      <td>0</td>\n",
              "      <td>1629</td>\n",
              "      <td>0.0</td>\n",
              "      <td>0.0</td>\n",
              "      <td>2</td>\n",
              "      <td>1</td>\n",
              "      <td>3</td>\n",
              "      <td>1</td>\n",
              "      <td>2</td>\n",
              "      <td>6</td>\n",
              "      <td>7</td>\n",
              "      <td>1</td>\n",
              "      <td>6</td>\n",
              "      <td>1997.0</td>\n",
              "      <td>4</td>\n",
              "      <td>2.0</td>\n",
              "      <td>482.0</td>\n",
              "      <td>5</td>\n",
              "      <td>6</td>\n",
              "      <td>3</td>\n",
              "      <td>212</td>\n",
              "      <td>34</td>\n",
              "      <td>0</td>\n",
              "      <td>0</td>\n",
              "      <td>0</td>\n",
              "      <td>0</td>\n",
              "      <td>0</td>\n",
              "      <td>3</td>\n",
              "      <td>2010</td>\n",
              "      <td>6</td>\n",
              "      <td>5</td>\n",
              "    </tr>\n",
              "    <tr>\n",
              "      <th>1464</th>\n",
              "      <td>60</td>\n",
              "      <td>4</td>\n",
              "      <td>78.0</td>\n",
              "      <td>9978</td>\n",
              "      <td>2</td>\n",
              "      <td>2</td>\n",
              "      <td>2</td>\n",
              "      <td>2</td>\n",
              "      <td>1</td>\n",
              "      <td>1</td>\n",
              "      <td>14</td>\n",
              "      <td>4</td>\n",
              "      <td>5</td>\n",
              "      <td>4</td>\n",
              "      <td>7</td>\n",
              "      <td>6</td>\n",
              "      <td>6</td>\n",
              "      <td>1998</td>\n",
              "      <td>1998</td>\n",
              "      <td>2</td>\n",
              "      <td>3</td>\n",
              "      <td>12</td>\n",
              "      <td>14</td>\n",
              "      <td>3</td>\n",
              "      <td>20.0</td>\n",
              "      <td>2</td>\n",
              "      <td>5</td>\n",
              "      <td>6</td>\n",
              "      <td>3</td>\n",
              "      <td>4</td>\n",
              "      <td>2</td>\n",
              "      <td>7</td>\n",
              "      <td>602.0</td>\n",
              "      <td>5</td>\n",
              "      <td>0.0</td>\n",
              "      <td>324.0</td>\n",
              "      <td>926.0</td>\n",
              "      <td>6</td>\n",
              "      <td>5</td>\n",
              "      <td>2</td>\n",
              "      <td>6</td>\n",
              "      <td>926</td>\n",
              "      <td>678</td>\n",
              "      <td>0</td>\n",
              "      <td>1604</td>\n",
              "      <td>0.0</td>\n",
              "      <td>0.0</td>\n",
              "      <td>2</td>\n",
              "      <td>1</td>\n",
              "      <td>3</td>\n",
              "      <td>1</td>\n",
              "      <td>3</td>\n",
              "      <td>7</td>\n",
              "      <td>7</td>\n",
              "      <td>1</td>\n",
              "      <td>6</td>\n",
              "      <td>1998.0</td>\n",
              "      <td>4</td>\n",
              "      <td>2.0</td>\n",
              "      <td>470.0</td>\n",
              "      <td>5</td>\n",
              "      <td>6</td>\n",
              "      <td>3</td>\n",
              "      <td>360</td>\n",
              "      <td>36</td>\n",
              "      <td>0</td>\n",
              "      <td>0</td>\n",
              "      <td>0</td>\n",
              "      <td>0</td>\n",
              "      <td>0</td>\n",
              "      <td>6</td>\n",
              "      <td>2010</td>\n",
              "      <td>6</td>\n",
              "      <td>5</td>\n",
              "    </tr>\n",
              "    <tr>\n",
              "      <th>1465</th>\n",
              "      <td>120</td>\n",
              "      <td>4</td>\n",
              "      <td>43.0</td>\n",
              "      <td>5005</td>\n",
              "      <td>2</td>\n",
              "      <td>2</td>\n",
              "      <td>4</td>\n",
              "      <td>2</td>\n",
              "      <td>1</td>\n",
              "      <td>1</td>\n",
              "      <td>23</td>\n",
              "      <td>4</td>\n",
              "      <td>5</td>\n",
              "      <td>5</td>\n",
              "      <td>5</td>\n",
              "      <td>8</td>\n",
              "      <td>5</td>\n",
              "      <td>1992</td>\n",
              "      <td>1992</td>\n",
              "      <td>2</td>\n",
              "      <td>3</td>\n",
              "      <td>9</td>\n",
              "      <td>9</td>\n",
              "      <td>2</td>\n",
              "      <td>0.0</td>\n",
              "      <td>3</td>\n",
              "      <td>5</td>\n",
              "      <td>6</td>\n",
              "      <td>4</td>\n",
              "      <td>4</td>\n",
              "      <td>2</td>\n",
              "      <td>5</td>\n",
              "      <td>263.0</td>\n",
              "      <td>5</td>\n",
              "      <td>0.0</td>\n",
              "      <td>1017.0</td>\n",
              "      <td>1280.0</td>\n",
              "      <td>6</td>\n",
              "      <td>5</td>\n",
              "      <td>2</td>\n",
              "      <td>6</td>\n",
              "      <td>1280</td>\n",
              "      <td>0</td>\n",
              "      <td>0</td>\n",
              "      <td>1280</td>\n",
              "      <td>0.0</td>\n",
              "      <td>0.0</td>\n",
              "      <td>2</td>\n",
              "      <td>0</td>\n",
              "      <td>2</td>\n",
              "      <td>1</td>\n",
              "      <td>3</td>\n",
              "      <td>5</td>\n",
              "      <td>7</td>\n",
              "      <td>0</td>\n",
              "      <td>6</td>\n",
              "      <td>1992.0</td>\n",
              "      <td>3</td>\n",
              "      <td>2.0</td>\n",
              "      <td>506.0</td>\n",
              "      <td>5</td>\n",
              "      <td>6</td>\n",
              "      <td>3</td>\n",
              "      <td>0</td>\n",
              "      <td>82</td>\n",
              "      <td>0</td>\n",
              "      <td>0</td>\n",
              "      <td>144</td>\n",
              "      <td>0</td>\n",
              "      <td>0</td>\n",
              "      <td>1</td>\n",
              "      <td>2010</td>\n",
              "      <td>6</td>\n",
              "      <td>5</td>\n",
              "    </tr>\n",
              "  </tbody>\n",
              "</table>\n",
              "</div>"
            ],
            "text/plain": [
              "      MSSubClass  MSZoning  LotFrontage  ...  YrSold  SaleType  SaleCondition\n",
              "Id                                       ...                                 \n",
              "1461          20         3         80.0  ...    2010         6              5\n",
              "1462          20         4         81.0  ...    2010         6              5\n",
              "1463          60         4         74.0  ...    2010         6              5\n",
              "1464          60         4         78.0  ...    2010         6              5\n",
              "1465         120         4         43.0  ...    2010         6              5\n",
              "\n",
              "[5 rows x 74 columns]"
            ]
          },
          "metadata": {},
          "execution_count": 119
        }
      ]
    },
    {
      "cell_type": "code",
      "metadata": {
        "id": "nfezghifN1kj",
        "colab": {
          "base_uri": "https://localhost:8080/",
          "height": 0
        },
        "outputId": "51ef2af0-5a14-422d-c77c-d18ad6a0f92f"
      },
      "source": [
        "test.head()"
      ],
      "execution_count": 120,
      "outputs": [
        {
          "output_type": "execute_result",
          "data": {
            "text/html": [
              "<div>\n",
              "<style scoped>\n",
              "    .dataframe tbody tr th:only-of-type {\n",
              "        vertical-align: middle;\n",
              "    }\n",
              "\n",
              "    .dataframe tbody tr th {\n",
              "        vertical-align: top;\n",
              "    }\n",
              "\n",
              "    .dataframe thead th {\n",
              "        text-align: right;\n",
              "    }\n",
              "</style>\n",
              "<table border=\"1\" class=\"dataframe\">\n",
              "  <thead>\n",
              "    <tr style=\"text-align: right;\">\n",
              "      <th></th>\n",
              "      <th>MSSubClass</th>\n",
              "      <th>MSZoning</th>\n",
              "      <th>LotFrontage</th>\n",
              "      <th>LotArea</th>\n",
              "      <th>Street</th>\n",
              "      <th>LotShape</th>\n",
              "      <th>LandContour</th>\n",
              "      <th>Utilities</th>\n",
              "      <th>LotConfig</th>\n",
              "      <th>LandSlope</th>\n",
              "      <th>Neighborhood</th>\n",
              "      <th>Condition1</th>\n",
              "      <th>Condition2</th>\n",
              "      <th>BldgType</th>\n",
              "      <th>HouseStyle</th>\n",
              "      <th>OverallQual</th>\n",
              "      <th>OverallCond</th>\n",
              "      <th>YearBuilt</th>\n",
              "      <th>YearRemodAdd</th>\n",
              "      <th>RoofStyle</th>\n",
              "      <th>RoofMatl</th>\n",
              "      <th>Exterior1st</th>\n",
              "      <th>Exterior2nd</th>\n",
              "      <th>MasVnrType</th>\n",
              "      <th>MasVnrArea</th>\n",
              "      <th>ExterQual</th>\n",
              "      <th>ExterCond</th>\n",
              "      <th>Foundation</th>\n",
              "      <th>BsmtQual</th>\n",
              "      <th>BsmtCond</th>\n",
              "      <th>BsmtExposure</th>\n",
              "      <th>BsmtFinType1</th>\n",
              "      <th>BsmtFinSF1</th>\n",
              "      <th>BsmtFinType2</th>\n",
              "      <th>BsmtFinSF2</th>\n",
              "      <th>BsmtUnfSF</th>\n",
              "      <th>TotalBsmtSF</th>\n",
              "      <th>Heating</th>\n",
              "      <th>HeatingQC</th>\n",
              "      <th>CentralAir</th>\n",
              "      <th>Electrical</th>\n",
              "      <th>1stFlrSF</th>\n",
              "      <th>2ndFlrSF</th>\n",
              "      <th>LowQualFinSF</th>\n",
              "      <th>GrLivArea</th>\n",
              "      <th>BsmtFullBath</th>\n",
              "      <th>BsmtHalfBath</th>\n",
              "      <th>FullBath</th>\n",
              "      <th>HalfBath</th>\n",
              "      <th>BedroomAbvGr</th>\n",
              "      <th>KitchenAbvGr</th>\n",
              "      <th>KitchenQual</th>\n",
              "      <th>TotRmsAbvGrd</th>\n",
              "      <th>Functional</th>\n",
              "      <th>Fireplaces</th>\n",
              "      <th>GarageType</th>\n",
              "      <th>GarageYrBlt</th>\n",
              "      <th>GarageFinish</th>\n",
              "      <th>GarageCars</th>\n",
              "      <th>GarageArea</th>\n",
              "      <th>GarageQual</th>\n",
              "      <th>GarageCond</th>\n",
              "      <th>PavedDrive</th>\n",
              "      <th>WoodDeckSF</th>\n",
              "      <th>OpenPorchSF</th>\n",
              "      <th>EnclosedPorch</th>\n",
              "      <th>3SsnPorch</th>\n",
              "      <th>ScreenPorch</th>\n",
              "      <th>PoolArea</th>\n",
              "      <th>MiscVal</th>\n",
              "      <th>MoSold</th>\n",
              "      <th>YrSold</th>\n",
              "      <th>SaleType</th>\n",
              "      <th>SaleCondition</th>\n",
              "    </tr>\n",
              "    <tr>\n",
              "      <th>Id</th>\n",
              "      <th></th>\n",
              "      <th></th>\n",
              "      <th></th>\n",
              "      <th></th>\n",
              "      <th></th>\n",
              "      <th></th>\n",
              "      <th></th>\n",
              "      <th></th>\n",
              "      <th></th>\n",
              "      <th></th>\n",
              "      <th></th>\n",
              "      <th></th>\n",
              "      <th></th>\n",
              "      <th></th>\n",
              "      <th></th>\n",
              "      <th></th>\n",
              "      <th></th>\n",
              "      <th></th>\n",
              "      <th></th>\n",
              "      <th></th>\n",
              "      <th></th>\n",
              "      <th></th>\n",
              "      <th></th>\n",
              "      <th></th>\n",
              "      <th></th>\n",
              "      <th></th>\n",
              "      <th></th>\n",
              "      <th></th>\n",
              "      <th></th>\n",
              "      <th></th>\n",
              "      <th></th>\n",
              "      <th></th>\n",
              "      <th></th>\n",
              "      <th></th>\n",
              "      <th></th>\n",
              "      <th></th>\n",
              "      <th></th>\n",
              "      <th></th>\n",
              "      <th></th>\n",
              "      <th></th>\n",
              "      <th></th>\n",
              "      <th></th>\n",
              "      <th></th>\n",
              "      <th></th>\n",
              "      <th></th>\n",
              "      <th></th>\n",
              "      <th></th>\n",
              "      <th></th>\n",
              "      <th></th>\n",
              "      <th></th>\n",
              "      <th></th>\n",
              "      <th></th>\n",
              "      <th></th>\n",
              "      <th></th>\n",
              "      <th></th>\n",
              "      <th></th>\n",
              "      <th></th>\n",
              "      <th></th>\n",
              "      <th></th>\n",
              "      <th></th>\n",
              "      <th></th>\n",
              "      <th></th>\n",
              "      <th></th>\n",
              "      <th></th>\n",
              "      <th></th>\n",
              "      <th></th>\n",
              "      <th></th>\n",
              "      <th></th>\n",
              "      <th></th>\n",
              "      <th></th>\n",
              "      <th></th>\n",
              "      <th></th>\n",
              "      <th></th>\n",
              "      <th></th>\n",
              "    </tr>\n",
              "  </thead>\n",
              "  <tbody>\n",
              "    <tr>\n",
              "      <th>1461</th>\n",
              "      <td>20</td>\n",
              "      <td>3</td>\n",
              "      <td>80.0</td>\n",
              "      <td>11622</td>\n",
              "      <td>2</td>\n",
              "      <td>1</td>\n",
              "      <td>2</td>\n",
              "      <td>2</td>\n",
              "      <td>1</td>\n",
              "      <td>1</td>\n",
              "      <td>10</td>\n",
              "      <td>2</td>\n",
              "      <td>5</td>\n",
              "      <td>4</td>\n",
              "      <td>5</td>\n",
              "      <td>5</td>\n",
              "      <td>6</td>\n",
              "      <td>1961</td>\n",
              "      <td>1961</td>\n",
              "      <td>2</td>\n",
              "      <td>3</td>\n",
              "      <td>12</td>\n",
              "      <td>14</td>\n",
              "      <td>2</td>\n",
              "      <td>0.0</td>\n",
              "      <td>2</td>\n",
              "      <td>5</td>\n",
              "      <td>4</td>\n",
              "      <td>3</td>\n",
              "      <td>4</td>\n",
              "      <td>2</td>\n",
              "      <td>4</td>\n",
              "      <td>468.0</td>\n",
              "      <td>4</td>\n",
              "      <td>144.0</td>\n",
              "      <td>270.0</td>\n",
              "      <td>882.0</td>\n",
              "      <td>6</td>\n",
              "      <td>3</td>\n",
              "      <td>2</td>\n",
              "      <td>6</td>\n",
              "      <td>896</td>\n",
              "      <td>0</td>\n",
              "      <td>0</td>\n",
              "      <td>896</td>\n",
              "      <td>0.0</td>\n",
              "      <td>0.0</td>\n",
              "      <td>1</td>\n",
              "      <td>0</td>\n",
              "      <td>2</td>\n",
              "      <td>1</td>\n",
              "      <td>2</td>\n",
              "      <td>5</td>\n",
              "      <td>7</td>\n",
              "      <td>0</td>\n",
              "      <td>6</td>\n",
              "      <td>1961.0</td>\n",
              "      <td>2</td>\n",
              "      <td>1.0</td>\n",
              "      <td>730.0</td>\n",
              "      <td>5</td>\n",
              "      <td>6</td>\n",
              "      <td>3</td>\n",
              "      <td>140</td>\n",
              "      <td>0</td>\n",
              "      <td>0</td>\n",
              "      <td>0</td>\n",
              "      <td>120</td>\n",
              "      <td>0</td>\n",
              "      <td>0</td>\n",
              "      <td>6</td>\n",
              "      <td>2010</td>\n",
              "      <td>6</td>\n",
              "      <td>5</td>\n",
              "    </tr>\n",
              "    <tr>\n",
              "      <th>1462</th>\n",
              "      <td>20</td>\n",
              "      <td>4</td>\n",
              "      <td>81.0</td>\n",
              "      <td>14267</td>\n",
              "      <td>2</td>\n",
              "      <td>2</td>\n",
              "      <td>2</td>\n",
              "      <td>2</td>\n",
              "      <td>2</td>\n",
              "      <td>1</td>\n",
              "      <td>10</td>\n",
              "      <td>4</td>\n",
              "      <td>5</td>\n",
              "      <td>4</td>\n",
              "      <td>5</td>\n",
              "      <td>6</td>\n",
              "      <td>6</td>\n",
              "      <td>1958</td>\n",
              "      <td>1958</td>\n",
              "      <td>4</td>\n",
              "      <td>3</td>\n",
              "      <td>6</td>\n",
              "      <td>3</td>\n",
              "      <td>3</td>\n",
              "      <td>108.0</td>\n",
              "      <td>2</td>\n",
              "      <td>5</td>\n",
              "      <td>4</td>\n",
              "      <td>3</td>\n",
              "      <td>4</td>\n",
              "      <td>2</td>\n",
              "      <td>5</td>\n",
              "      <td>923.0</td>\n",
              "      <td>5</td>\n",
              "      <td>0.0</td>\n",
              "      <td>406.0</td>\n",
              "      <td>1329.0</td>\n",
              "      <td>6</td>\n",
              "      <td>3</td>\n",
              "      <td>2</td>\n",
              "      <td>6</td>\n",
              "      <td>1329</td>\n",
              "      <td>0</td>\n",
              "      <td>0</td>\n",
              "      <td>1329</td>\n",
              "      <td>0.0</td>\n",
              "      <td>0.0</td>\n",
              "      <td>1</td>\n",
              "      <td>1</td>\n",
              "      <td>3</td>\n",
              "      <td>1</td>\n",
              "      <td>3</td>\n",
              "      <td>6</td>\n",
              "      <td>7</td>\n",
              "      <td>0</td>\n",
              "      <td>6</td>\n",
              "      <td>1958.0</td>\n",
              "      <td>2</td>\n",
              "      <td>1.0</td>\n",
              "      <td>312.0</td>\n",
              "      <td>5</td>\n",
              "      <td>6</td>\n",
              "      <td>3</td>\n",
              "      <td>393</td>\n",
              "      <td>36</td>\n",
              "      <td>0</td>\n",
              "      <td>0</td>\n",
              "      <td>0</td>\n",
              "      <td>0</td>\n",
              "      <td>12500</td>\n",
              "      <td>6</td>\n",
              "      <td>2010</td>\n",
              "      <td>6</td>\n",
              "      <td>5</td>\n",
              "    </tr>\n",
              "    <tr>\n",
              "      <th>1463</th>\n",
              "      <td>60</td>\n",
              "      <td>4</td>\n",
              "      <td>74.0</td>\n",
              "      <td>13830</td>\n",
              "      <td>2</td>\n",
              "      <td>2</td>\n",
              "      <td>2</td>\n",
              "      <td>2</td>\n",
              "      <td>1</td>\n",
              "      <td>1</td>\n",
              "      <td>14</td>\n",
              "      <td>4</td>\n",
              "      <td>5</td>\n",
              "      <td>4</td>\n",
              "      <td>7</td>\n",
              "      <td>5</td>\n",
              "      <td>5</td>\n",
              "      <td>1997</td>\n",
              "      <td>1998</td>\n",
              "      <td>2</td>\n",
              "      <td>3</td>\n",
              "      <td>12</td>\n",
              "      <td>14</td>\n",
              "      <td>2</td>\n",
              "      <td>0.0</td>\n",
              "      <td>2</td>\n",
              "      <td>5</td>\n",
              "      <td>6</td>\n",
              "      <td>4</td>\n",
              "      <td>4</td>\n",
              "      <td>2</td>\n",
              "      <td>7</td>\n",
              "      <td>791.0</td>\n",
              "      <td>5</td>\n",
              "      <td>0.0</td>\n",
              "      <td>137.0</td>\n",
              "      <td>928.0</td>\n",
              "      <td>6</td>\n",
              "      <td>4</td>\n",
              "      <td>2</td>\n",
              "      <td>6</td>\n",
              "      <td>928</td>\n",
              "      <td>701</td>\n",
              "      <td>0</td>\n",
              "      <td>1629</td>\n",
              "      <td>0.0</td>\n",
              "      <td>0.0</td>\n",
              "      <td>2</td>\n",
              "      <td>1</td>\n",
              "      <td>3</td>\n",
              "      <td>1</td>\n",
              "      <td>2</td>\n",
              "      <td>6</td>\n",
              "      <td>7</td>\n",
              "      <td>1</td>\n",
              "      <td>6</td>\n",
              "      <td>1997.0</td>\n",
              "      <td>4</td>\n",
              "      <td>2.0</td>\n",
              "      <td>482.0</td>\n",
              "      <td>5</td>\n",
              "      <td>6</td>\n",
              "      <td>3</td>\n",
              "      <td>212</td>\n",
              "      <td>34</td>\n",
              "      <td>0</td>\n",
              "      <td>0</td>\n",
              "      <td>0</td>\n",
              "      <td>0</td>\n",
              "      <td>0</td>\n",
              "      <td>3</td>\n",
              "      <td>2010</td>\n",
              "      <td>6</td>\n",
              "      <td>5</td>\n",
              "    </tr>\n",
              "    <tr>\n",
              "      <th>1464</th>\n",
              "      <td>60</td>\n",
              "      <td>4</td>\n",
              "      <td>78.0</td>\n",
              "      <td>9978</td>\n",
              "      <td>2</td>\n",
              "      <td>2</td>\n",
              "      <td>2</td>\n",
              "      <td>2</td>\n",
              "      <td>1</td>\n",
              "      <td>1</td>\n",
              "      <td>14</td>\n",
              "      <td>4</td>\n",
              "      <td>5</td>\n",
              "      <td>4</td>\n",
              "      <td>7</td>\n",
              "      <td>6</td>\n",
              "      <td>6</td>\n",
              "      <td>1998</td>\n",
              "      <td>1998</td>\n",
              "      <td>2</td>\n",
              "      <td>3</td>\n",
              "      <td>12</td>\n",
              "      <td>14</td>\n",
              "      <td>3</td>\n",
              "      <td>20.0</td>\n",
              "      <td>2</td>\n",
              "      <td>5</td>\n",
              "      <td>6</td>\n",
              "      <td>3</td>\n",
              "      <td>4</td>\n",
              "      <td>2</td>\n",
              "      <td>7</td>\n",
              "      <td>602.0</td>\n",
              "      <td>5</td>\n",
              "      <td>0.0</td>\n",
              "      <td>324.0</td>\n",
              "      <td>926.0</td>\n",
              "      <td>6</td>\n",
              "      <td>5</td>\n",
              "      <td>2</td>\n",
              "      <td>6</td>\n",
              "      <td>926</td>\n",
              "      <td>678</td>\n",
              "      <td>0</td>\n",
              "      <td>1604</td>\n",
              "      <td>0.0</td>\n",
              "      <td>0.0</td>\n",
              "      <td>2</td>\n",
              "      <td>1</td>\n",
              "      <td>3</td>\n",
              "      <td>1</td>\n",
              "      <td>3</td>\n",
              "      <td>7</td>\n",
              "      <td>7</td>\n",
              "      <td>1</td>\n",
              "      <td>6</td>\n",
              "      <td>1998.0</td>\n",
              "      <td>4</td>\n",
              "      <td>2.0</td>\n",
              "      <td>470.0</td>\n",
              "      <td>5</td>\n",
              "      <td>6</td>\n",
              "      <td>3</td>\n",
              "      <td>360</td>\n",
              "      <td>36</td>\n",
              "      <td>0</td>\n",
              "      <td>0</td>\n",
              "      <td>0</td>\n",
              "      <td>0</td>\n",
              "      <td>0</td>\n",
              "      <td>6</td>\n",
              "      <td>2010</td>\n",
              "      <td>6</td>\n",
              "      <td>5</td>\n",
              "    </tr>\n",
              "    <tr>\n",
              "      <th>1465</th>\n",
              "      <td>120</td>\n",
              "      <td>4</td>\n",
              "      <td>43.0</td>\n",
              "      <td>5005</td>\n",
              "      <td>2</td>\n",
              "      <td>2</td>\n",
              "      <td>4</td>\n",
              "      <td>2</td>\n",
              "      <td>1</td>\n",
              "      <td>1</td>\n",
              "      <td>23</td>\n",
              "      <td>4</td>\n",
              "      <td>5</td>\n",
              "      <td>5</td>\n",
              "      <td>5</td>\n",
              "      <td>8</td>\n",
              "      <td>5</td>\n",
              "      <td>1992</td>\n",
              "      <td>1992</td>\n",
              "      <td>2</td>\n",
              "      <td>3</td>\n",
              "      <td>9</td>\n",
              "      <td>9</td>\n",
              "      <td>2</td>\n",
              "      <td>0.0</td>\n",
              "      <td>3</td>\n",
              "      <td>5</td>\n",
              "      <td>6</td>\n",
              "      <td>4</td>\n",
              "      <td>4</td>\n",
              "      <td>2</td>\n",
              "      <td>5</td>\n",
              "      <td>263.0</td>\n",
              "      <td>5</td>\n",
              "      <td>0.0</td>\n",
              "      <td>1017.0</td>\n",
              "      <td>1280.0</td>\n",
              "      <td>6</td>\n",
              "      <td>5</td>\n",
              "      <td>2</td>\n",
              "      <td>6</td>\n",
              "      <td>1280</td>\n",
              "      <td>0</td>\n",
              "      <td>0</td>\n",
              "      <td>1280</td>\n",
              "      <td>0.0</td>\n",
              "      <td>0.0</td>\n",
              "      <td>2</td>\n",
              "      <td>0</td>\n",
              "      <td>2</td>\n",
              "      <td>1</td>\n",
              "      <td>3</td>\n",
              "      <td>5</td>\n",
              "      <td>7</td>\n",
              "      <td>0</td>\n",
              "      <td>6</td>\n",
              "      <td>1992.0</td>\n",
              "      <td>3</td>\n",
              "      <td>2.0</td>\n",
              "      <td>506.0</td>\n",
              "      <td>5</td>\n",
              "      <td>6</td>\n",
              "      <td>3</td>\n",
              "      <td>0</td>\n",
              "      <td>82</td>\n",
              "      <td>0</td>\n",
              "      <td>0</td>\n",
              "      <td>144</td>\n",
              "      <td>0</td>\n",
              "      <td>0</td>\n",
              "      <td>1</td>\n",
              "      <td>2010</td>\n",
              "      <td>6</td>\n",
              "      <td>5</td>\n",
              "    </tr>\n",
              "  </tbody>\n",
              "</table>\n",
              "</div>"
            ],
            "text/plain": [
              "      MSSubClass  MSZoning  LotFrontage  ...  YrSold  SaleType  SaleCondition\n",
              "Id                                       ...                                 \n",
              "1461          20         3         80.0  ...    2010         6              5\n",
              "1462          20         4         81.0  ...    2010         6              5\n",
              "1463          60         4         74.0  ...    2010         6              5\n",
              "1464          60         4         78.0  ...    2010         6              5\n",
              "1465         120         4         43.0  ...    2010         6              5\n",
              "\n",
              "[5 rows x 74 columns]"
            ]
          },
          "metadata": {},
          "execution_count": 120
        }
      ]
    },
    {
      "cell_type": "code",
      "metadata": {
        "id": "1pkaN-j4Rj1j",
        "colab": {
          "base_uri": "https://localhost:8080/"
        },
        "outputId": "25f077a6-cf3e-4513-b5fe-dbd85a99de63"
      },
      "source": [
        "test['MSZoning'].value_counts()"
      ],
      "execution_count": 121,
      "outputs": [
        {
          "output_type": "execute_result",
          "data": {
            "text/plain": [
              "4    1114\n",
              "2     242\n",
              "5      74\n",
              "1      15\n",
              "3      10\n",
              "0       4\n",
              "Name: MSZoning, dtype: int64"
            ]
          },
          "metadata": {},
          "execution_count": 121
        }
      ]
    },
    {
      "cell_type": "code",
      "metadata": {
        "id": "LOXyzDPaRmWr",
        "colab": {
          "base_uri": "https://localhost:8080/"
        },
        "outputId": "0557ea39-9c13-4637-d54c-4f7146f37977"
      },
      "source": [
        "train['MSZoning'].value_counts()"
      ],
      "execution_count": 122,
      "outputs": [
        {
          "output_type": "execute_result",
          "data": {
            "text/plain": [
              "4    1151\n",
              "2     218\n",
              "5      65\n",
              "3      16\n",
              "1      10\n",
              "Name: MSZoning, dtype: int64"
            ]
          },
          "metadata": {},
          "execution_count": 122
        }
      ]
    },
    {
      "cell_type": "markdown",
      "metadata": {
        "id": "aSG3Gr7xnT0z"
      },
      "source": [
        ""
      ]
    },
    {
      "cell_type": "markdown",
      "metadata": {
        "id": "bo0QfhawnVuj"
      },
      "source": [
        "## **Feature Engineering**"
      ]
    },
    {
      "cell_type": "code",
      "metadata": {
        "id": "sT8CJOQMnZ8Z",
        "colab": {
          "base_uri": "https://localhost:8080/",
          "height": 0
        },
        "outputId": "fad04315-4bca-42d4-98b8-3a19f000ed61"
      },
      "source": [
        "train.head()"
      ],
      "execution_count": 123,
      "outputs": [
        {
          "output_type": "execute_result",
          "data": {
            "text/html": [
              "<div>\n",
              "<style scoped>\n",
              "    .dataframe tbody tr th:only-of-type {\n",
              "        vertical-align: middle;\n",
              "    }\n",
              "\n",
              "    .dataframe tbody tr th {\n",
              "        vertical-align: top;\n",
              "    }\n",
              "\n",
              "    .dataframe thead th {\n",
              "        text-align: right;\n",
              "    }\n",
              "</style>\n",
              "<table border=\"1\" class=\"dataframe\">\n",
              "  <thead>\n",
              "    <tr style=\"text-align: right;\">\n",
              "      <th></th>\n",
              "      <th>MSSubClass</th>\n",
              "      <th>MSZoning</th>\n",
              "      <th>LotFrontage</th>\n",
              "      <th>LotArea</th>\n",
              "      <th>Street</th>\n",
              "      <th>LotShape</th>\n",
              "      <th>LandContour</th>\n",
              "      <th>Utilities</th>\n",
              "      <th>LotConfig</th>\n",
              "      <th>LandSlope</th>\n",
              "      <th>Neighborhood</th>\n",
              "      <th>Condition1</th>\n",
              "      <th>Condition2</th>\n",
              "      <th>BldgType</th>\n",
              "      <th>HouseStyle</th>\n",
              "      <th>OverallQual</th>\n",
              "      <th>OverallCond</th>\n",
              "      <th>YearBuilt</th>\n",
              "      <th>YearRemodAdd</th>\n",
              "      <th>RoofStyle</th>\n",
              "      <th>RoofMatl</th>\n",
              "      <th>Exterior1st</th>\n",
              "      <th>Exterior2nd</th>\n",
              "      <th>MasVnrType</th>\n",
              "      <th>MasVnrArea</th>\n",
              "      <th>ExterQual</th>\n",
              "      <th>ExterCond</th>\n",
              "      <th>Foundation</th>\n",
              "      <th>BsmtQual</th>\n",
              "      <th>BsmtCond</th>\n",
              "      <th>BsmtExposure</th>\n",
              "      <th>BsmtFinType1</th>\n",
              "      <th>BsmtFinSF1</th>\n",
              "      <th>BsmtFinType2</th>\n",
              "      <th>BsmtFinSF2</th>\n",
              "      <th>BsmtUnfSF</th>\n",
              "      <th>TotalBsmtSF</th>\n",
              "      <th>Heating</th>\n",
              "      <th>HeatingQC</th>\n",
              "      <th>CentralAir</th>\n",
              "      <th>Electrical</th>\n",
              "      <th>1stFlrSF</th>\n",
              "      <th>2ndFlrSF</th>\n",
              "      <th>LowQualFinSF</th>\n",
              "      <th>GrLivArea</th>\n",
              "      <th>BsmtFullBath</th>\n",
              "      <th>BsmtHalfBath</th>\n",
              "      <th>FullBath</th>\n",
              "      <th>HalfBath</th>\n",
              "      <th>BedroomAbvGr</th>\n",
              "      <th>KitchenAbvGr</th>\n",
              "      <th>KitchenQual</th>\n",
              "      <th>TotRmsAbvGrd</th>\n",
              "      <th>Functional</th>\n",
              "      <th>Fireplaces</th>\n",
              "      <th>GarageType</th>\n",
              "      <th>GarageYrBlt</th>\n",
              "      <th>GarageFinish</th>\n",
              "      <th>GarageCars</th>\n",
              "      <th>GarageArea</th>\n",
              "      <th>GarageQual</th>\n",
              "      <th>GarageCond</th>\n",
              "      <th>PavedDrive</th>\n",
              "      <th>WoodDeckSF</th>\n",
              "      <th>OpenPorchSF</th>\n",
              "      <th>EnclosedPorch</th>\n",
              "      <th>3SsnPorch</th>\n",
              "      <th>ScreenPorch</th>\n",
              "      <th>PoolArea</th>\n",
              "      <th>MiscVal</th>\n",
              "      <th>MoSold</th>\n",
              "      <th>YrSold</th>\n",
              "      <th>SaleType</th>\n",
              "      <th>SaleCondition</th>\n",
              "      <th>SalePrice</th>\n",
              "    </tr>\n",
              "    <tr>\n",
              "      <th>Id</th>\n",
              "      <th></th>\n",
              "      <th></th>\n",
              "      <th></th>\n",
              "      <th></th>\n",
              "      <th></th>\n",
              "      <th></th>\n",
              "      <th></th>\n",
              "      <th></th>\n",
              "      <th></th>\n",
              "      <th></th>\n",
              "      <th></th>\n",
              "      <th></th>\n",
              "      <th></th>\n",
              "      <th></th>\n",
              "      <th></th>\n",
              "      <th></th>\n",
              "      <th></th>\n",
              "      <th></th>\n",
              "      <th></th>\n",
              "      <th></th>\n",
              "      <th></th>\n",
              "      <th></th>\n",
              "      <th></th>\n",
              "      <th></th>\n",
              "      <th></th>\n",
              "      <th></th>\n",
              "      <th></th>\n",
              "      <th></th>\n",
              "      <th></th>\n",
              "      <th></th>\n",
              "      <th></th>\n",
              "      <th></th>\n",
              "      <th></th>\n",
              "      <th></th>\n",
              "      <th></th>\n",
              "      <th></th>\n",
              "      <th></th>\n",
              "      <th></th>\n",
              "      <th></th>\n",
              "      <th></th>\n",
              "      <th></th>\n",
              "      <th></th>\n",
              "      <th></th>\n",
              "      <th></th>\n",
              "      <th></th>\n",
              "      <th></th>\n",
              "      <th></th>\n",
              "      <th></th>\n",
              "      <th></th>\n",
              "      <th></th>\n",
              "      <th></th>\n",
              "      <th></th>\n",
              "      <th></th>\n",
              "      <th></th>\n",
              "      <th></th>\n",
              "      <th></th>\n",
              "      <th></th>\n",
              "      <th></th>\n",
              "      <th></th>\n",
              "      <th></th>\n",
              "      <th></th>\n",
              "      <th></th>\n",
              "      <th></th>\n",
              "      <th></th>\n",
              "      <th></th>\n",
              "      <th></th>\n",
              "      <th></th>\n",
              "      <th></th>\n",
              "      <th></th>\n",
              "      <th></th>\n",
              "      <th></th>\n",
              "      <th></th>\n",
              "      <th></th>\n",
              "      <th></th>\n",
              "      <th></th>\n",
              "    </tr>\n",
              "  </thead>\n",
              "  <tbody>\n",
              "    <tr>\n",
              "      <th>1</th>\n",
              "      <td>60</td>\n",
              "      <td>4</td>\n",
              "      <td>65.0</td>\n",
              "      <td>8450</td>\n",
              "      <td>2</td>\n",
              "      <td>1</td>\n",
              "      <td>2</td>\n",
              "      <td>2</td>\n",
              "      <td>1</td>\n",
              "      <td>1</td>\n",
              "      <td>17</td>\n",
              "      <td>4</td>\n",
              "      <td>5</td>\n",
              "      <td>4</td>\n",
              "      <td>7</td>\n",
              "      <td>7</td>\n",
              "      <td>5</td>\n",
              "      <td>2003</td>\n",
              "      <td>2003</td>\n",
              "      <td>2</td>\n",
              "      <td>3</td>\n",
              "      <td>12</td>\n",
              "      <td>14</td>\n",
              "      <td>3</td>\n",
              "      <td>196.0</td>\n",
              "      <td>3</td>\n",
              "      <td>5</td>\n",
              "      <td>6</td>\n",
              "      <td>4</td>\n",
              "      <td>4</td>\n",
              "      <td>2</td>\n",
              "      <td>7</td>\n",
              "      <td>706</td>\n",
              "      <td>5</td>\n",
              "      <td>0</td>\n",
              "      <td>150</td>\n",
              "      <td>856</td>\n",
              "      <td>6</td>\n",
              "      <td>5</td>\n",
              "      <td>2</td>\n",
              "      <td>6</td>\n",
              "      <td>856</td>\n",
              "      <td>854</td>\n",
              "      <td>0</td>\n",
              "      <td>1710</td>\n",
              "      <td>1</td>\n",
              "      <td>0</td>\n",
              "      <td>2</td>\n",
              "      <td>1</td>\n",
              "      <td>3</td>\n",
              "      <td>1</td>\n",
              "      <td>3</td>\n",
              "      <td>8</td>\n",
              "      <td>7</td>\n",
              "      <td>0</td>\n",
              "      <td>6</td>\n",
              "      <td>2003.0</td>\n",
              "      <td>3</td>\n",
              "      <td>2</td>\n",
              "      <td>548</td>\n",
              "      <td>5</td>\n",
              "      <td>6</td>\n",
              "      <td>3</td>\n",
              "      <td>0</td>\n",
              "      <td>61</td>\n",
              "      <td>0</td>\n",
              "      <td>0</td>\n",
              "      <td>0</td>\n",
              "      <td>0</td>\n",
              "      <td>0</td>\n",
              "      <td>2</td>\n",
              "      <td>2008</td>\n",
              "      <td>6</td>\n",
              "      <td>5</td>\n",
              "      <td>208500</td>\n",
              "    </tr>\n",
              "    <tr>\n",
              "      <th>2</th>\n",
              "      <td>20</td>\n",
              "      <td>4</td>\n",
              "      <td>80.0</td>\n",
              "      <td>9600</td>\n",
              "      <td>2</td>\n",
              "      <td>1</td>\n",
              "      <td>2</td>\n",
              "      <td>2</td>\n",
              "      <td>3</td>\n",
              "      <td>1</td>\n",
              "      <td>20</td>\n",
              "      <td>2</td>\n",
              "      <td>5</td>\n",
              "      <td>4</td>\n",
              "      <td>5</td>\n",
              "      <td>6</td>\n",
              "      <td>8</td>\n",
              "      <td>1976</td>\n",
              "      <td>1976</td>\n",
              "      <td>2</td>\n",
              "      <td>3</td>\n",
              "      <td>7</td>\n",
              "      <td>5</td>\n",
              "      <td>2</td>\n",
              "      <td>0.0</td>\n",
              "      <td>2</td>\n",
              "      <td>5</td>\n",
              "      <td>4</td>\n",
              "      <td>4</td>\n",
              "      <td>4</td>\n",
              "      <td>5</td>\n",
              "      <td>5</td>\n",
              "      <td>978</td>\n",
              "      <td>5</td>\n",
              "      <td>0</td>\n",
              "      <td>284</td>\n",
              "      <td>1262</td>\n",
              "      <td>6</td>\n",
              "      <td>5</td>\n",
              "      <td>2</td>\n",
              "      <td>6</td>\n",
              "      <td>1262</td>\n",
              "      <td>0</td>\n",
              "      <td>0</td>\n",
              "      <td>1262</td>\n",
              "      <td>0</td>\n",
              "      <td>1</td>\n",
              "      <td>2</td>\n",
              "      <td>0</td>\n",
              "      <td>3</td>\n",
              "      <td>1</td>\n",
              "      <td>2</td>\n",
              "      <td>6</td>\n",
              "      <td>7</td>\n",
              "      <td>1</td>\n",
              "      <td>6</td>\n",
              "      <td>1976.0</td>\n",
              "      <td>3</td>\n",
              "      <td>2</td>\n",
              "      <td>460</td>\n",
              "      <td>5</td>\n",
              "      <td>6</td>\n",
              "      <td>3</td>\n",
              "      <td>298</td>\n",
              "      <td>0</td>\n",
              "      <td>0</td>\n",
              "      <td>0</td>\n",
              "      <td>0</td>\n",
              "      <td>0</td>\n",
              "      <td>0</td>\n",
              "      <td>5</td>\n",
              "      <td>2007</td>\n",
              "      <td>6</td>\n",
              "      <td>5</td>\n",
              "      <td>181500</td>\n",
              "    </tr>\n",
              "    <tr>\n",
              "      <th>3</th>\n",
              "      <td>60</td>\n",
              "      <td>4</td>\n",
              "      <td>68.0</td>\n",
              "      <td>11250</td>\n",
              "      <td>2</td>\n",
              "      <td>2</td>\n",
              "      <td>2</td>\n",
              "      <td>2</td>\n",
              "      <td>1</td>\n",
              "      <td>1</td>\n",
              "      <td>17</td>\n",
              "      <td>4</td>\n",
              "      <td>5</td>\n",
              "      <td>4</td>\n",
              "      <td>7</td>\n",
              "      <td>7</td>\n",
              "      <td>5</td>\n",
              "      <td>2001</td>\n",
              "      <td>2002</td>\n",
              "      <td>2</td>\n",
              "      <td>3</td>\n",
              "      <td>12</td>\n",
              "      <td>14</td>\n",
              "      <td>3</td>\n",
              "      <td>162.0</td>\n",
              "      <td>3</td>\n",
              "      <td>5</td>\n",
              "      <td>6</td>\n",
              "      <td>4</td>\n",
              "      <td>4</td>\n",
              "      <td>3</td>\n",
              "      <td>7</td>\n",
              "      <td>486</td>\n",
              "      <td>5</td>\n",
              "      <td>0</td>\n",
              "      <td>434</td>\n",
              "      <td>920</td>\n",
              "      <td>6</td>\n",
              "      <td>5</td>\n",
              "      <td>2</td>\n",
              "      <td>6</td>\n",
              "      <td>920</td>\n",
              "      <td>866</td>\n",
              "      <td>0</td>\n",
              "      <td>1786</td>\n",
              "      <td>1</td>\n",
              "      <td>0</td>\n",
              "      <td>2</td>\n",
              "      <td>1</td>\n",
              "      <td>3</td>\n",
              "      <td>1</td>\n",
              "      <td>3</td>\n",
              "      <td>6</td>\n",
              "      <td>7</td>\n",
              "      <td>1</td>\n",
              "      <td>6</td>\n",
              "      <td>2001.0</td>\n",
              "      <td>3</td>\n",
              "      <td>2</td>\n",
              "      <td>608</td>\n",
              "      <td>5</td>\n",
              "      <td>6</td>\n",
              "      <td>3</td>\n",
              "      <td>0</td>\n",
              "      <td>42</td>\n",
              "      <td>0</td>\n",
              "      <td>0</td>\n",
              "      <td>0</td>\n",
              "      <td>0</td>\n",
              "      <td>0</td>\n",
              "      <td>9</td>\n",
              "      <td>2008</td>\n",
              "      <td>6</td>\n",
              "      <td>5</td>\n",
              "      <td>223500</td>\n",
              "    </tr>\n",
              "    <tr>\n",
              "      <th>4</th>\n",
              "      <td>70</td>\n",
              "      <td>4</td>\n",
              "      <td>60.0</td>\n",
              "      <td>9550</td>\n",
              "      <td>2</td>\n",
              "      <td>2</td>\n",
              "      <td>2</td>\n",
              "      <td>2</td>\n",
              "      <td>2</td>\n",
              "      <td>1</td>\n",
              "      <td>19</td>\n",
              "      <td>4</td>\n",
              "      <td>5</td>\n",
              "      <td>4</td>\n",
              "      <td>7</td>\n",
              "      <td>7</td>\n",
              "      <td>5</td>\n",
              "      <td>1915</td>\n",
              "      <td>1970</td>\n",
              "      <td>2</td>\n",
              "      <td>3</td>\n",
              "      <td>6</td>\n",
              "      <td>4</td>\n",
              "      <td>2</td>\n",
              "      <td>0.0</td>\n",
              "      <td>2</td>\n",
              "      <td>5</td>\n",
              "      <td>2</td>\n",
              "      <td>3</td>\n",
              "      <td>5</td>\n",
              "      <td>2</td>\n",
              "      <td>5</td>\n",
              "      <td>216</td>\n",
              "      <td>5</td>\n",
              "      <td>0</td>\n",
              "      <td>540</td>\n",
              "      <td>756</td>\n",
              "      <td>6</td>\n",
              "      <td>4</td>\n",
              "      <td>2</td>\n",
              "      <td>6</td>\n",
              "      <td>961</td>\n",
              "      <td>756</td>\n",
              "      <td>0</td>\n",
              "      <td>1717</td>\n",
              "      <td>1</td>\n",
              "      <td>0</td>\n",
              "      <td>1</td>\n",
              "      <td>0</td>\n",
              "      <td>3</td>\n",
              "      <td>1</td>\n",
              "      <td>3</td>\n",
              "      <td>7</td>\n",
              "      <td>7</td>\n",
              "      <td>1</td>\n",
              "      <td>3</td>\n",
              "      <td>1998.0</td>\n",
              "      <td>2</td>\n",
              "      <td>3</td>\n",
              "      <td>642</td>\n",
              "      <td>5</td>\n",
              "      <td>6</td>\n",
              "      <td>3</td>\n",
              "      <td>0</td>\n",
              "      <td>35</td>\n",
              "      <td>272</td>\n",
              "      <td>0</td>\n",
              "      <td>0</td>\n",
              "      <td>0</td>\n",
              "      <td>0</td>\n",
              "      <td>2</td>\n",
              "      <td>2006</td>\n",
              "      <td>6</td>\n",
              "      <td>2</td>\n",
              "      <td>140000</td>\n",
              "    </tr>\n",
              "    <tr>\n",
              "      <th>5</th>\n",
              "      <td>60</td>\n",
              "      <td>4</td>\n",
              "      <td>84.0</td>\n",
              "      <td>14260</td>\n",
              "      <td>2</td>\n",
              "      <td>2</td>\n",
              "      <td>2</td>\n",
              "      <td>2</td>\n",
              "      <td>3</td>\n",
              "      <td>1</td>\n",
              "      <td>24</td>\n",
              "      <td>4</td>\n",
              "      <td>5</td>\n",
              "      <td>4</td>\n",
              "      <td>7</td>\n",
              "      <td>8</td>\n",
              "      <td>5</td>\n",
              "      <td>2000</td>\n",
              "      <td>2000</td>\n",
              "      <td>2</td>\n",
              "      <td>3</td>\n",
              "      <td>12</td>\n",
              "      <td>14</td>\n",
              "      <td>3</td>\n",
              "      <td>350.0</td>\n",
              "      <td>3</td>\n",
              "      <td>5</td>\n",
              "      <td>6</td>\n",
              "      <td>4</td>\n",
              "      <td>4</td>\n",
              "      <td>4</td>\n",
              "      <td>7</td>\n",
              "      <td>655</td>\n",
              "      <td>5</td>\n",
              "      <td>0</td>\n",
              "      <td>490</td>\n",
              "      <td>1145</td>\n",
              "      <td>6</td>\n",
              "      <td>5</td>\n",
              "      <td>2</td>\n",
              "      <td>6</td>\n",
              "      <td>1145</td>\n",
              "      <td>1053</td>\n",
              "      <td>0</td>\n",
              "      <td>2198</td>\n",
              "      <td>1</td>\n",
              "      <td>0</td>\n",
              "      <td>2</td>\n",
              "      <td>1</td>\n",
              "      <td>4</td>\n",
              "      <td>1</td>\n",
              "      <td>3</td>\n",
              "      <td>9</td>\n",
              "      <td>7</td>\n",
              "      <td>1</td>\n",
              "      <td>6</td>\n",
              "      <td>2000.0</td>\n",
              "      <td>3</td>\n",
              "      <td>3</td>\n",
              "      <td>836</td>\n",
              "      <td>5</td>\n",
              "      <td>6</td>\n",
              "      <td>3</td>\n",
              "      <td>192</td>\n",
              "      <td>84</td>\n",
              "      <td>0</td>\n",
              "      <td>0</td>\n",
              "      <td>0</td>\n",
              "      <td>0</td>\n",
              "      <td>0</td>\n",
              "      <td>12</td>\n",
              "      <td>2008</td>\n",
              "      <td>6</td>\n",
              "      <td>5</td>\n",
              "      <td>250000</td>\n",
              "    </tr>\n",
              "  </tbody>\n",
              "</table>\n",
              "</div>"
            ],
            "text/plain": [
              "    MSSubClass  MSZoning  LotFrontage  ...  SaleType  SaleCondition  SalePrice\n",
              "Id                                     ...                                    \n",
              "1           60         4         65.0  ...         6              5     208500\n",
              "2           20         4         80.0  ...         6              5     181500\n",
              "3           60         4         68.0  ...         6              5     223500\n",
              "4           70         4         60.0  ...         6              2     140000\n",
              "5           60         4         84.0  ...         6              5     250000\n",
              "\n",
              "[5 rows x 75 columns]"
            ]
          },
          "metadata": {},
          "execution_count": 123
        }
      ]
    },
    {
      "cell_type": "markdown",
      "metadata": {
        "id": "c4gxbo55oQU0"
      },
      "source": [
        "### **If has garage feature**"
      ]
    },
    {
      "cell_type": "code",
      "metadata": {
        "id": "aYKW4hjSoCvs"
      },
      "source": [
        "train['HasGarage'] = np.where(train['GarageArea'] != 0, 1, 0)\n",
        "test['HasGarage'] = np.where(test['GarageArea'] != 0, 1, 0)"
      ],
      "execution_count": 124,
      "outputs": []
    },
    {
      "cell_type": "markdown",
      "metadata": {
        "id": "IgJ0kh9qpcs6"
      },
      "source": [
        "### **Has Mas Vnr**"
      ]
    },
    {
      "cell_type": "code",
      "metadata": {
        "id": "hJ9eR_9Fpf6D"
      },
      "source": [
        "train['HasMasVnr'] = np.where(train['MasVnrArea'] != 0, 1, 0)\n",
        "test['HasMasVnr'] = np.where(test['MasVnrArea'] != 0, 1, 0)"
      ],
      "execution_count": 125,
      "outputs": []
    },
    {
      "cell_type": "markdown",
      "metadata": {
        "id": "NjIJYcKoqYCJ"
      },
      "source": [
        "## **Skewness check, log Transform**"
      ]
    },
    {
      "cell_type": "code",
      "metadata": {
        "id": "n_3rW02suBIC",
        "colab": {
          "base_uri": "https://localhost:8080/",
          "height": 0
        },
        "outputId": "7be03600-4b35-44f5-ff73-e9c185496207"
      },
      "source": [
        "sns.histplot(train['LotArea'])"
      ],
      "execution_count": 126,
      "outputs": [
        {
          "output_type": "execute_result",
          "data": {
            "text/plain": [
              "<matplotlib.axes._subplots.AxesSubplot at 0x7fd704340ad0>"
            ]
          },
          "metadata": {},
          "execution_count": 126
        },
        {
          "output_type": "display_data",
          "data": {
            "image/png": "[encoded data removed]",
            "text/plain": [
              "<Figure size 432x288 with 1 Axes>"
            ]
          },
          "metadata": {
            "needs_background": "light"
          }
        }
      ]
    },
    {
      "cell_type": "code",
      "metadata": {
        "id": "j6aNIm5hqcH6",
        "colab": {
          "base_uri": "https://localhost:8080/"
        },
        "outputId": "d72ddc9a-a9ff-4dc3-864b-e4aa156a361a"
      },
      "source": [
        "skewed_features = (train.skew().sort_values(ascending=False)).index.drop('SalePrice')\n",
        "skewed_features"
      ],
      "execution_count": 127,
      "outputs": [
        {
          "output_type": "execute_result",
          "data": {
            "text/plain": [
              "Index(['MiscVal', 'PoolArea', 'LotArea', '3SsnPorch', 'RoofMatl',\n",
              "       'LowQualFinSF', 'KitchenAbvGr', 'BsmtFinSF2', 'LandSlope',\n",
              "       'ScreenPorch', 'BsmtHalfBath', 'EnclosedPorch', 'MasVnrArea',\n",
              "       'LandContour', 'LotConfig', 'LotFrontage', 'OpenPorchSF', 'LotShape',\n",
              "       'BsmtFinSF1', 'WoodDeckSF', 'TotalBsmtSF', 'RoofStyle', 'MasVnrType',\n",
              "       'MSSubClass', '1stFlrSF', 'GrLivArea', 'BsmtUnfSF', 'ExterQual',\n",
              "       '2ndFlrSF', 'BsmtExposure', 'OverallCond', 'TotRmsAbvGrd', 'HalfBath',\n",
              "       'Fireplaces', 'BsmtFullBath', 'HasMasVnr', 'KitchenQual', 'OverallQual',\n",
              "       'MoSold', 'BedroomAbvGr', 'GarageArea', 'Neighborhood', 'Condition1',\n",
              "       'YrSold', 'FullBath', 'Exterior2nd', 'GarageCars', 'Exterior1st',\n",
              "       'YearRemodAdd', 'HeatingQC', 'GarageFinish', 'Foundation', 'YearBuilt',\n",
              "       'GarageYrBlt', 'HouseStyle', 'BsmtFinType1', 'SaleType', 'GarageType',\n",
              "       'BsmtQual', 'MSZoning', 'SaleCondition', 'BldgType', 'ExterCond',\n",
              "       'BsmtFinType2', 'GarageCond', 'PavedDrive', 'GarageQual', 'CentralAir',\n",
              "       'Electrical', 'HasGarage', 'BsmtCond', 'Functional', 'Condition2',\n",
              "       'Heating', 'Street', 'Utilities'],\n",
              "      dtype='object')"
            ]
          },
          "metadata": {},
          "execution_count": 127
        }
      ]
    },
    {
      "cell_type": "code",
      "metadata": {
        "id": "F0O0hcnms41-"
      },
      "source": [
        "LogTransformer.transform(train, skewed_features, offset=0.001)\n",
        "LogTransformer.transform(test, skewed_features, offset=0.001)"
      ],
      "execution_count": 128,
      "outputs": []
    },
    {
      "cell_type": "code",
      "metadata": {
        "id": "vFli0_WqrgQh",
        "colab": {
          "base_uri": "https://localhost:8080/",
          "height": 0
        },
        "outputId": "ead4c022-876f-4aac-a031-eaadc8b7d796"
      },
      "source": [
        "sns.histplot(train['LotArea'])"
      ],
      "execution_count": 129,
      "outputs": [
        {
          "output_type": "execute_result",
          "data": {
            "text/plain": [
              "<matplotlib.axes._subplots.AxesSubplot at 0x7fd704710a50>"
            ]
          },
          "metadata": {},
          "execution_count": 129
        },
        {
          "output_type": "display_data",
          "data": {
            "image/png": "[encoded data removed]",
            "text/plain": [
              "<Figure size 432x288 with 1 Axes>"
            ]
          },
          "metadata": {
            "needs_background": "light"
          }
        }
      ]
    },
    {
      "cell_type": "code",
      "metadata": {
        "id": "63S3qmnEuCem",
        "colab": {
          "base_uri": "https://localhost:8080/"
        },
        "outputId": "e3d236ad-dea2-4f27-c8da-eda2c168a17e"
      },
      "source": [
        "train.skew().sort_values(ascending=True)"
      ],
      "execution_count": 130,
      "outputs": [
        {
          "output_type": "execute_result",
          "data": {
            "text/plain": [
              "Utilities      -38.209946\n",
              "Electrical     -22.903089\n",
              "KitchenAbvGr   -16.601568\n",
              "Street         -15.518770\n",
              "Condition2     -14.886998\n",
              "                  ...    \n",
              "MiscVal          5.052355\n",
              "RoofMatl         6.862016\n",
              "LowQualFinSF     7.334348\n",
              "3SsnPorch        7.638788\n",
              "PoolArea        14.355068\n",
              "Length: 77, dtype: float64"
            ]
          },
          "metadata": {},
          "execution_count": 130
        }
      ]
    },
    {
      "cell_type": "markdown",
      "metadata": {
        "id": "yUCWeodAuca9"
      },
      "source": [
        "## **IQR Filter (Used RobustScaler instead)**"
      ]
    },
    {
      "cell_type": "code",
      "metadata": {
        "id": "gGvUP_H3uhES"
      },
      "source": [
        "# class IQRRemover(Transformer):\n",
        "#     def __init__(self):\n",
        "#         super().__init__()\n",
        "    \n",
        "#     def transform(df, columns, range_width=1.5):\n",
        "#         for c in columns:\n",
        "#             Q1 = df[c].quantile(0.25)\n",
        "#             Q3 = df[c].quantile(0.75)\n",
        "#             IQR = Q3 - Q1\n",
        "#             df = df[\n",
        "#                    ~((df[c] < Q1 - range_width * IQR) | \n",
        "#                     (df[c] > Q3 + range_width * IQR))\n",
        "#             ]"
      ],
      "execution_count": 131,
      "outputs": []
    },
    {
      "cell_type": "code",
      "metadata": {
        "id": "tb0o_NhXzU4-",
        "colab": {
          "base_uri": "https://localhost:8080/"
        },
        "outputId": "a291eedf-bc78-4eb7-9823-20b7fd029f13"
      },
      "source": [
        "nan_statistics(train), nan_statistics(test)"
      ],
      "execution_count": 132,
      "outputs": [
        {
          "output_type": "stream",
          "name": "stdout",
          "text": [
            "Col -- Nan percentage\n",
            "Col -- Nan percentage\n"
          ]
        },
        {
          "output_type": "execute_result",
          "data": {
            "text/plain": [
              "({}, {})"
            ]
          },
          "metadata": {},
          "execution_count": 132
        }
      ]
    },
    {
      "cell_type": "markdown",
      "metadata": {
        "id": "d3Q_I6B9kTwy"
      },
      "source": [
        "## **Select K best features**"
      ]
    },
    {
      "cell_type": "code",
      "metadata": {
        "id": "yUwISi6PfPVb"
      },
      "source": [
        "# Choose numeric types and try SelectKBest features\n",
        "target = train['SalePrice']\n",
        "train.drop(columns=['SalePrice'], inplace=True)"
      ],
      "execution_count": 133,
      "outputs": []
    },
    {
      "cell_type": "code",
      "metadata": {
        "id": "Q92uEfNKf8bw"
      },
      "source": [
        "features_selector = SelectKBest(score_func=f_classif, k=select_k_numerics)\n",
        "fit = features_selector.fit(train, target)"
      ],
      "execution_count": 134,
      "outputs": []
    },
    {
      "cell_type": "code",
      "metadata": {
        "id": "eEm9rsOWidOx"
      },
      "source": [
        "feature_scores = pd.DataFrame({\n",
        "    'Scores': pd.Series(fit.scores_),\n",
        "    'Colnames': pd.Series(train.columns)\n",
        "})\n",
        "feature_scores = feature_scores.nlargest(select_k_numerics, 'Scores')"
      ],
      "execution_count": 135,
      "outputs": []
    },
    {
      "cell_type": "code",
      "metadata": {
        "id": "bpTrsVxH1562"
      },
      "source": [
        "k_best_features = feature_scores['Colnames'].values"
      ],
      "execution_count": 136,
      "outputs": []
    },
    {
      "cell_type": "code",
      "metadata": {
        "id": "dfpN4lkD3ZyM",
        "colab": {
          "base_uri": "https://localhost:8080/"
        },
        "outputId": "248cfae7-2908-42cd-a1fe-280b420e509c"
      },
      "source": [
        "k_best_features"
      ],
      "execution_count": 137,
      "outputs": [
        {
          "output_type": "execute_result",
          "data": {
            "text/plain": [
              "array(['OverallQual', 'MasVnrType', 'GrLivArea', 'ExterQual',\n",
              "       'Neighborhood', 'KitchenQual', 'Heating', '1stFlrSF', 'FullBath',\n",
              "       'YearBuilt', 'BsmtQual', 'TotalBsmtSF', 'BsmtExposure', 'BsmtCond',\n",
              "       'Foundation', 'BsmtFinType1', 'BsmtFinType2', 'Street',\n",
              "       'YearRemodAdd', 'TotRmsAbvGrd', 'GarageYrBlt', 'Fireplaces',\n",
              "       'OpenPorchSF', 'CentralAir', 'Exterior1st', 'GarageCars',\n",
              "       'LotShape', 'MSZoning', 'HalfBath', 'LotArea'], dtype=object)"
            ]
          },
          "metadata": {},
          "execution_count": 137
        }
      ]
    },
    {
      "cell_type": "markdown",
      "metadata": {
        "id": "joal-ISg8fEk"
      },
      "source": [
        "## **Heatmap for numerics**"
      ]
    },
    {
      "cell_type": "code",
      "metadata": {
        "id": "eeA7stZw1MSi"
      },
      "source": [
        "train['SalePrice'] = target"
      ],
      "execution_count": 138,
      "outputs": []
    },
    {
      "cell_type": "code",
      "metadata": {
        "id": "W6dLHPlLVLLA",
        "colab": {
          "base_uri": "https://localhost:8080/",
          "height": 658
        },
        "outputId": "5b6f8eac-7358-4df0-8e66-9c29e5145941"
      },
      "source": [
        "corrs = train.drop('SalePrice',axis=1).corrwith(train['SalePrice']).sort_values(ascending=False)\n",
        "\n",
        "fig,axes=plt.subplots(1,1,figsize=(12,9))\n",
        "axes.axhline(corrs[corrs>0].mean(), ls=':',color='black',linewidth=2)\n",
        "axes.text(25.5,corrs[corrs>0].mean()+.015, \"Average = {:.3f}\".format(corrs[corrs>0].mean()),color='black',size=14)\n",
        "axes.axhline(corrs[corrs<0].mean(), ls=':',color='black',linewidth=2)\n",
        "axes.text(25.5,corrs[corrs<0].mean()-.035, \"Average = {:.3f}\".format(corrs[corrs<0].mean()),color='black',size=14)\n",
        "sns.barplot(y=corrs,x=corrs.index,palette='Spectral')\n",
        "plt.title('Correlation of Sale Price to other Features',size=20,color='black',y=1.03)\n",
        "plt.xticks(rotation=90)\n",
        "for p in axes.patches:\n",
        "            value = p.get_height()\n",
        "            if value <=.5:\n",
        "                continue\n",
        "            x = p.get_x() + p.get_width()-.9\n",
        "            y = p.get_y() + p.get_height()+(.02*value)\n",
        "            axes.text(x, y, str(value)[1:5], ha=\"left\",fontsize=12,color='#000000')\n",
        "plt.tight_layout()"
      ],
      "execution_count": 139,
      "outputs": [
        {
          "output_type": "display_data",
          "data": {
            "image/png": "[encoded data removed]",
            "text/plain": [
              "<Figure size 864x648 with 1 Axes>"
            ]
          },
          "metadata": {
            "needs_background": "light"
          }
        }
      ]
    },
    {
      "cell_type": "code",
      "metadata": {
        "id": "D5SxVO858qmi",
        "colab": {
          "base_uri": "https://localhost:8080/",
          "height": 949
        },
        "outputId": "69564370-befc-46e9-c921-42949ee25061"
      },
      "source": [
        "corr_matrix = train.corr()\n",
        "\n",
        "plt.figure(figsize=(15,15))\n",
        "sns.heatmap(corr_matrix, cmap=\"RdYlGn\")"
      ],
      "execution_count": 140,
      "outputs": [
        {
          "output_type": "execute_result",
          "data": {
            "text/plain": [
              "<matplotlib.axes._subplots.AxesSubplot at 0x7fd7047a45d0>"
            ]
          },
          "metadata": {},
          "execution_count": 140
        },
        {
          "output_type": "display_data",
          "data": {
            "image/png": "[encoded data removed]",
            "text/plain": [
              "<Figure size 1080x1080 with 2 Axes>"
            ]
          },
          "metadata": {
            "needs_background": "light"
          }
        }
      ]
    },
    {
      "cell_type": "markdown",
      "metadata": {
        "id": "WPhfXL-Q-zN3"
      },
      "source": [
        "**Insight. There are ~14 numeric features, highly correlated with the target**"
      ]
    },
    {
      "cell_type": "code",
      "metadata": {
        "id": "klvLAXxZ_K2U"
      },
      "source": [
        "corr_res = corr_filter(\n",
        "    corr_matrix,\n",
        "    target_feature='SalePrice',\n",
        "    abs_thresh=0.4)\n",
        "del corr_res['SalePrice']"
      ],
      "execution_count": 141,
      "outputs": []
    },
    {
      "cell_type": "code",
      "metadata": {
        "id": "5m0CCVthAq6W"
      },
      "source": [
        "best_fatures_corr = corr_res.keys()\n",
        "set_k_best = set(k_best_features)\n",
        "set_corr = set(best_fatures_corr)"
      ],
      "execution_count": 142,
      "outputs": []
    },
    {
      "cell_type": "markdown",
      "metadata": {
        "id": "Kfdo5dzVCdUs"
      },
      "source": [
        ""
      ]
    },
    {
      "cell_type": "markdown",
      "metadata": {
        "id": "zfh-qzGKcuEm"
      },
      "source": [
        "## **Keep only relevant features**"
      ]
    },
    {
      "cell_type": "code",
      "metadata": {
        "id": "HrJFrIZVc7Dn",
        "colab": {
          "base_uri": "https://localhost:8080/"
        },
        "outputId": "b1c8c3e9-d721-429b-cdff-e54fb9ae4a3e"
      },
      "source": [
        "features_to_keep = list(set_k_best.union(set_corr))\n",
        "print(features_to_keep)\n",
        "print(len(features_to_keep), 'SalePrice' in features_to_keep)"
      ],
      "execution_count": 144,
      "outputs": [
        {
          "output_type": "stream",
          "name": "stdout",
          "text": [
            "['FullBath', 'YearBuilt', 'Fireplaces', 'Street', 'BsmtFinType2', 'TotRmsAbvGrd', 'BsmtCond', 'GrLivArea', 'KitchenQual', 'TotalBsmtSF', 'HeatingQC', 'Neighborhood', 'BsmtFinType1', 'YearRemodAdd', 'Exterior1st', 'Heating', 'BsmtQual', 'OpenPorchSF', 'ExterQual', 'GarageCars', 'MSZoning', 'Foundation', 'OverallQual', 'GarageYrBlt', '1stFlrSF', 'BsmtExposure', 'HalfBath', 'MasVnrType', 'LotArea', 'CentralAir', 'LotShape']\n",
            "31 False\n"
          ]
        }
      ]
    },
    {
      "cell_type": "code",
      "metadata": {
        "id": "eblGO6vLE6NO"
      },
      "source": [
        "ColumnKeeper.transform(train, features_to_keep + ['SalePrice'])\n",
        "ColumnKeeper.transform(test, features_to_keep)"
      ],
      "execution_count": 145,
      "outputs": []
    },
    {
      "cell_type": "code",
      "metadata": {
        "id": "-d897yBWFhlw",
        "outputId": "65527e8e-7cad-42ae-b80f-b8b8c7ec5b0e",
        "colab": {
          "base_uri": "https://localhost:8080/"
        }
      },
      "source": [
        "train.shape, test.shape"
      ],
      "execution_count": 146,
      "outputs": [
        {
          "output_type": "execute_result",
          "data": {
            "text/plain": [
              "((1460, 32), (1459, 31))"
            ]
          },
          "metadata": {},
          "execution_count": 146
        }
      ]
    },
    {
      "cell_type": "code",
      "metadata": {
        "id": "7PhqtsvLFkzB",
        "outputId": "e9c01a60-5094-4390-8923-f1476516f39a",
        "colab": {
          "base_uri": "https://localhost:8080/",
          "height": 0
        }
      },
      "source": [
        "train.head()"
      ],
      "execution_count": 147,
      "outputs": [
        {
          "output_type": "execute_result",
          "data": {
            "text/html": [
              "<div>\n",
              "<style scoped>\n",
              "    .dataframe tbody tr th:only-of-type {\n",
              "        vertical-align: middle;\n",
              "    }\n",
              "\n",
              "    .dataframe tbody tr th {\n",
              "        vertical-align: top;\n",
              "    }\n",
              "\n",
              "    .dataframe thead th {\n",
              "        text-align: right;\n",
              "    }\n",
              "</style>\n",
              "<table border=\"1\" class=\"dataframe\">\n",
              "  <thead>\n",
              "    <tr style=\"text-align: right;\">\n",
              "      <th></th>\n",
              "      <th>MSZoning</th>\n",
              "      <th>LotArea</th>\n",
              "      <th>Street</th>\n",
              "      <th>LotShape</th>\n",
              "      <th>Neighborhood</th>\n",
              "      <th>OverallQual</th>\n",
              "      <th>YearBuilt</th>\n",
              "      <th>YearRemodAdd</th>\n",
              "      <th>Exterior1st</th>\n",
              "      <th>MasVnrType</th>\n",
              "      <th>ExterQual</th>\n",
              "      <th>Foundation</th>\n",
              "      <th>BsmtQual</th>\n",
              "      <th>BsmtCond</th>\n",
              "      <th>BsmtExposure</th>\n",
              "      <th>BsmtFinType1</th>\n",
              "      <th>BsmtFinType2</th>\n",
              "      <th>TotalBsmtSF</th>\n",
              "      <th>Heating</th>\n",
              "      <th>HeatingQC</th>\n",
              "      <th>CentralAir</th>\n",
              "      <th>1stFlrSF</th>\n",
              "      <th>GrLivArea</th>\n",
              "      <th>FullBath</th>\n",
              "      <th>HalfBath</th>\n",
              "      <th>KitchenQual</th>\n",
              "      <th>TotRmsAbvGrd</th>\n",
              "      <th>Fireplaces</th>\n",
              "      <th>GarageYrBlt</th>\n",
              "      <th>GarageCars</th>\n",
              "      <th>OpenPorchSF</th>\n",
              "      <th>SalePrice</th>\n",
              "    </tr>\n",
              "    <tr>\n",
              "      <th>Id</th>\n",
              "      <th></th>\n",
              "      <th></th>\n",
              "      <th></th>\n",
              "      <th></th>\n",
              "      <th></th>\n",
              "      <th></th>\n",
              "      <th></th>\n",
              "      <th></th>\n",
              "      <th></th>\n",
              "      <th></th>\n",
              "      <th></th>\n",
              "      <th></th>\n",
              "      <th></th>\n",
              "      <th></th>\n",
              "      <th></th>\n",
              "      <th></th>\n",
              "      <th></th>\n",
              "      <th></th>\n",
              "      <th></th>\n",
              "      <th></th>\n",
              "      <th></th>\n",
              "      <th></th>\n",
              "      <th></th>\n",
              "      <th></th>\n",
              "      <th></th>\n",
              "      <th></th>\n",
              "      <th></th>\n",
              "      <th></th>\n",
              "      <th></th>\n",
              "      <th></th>\n",
              "      <th></th>\n",
              "      <th></th>\n",
              "    </tr>\n",
              "  </thead>\n",
              "  <tbody>\n",
              "    <tr>\n",
              "      <th>1</th>\n",
              "      <td>1.386294</td>\n",
              "      <td>9.041922</td>\n",
              "      <td>0.693147</td>\n",
              "      <td>0.000000</td>\n",
              "      <td>2.833213</td>\n",
              "      <td>1.945910</td>\n",
              "      <td>7.602401</td>\n",
              "      <td>7.602401</td>\n",
              "      <td>2.484907</td>\n",
              "      <td>1.098612</td>\n",
              "      <td>1.098612</td>\n",
              "      <td>1.791759</td>\n",
              "      <td>1.386294</td>\n",
              "      <td>1.386294</td>\n",
              "      <td>0.693147</td>\n",
              "      <td>1.945910</td>\n",
              "      <td>1.609438</td>\n",
              "      <td>6.752270</td>\n",
              "      <td>1.791759</td>\n",
              "      <td>1.609438</td>\n",
              "      <td>0.693147</td>\n",
              "      <td>6.752270</td>\n",
              "      <td>7.444249</td>\n",
              "      <td>0.693147</td>\n",
              "      <td>0.000000</td>\n",
              "      <td>1.098612</td>\n",
              "      <td>2.079442</td>\n",
              "      <td>-6.907755</td>\n",
              "      <td>7.602401</td>\n",
              "      <td>0.693147</td>\n",
              "      <td>4.110874</td>\n",
              "      <td>208500</td>\n",
              "    </tr>\n",
              "    <tr>\n",
              "      <th>2</th>\n",
              "      <td>1.386294</td>\n",
              "      <td>9.169518</td>\n",
              "      <td>0.693147</td>\n",
              "      <td>0.000000</td>\n",
              "      <td>2.995732</td>\n",
              "      <td>1.791759</td>\n",
              "      <td>7.588830</td>\n",
              "      <td>7.588830</td>\n",
              "      <td>1.945910</td>\n",
              "      <td>0.693147</td>\n",
              "      <td>0.693147</td>\n",
              "      <td>1.386294</td>\n",
              "      <td>1.386294</td>\n",
              "      <td>1.386294</td>\n",
              "      <td>1.609438</td>\n",
              "      <td>1.609438</td>\n",
              "      <td>1.609438</td>\n",
              "      <td>7.140453</td>\n",
              "      <td>1.791759</td>\n",
              "      <td>1.609438</td>\n",
              "      <td>0.693147</td>\n",
              "      <td>7.140453</td>\n",
              "      <td>7.140453</td>\n",
              "      <td>0.693147</td>\n",
              "      <td>-6.907755</td>\n",
              "      <td>0.693147</td>\n",
              "      <td>1.791759</td>\n",
              "      <td>0.000000</td>\n",
              "      <td>7.588830</td>\n",
              "      <td>0.693147</td>\n",
              "      <td>-6.907755</td>\n",
              "      <td>181500</td>\n",
              "    </tr>\n",
              "    <tr>\n",
              "      <th>3</th>\n",
              "      <td>1.386294</td>\n",
              "      <td>9.328123</td>\n",
              "      <td>0.693147</td>\n",
              "      <td>0.693147</td>\n",
              "      <td>2.833213</td>\n",
              "      <td>1.945910</td>\n",
              "      <td>7.601402</td>\n",
              "      <td>7.601902</td>\n",
              "      <td>2.484907</td>\n",
              "      <td>1.098612</td>\n",
              "      <td>1.098612</td>\n",
              "      <td>1.791759</td>\n",
              "      <td>1.386294</td>\n",
              "      <td>1.386294</td>\n",
              "      <td>1.098612</td>\n",
              "      <td>1.945910</td>\n",
              "      <td>1.609438</td>\n",
              "      <td>6.824374</td>\n",
              "      <td>1.791759</td>\n",
              "      <td>1.609438</td>\n",
              "      <td>0.693147</td>\n",
              "      <td>6.824374</td>\n",
              "      <td>7.487734</td>\n",
              "      <td>0.693147</td>\n",
              "      <td>0.000000</td>\n",
              "      <td>1.098612</td>\n",
              "      <td>1.791759</td>\n",
              "      <td>0.000000</td>\n",
              "      <td>7.601402</td>\n",
              "      <td>0.693147</td>\n",
              "      <td>3.737670</td>\n",
              "      <td>223500</td>\n",
              "    </tr>\n",
              "    <tr>\n",
              "      <th>4</th>\n",
              "      <td>1.386294</td>\n",
              "      <td>9.164296</td>\n",
              "      <td>0.693147</td>\n",
              "      <td>0.693147</td>\n",
              "      <td>2.944439</td>\n",
              "      <td>1.945910</td>\n",
              "      <td>7.557473</td>\n",
              "      <td>7.585789</td>\n",
              "      <td>1.791759</td>\n",
              "      <td>0.693147</td>\n",
              "      <td>0.693147</td>\n",
              "      <td>0.693147</td>\n",
              "      <td>1.098612</td>\n",
              "      <td>1.609438</td>\n",
              "      <td>0.693147</td>\n",
              "      <td>1.609438</td>\n",
              "      <td>1.609438</td>\n",
              "      <td>6.628041</td>\n",
              "      <td>1.791759</td>\n",
              "      <td>1.386294</td>\n",
              "      <td>0.693147</td>\n",
              "      <td>6.867974</td>\n",
              "      <td>7.448334</td>\n",
              "      <td>0.000000</td>\n",
              "      <td>-6.907755</td>\n",
              "      <td>1.098612</td>\n",
              "      <td>1.945910</td>\n",
              "      <td>0.000000</td>\n",
              "      <td>7.599902</td>\n",
              "      <td>1.098612</td>\n",
              "      <td>3.555348</td>\n",
              "      <td>140000</td>\n",
              "    </tr>\n",
              "    <tr>\n",
              "      <th>5</th>\n",
              "      <td>1.386294</td>\n",
              "      <td>9.565214</td>\n",
              "      <td>0.693147</td>\n",
              "      <td>0.693147</td>\n",
              "      <td>3.178054</td>\n",
              "      <td>2.079442</td>\n",
              "      <td>7.600902</td>\n",
              "      <td>7.600902</td>\n",
              "      <td>2.484907</td>\n",
              "      <td>1.098612</td>\n",
              "      <td>1.098612</td>\n",
              "      <td>1.791759</td>\n",
              "      <td>1.386294</td>\n",
              "      <td>1.386294</td>\n",
              "      <td>1.386294</td>\n",
              "      <td>1.945910</td>\n",
              "      <td>1.609438</td>\n",
              "      <td>7.043160</td>\n",
              "      <td>1.791759</td>\n",
              "      <td>1.609438</td>\n",
              "      <td>0.693147</td>\n",
              "      <td>7.043160</td>\n",
              "      <td>7.695303</td>\n",
              "      <td>0.693147</td>\n",
              "      <td>0.000000</td>\n",
              "      <td>1.098612</td>\n",
              "      <td>2.197225</td>\n",
              "      <td>0.000000</td>\n",
              "      <td>7.600902</td>\n",
              "      <td>1.098612</td>\n",
              "      <td>4.430817</td>\n",
              "      <td>250000</td>\n",
              "    </tr>\n",
              "  </tbody>\n",
              "</table>\n",
              "</div>"
            ],
            "text/plain": [
              "    MSZoning   LotArea    Street  ...  GarageCars  OpenPorchSF  SalePrice\n",
              "Id                                ...                                    \n",
              "1   1.386294  9.041922  0.693147  ...    0.693147     4.110874     208500\n",
              "2   1.386294  9.169518  0.693147  ...    0.693147    -6.907755     181500\n",
              "3   1.386294  9.328123  0.693147  ...    0.693147     3.737670     223500\n",
              "4   1.386294  9.164296  0.693147  ...    1.098612     3.555348     140000\n",
              "5   1.386294  9.565214  0.693147  ...    1.098612     4.430817     250000\n",
              "\n",
              "[5 rows x 32 columns]"
            ]
          },
          "metadata": {},
          "execution_count": 147
        }
      ]
    },
    {
      "cell_type": "markdown",
      "metadata": {
        "id": "jJF-dUeFGNM-"
      },
      "source": [
        "## **Train Validation split (& Log transform of target)**"
      ]
    },
    {
      "cell_type": "code",
      "metadata": {
        "id": "p_uqFZ5nGsP9"
      },
      "source": [
        "y = train['SalePrice']\n",
        "train.drop(columns=['SalePrice'], inplace=True)"
      ],
      "execution_count": 148,
      "outputs": []
    },
    {
      "cell_type": "code",
      "metadata": {
        "id": "gK4KeTjcGR01"
      },
      "source": [
        "y = np.log(y)\n",
        "X_train_val, X_test, y_train_val, y_test = train_test_split(\n",
        "    train, \n",
        "    y,\n",
        "    train_size=train_proportion,\n",
        "    random_state=rand_state\n",
        ")"
      ],
      "execution_count": 149,
      "outputs": []
    },
    {
      "cell_type": "code",
      "metadata": {
        "id": "aL5-Rcq_HGfl",
        "outputId": "7b6a4398-c28c-4c09-960f-4625af32fc58",
        "colab": {
          "base_uri": "https://localhost:8080/"
        }
      },
      "source": [
        "X_train_val.shape, X_test.shape, y_train_val.shape, y_test.shape"
      ],
      "execution_count": 150,
      "outputs": [
        {
          "output_type": "execute_result",
          "data": {
            "text/plain": [
              "((1314, 31), (146, 31), (1314,), (146,))"
            ]
          },
          "metadata": {},
          "execution_count": 150
        }
      ]
    },
    {
      "cell_type": "markdown",
      "metadata": {
        "id": "BUfRYQvbyMuj"
      },
      "source": [
        "## **Pipeline for features scaling + Transformers**"
      ]
    },
    {
      "cell_type": "code",
      "metadata": {
        "id": "ud0byCrxiQ5y",
        "outputId": "c54fc774-4141-419f-9874-7b818a97e75c",
        "colab": {
          "base_uri": "https://localhost:8080/"
        }
      },
      "source": [
        "num_features = list(train.select_dtypes(include=['int64', 'float64']).columns)\n",
        "cat_features = list(train.select_dtypes(include=['O']).columns)\n",
        "\n",
        "print(cat_features)\n",
        "print(num_features)"
      ],
      "execution_count": 151,
      "outputs": [
        {
          "output_type": "stream",
          "name": "stdout",
          "text": [
            "[]\n",
            "['MSZoning', 'LotArea', 'Street', 'LotShape', 'Neighborhood', 'OverallQual', 'YearBuilt', 'YearRemodAdd', 'Exterior1st', 'MasVnrType', 'ExterQual', 'Foundation', 'BsmtQual', 'BsmtCond', 'BsmtExposure', 'BsmtFinType1', 'BsmtFinType2', 'TotalBsmtSF', 'Heating', 'HeatingQC', 'CentralAir', '1stFlrSF', 'GrLivArea', 'FullBath', 'HalfBath', 'KitchenQual', 'TotRmsAbvGrd', 'Fireplaces', 'GarageYrBlt', 'GarageCars', 'OpenPorchSF']\n"
          ]
        }
      ]
    },
    {
      "cell_type": "code",
      "metadata": {
        "id": "KgZusBsroj5M"
      },
      "source": [
        "num_pipeline = Pipeline(\n",
        "    steps = [\n",
        "             ('imputer', SimpleImputer()),\n",
        "             ('scaler', RobustScaler())\n",
        "    ]\n",
        ")\n",
        "num_transformer = FeaturesTransformers(num_features, num_pipeline)"
      ],
      "execution_count": 152,
      "outputs": []
    },
    {
      "cell_type": "markdown",
      "metadata": {
        "id": "iqd21TCeyVU2"
      },
      "source": [
        "## **Approximate tune, try models**"
      ]
    },
    {
      "cell_type": "code",
      "metadata": {
        "id": "pCGvfySRoF_g",
        "outputId": "661f8671-91e1-4d70-c56c-7b246b2cde10",
        "colab": {
          "base_uri": "https://localhost:8080/"
        }
      },
      "source": [
        "models = [\n",
        "          #('Regression', LinearRegression()),\n",
        "          #('RF', RandomForestRegressor()),\n",
        "          ('CatBoost', CatBoostRegressor(verbose=0)),\n",
        "          ('XGB', XGBRegressor()),\n",
        "          ('Elastic', ElasticNet()),\n",
        "          #('SVR', SVR()),\n",
        "          ('GradientBoost', GradientBoostingRegressor()),\n",
        "          ('LGBM', LGBMRegressor())\n",
        "          #('SGD', SGDRegressor())\n",
        "]\n",
        "\n",
        "res_dict = first_tune(\n",
        "    models,\n",
        "    scoring='neg_mean_squared_error',\n",
        "    X_train=X_train_val,\n",
        "    Y_train=y_train_val,\n",
        "    transformers = dict(\n",
        "        num=num_transformer\n",
        "    )\n",
        ")\n",
        "d_sorted = {k:v.mean() for k, v in sorted(res_dict.items(), key = lambda item: item[1].mean())}\n",
        "d_sorted"
      ],
      "execution_count": 156,
      "outputs": [
        {
          "output_type": "stream",
          "name": "stdout",
          "text": [
            "[11:27:13] WARNING: /workspace/src/objective/regression_obj.cu:152: reg:linear is now deprecated in favor of reg:squarederror.\n",
            "[11:27:13] WARNING: /workspace/src/objective/regression_obj.cu:152: reg:linear is now deprecated in favor of reg:squarederror.\n",
            "[11:27:13] WARNING: /workspace/src/objective/regression_obj.cu:152: reg:linear is now deprecated in favor of reg:squarederror.\n",
            "[11:27:13] WARNING: /workspace/src/objective/regression_obj.cu:152: reg:linear is now deprecated in favor of reg:squarederror.\n",
            "[11:27:13] WARNING: /workspace/src/objective/regression_obj.cu:152: reg:linear is now deprecated in favor of reg:squarederror.\n"
          ]
        },
        {
          "output_type": "execute_result",
          "data": {
            "text/plain": [
              "{'CatBoost': -0.016894650297906242,\n",
              " 'Elastic': -0.1549471147999328,\n",
              " 'GradientBoost': -0.019028994037649904,\n",
              " 'LGBM': -0.019914242875806974,\n",
              " 'XGB': -0.018925463490975382}"
            ]
          },
          "metadata": {},
          "execution_count": 156
        }
      ]
    },
    {
      "cell_type": "markdown",
      "metadata": {
        "id": "YdtF1FWDHAwx"
      },
      "source": [
        "**Cat Boost Regression shows best metrics**"
      ]
    },
    {
      "cell_type": "markdown",
      "metadata": {
        "id": "6v_6zovfHFQg"
      },
      "source": [
        ""
      ]
    },
    {
      "cell_type": "markdown",
      "metadata": {
        "id": "2TC9K6kqIW8I"
      },
      "source": [
        "## **Model fine tune**"
      ]
    },
    {
      "cell_type": "code",
      "metadata": {
        "id": "QsslwXQXI_Qd",
        "outputId": "cfdbe43e-e40d-41d5-a14c-b82a79e2b44f",
        "colab": {
          "base_uri": "https://localhost:8080/"
        }
      },
      "source": [
        "catboost_models = [(\n",
        "    'CatBoost',\n",
        "    CatBoostRegressor(verbose=0),{\n",
        "        'model__depth': [4, 7],\n",
        "        'model__learning_rate': [0.03, 0.1],\n",
        "        'model__iterations': [100, 150, 200],\n",
        "        'model__l2_leaf_reg': [0.2, 0.5, 1]\n",
        "    }\n",
        ")]\n",
        "\n",
        "catboost_res = fine_tune(\n",
        "    catboost_models,\n",
        "    X_train_val,\n",
        "    y_train_val,\n",
        "    strategy='GridSearchCV',\n",
        "    search_params = dict(\n",
        "        verbose=3,\n",
        "        return_train_score=True,\n",
        "        n_jobs=-1,\n",
        "        scoring='neg_root_mean_squared_error',\n",
        "        cv=6\n",
        "    ),\n",
        "    transformers = dict(\n",
        "        numeric = num_transformer\n",
        "    )\n",
        ")"
      ],
      "execution_count": 167,
      "outputs": [
        {
          "output_type": "stream",
          "name": "stdout",
          "text": [
            "{'verbose': 3, 'return_train_score': True, 'n_jobs': -1, 'scoring': 'neg_root_mean_squared_error', 'cv': 6}\n",
            "Fitting 6 folds for each of 36 candidates, totalling 216 fits\n"
          ]
        },
        {
          "output_type": "stream",
          "name": "stderr",
          "text": [
            "[Parallel(n_jobs=-1)]: Using backend LokyBackend with 2 concurrent workers.\n",
            "[Parallel(n_jobs=-1)]: Done  28 tasks      | elapsed:    6.6s\n",
            "[Parallel(n_jobs=-1)]: Done 124 tasks      | elapsed:   34.6s\n",
            "[Parallel(n_jobs=-1)]: Done 216 out of 216 | elapsed:  1.7min finished\n"
          ]
        }
      ]
    },
    {
      "cell_type": "markdown",
      "metadata": {
        "id": "e5eLNJJKNsLs"
      },
      "source": [
        "## **Best Model Selection**"
      ]
    },
    {
      "cell_type": "code",
      "metadata": {
        "id": "DpeEoB6rMmY-",
        "outputId": "fe8da271-3b4a-4574-fb03-9500c4db24df",
        "colab": {
          "base_uri": "https://localhost:8080/"
        }
      },
      "source": [
        "best_model_score = catboost_res['CatBoost'].best_score_\n",
        "best_estimator = catboost_res['CatBoost'].best_estimator_\n",
        "print(best_model_score)"
      ],
      "execution_count": 168,
      "outputs": [
        {
          "output_type": "stream",
          "name": "stdout",
          "text": [
            "-0.13359298971227115\n"
          ]
        }
      ]
    },
    {
      "cell_type": "code",
      "metadata": {
        "id": "QNv5dHqhNDDo"
      },
      "source": [
        "print(best_estimator)"
      ],
      "execution_count": null,
      "outputs": []
    },
    {
      "cell_type": "code",
      "metadata": {
        "id": "6iropJh1N5vr",
        "outputId": "408d2c60-0dab-4bf2-9734-f0b447a4f59d",
        "colab": {
          "base_uri": "https://localhost:8080/"
        }
      },
      "source": [
        "best_estimator.fit(X_train_val, y_train_val)"
      ],
      "execution_count": 169,
      "outputs": [
        {
          "output_type": "execute_result",
          "data": {
            "text/plain": [
              "Pipeline(memory=None,\n",
              "         steps=[('preprocessing',\n",
              "                 ColumnTransformer(n_jobs=None, remainder='drop',\n",
              "                                   sparse_threshold=0.3,\n",
              "                                   transformer_weights=None,\n",
              "                                   transformers=[('numeric',\n",
              "                                                  Pipeline(memory=None,\n",
              "                                                           steps=[('imputer',\n",
              "                                                                   SimpleImputer(add_indicator=False,\n",
              "                                                                                 copy=True,\n",
              "                                                                                 fill_value=None,\n",
              "                                                                                 missing_values=nan,\n",
              "                                                                                 strategy='mean',\n",
              "                                                                                 verbose=0)),\n",
              "                                                                  ('scaler',\n",
              "                                                                   RobustScaler(copy=True,\n",
              "                                                                                quantile...\n",
              "                                                   'ExterQual', 'Foundation',\n",
              "                                                   'BsmtQual', 'BsmtCond',\n",
              "                                                   'BsmtExposure',\n",
              "                                                   'BsmtFinType1',\n",
              "                                                   'BsmtFinType2',\n",
              "                                                   'TotalBsmtSF', 'Heating',\n",
              "                                                   'HeatingQC', 'CentralAir',\n",
              "                                                   '1stFlrSF', 'GrLivArea',\n",
              "                                                   'FullBath', 'HalfBath',\n",
              "                                                   'KitchenQual',\n",
              "                                                   'TotRmsAbvGrd', 'Fireplaces',\n",
              "                                                   'GarageYrBlt', 'GarageCars', ...])],\n",
              "                                   verbose=False)),\n",
              "                ('model',\n",
              "                 <catboost.core.CatBoostRegressor object at 0x7fd704204cd0>)],\n",
              "         verbose=False)"
            ]
          },
          "metadata": {},
          "execution_count": 169
        }
      ]
    },
    {
      "cell_type": "code",
      "metadata": {
        "id": "aYyH3misOKfZ",
        "outputId": "a0065201-1311-4144-e889-fa77c5fa60a8",
        "colab": {
          "base_uri": "https://localhost:8080/"
        }
      },
      "source": [
        "predicted = best_estimator.predict(X_test)\n",
        "print(mean_squared_error(predicted, y_test))"
      ],
      "execution_count": 170,
      "outputs": [
        {
          "output_type": "stream",
          "name": "stdout",
          "text": [
            "0.015228012293537367\n"
          ]
        }
      ]
    },
    {
      "cell_type": "markdown",
      "metadata": {
        "id": "Or_p2g7QPYVx"
      },
      "source": [
        "# **Submission**"
      ]
    },
    {
      "cell_type": "code",
      "metadata": {
        "id": "ZxYTkrmlPbdZ"
      },
      "source": [
        "best_estimator.fit(train, y)\n",
        "final_predictions = np.exp(best_estimator.predict(test))"
      ],
      "execution_count": 171,
      "outputs": []
    },
    {
      "cell_type": "code",
      "metadata": {
        "id": "l9on2VKNLe7I",
        "outputId": "c8948705-dd1b-411e-c360-7e8e469c9367",
        "colab": {
          "base_uri": "https://localhost:8080/"
        }
      },
      "source": [
        "final_predictions"
      ],
      "execution_count": 172,
      "outputs": [
        {
          "output_type": "execute_result",
          "data": {
            "text/plain": [
              "array([118725.55740385, 156918.99844072, 173608.17869191, ...,\n",
              "       156942.17307056, 117245.75495304, 210473.02702674])"
            ]
          },
          "metadata": {},
          "execution_count": 172
        }
      ]
    },
    {
      "cell_type": "code",
      "metadata": {
        "id": "8T0jYjXHP0p9"
      },
      "source": [
        "sample_submission = pd.read_csv(sample_submission_path, index_col='Id')\n",
        "submission = pd.DataFrame({\n",
        "    'Id': sample_submission.index,\n",
        "    'SalePrice': final_predictions\n",
        "})\n",
        "submission.to_csv(submission_path, index=False)"
      ],
      "execution_count": 173,
      "outputs": []
    }
  ]
}