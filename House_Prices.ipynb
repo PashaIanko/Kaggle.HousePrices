{
  "nbformat": 4,
  "nbformat_minor": 0,
  "metadata": {
    "colab": {
      "name": "House Prices.ipynb",
      "provenance": [],
      "authorship_tag": "ABX9TyNjmCmmLMcxG0DH5hl8Hhut",
      "include_colab_link": true
    },
    "kernelspec": {
      "name": "python3",
      "display_name": "Python 3"
    },
    "language_info": {
      "name": "python"
    }
  },
  "cells": [
    {
      "cell_type": "markdown",
      "metadata": {
        "id": "view-in-github",
        "colab_type": "text"
      },
      "source": [
        "<a href=\"https://colab.research.google.com/github/PashaIanko/Kaggle.HousePrices/blob/NewProcessing/House_Prices.ipynb\" target=\"_parent\"><img src=\"https://colab.research.google.com/assets/colab-badge.svg\" alt=\"Open In Colab\"/></a>"
      ]
    },
    {
      "cell_type": "markdown",
      "metadata": {
        "id": "dOwBkv6KSQWq"
      },
      "source": [
        "### Objectives:\n",
        "1. Learn important feature selection\n",
        "- SelectKBest from scikit learn\n",
        "- Correlation matrix\n",
        "- Feature importance from classifiers\n",
        "\n",
        "# Train preparation:\n",
        "1. Delete certain Nan cols\n",
        "2. Keep only selected numeric & categorical features\n"
      ]
    },
    {
      "cell_type": "markdown",
      "metadata": {
        "id": "aaX5wuXJXzOK"
      },
      "source": [
        "# **0. Packages, constants and Functions**"
      ]
    },
    {
      "cell_type": "markdown",
      "metadata": {
        "id": "0Sk1ghqfZ7oP"
      },
      "source": [
        "## Packages"
      ]
    },
    {
      "cell_type": "code",
      "metadata": {
        "id": "Mz9r2L2_hL-L",
        "colab": {
          "base_uri": "https://localhost:8080/"
        },
        "outputId": "92679bd3-9604-49e0-c53d-0090e4a495a9"
      },
      "source": [
        "!pip install catboost"
      ],
      "execution_count": 4,
      "outputs": [
        {
          "output_type": "stream",
          "name": "stdout",
          "text": [
            "Requirement already satisfied: catboost in /usr/local/lib/python3.7/dist-packages (1.0.3)\n",
            "Requirement already satisfied: pandas>=0.24.0 in /usr/local/lib/python3.7/dist-packages (from catboost) (1.1.5)\n",
            "Requirement already satisfied: numpy>=1.16.0 in /usr/local/lib/python3.7/dist-packages (from catboost) (1.19.5)\n",
            "Requirement already satisfied: plotly in /usr/local/lib/python3.7/dist-packages (from catboost) (4.4.1)\n",
            "Requirement already satisfied: scipy in /usr/local/lib/python3.7/dist-packages (from catboost) (1.4.1)\n",
            "Requirement already satisfied: six in /usr/local/lib/python3.7/dist-packages (from catboost) (1.15.0)\n",
            "Requirement already satisfied: matplotlib in /usr/local/lib/python3.7/dist-packages (from catboost) (3.2.2)\n",
            "Requirement already satisfied: graphviz in /usr/local/lib/python3.7/dist-packages (from catboost) (0.10.1)\n",
            "Requirement already satisfied: python-dateutil>=2.7.3 in /usr/local/lib/python3.7/dist-packages (from pandas>=0.24.0->catboost) (2.8.2)\n",
            "Requirement already satisfied: pytz>=2017.2 in /usr/local/lib/python3.7/dist-packages (from pandas>=0.24.0->catboost) (2018.9)\n",
            "Requirement already satisfied: pyparsing!=2.0.4,!=2.1.2,!=2.1.6,>=2.0.1 in /usr/local/lib/python3.7/dist-packages (from matplotlib->catboost) (2.4.7)\n",
            "Requirement already satisfied: cycler>=0.10 in /usr/local/lib/python3.7/dist-packages (from matplotlib->catboost) (0.10.0)\n",
            "Requirement already satisfied: kiwisolver>=1.0.1 in /usr/local/lib/python3.7/dist-packages (from matplotlib->catboost) (1.3.2)\n",
            "Requirement already satisfied: retrying>=1.3.3 in /usr/local/lib/python3.7/dist-packages (from plotly->catboost) (1.3.3)\n"
          ]
        }
      ]
    },
    {
      "cell_type": "code",
      "metadata": {
        "id": "qkS-hIDT602H",
        "colab": {
          "base_uri": "https://localhost:8080/"
        },
        "outputId": "eccc4c8e-6f09-4dcd-f6a8-c9620197c15a"
      },
      "source": [
        "!pip install category_encoders"
      ],
      "execution_count": 5,
      "outputs": [
        {
          "output_type": "stream",
          "name": "stdout",
          "text": [
            "Requirement already satisfied: category_encoders in /usr/local/lib/python3.7/dist-packages (2.3.0)\n",
            "Requirement already satisfied: pandas>=0.21.1 in /usr/local/lib/python3.7/dist-packages (from category_encoders) (1.1.5)\n",
            "Requirement already satisfied: scikit-learn>=0.20.0 in /usr/local/lib/python3.7/dist-packages (from category_encoders) (0.22.2.post1)\n",
            "Requirement already satisfied: numpy>=1.14.0 in /usr/local/lib/python3.7/dist-packages (from category_encoders) (1.19.5)\n",
            "Requirement already satisfied: statsmodels>=0.9.0 in /usr/local/lib/python3.7/dist-packages (from category_encoders) (0.10.2)\n",
            "Requirement already satisfied: patsy>=0.5.1 in /usr/local/lib/python3.7/dist-packages (from category_encoders) (0.5.2)\n",
            "Requirement already satisfied: scipy>=1.0.0 in /usr/local/lib/python3.7/dist-packages (from category_encoders) (1.4.1)\n",
            "Requirement already satisfied: pytz>=2017.2 in /usr/local/lib/python3.7/dist-packages (from pandas>=0.21.1->category_encoders) (2018.9)\n",
            "Requirement already satisfied: python-dateutil>=2.7.3 in /usr/local/lib/python3.7/dist-packages (from pandas>=0.21.1->category_encoders) (2.8.2)\n",
            "Requirement already satisfied: six in /usr/local/lib/python3.7/dist-packages (from patsy>=0.5.1->category_encoders) (1.15.0)\n",
            "Requirement already satisfied: joblib>=0.11 in /usr/local/lib/python3.7/dist-packages (from scikit-learn>=0.20.0->category_encoders) (1.0.1)\n"
          ]
        }
      ]
    },
    {
      "cell_type": "code",
      "metadata": {
        "id": "2k0DiSDHYGf0",
        "outputId": "68c091a9-4dba-42e5-d1eb-4620b7123ace",
        "colab": {
          "base_uri": "https://localhost:8080/"
        }
      },
      "source": [
        "import pandas as pd\n",
        "import numpy as np\n",
        "from google.colab import drive\n",
        "\n",
        "# Plots\n",
        "import matplotlib.pyplot as plt\n",
        "import seaborn as sns\n",
        "\n",
        "# Printing\n",
        "import pprint\n",
        "\n",
        "# Feature selection\n",
        "from sklearn.feature_selection import chi2\n",
        "from sklearn.feature_selection import SelectKBest\n",
        "\n",
        "# Encoding\n",
        "from sklearn.preprocessing import OrdinalEncoder\n",
        "import category_encoders as ce\n",
        "\n",
        "# Pipeline\n",
        "from sklearn.pipeline import Pipeline\n",
        "from sklearn.impute import KNNImputer, SimpleImputer\n",
        "from sklearn.pipeline import make_pipeline\n",
        "\n",
        "# Model\n",
        "from sklearn.linear_model import LinearRegression\n",
        "from sklearn.ensemble import RandomForestRegressor\n",
        "from xgboost.sklearn import XGBRegressor\n",
        "from catboost import CatBoostRegressor\n",
        "from sklearn.linear_model import SGDRegressor\n",
        "from sklearn.linear_model import ElasticNet\n",
        "from sklearn.ensemble import GradientBoostingRegressor\n",
        "from sklearn.svm import SVR\n",
        "from lightgbm import LGBMRegressor\n",
        "\n",
        "from sklearn.model_selection import GridSearchCV\n",
        "from sklearn.model_selection import RandomizedSearchCV\n",
        "from sklearn.preprocessing import OrdinalEncoder, StandardScaler\n",
        "from sklearn.preprocessing import OneHotEncoder, MinMaxScaler, RobustScaler\n",
        "from sklearn.model_selection import train_test_split\n",
        "\n",
        "# For my functions\n",
        "from sklearn.model_selection import cross_val_score\n",
        "from sklearn.compose import ColumnTransformer\n",
        "\n",
        "# Metrics\n",
        "from sklearn.metrics import mean_squared_log_error"
      ],
      "execution_count": 6,
      "outputs": [
        {
          "output_type": "stream",
          "name": "stderr",
          "text": [
            "/usr/local/lib/python3.7/dist-packages/statsmodels/tools/_testing.py:19: FutureWarning: pandas.util.testing is deprecated. Use the functions in the public API at pandas.testing instead.\n",
            "  import pandas.util.testing as tm\n"
          ]
        }
      ]
    },
    {
      "cell_type": "markdown",
      "metadata": {
        "id": "0CXWNiSkZjCI"
      },
      "source": [
        "## Constants"
      ]
    },
    {
      "cell_type": "code",
      "metadata": {
        "id": "D0Z1X3eqZqL-"
      },
      "source": [
        "train_proportion = 0.9\n",
        "validation_proportion = 0.1\n",
        "rand_state = 42\n",
        "\n",
        "# Feature selection\n",
        "select_k_numerics = 20  # select 20 out of 36 numeric features\n",
        "nan_drop_thresh = 0.25"
      ],
      "execution_count": 7,
      "outputs": []
    },
    {
      "cell_type": "markdown",
      "metadata": {
        "id": "bAEQWCI7Zm6n"
      },
      "source": [
        "## Functions"
      ]
    },
    {
      "cell_type": "code",
      "metadata": {
        "id": "ugkSwbcUZzzi"
      },
      "source": [
        "def nan_statistics(df, nan_thresh=0.0):\n",
        "    res = {}\n",
        "    nan_cols = df.loc[:, df.isna().any()].columns\n",
        "    for col in nan_cols:\n",
        "        res[col] = nan_percentage(df, col)\n",
        "    print(f'Col -- Nan percentage')\n",
        "    for key, val in sorted(res.items(), key=lambda item: item[1], reverse=True):\n",
        "        if val >= nan_thresh * 100:\n",
        "            print(key, val)\n",
        "        else:\n",
        "            del res[key]\n",
        "    return res\n",
        "\n",
        "def nan_percentage(df, colname):\n",
        "    return (df[colname].isnull().sum() / df.shape[0]) * 100\n",
        "\n",
        "def corr_filter(corr_matrix, target_feature, abs_thresh=0.3):\n",
        "    res = {}\n",
        "    series = corr_matrix[target_feature]\n",
        "    for idx, val in series.items():\n",
        "        if abs(val) >= abs_thresh:\n",
        "            res[idx] = val  # Feature names and corr coeff\n",
        "    return res\n",
        "\n",
        "def print_unique_dtypes(df):\n",
        "    print(set(train.dtypes.values))\n",
        "\n",
        "class FeaturesTransformers:\n",
        "    def __init__(self, features, transformers):\n",
        "        self.features = features\n",
        "        self.transformers = transformers"
      ],
      "execution_count": 8,
      "outputs": []
    },
    {
      "cell_type": "code",
      "metadata": {
        "id": "xgs5Ef8csT-z"
      },
      "source": [
        "def build_pipe(model, **transformers):\n",
        "    res_transformers = []\n",
        "    for key, val in transformers.items():\n",
        "        res_transformers.append((key, val.transformers, val.features))\n",
        "\n",
        "    preprocess = ColumnTransformer(\n",
        "        res_transformers\n",
        "    )\n",
        "    \n",
        "    pipe = Pipeline(\n",
        "        steps = [\n",
        "                 ('preprocessing', preprocess),\n",
        "                 ('model', model)\n",
        "        ]\n",
        "    )\n",
        "    return pipe\n",
        "\n",
        "def first_tune(models, scoring, X_train, Y_train, transformers):\n",
        "    res = dict()\n",
        "    for name, model in models:\n",
        "        model_pipeline = build_pipe(model, **transformers)\n",
        "        cv_scores = cross_val_score(model_pipeline, X_train, Y_train, scoring=scoring)\n",
        "        res[name] = cv_scores\n",
        "\n",
        "    return dict(sorted(res.items(), reverse=True, key=lambda x: np.mean(x[1])))"
      ],
      "execution_count": 9,
      "outputs": []
    },
    {
      "cell_type": "code",
      "metadata": {
        "id": "gZjqmf_vJgfp"
      },
      "source": [
        "def fine_tune(models, X_train, Y_train, strategy, search_params, transformers):\n",
        "\n",
        "    fine_tune_res = {}\n",
        "\n",
        "    for name, model, param_grid in models:\n",
        "        print(search_params)\n",
        "        pipe = build_pipe(model, **transformers)\n",
        "\n",
        "        if strategy == 'GridSearchCV':\n",
        "            search_res = GridSearchCV(\n",
        "                estimator = pipe, \n",
        "                param_grid = param_grid,\n",
        "                **search_params\n",
        "            )\n",
        "\n",
        "        elif strategy == 'RandomizedSearchCV':\n",
        "            search_res = RandomizedSearchCV(\n",
        "                pipe, \n",
        "                param_grid,\n",
        "                **search_params\n",
        "            )\n",
        "        search_res.fit(X_train, Y_train)\n",
        "        fine_tune_res[name] = search_res\n",
        "    \n",
        "    return dict(sorted(fine_tune_res.items(), reverse=True, key=lambda x: x[1].best_score_))"
      ],
      "execution_count": 10,
      "outputs": []
    },
    {
      "cell_type": "code",
      "metadata": {
        "id": "F7i4IaZf8qTX"
      },
      "source": [
        "import seaborn as sns\n",
        "import numpy as np\n",
        "import math\n",
        "import scipy.stats as ss\n",
        "import matplotlib.pyplot as plt\n",
        "\n",
        "def skew_autotransform(DF, include = None, exclude = None, plot = False, threshold = 1, exp = False):\n",
        "    \n",
        "    #Get list of column names that should be processed based on input parameters\n",
        "    if include is None and exclude is None:\n",
        "        colnames = DF.columns.values\n",
        "    elif include is not None:\n",
        "        colnames = include\n",
        "    elif exclude is not None:\n",
        "        colnames = [item for item in list(DF.columns.values) if item not in exclude]\n",
        "    else:\n",
        "        print('No columns to process!')\n",
        "    \n",
        "    #Helper function that checks if all values are positive\n",
        "    def make_positive(series):\n",
        "        minimum = np.amin(series)\n",
        "        #If minimum is negative, offset all values by a constant to move all values to positive teritory\n",
        "        if minimum <= 0:\n",
        "            series = series + abs(minimum) + 0.01\n",
        "        return series\n",
        "    \n",
        "    \n",
        "    #Go throug desired columns in DataFrame\n",
        "    for col in colnames:\n",
        "        #Get column skewness\n",
        "        skew = DF[col].skew()\n",
        "        transformed = True\n",
        "        \n",
        "        if plot:\n",
        "            #Prep the plot of original data\n",
        "            sns.set_style(\"darkgrid\")\n",
        "            sns.set_palette(\"Blues_r\")\n",
        "            fig, axes = plt.subplots(1, 2, figsize=(10, 5))\n",
        "            ax1 = sns.distplot(DF[col], ax=axes[0])\n",
        "            ax1.set(xlabel='Original ' + col)\n",
        "        \n",
        "        #If skewness is larger than threshold and positively skewed; If yes, apply appropriate transformation\n",
        "        if abs(skew) > threshold and skew > 0:\n",
        "            skewType = 'positive'\n",
        "            #Make sure all values are positive\n",
        "            DF[col] = make_positive(DF[col])\n",
        "            \n",
        "            if exp:\n",
        "               #Apply log transformation \n",
        "               DF[col] = DF[col].apply(math.log)\n",
        "            else:\n",
        "                #Apply boxcox transformation\n",
        "                DF[col] = ss.boxcox(DF[col])[0]\n",
        "            skew_new = DF[col].skew()\n",
        "         \n",
        "        elif abs(skew) > threshold and skew < 0:\n",
        "            skewType = 'negative'\n",
        "            #Make sure all values are positive\n",
        "            DF[col] = make_positive(DF[col])\n",
        "            \n",
        "            if exp:\n",
        "               #Apply exp transformation \n",
        "               DF[col] = DF[col].pow(10)\n",
        "            else:\n",
        "                #Apply boxcox transformation\n",
        "                DF[col] = ss.boxcox(DF[col])[0]\n",
        "            skew_new = DF[col].skew()\n",
        "        \n",
        "        else:\n",
        "            #Flag if no transformation was performed\n",
        "            transformed = False\n",
        "            skew_new = skew\n",
        "        \n",
        "        #Compare before and after if plot is True\n",
        "        if plot:\n",
        "            print('\\n ------------------------------------------------------')     \n",
        "            if transformed:\n",
        "                print('\\n %r had %r skewness of %2.2f' %(col, skewType, skew))\n",
        "                print('\\n Transformation yielded skewness of %2.2f' %(skew_new))\n",
        "                sns.set_palette(\"Paired\")\n",
        "                ax2 = sns.distplot(DF[col], ax=axes[1], color = 'r')\n",
        "                ax2.set(xlabel='Transformed ' + col)\n",
        "                plt.show()\n",
        "            else:\n",
        "                print('\\n NO TRANSFORMATION APPLIED FOR %r . Skewness = %2.2f' %(col, skew))\n",
        "                ax2 = sns.distplot(DF[col], ax=axes[1])\n",
        "                ax2.set(xlabel='NO TRANSFORM ' + col)\n",
        "                plt.show()\n",
        "                \n",
        "\n",
        "    return DF"
      ],
      "execution_count": 11,
      "outputs": []
    },
    {
      "cell_type": "code",
      "metadata": {
        "id": "eHVBZiQfLhDm"
      },
      "source": [
        "def get_order(df, feature):\n",
        "    # Impose order depending on the median price\n",
        "    subset = df[[feature, 'SalePrice']]\n",
        "    s = subset.groupby([feature]).median().sort_values(by='SalePrice')\n",
        "    return list(s.index)\n",
        "\n",
        "def prepare_labels(ordered_features):\n",
        "    return {k: ordered_features.index(k) + 1 for k in ordered_features}"
      ],
      "execution_count": 12,
      "outputs": []
    },
    {
      "cell_type": "markdown",
      "metadata": {
        "id": "jLW5Vm2ciR3k"
      },
      "source": [
        "## Transformers"
      ]
    },
    {
      "cell_type": "code",
      "metadata": {
        "id": "tM7iwlGKiUcf"
      },
      "source": [
        "from abc import abstractmethod\n",
        "\n",
        "class Transformer:\n",
        "    def __init__(self):\n",
        "        pass\n",
        "    @abstractmethod\n",
        "    def transform():\n",
        "        pass\n",
        "\n",
        "class NanRemover(Transformer):\n",
        "    def __init__(self):\n",
        "        super().__init__()\n",
        "\n",
        "    def transform(df, cols):\n",
        "        df.drop(columns = cols, inplace=True)\n",
        "\n",
        "class NanCatFiller(Transformer):\n",
        "    def __init__(self):\n",
        "        super().__init()\n",
        "    \n",
        "    def transform(df, cols, val):\n",
        "        for c in cols:\n",
        "            df[c].fillna(value=val, inplace=True)\n",
        "\n",
        "class NanNumFiller(Transformer):\n",
        "    def __init__(self):\n",
        "        super().__init__()\n",
        "\n",
        "    def transform(df, cols, method):\n",
        "        if method == 'median':\n",
        "            for c in cols:\n",
        "                df[c].fillna(value=df[c].median(), inplace=True)\n",
        "\n",
        "class CatEncoder(Transformer):\n",
        "    def __init__(self):\n",
        "        super().__init__()\n",
        "\n",
        "    def transform(df, colname, dictionary):\n",
        "        # dict with cat_feature_name: new_value\n",
        "        # dict = {'FeatureA': 1} // encoded value\n",
        "        series = df[colname]  # Series\n",
        "        for f_name, new_val in dictionary.items():\n",
        "            series[series == f_name] = new_val\n",
        "        df[colname] = series"
      ],
      "execution_count": 39,
      "outputs": []
    },
    {
      "cell_type": "markdown",
      "metadata": {
        "id": "eqlgsEjCZ_b2"
      },
      "source": [
        "## Data download"
      ]
    },
    {
      "cell_type": "code",
      "metadata": {
        "id": "-RyB-68MYTrS",
        "colab": {
          "base_uri": "https://localhost:8080/"
        },
        "outputId": "d6a41a86-991d-4a56-ad25-c51165d26f0e"
      },
      "source": [
        "# Setting file download from google Drive\n",
        "\n",
        "drive.mount('/content/gdrive')\n",
        "gdrive_path = '/content/gdrive/MyDrive/'\n",
        "df_path = 'ML/Datasets/2.HousePrices/'\n",
        "\n",
        "train_path = gdrive_path + df_path + \"train.csv\"\n",
        "test_path =  gdrive_path + df_path + \"test.csv\"\n",
        "submission_path = gdrive_path + df_path + \"submission.csv\"\n",
        "sample_submission_path = gdrive_path + df_path + \"sample_submission.csv\""
      ],
      "execution_count": 69,
      "outputs": [
        {
          "output_type": "stream",
          "name": "stdout",
          "text": [
            "Drive already mounted at /content/gdrive; to attempt to forcibly remount, call drive.mount(\"/content/gdrive\", force_remount=True).\n"
          ]
        }
      ]
    },
    {
      "cell_type": "code",
      "metadata": {
        "id": "KGzQlfveYcxI"
      },
      "source": [
        "train = pd.read_csv(train_path, index_col='Id')\n",
        "test = pd.read_csv(test_path, index_col='Id')\n",
        "target = train['SalePrice']"
      ],
      "execution_count": 70,
      "outputs": []
    },
    {
      "cell_type": "markdown",
      "metadata": {
        "id": "Ib1P9wY7kMdL"
      },
      "source": [
        "## **Nan statistics & remove Nans**"
      ]
    },
    {
      "cell_type": "code",
      "metadata": {
        "id": "MN8ZS_FJarp2",
        "colab": {
          "base_uri": "https://localhost:8080/"
        },
        "outputId": "a4b5966d-4360-484c-8bc0-60b9c4e09722"
      },
      "source": [
        "# Remove columns with nan % > threshold\n",
        "res_nan_stat = nan_statistics(train, nan_thresh=0.2)\n",
        "print(res_nan_stat)\n",
        "NanRemover.transform(train, res_nan_stat.keys())\n",
        "NanRemover.transform(test, res_nan_stat.keys())"
      ],
      "execution_count": 71,
      "outputs": [
        {
          "output_type": "stream",
          "name": "stdout",
          "text": [
            "Col -- Nan percentage\n",
            "PoolQC 99.52054794520548\n",
            "MiscFeature 96.30136986301369\n",
            "Alley 93.76712328767123\n",
            "Fence 80.75342465753424\n",
            "FireplaceQu 47.26027397260274\n",
            "{'Alley': 93.76712328767123, 'FireplaceQu': 47.26027397260274, 'PoolQC': 99.52054794520548, 'Fence': 80.75342465753424, 'MiscFeature': 96.30136986301369}\n"
          ]
        }
      ]
    },
    {
      "cell_type": "markdown",
      "metadata": {
        "id": "Abd50tF_cSbv"
      },
      "source": [
        "**Insight #1: Remove features with Nans > 40% (PoolQC, MiscFeature, Alley, Fence, FireplaceQu)**"
      ]
    },
    {
      "cell_type": "markdown",
      "metadata": {
        "id": "Dr51gdz2i0Vm"
      },
      "source": [
        "## **Fill Na**"
      ]
    },
    {
      "cell_type": "code",
      "metadata": {
        "id": "nbJvWCxHi4xp",
        "colab": {
          "base_uri": "https://localhost:8080/"
        },
        "outputId": "e1ee02c1-bb88-4cd0-a6fa-89863c93a037"
      },
      "source": [
        "nan_statistics(train, nan_thresh=0.0).items()"
      ],
      "execution_count": 72,
      "outputs": [
        {
          "output_type": "stream",
          "name": "stdout",
          "text": [
            "Col -- Nan percentage\n",
            "LotFrontage 17.73972602739726\n",
            "GarageType 5.5479452054794525\n",
            "GarageYrBlt 5.5479452054794525\n",
            "GarageFinish 5.5479452054794525\n",
            "GarageQual 5.5479452054794525\n",
            "GarageCond 5.5479452054794525\n",
            "BsmtExposure 2.6027397260273974\n",
            "BsmtFinType2 2.6027397260273974\n",
            "BsmtQual 2.5342465753424657\n",
            "BsmtCond 2.5342465753424657\n",
            "BsmtFinType1 2.5342465753424657\n",
            "MasVnrType 0.547945205479452\n",
            "MasVnrArea 0.547945205479452\n",
            "Electrical 0.0684931506849315\n"
          ]
        },
        {
          "output_type": "execute_result",
          "data": {
            "text/plain": [
              "dict_items([('LotFrontage', 17.73972602739726), ('MasVnrType', 0.547945205479452), ('MasVnrArea', 0.547945205479452), ('BsmtQual', 2.5342465753424657), ('BsmtCond', 2.5342465753424657), ('BsmtExposure', 2.6027397260273974), ('BsmtFinType1', 2.5342465753424657), ('BsmtFinType2', 2.6027397260273974), ('Electrical', 0.0684931506849315), ('GarageType', 5.5479452054794525), ('GarageYrBlt', 5.5479452054794525), ('GarageFinish', 5.5479452054794525), ('GarageQual', 5.5479452054794525), ('GarageCond', 5.5479452054794525)])"
            ]
          },
          "metadata": {},
          "execution_count": 72
        }
      ]
    },
    {
      "cell_type": "code",
      "metadata": {
        "id": "2uO8lBo-jfAB"
      },
      "source": [
        "cat_colnames = train.select_dtypes(include=['O']).columns\n",
        "num_colnames = train.select_dtypes(include=['int64', 'float64']).columns\n",
        "num_test_colnames = [c for c in num_colnames if not (c == 'SalePrice')]\n",
        "\n",
        "NanCatFiller.transform(train, cat_colnames, val='Missing')\n",
        "NanCatFiller.transform(test, cat_colnames, val='Missing')\n",
        "\n",
        "NanNumFiller.transform(train, num_colnames, method='median')\n",
        "NanNumFiller.transform(test, num_test_colnames, method='median')"
      ],
      "execution_count": 73,
      "outputs": []
    },
    {
      "cell_type": "code",
      "metadata": {
        "id": "9XszMNerkgQy",
        "colab": {
          "base_uri": "https://localhost:8080/"
        },
        "outputId": "33018c95-62b9-4f6c-d658-e9eeed174291"
      },
      "source": [
        "nan_statistics(train, nan_thresh=0.0)"
      ],
      "execution_count": 74,
      "outputs": [
        {
          "output_type": "stream",
          "name": "stdout",
          "text": [
            "Col -- Nan percentage\n"
          ]
        },
        {
          "output_type": "execute_result",
          "data": {
            "text/plain": [
              "{}"
            ]
          },
          "metadata": {},
          "execution_count": 74
        }
      ]
    },
    {
      "cell_type": "code",
      "metadata": {
        "id": "zjPjRSdiNbVz",
        "outputId": "3d1b88e6-ab70-4289-ce98-84cd6f14a59b",
        "colab": {
          "base_uri": "https://localhost:8080/"
        }
      },
      "source": [
        "nan_statistics(test)"
      ],
      "execution_count": 75,
      "outputs": [
        {
          "output_type": "stream",
          "name": "stdout",
          "text": [
            "Col -- Nan percentage\n"
          ]
        },
        {
          "output_type": "execute_result",
          "data": {
            "text/plain": [
              "{}"
            ]
          },
          "metadata": {},
          "execution_count": 75
        }
      ]
    },
    {
      "cell_type": "markdown",
      "metadata": {
        "id": "Kc2gOxaWmzae"
      },
      "source": [
        "## **Explore categorical**"
      ]
    },
    {
      "cell_type": "code",
      "metadata": {
        "id": "q1ag_s9am43n",
        "colab": {
          "base_uri": "https://localhost:8080/"
        },
        "outputId": "62b8a3bf-f680-4976-ab61-7d352b862bfa"
      },
      "source": [
        "train.shape, test.shape"
      ],
      "execution_count": 52,
      "outputs": [
        {
          "output_type": "execute_result",
          "data": {
            "text/plain": [
              "((1460, 75), (1459, 74))"
            ]
          },
          "metadata": {},
          "execution_count": 52
        }
      ]
    },
    {
      "cell_type": "code",
      "metadata": {
        "id": "d9ScM90Mm8Ln",
        "colab": {
          "base_uri": "https://localhost:8080/"
        },
        "outputId": "ff066542-c0d6-440a-c430-06a40309119f"
      },
      "source": [
        "cat_features = train.select_dtypes(include=['O']).columns\n",
        "print(len(cat_features))"
      ],
      "execution_count": 53,
      "outputs": [
        {
          "output_type": "stream",
          "name": "stdout",
          "text": [
            "38\n"
          ]
        }
      ]
    },
    {
      "cell_type": "code",
      "metadata": {
        "id": "SxPIhEaboEDO",
        "colab": {
          "base_uri": "https://localhost:8080/",
          "height": 334
        },
        "outputId": "c7b8a192-46f7-405c-930d-acd065cebea8"
      },
      "source": [
        "def plot(feature):\n",
        "    subset = train[[feature, 'SalePrice']]\n",
        "    s = subset.groupby([feature]).median().sort_values(by='SalePrice')\n",
        "    \n",
        "    fig = plt.figure(figsize=(15, 5))\n",
        "    plt.subplot(1, 2, 1)\n",
        "    sns.histplot(x = feature, data=train, stat='percent')\n",
        "    plt.subplot(1, 2, 2)\n",
        "    sns.boxplot(x=feature, y='SalePrice', data=train, order=s.index)\n",
        "\n",
        "plot(cat_features[0])"
      ],
      "execution_count": 54,
      "outputs": [
        {
          "output_type": "display_data",
          "data": {
            "image/png": "[encoded data removed]",
            "text/plain": [
              "<Figure size 1080x360 with 2 Axes>"
            ]
          },
          "metadata": {
            "needs_background": "light"
          }
        }
      ]
    },
    {
      "cell_type": "code",
      "metadata": {
        "id": "MIXFoSMsssY9",
        "colab": {
          "base_uri": "https://localhost:8080/",
          "height": 334
        },
        "outputId": "4d4c43f2-b69c-4988-bed8-e888b187c1f9"
      },
      "source": [
        "plot(cat_features[1])"
      ],
      "execution_count": 55,
      "outputs": [
        {
          "output_type": "display_data",
          "data": {
            "image/png": "[encoded data removed]",
            "text/plain": [
              "<Figure size 1080x360 with 2 Axes>"
            ]
          },
          "metadata": {
            "needs_background": "light"
          }
        }
      ]
    },
    {
      "cell_type": "code",
      "metadata": {
        "id": "_I1CHFUMs2Lx",
        "colab": {
          "base_uri": "https://localhost:8080/",
          "height": 334
        },
        "outputId": "94961462-95c8-495a-8ac1-7ba424f84ac6"
      },
      "source": [
        "plot(cat_features[2])"
      ],
      "execution_count": 56,
      "outputs": [
        {
          "output_type": "display_data",
          "data": {
            "image/png": "[encoded data removed]",
            "text/plain": [
              "<Figure size 1080x360 with 2 Axes>"
            ]
          },
          "metadata": {
            "needs_background": "light"
          }
        }
      ]
    },
    {
      "cell_type": "code",
      "metadata": {
        "id": "S2qGxAO_ti9V",
        "colab": {
          "base_uri": "https://localhost:8080/",
          "height": 334
        },
        "outputId": "f184afd4-f237-4bcc-aff5-5e46920bad96"
      },
      "source": [
        "plot(cat_features[3])"
      ],
      "execution_count": 57,
      "outputs": [
        {
          "output_type": "display_data",
          "data": {
            "image/png": "[encoded data removed]",
            "text/plain": [
              "<Figure size 1080x360 with 2 Axes>"
            ]
          },
          "metadata": {
            "needs_background": "light"
          }
        }
      ]
    },
    {
      "cell_type": "code",
      "metadata": {
        "id": "7k2kftZ5twXj",
        "colab": {
          "base_uri": "https://localhost:8080/",
          "height": 334
        },
        "outputId": "e9dffddb-57f1-4d21-c1c4-035d77c2555b"
      },
      "source": [
        "plot(cat_features[4])"
      ],
      "execution_count": 58,
      "outputs": [
        {
          "output_type": "display_data",
          "data": {
            "image/png": "[encoded data removed]",
            "text/plain": [
              "<Figure size 1080x360 with 2 Axes>"
            ]
          },
          "metadata": {
            "needs_background": "light"
          }
        }
      ]
    },
    {
      "cell_type": "code",
      "metadata": {
        "id": "x-eiV7JNt8cR",
        "colab": {
          "base_uri": "https://localhost:8080/",
          "height": 334
        },
        "outputId": "0eb8d848-b524-4d40-a4ba-cd34d7e5f388"
      },
      "source": [
        "plot(cat_features[5])"
      ],
      "execution_count": 59,
      "outputs": [
        {
          "output_type": "display_data",
          "data": {
            "image/png": "[encoded data removed]",
            "text/plain": [
              "<Figure size 1080x360 with 2 Axes>"
            ]
          },
          "metadata": {
            "needs_background": "light"
          }
        }
      ]
    },
    {
      "cell_type": "code",
      "metadata": {
        "id": "CzBfRSNOuUT_",
        "colab": {
          "base_uri": "https://localhost:8080/",
          "height": 334
        },
        "outputId": "0385fd3b-9408-49e5-b2f3-e28333762a80"
      },
      "source": [
        "plot(cat_features[6])"
      ],
      "execution_count": 60,
      "outputs": [
        {
          "output_type": "display_data",
          "data": {
            "image/png": "[encoded data removed]",
            "text/plain": [
              "<Figure size 1080x360 with 2 Axes>"
            ]
          },
          "metadata": {
            "needs_background": "light"
          }
        }
      ]
    },
    {
      "cell_type": "code",
      "metadata": {
        "id": "4XqjVWhPuoc6",
        "colab": {
          "base_uri": "https://localhost:8080/",
          "height": 334
        },
        "outputId": "03d3dc91-0f11-4780-ef45-ad6fb190f157"
      },
      "source": [
        "plot(cat_features[7])"
      ],
      "execution_count": 85,
      "outputs": [
        {
          "output_type": "display_data",
          "data": {
            "image/png": "[encoded data removed]",
            "text/plain": [
              "<Figure size 1080x360 with 2 Axes>"
            ]
          },
          "metadata": {
            "needs_background": "light"
          }
        }
      ]
    },
    {
      "cell_type": "code",
      "metadata": {
        "id": "NoNJ_GJL0tNM",
        "colab": {
          "base_uri": "https://localhost:8080/",
          "height": 334
        },
        "outputId": "f258b95c-4693-46ac-9345-3d254fdc800b"
      },
      "source": [
        "plot(cat_features[8])"
      ],
      "execution_count": 86,
      "outputs": [
        {
          "output_type": "display_data",
          "data": {
            "image/png": "[encoded data removed]",
            "text/plain": [
              "<Figure size 1080x360 with 2 Axes>"
            ]
          },
          "metadata": {
            "needs_background": "light"
          }
        }
      ]
    },
    {
      "cell_type": "code",
      "metadata": {
        "id": "ZQCo3t2B0vch",
        "colab": {
          "base_uri": "https://localhost:8080/",
          "height": 334
        },
        "outputId": "61e95b2b-2f0b-4073-96a1-d07b1b41e8fb"
      },
      "source": [
        "plot(cat_features[9])"
      ],
      "execution_count": 63,
      "outputs": [
        {
          "output_type": "display_data",
          "data": {
            "image/png": "[encoded data removed]",
            "text/plain": [
              "<Figure size 1080x360 with 2 Axes>"
            ]
          },
          "metadata": {
            "needs_background": "light"
          }
        }
      ]
    },
    {
      "cell_type": "code",
      "metadata": {
        "id": "Q1WWmUzo09Di",
        "colab": {
          "base_uri": "https://localhost:8080/",
          "height": 334
        },
        "outputId": "253d2ae9-68ac-4844-d008-237e349ea603"
      },
      "source": [
        "plot(cat_features[10])"
      ],
      "execution_count": 64,
      "outputs": [
        {
          "output_type": "display_data",
          "data": {
            "image/png": "[encoded data removed]",
            "text/plain": [
              "<Figure size 1080x360 with 2 Axes>"
            ]
          },
          "metadata": {
            "needs_background": "light"
          }
        }
      ]
    },
    {
      "cell_type": "code",
      "metadata": {
        "id": "QfiOqs1Z1Dxv",
        "colab": {
          "base_uri": "https://localhost:8080/",
          "height": 334
        },
        "outputId": "beccb06d-b160-47b4-d653-ea9aa65ebe98"
      },
      "source": [
        "plot(cat_features[11])"
      ],
      "execution_count": 65,
      "outputs": [
        {
          "output_type": "display_data",
          "data": {
            "image/png": "[encoded data removed]",
            "text/plain": [
              "<Figure size 1080x360 with 2 Axes>"
            ]
          },
          "metadata": {
            "needs_background": "light"
          }
        }
      ]
    },
    {
      "cell_type": "markdown",
      "metadata": {
        "id": "xUjVghRQtA03"
      },
      "source": [
        "- MSZoning\n",
        "    - Order: I C FV A RH RM RL RP\n",
        "- LotShape\n",
        "    - R2 + R3 + R1 unite to 'irregular'\n",
        "- Utilities\n",
        "    - Remove column\n",
        "- Street\n",
        "    - Remove column\n",
        "- LotConfig\n",
        "    - Order: Inside FR2 Coner CullDSac FR3\n",
        "    - Remove FR3\n",
        "- LandSlope\n",
        "    - Mod & Sev -> unite\n",
        "    - Order: Gtl -> Other\n",
        "- Condition2\n",
        "    - Remove column\n",
        "- BidgeType\n",
        "    - Remove column\n"
      ]
    },
    {
      "cell_type": "markdown",
      "metadata": {
        "id": "HSdVxHFK1UGV"
      },
      "source": [
        "## **Encode categorical**"
      ]
    },
    {
      "cell_type": "code",
      "metadata": {
        "id": "Y_NpJ32MIvUW",
        "outputId": "dc930486-7231-4a73-823f-3af095c154ad",
        "colab": {
          "base_uri": "https://localhost:8080/"
        }
      },
      "source": [
        "for f in cat_features:\n",
        "    order = get_order(train, f)\n",
        "\n",
        "    labels_dict = prepare_labels(order)\n",
        "    labels_dict.update({'Missing': 0})\n",
        "\n",
        "    CatEncoder.transform(train, f, labels_dict)\n",
        "    CatEncoder.transform(test, f, labels_dict)\n",
        "\n",
        "    train[f] = train[f].astype('int64')\n",
        "    test[f] = test[f].astype('int64')"
      ],
      "execution_count": 76,
      "outputs": [
        {
          "output_type": "stream",
          "name": "stderr",
          "text": [
            "/usr/local/lib/python3.7/dist-packages/ipykernel_launcher.py:43: SettingWithCopyWarning: \n",
            "A value is trying to be set on a copy of a slice from a DataFrame\n",
            "\n",
            "See the caveats in the documentation: https://pandas.pydata.org/pandas-docs/stable/user_guide/indexing.html#returning-a-view-versus-a-copy\n"
          ]
        }
      ]
    },
    {
      "cell_type": "code",
      "metadata": {
        "id": "udJUiqUzKh_b",
        "outputId": "e9c0ecc0-62c7-48f4-8c04-d9df03791ce7",
        "colab": {
          "base_uri": "https://localhost:8080/"
        }
      },
      "source": [
        "train.dtypes"
      ],
      "execution_count": 77,
      "outputs": [
        {
          "output_type": "execute_result",
          "data": {
            "text/plain": [
              "MSSubClass         int64\n",
              "MSZoning           int64\n",
              "LotFrontage      float64\n",
              "LotArea            int64\n",
              "Street             int64\n",
              "                  ...   \n",
              "MoSold             int64\n",
              "YrSold             int64\n",
              "SaleType           int64\n",
              "SaleCondition      int64\n",
              "SalePrice          int64\n",
              "Length: 75, dtype: object"
            ]
          },
          "metadata": {},
          "execution_count": 77
        }
      ]
    },
    {
      "cell_type": "code",
      "metadata": {
        "id": "vlPtoRG8Q51C",
        "outputId": "150e07b5-6087-4dba-f9d9-77a7969577eb",
        "colab": {
          "base_uri": "https://localhost:8080/",
          "height": 254
        }
      },
      "source": [
        "test.head()"
      ],
      "execution_count": 78,
      "outputs": [
        {
          "output_type": "execute_result",
          "data": {
            "text/html": [
              "<div>\n",
              "<style scoped>\n",
              "    .dataframe tbody tr th:only-of-type {\n",
              "        vertical-align: middle;\n",
              "    }\n",
              "\n",
              "    .dataframe tbody tr th {\n",
              "        vertical-align: top;\n",
              "    }\n",
              "\n",
              "    .dataframe thead th {\n",
              "        text-align: right;\n",
              "    }\n",
              "</style>\n",
              "<table border=\"1\" class=\"dataframe\">\n",
              "  <thead>\n",
              "    <tr style=\"text-align: right;\">\n",
              "      <th></th>\n",
              "      <th>MSSubClass</th>\n",
              "      <th>MSZoning</th>\n",
              "      <th>LotFrontage</th>\n",
              "      <th>LotArea</th>\n",
              "      <th>Street</th>\n",
              "      <th>LotShape</th>\n",
              "      <th>LandContour</th>\n",
              "      <th>Utilities</th>\n",
              "      <th>LotConfig</th>\n",
              "      <th>LandSlope</th>\n",
              "      <th>Neighborhood</th>\n",
              "      <th>Condition1</th>\n",
              "      <th>Condition2</th>\n",
              "      <th>BldgType</th>\n",
              "      <th>HouseStyle</th>\n",
              "      <th>OverallQual</th>\n",
              "      <th>OverallCond</th>\n",
              "      <th>YearBuilt</th>\n",
              "      <th>YearRemodAdd</th>\n",
              "      <th>RoofStyle</th>\n",
              "      <th>RoofMatl</th>\n",
              "      <th>Exterior1st</th>\n",
              "      <th>Exterior2nd</th>\n",
              "      <th>MasVnrType</th>\n",
              "      <th>MasVnrArea</th>\n",
              "      <th>ExterQual</th>\n",
              "      <th>ExterCond</th>\n",
              "      <th>Foundation</th>\n",
              "      <th>BsmtQual</th>\n",
              "      <th>BsmtCond</th>\n",
              "      <th>BsmtExposure</th>\n",
              "      <th>BsmtFinType1</th>\n",
              "      <th>BsmtFinSF1</th>\n",
              "      <th>BsmtFinType2</th>\n",
              "      <th>BsmtFinSF2</th>\n",
              "      <th>BsmtUnfSF</th>\n",
              "      <th>TotalBsmtSF</th>\n",
              "      <th>Heating</th>\n",
              "      <th>HeatingQC</th>\n",
              "      <th>CentralAir</th>\n",
              "      <th>Electrical</th>\n",
              "      <th>1stFlrSF</th>\n",
              "      <th>2ndFlrSF</th>\n",
              "      <th>LowQualFinSF</th>\n",
              "      <th>GrLivArea</th>\n",
              "      <th>BsmtFullBath</th>\n",
              "      <th>BsmtHalfBath</th>\n",
              "      <th>FullBath</th>\n",
              "      <th>HalfBath</th>\n",
              "      <th>BedroomAbvGr</th>\n",
              "      <th>KitchenAbvGr</th>\n",
              "      <th>KitchenQual</th>\n",
              "      <th>TotRmsAbvGrd</th>\n",
              "      <th>Functional</th>\n",
              "      <th>Fireplaces</th>\n",
              "      <th>GarageType</th>\n",
              "      <th>GarageYrBlt</th>\n",
              "      <th>GarageFinish</th>\n",
              "      <th>GarageCars</th>\n",
              "      <th>GarageArea</th>\n",
              "      <th>GarageQual</th>\n",
              "      <th>GarageCond</th>\n",
              "      <th>PavedDrive</th>\n",
              "      <th>WoodDeckSF</th>\n",
              "      <th>OpenPorchSF</th>\n",
              "      <th>EnclosedPorch</th>\n",
              "      <th>3SsnPorch</th>\n",
              "      <th>ScreenPorch</th>\n",
              "      <th>PoolArea</th>\n",
              "      <th>MiscVal</th>\n",
              "      <th>MoSold</th>\n",
              "      <th>YrSold</th>\n",
              "      <th>SaleType</th>\n",
              "      <th>SaleCondition</th>\n",
              "    </tr>\n",
              "    <tr>\n",
              "      <th>Id</th>\n",
              "      <th></th>\n",
              "      <th></th>\n",
              "      <th></th>\n",
              "      <th></th>\n",
              "      <th></th>\n",
              "      <th></th>\n",
              "      <th></th>\n",
              "      <th></th>\n",
              "      <th></th>\n",
              "      <th></th>\n",
              "      <th></th>\n",
              "      <th></th>\n",
              "      <th></th>\n",
              "      <th></th>\n",
              "      <th></th>\n",
              "      <th></th>\n",
              "      <th></th>\n",
              "      <th></th>\n",
              "      <th></th>\n",
              "      <th></th>\n",
              "      <th></th>\n",
              "      <th></th>\n",
              "      <th></th>\n",
              "      <th></th>\n",
              "      <th></th>\n",
              "      <th></th>\n",
              "      <th></th>\n",
              "      <th></th>\n",
              "      <th></th>\n",
              "      <th></th>\n",
              "      <th></th>\n",
              "      <th></th>\n",
              "      <th></th>\n",
              "      <th></th>\n",
              "      <th></th>\n",
              "      <th></th>\n",
              "      <th></th>\n",
              "      <th></th>\n",
              "      <th></th>\n",
              "      <th></th>\n",
              "      <th></th>\n",
              "      <th></th>\n",
              "      <th></th>\n",
              "      <th></th>\n",
              "      <th></th>\n",
              "      <th></th>\n",
              "      <th></th>\n",
              "      <th></th>\n",
              "      <th></th>\n",
              "      <th></th>\n",
              "      <th></th>\n",
              "      <th></th>\n",
              "      <th></th>\n",
              "      <th></th>\n",
              "      <th></th>\n",
              "      <th></th>\n",
              "      <th></th>\n",
              "      <th></th>\n",
              "      <th></th>\n",
              "      <th></th>\n",
              "      <th></th>\n",
              "      <th></th>\n",
              "      <th></th>\n",
              "      <th></th>\n",
              "      <th></th>\n",
              "      <th></th>\n",
              "      <th></th>\n",
              "      <th></th>\n",
              "      <th></th>\n",
              "      <th></th>\n",
              "      <th></th>\n",
              "      <th></th>\n",
              "      <th></th>\n",
              "      <th></th>\n",
              "    </tr>\n",
              "  </thead>\n",
              "  <tbody>\n",
              "    <tr>\n",
              "      <th>1461</th>\n",
              "      <td>20</td>\n",
              "      <td>3</td>\n",
              "      <td>80.0</td>\n",
              "      <td>11622</td>\n",
              "      <td>2</td>\n",
              "      <td>1</td>\n",
              "      <td>2</td>\n",
              "      <td>2</td>\n",
              "      <td>1</td>\n",
              "      <td>1</td>\n",
              "      <td>10</td>\n",
              "      <td>2</td>\n",
              "      <td>5</td>\n",
              "      <td>4</td>\n",
              "      <td>5</td>\n",
              "      <td>5</td>\n",
              "      <td>6</td>\n",
              "      <td>1961</td>\n",
              "      <td>1961</td>\n",
              "      <td>2</td>\n",
              "      <td>3</td>\n",
              "      <td>12</td>\n",
              "      <td>14</td>\n",
              "      <td>2</td>\n",
              "      <td>0.0</td>\n",
              "      <td>2</td>\n",
              "      <td>5</td>\n",
              "      <td>4</td>\n",
              "      <td>3</td>\n",
              "      <td>4</td>\n",
              "      <td>2</td>\n",
              "      <td>4</td>\n",
              "      <td>468.0</td>\n",
              "      <td>4</td>\n",
              "      <td>144.0</td>\n",
              "      <td>270.0</td>\n",
              "      <td>882.0</td>\n",
              "      <td>6</td>\n",
              "      <td>3</td>\n",
              "      <td>2</td>\n",
              "      <td>6</td>\n",
              "      <td>896</td>\n",
              "      <td>0</td>\n",
              "      <td>0</td>\n",
              "      <td>896</td>\n",
              "      <td>0.0</td>\n",
              "      <td>0.0</td>\n",
              "      <td>1</td>\n",
              "      <td>0</td>\n",
              "      <td>2</td>\n",
              "      <td>1</td>\n",
              "      <td>2</td>\n",
              "      <td>5</td>\n",
              "      <td>7</td>\n",
              "      <td>0</td>\n",
              "      <td>6</td>\n",
              "      <td>1961.0</td>\n",
              "      <td>2</td>\n",
              "      <td>1.0</td>\n",
              "      <td>730.0</td>\n",
              "      <td>5</td>\n",
              "      <td>6</td>\n",
              "      <td>3</td>\n",
              "      <td>140</td>\n",
              "      <td>0</td>\n",
              "      <td>0</td>\n",
              "      <td>0</td>\n",
              "      <td>120</td>\n",
              "      <td>0</td>\n",
              "      <td>0</td>\n",
              "      <td>6</td>\n",
              "      <td>2010</td>\n",
              "      <td>6</td>\n",
              "      <td>5</td>\n",
              "    </tr>\n",
              "    <tr>\n",
              "      <th>1462</th>\n",
              "      <td>20</td>\n",
              "      <td>4</td>\n",
              "      <td>81.0</td>\n",
              "      <td>14267</td>\n",
              "      <td>2</td>\n",
              "      <td>2</td>\n",
              "      <td>2</td>\n",
              "      <td>2</td>\n",
              "      <td>2</td>\n",
              "      <td>1</td>\n",
              "      <td>10</td>\n",
              "      <td>4</td>\n",
              "      <td>5</td>\n",
              "      <td>4</td>\n",
              "      <td>5</td>\n",
              "      <td>6</td>\n",
              "      <td>6</td>\n",
              "      <td>1958</td>\n",
              "      <td>1958</td>\n",
              "      <td>4</td>\n",
              "      <td>3</td>\n",
              "      <td>6</td>\n",
              "      <td>3</td>\n",
              "      <td>3</td>\n",
              "      <td>108.0</td>\n",
              "      <td>2</td>\n",
              "      <td>5</td>\n",
              "      <td>4</td>\n",
              "      <td>3</td>\n",
              "      <td>4</td>\n",
              "      <td>2</td>\n",
              "      <td>5</td>\n",
              "      <td>923.0</td>\n",
              "      <td>5</td>\n",
              "      <td>0.0</td>\n",
              "      <td>406.0</td>\n",
              "      <td>1329.0</td>\n",
              "      <td>6</td>\n",
              "      <td>3</td>\n",
              "      <td>2</td>\n",
              "      <td>6</td>\n",
              "      <td>1329</td>\n",
              "      <td>0</td>\n",
              "      <td>0</td>\n",
              "      <td>1329</td>\n",
              "      <td>0.0</td>\n",
              "      <td>0.0</td>\n",
              "      <td>1</td>\n",
              "      <td>1</td>\n",
              "      <td>3</td>\n",
              "      <td>1</td>\n",
              "      <td>3</td>\n",
              "      <td>6</td>\n",
              "      <td>7</td>\n",
              "      <td>0</td>\n",
              "      <td>6</td>\n",
              "      <td>1958.0</td>\n",
              "      <td>2</td>\n",
              "      <td>1.0</td>\n",
              "      <td>312.0</td>\n",
              "      <td>5</td>\n",
              "      <td>6</td>\n",
              "      <td>3</td>\n",
              "      <td>393</td>\n",
              "      <td>36</td>\n",
              "      <td>0</td>\n",
              "      <td>0</td>\n",
              "      <td>0</td>\n",
              "      <td>0</td>\n",
              "      <td>12500</td>\n",
              "      <td>6</td>\n",
              "      <td>2010</td>\n",
              "      <td>6</td>\n",
              "      <td>5</td>\n",
              "    </tr>\n",
              "    <tr>\n",
              "      <th>1463</th>\n",
              "      <td>60</td>\n",
              "      <td>4</td>\n",
              "      <td>74.0</td>\n",
              "      <td>13830</td>\n",
              "      <td>2</td>\n",
              "      <td>2</td>\n",
              "      <td>2</td>\n",
              "      <td>2</td>\n",
              "      <td>1</td>\n",
              "      <td>1</td>\n",
              "      <td>14</td>\n",
              "      <td>4</td>\n",
              "      <td>5</td>\n",
              "      <td>4</td>\n",
              "      <td>7</td>\n",
              "      <td>5</td>\n",
              "      <td>5</td>\n",
              "      <td>1997</td>\n",
              "      <td>1998</td>\n",
              "      <td>2</td>\n",
              "      <td>3</td>\n",
              "      <td>12</td>\n",
              "      <td>14</td>\n",
              "      <td>2</td>\n",
              "      <td>0.0</td>\n",
              "      <td>2</td>\n",
              "      <td>5</td>\n",
              "      <td>6</td>\n",
              "      <td>4</td>\n",
              "      <td>4</td>\n",
              "      <td>2</td>\n",
              "      <td>7</td>\n",
              "      <td>791.0</td>\n",
              "      <td>5</td>\n",
              "      <td>0.0</td>\n",
              "      <td>137.0</td>\n",
              "      <td>928.0</td>\n",
              "      <td>6</td>\n",
              "      <td>4</td>\n",
              "      <td>2</td>\n",
              "      <td>6</td>\n",
              "      <td>928</td>\n",
              "      <td>701</td>\n",
              "      <td>0</td>\n",
              "      <td>1629</td>\n",
              "      <td>0.0</td>\n",
              "      <td>0.0</td>\n",
              "      <td>2</td>\n",
              "      <td>1</td>\n",
              "      <td>3</td>\n",
              "      <td>1</td>\n",
              "      <td>2</td>\n",
              "      <td>6</td>\n",
              "      <td>7</td>\n",
              "      <td>1</td>\n",
              "      <td>6</td>\n",
              "      <td>1997.0</td>\n",
              "      <td>4</td>\n",
              "      <td>2.0</td>\n",
              "      <td>482.0</td>\n",
              "      <td>5</td>\n",
              "      <td>6</td>\n",
              "      <td>3</td>\n",
              "      <td>212</td>\n",
              "      <td>34</td>\n",
              "      <td>0</td>\n",
              "      <td>0</td>\n",
              "      <td>0</td>\n",
              "      <td>0</td>\n",
              "      <td>0</td>\n",
              "      <td>3</td>\n",
              "      <td>2010</td>\n",
              "      <td>6</td>\n",
              "      <td>5</td>\n",
              "    </tr>\n",
              "    <tr>\n",
              "      <th>1464</th>\n",
              "      <td>60</td>\n",
              "      <td>4</td>\n",
              "      <td>78.0</td>\n",
              "      <td>9978</td>\n",
              "      <td>2</td>\n",
              "      <td>2</td>\n",
              "      <td>2</td>\n",
              "      <td>2</td>\n",
              "      <td>1</td>\n",
              "      <td>1</td>\n",
              "      <td>14</td>\n",
              "      <td>4</td>\n",
              "      <td>5</td>\n",
              "      <td>4</td>\n",
              "      <td>7</td>\n",
              "      <td>6</td>\n",
              "      <td>6</td>\n",
              "      <td>1998</td>\n",
              "      <td>1998</td>\n",
              "      <td>2</td>\n",
              "      <td>3</td>\n",
              "      <td>12</td>\n",
              "      <td>14</td>\n",
              "      <td>3</td>\n",
              "      <td>20.0</td>\n",
              "      <td>2</td>\n",
              "      <td>5</td>\n",
              "      <td>6</td>\n",
              "      <td>3</td>\n",
              "      <td>4</td>\n",
              "      <td>2</td>\n",
              "      <td>7</td>\n",
              "      <td>602.0</td>\n",
              "      <td>5</td>\n",
              "      <td>0.0</td>\n",
              "      <td>324.0</td>\n",
              "      <td>926.0</td>\n",
              "      <td>6</td>\n",
              "      <td>5</td>\n",
              "      <td>2</td>\n",
              "      <td>6</td>\n",
              "      <td>926</td>\n",
              "      <td>678</td>\n",
              "      <td>0</td>\n",
              "      <td>1604</td>\n",
              "      <td>0.0</td>\n",
              "      <td>0.0</td>\n",
              "      <td>2</td>\n",
              "      <td>1</td>\n",
              "      <td>3</td>\n",
              "      <td>1</td>\n",
              "      <td>3</td>\n",
              "      <td>7</td>\n",
              "      <td>7</td>\n",
              "      <td>1</td>\n",
              "      <td>6</td>\n",
              "      <td>1998.0</td>\n",
              "      <td>4</td>\n",
              "      <td>2.0</td>\n",
              "      <td>470.0</td>\n",
              "      <td>5</td>\n",
              "      <td>6</td>\n",
              "      <td>3</td>\n",
              "      <td>360</td>\n",
              "      <td>36</td>\n",
              "      <td>0</td>\n",
              "      <td>0</td>\n",
              "      <td>0</td>\n",
              "      <td>0</td>\n",
              "      <td>0</td>\n",
              "      <td>6</td>\n",
              "      <td>2010</td>\n",
              "      <td>6</td>\n",
              "      <td>5</td>\n",
              "    </tr>\n",
              "    <tr>\n",
              "      <th>1465</th>\n",
              "      <td>120</td>\n",
              "      <td>4</td>\n",
              "      <td>43.0</td>\n",
              "      <td>5005</td>\n",
              "      <td>2</td>\n",
              "      <td>2</td>\n",
              "      <td>4</td>\n",
              "      <td>2</td>\n",
              "      <td>1</td>\n",
              "      <td>1</td>\n",
              "      <td>23</td>\n",
              "      <td>4</td>\n",
              "      <td>5</td>\n",
              "      <td>5</td>\n",
              "      <td>5</td>\n",
              "      <td>8</td>\n",
              "      <td>5</td>\n",
              "      <td>1992</td>\n",
              "      <td>1992</td>\n",
              "      <td>2</td>\n",
              "      <td>3</td>\n",
              "      <td>9</td>\n",
              "      <td>9</td>\n",
              "      <td>2</td>\n",
              "      <td>0.0</td>\n",
              "      <td>3</td>\n",
              "      <td>5</td>\n",
              "      <td>6</td>\n",
              "      <td>4</td>\n",
              "      <td>4</td>\n",
              "      <td>2</td>\n",
              "      <td>5</td>\n",
              "      <td>263.0</td>\n",
              "      <td>5</td>\n",
              "      <td>0.0</td>\n",
              "      <td>1017.0</td>\n",
              "      <td>1280.0</td>\n",
              "      <td>6</td>\n",
              "      <td>5</td>\n",
              "      <td>2</td>\n",
              "      <td>6</td>\n",
              "      <td>1280</td>\n",
              "      <td>0</td>\n",
              "      <td>0</td>\n",
              "      <td>1280</td>\n",
              "      <td>0.0</td>\n",
              "      <td>0.0</td>\n",
              "      <td>2</td>\n",
              "      <td>0</td>\n",
              "      <td>2</td>\n",
              "      <td>1</td>\n",
              "      <td>3</td>\n",
              "      <td>5</td>\n",
              "      <td>7</td>\n",
              "      <td>0</td>\n",
              "      <td>6</td>\n",
              "      <td>1992.0</td>\n",
              "      <td>3</td>\n",
              "      <td>2.0</td>\n",
              "      <td>506.0</td>\n",
              "      <td>5</td>\n",
              "      <td>6</td>\n",
              "      <td>3</td>\n",
              "      <td>0</td>\n",
              "      <td>82</td>\n",
              "      <td>0</td>\n",
              "      <td>0</td>\n",
              "      <td>144</td>\n",
              "      <td>0</td>\n",
              "      <td>0</td>\n",
              "      <td>1</td>\n",
              "      <td>2010</td>\n",
              "      <td>6</td>\n",
              "      <td>5</td>\n",
              "    </tr>\n",
              "  </tbody>\n",
              "</table>\n",
              "</div>"
            ],
            "text/plain": [
              "      MSSubClass  MSZoning  LotFrontage  ...  YrSold  SaleType  SaleCondition\n",
              "Id                                       ...                                 \n",
              "1461          20         3         80.0  ...    2010         6              5\n",
              "1462          20         4         81.0  ...    2010         6              5\n",
              "1463          60         4         74.0  ...    2010         6              5\n",
              "1464          60         4         78.0  ...    2010         6              5\n",
              "1465         120         4         43.0  ...    2010         6              5\n",
              "\n",
              "[5 rows x 74 columns]"
            ]
          },
          "metadata": {},
          "execution_count": 78
        }
      ]
    },
    {
      "cell_type": "code",
      "metadata": {
        "id": "nfezghifN1kj",
        "outputId": "39eb6410-414c-417d-e6c5-1f58840d6e65",
        "colab": {
          "base_uri": "https://localhost:8080/",
          "height": 254
        }
      },
      "source": [
        "test.head()"
      ],
      "execution_count": 79,
      "outputs": [
        {
          "output_type": "execute_result",
          "data": {
            "text/html": [
              "<div>\n",
              "<style scoped>\n",
              "    .dataframe tbody tr th:only-of-type {\n",
              "        vertical-align: middle;\n",
              "    }\n",
              "\n",
              "    .dataframe tbody tr th {\n",
              "        vertical-align: top;\n",
              "    }\n",
              "\n",
              "    .dataframe thead th {\n",
              "        text-align: right;\n",
              "    }\n",
              "</style>\n",
              "<table border=\"1\" class=\"dataframe\">\n",
              "  <thead>\n",
              "    <tr style=\"text-align: right;\">\n",
              "      <th></th>\n",
              "      <th>MSSubClass</th>\n",
              "      <th>MSZoning</th>\n",
              "      <th>LotFrontage</th>\n",
              "      <th>LotArea</th>\n",
              "      <th>Street</th>\n",
              "      <th>LotShape</th>\n",
              "      <th>LandContour</th>\n",
              "      <th>Utilities</th>\n",
              "      <th>LotConfig</th>\n",
              "      <th>LandSlope</th>\n",
              "      <th>Neighborhood</th>\n",
              "      <th>Condition1</th>\n",
              "      <th>Condition2</th>\n",
              "      <th>BldgType</th>\n",
              "      <th>HouseStyle</th>\n",
              "      <th>OverallQual</th>\n",
              "      <th>OverallCond</th>\n",
              "      <th>YearBuilt</th>\n",
              "      <th>YearRemodAdd</th>\n",
              "      <th>RoofStyle</th>\n",
              "      <th>RoofMatl</th>\n",
              "      <th>Exterior1st</th>\n",
              "      <th>Exterior2nd</th>\n",
              "      <th>MasVnrType</th>\n",
              "      <th>MasVnrArea</th>\n",
              "      <th>ExterQual</th>\n",
              "      <th>ExterCond</th>\n",
              "      <th>Foundation</th>\n",
              "      <th>BsmtQual</th>\n",
              "      <th>BsmtCond</th>\n",
              "      <th>BsmtExposure</th>\n",
              "      <th>BsmtFinType1</th>\n",
              "      <th>BsmtFinSF1</th>\n",
              "      <th>BsmtFinType2</th>\n",
              "      <th>BsmtFinSF2</th>\n",
              "      <th>BsmtUnfSF</th>\n",
              "      <th>TotalBsmtSF</th>\n",
              "      <th>Heating</th>\n",
              "      <th>HeatingQC</th>\n",
              "      <th>CentralAir</th>\n",
              "      <th>Electrical</th>\n",
              "      <th>1stFlrSF</th>\n",
              "      <th>2ndFlrSF</th>\n",
              "      <th>LowQualFinSF</th>\n",
              "      <th>GrLivArea</th>\n",
              "      <th>BsmtFullBath</th>\n",
              "      <th>BsmtHalfBath</th>\n",
              "      <th>FullBath</th>\n",
              "      <th>HalfBath</th>\n",
              "      <th>BedroomAbvGr</th>\n",
              "      <th>KitchenAbvGr</th>\n",
              "      <th>KitchenQual</th>\n",
              "      <th>TotRmsAbvGrd</th>\n",
              "      <th>Functional</th>\n",
              "      <th>Fireplaces</th>\n",
              "      <th>GarageType</th>\n",
              "      <th>GarageYrBlt</th>\n",
              "      <th>GarageFinish</th>\n",
              "      <th>GarageCars</th>\n",
              "      <th>GarageArea</th>\n",
              "      <th>GarageQual</th>\n",
              "      <th>GarageCond</th>\n",
              "      <th>PavedDrive</th>\n",
              "      <th>WoodDeckSF</th>\n",
              "      <th>OpenPorchSF</th>\n",
              "      <th>EnclosedPorch</th>\n",
              "      <th>3SsnPorch</th>\n",
              "      <th>ScreenPorch</th>\n",
              "      <th>PoolArea</th>\n",
              "      <th>MiscVal</th>\n",
              "      <th>MoSold</th>\n",
              "      <th>YrSold</th>\n",
              "      <th>SaleType</th>\n",
              "      <th>SaleCondition</th>\n",
              "    </tr>\n",
              "    <tr>\n",
              "      <th>Id</th>\n",
              "      <th></th>\n",
              "      <th></th>\n",
              "      <th></th>\n",
              "      <th></th>\n",
              "      <th></th>\n",
              "      <th></th>\n",
              "      <th></th>\n",
              "      <th></th>\n",
              "      <th></th>\n",
              "      <th></th>\n",
              "      <th></th>\n",
              "      <th></th>\n",
              "      <th></th>\n",
              "      <th></th>\n",
              "      <th></th>\n",
              "      <th></th>\n",
              "      <th></th>\n",
              "      <th></th>\n",
              "      <th></th>\n",
              "      <th></th>\n",
              "      <th></th>\n",
              "      <th></th>\n",
              "      <th></th>\n",
              "      <th></th>\n",
              "      <th></th>\n",
              "      <th></th>\n",
              "      <th></th>\n",
              "      <th></th>\n",
              "      <th></th>\n",
              "      <th></th>\n",
              "      <th></th>\n",
              "      <th></th>\n",
              "      <th></th>\n",
              "      <th></th>\n",
              "      <th></th>\n",
              "      <th></th>\n",
              "      <th></th>\n",
              "      <th></th>\n",
              "      <th></th>\n",
              "      <th></th>\n",
              "      <th></th>\n",
              "      <th></th>\n",
              "      <th></th>\n",
              "      <th></th>\n",
              "      <th></th>\n",
              "      <th></th>\n",
              "      <th></th>\n",
              "      <th></th>\n",
              "      <th></th>\n",
              "      <th></th>\n",
              "      <th></th>\n",
              "      <th></th>\n",
              "      <th></th>\n",
              "      <th></th>\n",
              "      <th></th>\n",
              "      <th></th>\n",
              "      <th></th>\n",
              "      <th></th>\n",
              "      <th></th>\n",
              "      <th></th>\n",
              "      <th></th>\n",
              "      <th></th>\n",
              "      <th></th>\n",
              "      <th></th>\n",
              "      <th></th>\n",
              "      <th></th>\n",
              "      <th></th>\n",
              "      <th></th>\n",
              "      <th></th>\n",
              "      <th></th>\n",
              "      <th></th>\n",
              "      <th></th>\n",
              "      <th></th>\n",
              "      <th></th>\n",
              "    </tr>\n",
              "  </thead>\n",
              "  <tbody>\n",
              "    <tr>\n",
              "      <th>1461</th>\n",
              "      <td>20</td>\n",
              "      <td>3</td>\n",
              "      <td>80.0</td>\n",
              "      <td>11622</td>\n",
              "      <td>2</td>\n",
              "      <td>1</td>\n",
              "      <td>2</td>\n",
              "      <td>2</td>\n",
              "      <td>1</td>\n",
              "      <td>1</td>\n",
              "      <td>10</td>\n",
              "      <td>2</td>\n",
              "      <td>5</td>\n",
              "      <td>4</td>\n",
              "      <td>5</td>\n",
              "      <td>5</td>\n",
              "      <td>6</td>\n",
              "      <td>1961</td>\n",
              "      <td>1961</td>\n",
              "      <td>2</td>\n",
              "      <td>3</td>\n",
              "      <td>12</td>\n",
              "      <td>14</td>\n",
              "      <td>2</td>\n",
              "      <td>0.0</td>\n",
              "      <td>2</td>\n",
              "      <td>5</td>\n",
              "      <td>4</td>\n",
              "      <td>3</td>\n",
              "      <td>4</td>\n",
              "      <td>2</td>\n",
              "      <td>4</td>\n",
              "      <td>468.0</td>\n",
              "      <td>4</td>\n",
              "      <td>144.0</td>\n",
              "      <td>270.0</td>\n",
              "      <td>882.0</td>\n",
              "      <td>6</td>\n",
              "      <td>3</td>\n",
              "      <td>2</td>\n",
              "      <td>6</td>\n",
              "      <td>896</td>\n",
              "      <td>0</td>\n",
              "      <td>0</td>\n",
              "      <td>896</td>\n",
              "      <td>0.0</td>\n",
              "      <td>0.0</td>\n",
              "      <td>1</td>\n",
              "      <td>0</td>\n",
              "      <td>2</td>\n",
              "      <td>1</td>\n",
              "      <td>2</td>\n",
              "      <td>5</td>\n",
              "      <td>7</td>\n",
              "      <td>0</td>\n",
              "      <td>6</td>\n",
              "      <td>1961.0</td>\n",
              "      <td>2</td>\n",
              "      <td>1.0</td>\n",
              "      <td>730.0</td>\n",
              "      <td>5</td>\n",
              "      <td>6</td>\n",
              "      <td>3</td>\n",
              "      <td>140</td>\n",
              "      <td>0</td>\n",
              "      <td>0</td>\n",
              "      <td>0</td>\n",
              "      <td>120</td>\n",
              "      <td>0</td>\n",
              "      <td>0</td>\n",
              "      <td>6</td>\n",
              "      <td>2010</td>\n",
              "      <td>6</td>\n",
              "      <td>5</td>\n",
              "    </tr>\n",
              "    <tr>\n",
              "      <th>1462</th>\n",
              "      <td>20</td>\n",
              "      <td>4</td>\n",
              "      <td>81.0</td>\n",
              "      <td>14267</td>\n",
              "      <td>2</td>\n",
              "      <td>2</td>\n",
              "      <td>2</td>\n",
              "      <td>2</td>\n",
              "      <td>2</td>\n",
              "      <td>1</td>\n",
              "      <td>10</td>\n",
              "      <td>4</td>\n",
              "      <td>5</td>\n",
              "      <td>4</td>\n",
              "      <td>5</td>\n",
              "      <td>6</td>\n",
              "      <td>6</td>\n",
              "      <td>1958</td>\n",
              "      <td>1958</td>\n",
              "      <td>4</td>\n",
              "      <td>3</td>\n",
              "      <td>6</td>\n",
              "      <td>3</td>\n",
              "      <td>3</td>\n",
              "      <td>108.0</td>\n",
              "      <td>2</td>\n",
              "      <td>5</td>\n",
              "      <td>4</td>\n",
              "      <td>3</td>\n",
              "      <td>4</td>\n",
              "      <td>2</td>\n",
              "      <td>5</td>\n",
              "      <td>923.0</td>\n",
              "      <td>5</td>\n",
              "      <td>0.0</td>\n",
              "      <td>406.0</td>\n",
              "      <td>1329.0</td>\n",
              "      <td>6</td>\n",
              "      <td>3</td>\n",
              "      <td>2</td>\n",
              "      <td>6</td>\n",
              "      <td>1329</td>\n",
              "      <td>0</td>\n",
              "      <td>0</td>\n",
              "      <td>1329</td>\n",
              "      <td>0.0</td>\n",
              "      <td>0.0</td>\n",
              "      <td>1</td>\n",
              "      <td>1</td>\n",
              "      <td>3</td>\n",
              "      <td>1</td>\n",
              "      <td>3</td>\n",
              "      <td>6</td>\n",
              "      <td>7</td>\n",
              "      <td>0</td>\n",
              "      <td>6</td>\n",
              "      <td>1958.0</td>\n",
              "      <td>2</td>\n",
              "      <td>1.0</td>\n",
              "      <td>312.0</td>\n",
              "      <td>5</td>\n",
              "      <td>6</td>\n",
              "      <td>3</td>\n",
              "      <td>393</td>\n",
              "      <td>36</td>\n",
              "      <td>0</td>\n",
              "      <td>0</td>\n",
              "      <td>0</td>\n",
              "      <td>0</td>\n",
              "      <td>12500</td>\n",
              "      <td>6</td>\n",
              "      <td>2010</td>\n",
              "      <td>6</td>\n",
              "      <td>5</td>\n",
              "    </tr>\n",
              "    <tr>\n",
              "      <th>1463</th>\n",
              "      <td>60</td>\n",
              "      <td>4</td>\n",
              "      <td>74.0</td>\n",
              "      <td>13830</td>\n",
              "      <td>2</td>\n",
              "      <td>2</td>\n",
              "      <td>2</td>\n",
              "      <td>2</td>\n",
              "      <td>1</td>\n",
              "      <td>1</td>\n",
              "      <td>14</td>\n",
              "      <td>4</td>\n",
              "      <td>5</td>\n",
              "      <td>4</td>\n",
              "      <td>7</td>\n",
              "      <td>5</td>\n",
              "      <td>5</td>\n",
              "      <td>1997</td>\n",
              "      <td>1998</td>\n",
              "      <td>2</td>\n",
              "      <td>3</td>\n",
              "      <td>12</td>\n",
              "      <td>14</td>\n",
              "      <td>2</td>\n",
              "      <td>0.0</td>\n",
              "      <td>2</td>\n",
              "      <td>5</td>\n",
              "      <td>6</td>\n",
              "      <td>4</td>\n",
              "      <td>4</td>\n",
              "      <td>2</td>\n",
              "      <td>7</td>\n",
              "      <td>791.0</td>\n",
              "      <td>5</td>\n",
              "      <td>0.0</td>\n",
              "      <td>137.0</td>\n",
              "      <td>928.0</td>\n",
              "      <td>6</td>\n",
              "      <td>4</td>\n",
              "      <td>2</td>\n",
              "      <td>6</td>\n",
              "      <td>928</td>\n",
              "      <td>701</td>\n",
              "      <td>0</td>\n",
              "      <td>1629</td>\n",
              "      <td>0.0</td>\n",
              "      <td>0.0</td>\n",
              "      <td>2</td>\n",
              "      <td>1</td>\n",
              "      <td>3</td>\n",
              "      <td>1</td>\n",
              "      <td>2</td>\n",
              "      <td>6</td>\n",
              "      <td>7</td>\n",
              "      <td>1</td>\n",
              "      <td>6</td>\n",
              "      <td>1997.0</td>\n",
              "      <td>4</td>\n",
              "      <td>2.0</td>\n",
              "      <td>482.0</td>\n",
              "      <td>5</td>\n",
              "      <td>6</td>\n",
              "      <td>3</td>\n",
              "      <td>212</td>\n",
              "      <td>34</td>\n",
              "      <td>0</td>\n",
              "      <td>0</td>\n",
              "      <td>0</td>\n",
              "      <td>0</td>\n",
              "      <td>0</td>\n",
              "      <td>3</td>\n",
              "      <td>2010</td>\n",
              "      <td>6</td>\n",
              "      <td>5</td>\n",
              "    </tr>\n",
              "    <tr>\n",
              "      <th>1464</th>\n",
              "      <td>60</td>\n",
              "      <td>4</td>\n",
              "      <td>78.0</td>\n",
              "      <td>9978</td>\n",
              "      <td>2</td>\n",
              "      <td>2</td>\n",
              "      <td>2</td>\n",
              "      <td>2</td>\n",
              "      <td>1</td>\n",
              "      <td>1</td>\n",
              "      <td>14</td>\n",
              "      <td>4</td>\n",
              "      <td>5</td>\n",
              "      <td>4</td>\n",
              "      <td>7</td>\n",
              "      <td>6</td>\n",
              "      <td>6</td>\n",
              "      <td>1998</td>\n",
              "      <td>1998</td>\n",
              "      <td>2</td>\n",
              "      <td>3</td>\n",
              "      <td>12</td>\n",
              "      <td>14</td>\n",
              "      <td>3</td>\n",
              "      <td>20.0</td>\n",
              "      <td>2</td>\n",
              "      <td>5</td>\n",
              "      <td>6</td>\n",
              "      <td>3</td>\n",
              "      <td>4</td>\n",
              "      <td>2</td>\n",
              "      <td>7</td>\n",
              "      <td>602.0</td>\n",
              "      <td>5</td>\n",
              "      <td>0.0</td>\n",
              "      <td>324.0</td>\n",
              "      <td>926.0</td>\n",
              "      <td>6</td>\n",
              "      <td>5</td>\n",
              "      <td>2</td>\n",
              "      <td>6</td>\n",
              "      <td>926</td>\n",
              "      <td>678</td>\n",
              "      <td>0</td>\n",
              "      <td>1604</td>\n",
              "      <td>0.0</td>\n",
              "      <td>0.0</td>\n",
              "      <td>2</td>\n",
              "      <td>1</td>\n",
              "      <td>3</td>\n",
              "      <td>1</td>\n",
              "      <td>3</td>\n",
              "      <td>7</td>\n",
              "      <td>7</td>\n",
              "      <td>1</td>\n",
              "      <td>6</td>\n",
              "      <td>1998.0</td>\n",
              "      <td>4</td>\n",
              "      <td>2.0</td>\n",
              "      <td>470.0</td>\n",
              "      <td>5</td>\n",
              "      <td>6</td>\n",
              "      <td>3</td>\n",
              "      <td>360</td>\n",
              "      <td>36</td>\n",
              "      <td>0</td>\n",
              "      <td>0</td>\n",
              "      <td>0</td>\n",
              "      <td>0</td>\n",
              "      <td>0</td>\n",
              "      <td>6</td>\n",
              "      <td>2010</td>\n",
              "      <td>6</td>\n",
              "      <td>5</td>\n",
              "    </tr>\n",
              "    <tr>\n",
              "      <th>1465</th>\n",
              "      <td>120</td>\n",
              "      <td>4</td>\n",
              "      <td>43.0</td>\n",
              "      <td>5005</td>\n",
              "      <td>2</td>\n",
              "      <td>2</td>\n",
              "      <td>4</td>\n",
              "      <td>2</td>\n",
              "      <td>1</td>\n",
              "      <td>1</td>\n",
              "      <td>23</td>\n",
              "      <td>4</td>\n",
              "      <td>5</td>\n",
              "      <td>5</td>\n",
              "      <td>5</td>\n",
              "      <td>8</td>\n",
              "      <td>5</td>\n",
              "      <td>1992</td>\n",
              "      <td>1992</td>\n",
              "      <td>2</td>\n",
              "      <td>3</td>\n",
              "      <td>9</td>\n",
              "      <td>9</td>\n",
              "      <td>2</td>\n",
              "      <td>0.0</td>\n",
              "      <td>3</td>\n",
              "      <td>5</td>\n",
              "      <td>6</td>\n",
              "      <td>4</td>\n",
              "      <td>4</td>\n",
              "      <td>2</td>\n",
              "      <td>5</td>\n",
              "      <td>263.0</td>\n",
              "      <td>5</td>\n",
              "      <td>0.0</td>\n",
              "      <td>1017.0</td>\n",
              "      <td>1280.0</td>\n",
              "      <td>6</td>\n",
              "      <td>5</td>\n",
              "      <td>2</td>\n",
              "      <td>6</td>\n",
              "      <td>1280</td>\n",
              "      <td>0</td>\n",
              "      <td>0</td>\n",
              "      <td>1280</td>\n",
              "      <td>0.0</td>\n",
              "      <td>0.0</td>\n",
              "      <td>2</td>\n",
              "      <td>0</td>\n",
              "      <td>2</td>\n",
              "      <td>1</td>\n",
              "      <td>3</td>\n",
              "      <td>5</td>\n",
              "      <td>7</td>\n",
              "      <td>0</td>\n",
              "      <td>6</td>\n",
              "      <td>1992.0</td>\n",
              "      <td>3</td>\n",
              "      <td>2.0</td>\n",
              "      <td>506.0</td>\n",
              "      <td>5</td>\n",
              "      <td>6</td>\n",
              "      <td>3</td>\n",
              "      <td>0</td>\n",
              "      <td>82</td>\n",
              "      <td>0</td>\n",
              "      <td>0</td>\n",
              "      <td>144</td>\n",
              "      <td>0</td>\n",
              "      <td>0</td>\n",
              "      <td>1</td>\n",
              "      <td>2010</td>\n",
              "      <td>6</td>\n",
              "      <td>5</td>\n",
              "    </tr>\n",
              "  </tbody>\n",
              "</table>\n",
              "</div>"
            ],
            "text/plain": [
              "      MSSubClass  MSZoning  LotFrontage  ...  YrSold  SaleType  SaleCondition\n",
              "Id                                       ...                                 \n",
              "1461          20         3         80.0  ...    2010         6              5\n",
              "1462          20         4         81.0  ...    2010         6              5\n",
              "1463          60         4         74.0  ...    2010         6              5\n",
              "1464          60         4         78.0  ...    2010         6              5\n",
              "1465         120         4         43.0  ...    2010         6              5\n",
              "\n",
              "[5 rows x 74 columns]"
            ]
          },
          "metadata": {},
          "execution_count": 79
        }
      ]
    },
    {
      "cell_type": "code",
      "metadata": {
        "id": "1pkaN-j4Rj1j",
        "outputId": "7ad68dac-dafe-463a-ab18-c60acf1e28d7",
        "colab": {
          "base_uri": "https://localhost:8080/"
        }
      },
      "source": [
        "test['MSZoning'].value_counts()"
      ],
      "execution_count": 80,
      "outputs": [
        {
          "output_type": "execute_result",
          "data": {
            "text/plain": [
              "4    1114\n",
              "2     242\n",
              "5      74\n",
              "1      15\n",
              "3      10\n",
              "0       4\n",
              "Name: MSZoning, dtype: int64"
            ]
          },
          "metadata": {},
          "execution_count": 80
        }
      ]
    },
    {
      "cell_type": "code",
      "metadata": {
        "id": "LOXyzDPaRmWr",
        "outputId": "c19a10ea-d5b0-4b23-8b85-8a7e18b691b4",
        "colab": {
          "base_uri": "https://localhost:8080/"
        }
      },
      "source": [
        "train['MSZoning'].value_counts()"
      ],
      "execution_count": 81,
      "outputs": [
        {
          "output_type": "execute_result",
          "data": {
            "text/plain": [
              "4    1151\n",
              "2     218\n",
              "5      65\n",
              "3      16\n",
              "1      10\n",
              "Name: MSZoning, dtype: int64"
            ]
          },
          "metadata": {},
          "execution_count": 81
        }
      ]
    },
    {
      "cell_type": "markdown",
      "metadata": {
        "id": "evJy9NNjaLhX"
      },
      "source": [
        "# **1. Feature exploration**"
      ]
    },
    {
      "cell_type": "markdown",
      "metadata": {
        "id": "d3Q_I6B9kTwy"
      },
      "source": [
        "## **1.2. Select K best numerics**"
      ]
    },
    {
      "cell_type": "code",
      "metadata": {
        "id": "yUwISi6PfPVb"
      },
      "source": [
        "# Choose numeric types and try SelectKBest features\n",
        "train_numeric = train.select_dtypes(include=['float64', 'int64'])\n",
        "train_numeric.drop(columns=['SalePrice'], inplace=True)"
      ],
      "execution_count": 82,
      "outputs": []
    },
    {
      "cell_type": "code",
      "metadata": {
        "id": "Q92uEfNKf8bw"
      },
      "source": [
        "features_selector = SelectKBest(score_func=chi2, k=select_k_numerics)\n",
        "fit = features_selector.fit(train_numeric, target)"
      ],
      "execution_count": 83,
      "outputs": []
    },
    {
      "cell_type": "code",
      "metadata": {
        "id": "eEm9rsOWidOx",
        "outputId": "0eeb05c8-6ebd-406a-d6a6-81f12a78349c",
        "colab": {
          "base_uri": "https://localhost:8080/",
          "height": 665
        }
      },
      "source": [
        "feature_scores = pd.DataFrame({\n",
        "    'Scores': pd.Series(fit.scores_),\n",
        "    'Colnames': pd.Series(train_numeric.columns)\n",
        "})\n",
        "feature_scores.nlargest(select_k_numerics, 'Scores')"
      ],
      "execution_count": 84,
      "outputs": [
        {
          "output_type": "execute_result",
          "data": {
            "text/html": [
              "<div>\n",
              "<style scoped>\n",
              "    .dataframe tbody tr th:only-of-type {\n",
              "        vertical-align: middle;\n",
              "    }\n",
              "\n",
              "    .dataframe tbody tr th {\n",
              "        vertical-align: top;\n",
              "    }\n",
              "\n",
              "    .dataframe thead th {\n",
              "        text-align: right;\n",
              "    }\n",
              "</style>\n",
              "<table border=\"1\" class=\"dataframe\">\n",
              "  <thead>\n",
              "    <tr style=\"text-align: right;\">\n",
              "      <th></th>\n",
              "      <th>Scores</th>\n",
              "      <th>Colnames</th>\n",
              "    </tr>\n",
              "  </thead>\n",
              "  <tbody>\n",
              "    <tr>\n",
              "      <th>3</th>\n",
              "      <td>1.011497e+07</td>\n",
              "      <td>LotArea</td>\n",
              "    </tr>\n",
              "    <tr>\n",
              "      <th>69</th>\n",
              "      <td>6.253332e+06</td>\n",
              "      <td>MiscVal</td>\n",
              "    </tr>\n",
              "    <tr>\n",
              "      <th>42</th>\n",
              "      <td>4.648841e+05</td>\n",
              "      <td>2ndFlrSF</td>\n",
              "    </tr>\n",
              "    <tr>\n",
              "      <th>32</th>\n",
              "      <td>3.999851e+05</td>\n",
              "      <td>BsmtFinSF1</td>\n",
              "    </tr>\n",
              "    <tr>\n",
              "      <th>68</th>\n",
              "      <td>3.835642e+05</td>\n",
              "      <td>PoolArea</td>\n",
              "    </tr>\n",
              "    <tr>\n",
              "      <th>34</th>\n",
              "      <td>3.688827e+05</td>\n",
              "      <td>BsmtFinSF2</td>\n",
              "    </tr>\n",
              "    <tr>\n",
              "      <th>24</th>\n",
              "      <td>2.880241e+05</td>\n",
              "      <td>MasVnrArea</td>\n",
              "    </tr>\n",
              "    <tr>\n",
              "      <th>35</th>\n",
              "      <td>2.747512e+05</td>\n",
              "      <td>BsmtUnfSF</td>\n",
              "    </tr>\n",
              "    <tr>\n",
              "      <th>43</th>\n",
              "      <td>2.448810e+05</td>\n",
              "      <td>LowQualFinSF</td>\n",
              "    </tr>\n",
              "    <tr>\n",
              "      <th>44</th>\n",
              "      <td>1.968501e+05</td>\n",
              "      <td>GrLivArea</td>\n",
              "    </tr>\n",
              "    <tr>\n",
              "      <th>36</th>\n",
              "      <td>1.747065e+05</td>\n",
              "      <td>TotalBsmtSF</td>\n",
              "    </tr>\n",
              "    <tr>\n",
              "      <th>66</th>\n",
              "      <td>1.549360e+05</td>\n",
              "      <td>3SsnPorch</td>\n",
              "    </tr>\n",
              "    <tr>\n",
              "      <th>67</th>\n",
              "      <td>1.366295e+05</td>\n",
              "      <td>ScreenPorch</td>\n",
              "    </tr>\n",
              "    <tr>\n",
              "      <th>63</th>\n",
              "      <td>1.298338e+05</td>\n",
              "      <td>WoodDeckSF</td>\n",
              "    </tr>\n",
              "    <tr>\n",
              "      <th>41</th>\n",
              "      <td>1.238098e+05</td>\n",
              "      <td>1stFlrSF</td>\n",
              "    </tr>\n",
              "    <tr>\n",
              "      <th>65</th>\n",
              "      <td>9.888657e+04</td>\n",
              "      <td>EnclosedPorch</td>\n",
              "    </tr>\n",
              "    <tr>\n",
              "      <th>59</th>\n",
              "      <td>9.618405e+04</td>\n",
              "      <td>GarageArea</td>\n",
              "    </tr>\n",
              "    <tr>\n",
              "      <th>64</th>\n",
              "      <td>7.436257e+04</td>\n",
              "      <td>OpenPorchSF</td>\n",
              "    </tr>\n",
              "    <tr>\n",
              "      <th>0</th>\n",
              "      <td>1.928123e+04</td>\n",
              "      <td>MSSubClass</td>\n",
              "    </tr>\n",
              "    <tr>\n",
              "      <th>2</th>\n",
              "      <td>5.078640e+03</td>\n",
              "      <td>LotFrontage</td>\n",
              "    </tr>\n",
              "  </tbody>\n",
              "</table>\n",
              "</div>"
            ],
            "text/plain": [
              "          Scores       Colnames\n",
              "3   1.011497e+07        LotArea\n",
              "69  6.253332e+06        MiscVal\n",
              "42  4.648841e+05       2ndFlrSF\n",
              "32  3.999851e+05     BsmtFinSF1\n",
              "68  3.835642e+05       PoolArea\n",
              "34  3.688827e+05     BsmtFinSF2\n",
              "24  2.880241e+05     MasVnrArea\n",
              "35  2.747512e+05      BsmtUnfSF\n",
              "43  2.448810e+05   LowQualFinSF\n",
              "44  1.968501e+05      GrLivArea\n",
              "36  1.747065e+05    TotalBsmtSF\n",
              "66  1.549360e+05      3SsnPorch\n",
              "67  1.366295e+05    ScreenPorch\n",
              "63  1.298338e+05     WoodDeckSF\n",
              "41  1.238098e+05       1stFlrSF\n",
              "65  9.888657e+04  EnclosedPorch\n",
              "59  9.618405e+04     GarageArea\n",
              "64  7.436257e+04    OpenPorchSF\n",
              "0   1.928123e+04     MSSubClass\n",
              "2   5.078640e+03    LotFrontage"
            ]
          },
          "metadata": {},
          "execution_count": 84
        }
      ]
    },
    {
      "cell_type": "markdown",
      "metadata": {
        "id": "0elLUuTTlxI6"
      },
      "source": [
        "**Insight #2. Number of important numeric columns**"
      ]
    },
    {
      "cell_type": "markdown",
      "metadata": {
        "id": "joal-ISg8fEk"
      },
      "source": [
        "## **1.3. Heatmap for numerics**"
      ]
    },
    {
      "cell_type": "code",
      "metadata": {
        "id": "W6dLHPlLVLLA"
      },
      "source": [
        "corrs = train.drop('SalePrice',axis=1).corrwith(train['SalePrice']).sort_values(ascending=False)\n",
        "\n",
        "fig,axes=plt.subplots(1,1,figsize=(12,9))\n",
        "axes.axhline(corrs[corrs>0].mean(), ls=':',color='black',linewidth=2)\n",
        "axes.text(25.5,corrs[corrs>0].mean()+.015, \"Average = {:.3f}\".format(corrs[corrs>0].mean()),color='black',size=14)\n",
        "axes.axhline(corrs[corrs<0].mean(), ls=':',color='black',linewidth=2)\n",
        "axes.text(25.5,corrs[corrs<0].mean()-.035, \"Average = {:.3f}\".format(corrs[corrs<0].mean()),color='black',size=14)\n",
        "sns.barplot(y=corrs,x=corrs.index,palette='Spectral')\n",
        "plt.title('Correlation of Sale Price to other Features',size=20,color='black',y=1.03)\n",
        "plt.xticks(rotation=90)\n",
        "for p in axes.patches:\n",
        "            value = p.get_height()\n",
        "            if value <=.5:\n",
        "                continue\n",
        "            x = p.get_x() + p.get_width()-.9\n",
        "            y = p.get_y() + p.get_height()+(.02*value)\n",
        "            axes.text(x, y, str(value)[1:5], ha=\"left\",fontsize=12,color='#000000')\n",
        "plt.tight_layout()"
      ],
      "execution_count": null,
      "outputs": []
    },
    {
      "cell_type": "code",
      "metadata": {
        "id": "D5SxVO858qmi"
      },
      "source": [
        "train_numeric['SalePrice'] = target\n",
        "corr_matrix = train_numeric.corr()\n",
        "\n",
        "plt.figure(figsize=(15,15))\n",
        "sns.heatmap(corr_matrix, cmap=\"RdYlGn\")"
      ],
      "execution_count": null,
      "outputs": []
    },
    {
      "cell_type": "markdown",
      "metadata": {
        "id": "WPhfXL-Q-zN3"
      },
      "source": [
        "**Insight. There are ~14 numeric features, highly correlated with the target**"
      ]
    },
    {
      "cell_type": "code",
      "metadata": {
        "id": "klvLAXxZ_K2U"
      },
      "source": [
        "num_corr_res = corr_filter(\n",
        "    corr_matrix,\n",
        "    target_feature='SalePrice',\n",
        "    abs_thresh=0.4)\n",
        "del num_corr_res['SalePrice']"
      ],
      "execution_count": null,
      "outputs": []
    },
    {
      "cell_type": "code",
      "metadata": {
        "id": "5m0CCVthAq6W"
      },
      "source": [
        "for feature_name, corr_coef in num_corr_res.items():\n",
        "    print(feature_name, corr_coef)"
      ],
      "execution_count": null,
      "outputs": []
    },
    {
      "cell_type": "markdown",
      "metadata": {
        "id": "Kfdo5dzVCdUs"
      },
      "source": [
        ""
      ]
    },
    {
      "cell_type": "markdown",
      "metadata": {
        "id": "2d53YHKUCoLL"
      },
      "source": [
        "## **1.4. Select K best categorical**"
      ]
    },
    {
      "cell_type": "code",
      "metadata": {
        "id": "tJ2KBCfJCwwj"
      },
      "source": [
        "print_unique_dtypes(train)"
      ],
      "execution_count": null,
      "outputs": []
    },
    {
      "cell_type": "code",
      "metadata": {
        "id": "Dhdp7LhOFOXj"
      },
      "source": [
        "train_categorical = train.select_dtypes(include=['O'])\n",
        "train_categorical.fillna(\"Missing\", inplace=True)\n",
        "train_categorical['SalePrice'] = target\n",
        "train_categorical.head()"
      ],
      "execution_count": null,
      "outputs": []
    },
    {
      "cell_type": "code",
      "metadata": {
        "id": "KjxkKDsmH64x"
      },
      "source": [
        "encoder = OrdinalEncoder()\n",
        "encoder.fit(train_categorical)\n",
        "train_categorical_enc = pd.DataFrame(encoder.transform(train_categorical), columns=train_categorical.columns)"
      ],
      "execution_count": null,
      "outputs": []
    },
    {
      "cell_type": "code",
      "metadata": {
        "id": "egob9fUJXDYb"
      },
      "source": [
        "for c1, c2 in zip(train_categorical.columns, train_categorical_enc.columns):\n",
        "    if len(train_categorical[c1].unique()) != len(train_categorical_enc[c2].unique()):\n",
        "        print(f'SMTH WRONG!!')"
      ],
      "execution_count": null,
      "outputs": []
    },
    {
      "cell_type": "code",
      "metadata": {
        "id": "qktG1Wv7GPuG"
      },
      "source": [
        "plt.figure(figsize = (15, 15))\n",
        "sns.heatmap(train_categorical_enc.corr())"
      ],
      "execution_count": null,
      "outputs": []
    },
    {
      "cell_type": "code",
      "metadata": {
        "id": "DZ1oeOf8a8eK"
      },
      "source": [
        "cat_corr_res = corr_filter(\n",
        "    train_categorical_enc.corr(),\n",
        "    target_feature='SalePrice',\n",
        "    abs_thresh=0.4)\n",
        "del cat_corr_res['SalePrice']"
      ],
      "execution_count": null,
      "outputs": []
    },
    {
      "cell_type": "code",
      "metadata": {
        "id": "yNr1s1LkbMvB"
      },
      "source": [
        "for k, v in cat_corr_res.items():\n",
        "    print(k, v)"
      ],
      "execution_count": null,
      "outputs": []
    },
    {
      "cell_type": "markdown",
      "metadata": {
        "id": "G65C7ybGbh8P"
      },
      "source": [
        "**Insight. Categorical values, highly (>0.4) correlated with the target**\n",
        "**(Probably, manually insert ordering -> we will catch more features)**"
      ]
    },
    {
      "cell_type": "markdown",
      "metadata": {
        "id": "zfh-qzGKcuEm"
      },
      "source": [
        "#**2. Dataset clean (based on insights)**"
      ]
    },
    {
      "cell_type": "code",
      "metadata": {
        "id": "HrJFrIZVc7Dn"
      },
      "source": [
        "nan_features = res_nan_stat.keys()\n",
        "\n",
        "num_features_to_keep = list(num_corr_res.keys())\n",
        "cat_features_to_keep = list(cat_corr_res.keys())\n",
        "\n",
        "print(num_features_to_keep)\n",
        "print(cat_features_to_keep)\n",
        "print(nan_features)"
      ],
      "execution_count": null,
      "outputs": []
    },
    {
      "cell_type": "markdown",
      "metadata": {
        "id": "PG4P8aKqfyqq"
      },
      "source": [
        "## **2.1. Drop Nan**"
      ]
    },
    {
      "cell_type": "code",
      "metadata": {
        "id": "87tT2CNaf42i"
      },
      "source": [
        "def drop_cols(df, cols):\n",
        "    df.drop(columns = cols, inplace=True)"
      ],
      "execution_count": null,
      "outputs": []
    },
    {
      "cell_type": "markdown",
      "metadata": {
        "id": "rsmJPQY7gEy0"
      },
      "source": [
        "## **2.2. Keep only relevant features**"
      ]
    },
    {
      "cell_type": "code",
      "metadata": {
        "id": "Yo9o9LfSeE2W"
      },
      "source": [
        "def drop_cols_except(df, num_features, cat_features):\n",
        "    df.drop(df.columns.difference(cat_features + num_features), 1, inplace=True)"
      ],
      "execution_count": null,
      "outputs": []
    },
    {
      "cell_type": "markdown",
      "metadata": {
        "id": "2mJsWKY226RT"
      },
      "source": [
        "## **Skewed features**"
      ]
    },
    {
      "cell_type": "code",
      "metadata": {
        "id": "EQq8-KcD28rl"
      },
      "source": [
        "from scipy.stats import skew\n",
        "skewed = train.skew().sort_values(ascending=False)\n",
        "print(skewed)"
      ],
      "execution_count": null,
      "outputs": []
    },
    {
      "cell_type": "code",
      "metadata": {
        "id": "4CcQPM8V3zHw"
      },
      "source": [
        "sns.histplot(train['MasVnrArea'])"
      ],
      "execution_count": null,
      "outputs": []
    },
    {
      "cell_type": "code",
      "metadata": {
        "id": "lK3tgVcT5T0z"
      },
      "source": [
        "sns.histplot(train['TotalBsmtSF'])"
      ],
      "execution_count": null,
      "outputs": []
    },
    {
      "cell_type": "code",
      "metadata": {
        "id": "p2XcsDbE5cP5"
      },
      "source": [
        "sns.histplot(train['1stFlrSF'])"
      ],
      "execution_count": null,
      "outputs": []
    },
    {
      "cell_type": "code",
      "metadata": {
        "id": "RCf1IZhJ5m27"
      },
      "source": [
        "sns.histplot(train['GrLivArea'])"
      ],
      "execution_count": null,
      "outputs": []
    },
    {
      "cell_type": "markdown",
      "metadata": {
        "id": "8GhIdX2E68eo"
      },
      "source": [
        "**Insight: logarithmic transformation**"
      ]
    },
    {
      "cell_type": "markdown",
      "metadata": {
        "id": "WdPDCFOfgVOs"
      },
      "source": [
        "## **Final procedure**"
      ]
    },
    {
      "cell_type": "code",
      "metadata": {
        "id": "Z0XKOX5fgZSH"
      },
      "source": [
        "log_transform_features = ['MasVnrArea', 'TotalBsmtSF', '1stFlrSF', 'GrLivArea']\n",
        "\n",
        "# Train\n",
        "drop_cols(train, nan_features)\n",
        "drop_cols_except(\n",
        "    train, \n",
        "    num_features_to_keep + ['SalePrice'], \n",
        "    cat_features_to_keep\n",
        ")\n",
        "train['HeatingQC'] = train['HeatingQC'].astype('category').cat.codes\n",
        "for col in log_transform_features:\n",
        "    train[col] = np.log(train[col] + 0.001)\n",
        "train.fillna(method='bfill')\n",
        "# -----\n",
        "\n",
        "# Test\n",
        "drop_cols(test, nan_features)\n",
        "drop_cols_except(\n",
        "    test,\n",
        "    num_features_to_keep,\n",
        "    cat_features_to_keep\n",
        ")\n",
        "test['HeatingQC'] = test['HeatingQC'].astype('category').cat.codes\n",
        "for col in log_transform_features:\n",
        "    test[col] = np.log(test[col] + 0.001)\n",
        "test.fillna(method='bfill')\n",
        "# -----\n",
        "\n",
        "y = train['SalePrice']\n",
        "train.drop(columns=['SalePrice'], inplace=True)"
      ],
      "execution_count": null,
      "outputs": []
    },
    {
      "cell_type": "markdown",
      "metadata": {
        "id": "701VK4AeiMzl"
      },
      "source": [
        "# **3. Baseline Model**"
      ]
    },
    {
      "cell_type": "markdown",
      "metadata": {
        "id": "BUfRYQvbyMuj"
      },
      "source": [
        "## **3.1. Define pipelines & transformers for num & cat features**"
      ]
    },
    {
      "cell_type": "code",
      "metadata": {
        "id": "ud0byCrxiQ5y"
      },
      "source": [
        "print(train.dtypes.unique())\n",
        "\n",
        "num_features = list(train.select_dtypes(include=['int64', 'float64']).columns)\n",
        "cat_features = list(train.select_dtypes(include=['O']).columns)\n",
        "\n",
        "print(cat_features)\n",
        "print(num_features)"
      ],
      "execution_count": null,
      "outputs": []
    },
    {
      "cell_type": "code",
      "metadata": {
        "id": "KgZusBsroj5M"
      },
      "source": [
        "cat_pipeline = Pipeline(\n",
        "    steps = [\n",
        "             ('imputer', SimpleImputer(strategy='most_frequent')),\n",
        "             ('ordinal', OrdinalEncoder())\n",
        "    ]\n",
        ")\n",
        "\n",
        "num_pipeline = Pipeline(\n",
        "    steps = [\n",
        "             ('imputer', SimpleImputer()),\n",
        "             ('scaler', StandardScaler())\n",
        "    ]\n",
        ")\n",
        "\n",
        "cat_transformer = FeaturesTransformers(cat_features, cat_pipeline)\n",
        "num_transformer = FeaturesTransformers(num_features, num_pipeline)"
      ],
      "execution_count": null,
      "outputs": []
    },
    {
      "cell_type": "markdown",
      "metadata": {
        "id": "iqd21TCeyVU2"
      },
      "source": [
        "## **3.2. Approximate tune, try models**"
      ]
    },
    {
      "cell_type": "code",
      "metadata": {
        "id": "pCGvfySRoF_g"
      },
      "source": [
        "models = [\n",
        "          #('Regression', LinearRegression()),\n",
        "          #('RF', RandomForestRegressor()),\n",
        "          ('CatBoost', CatBoostRegressor(verbose=0)),\n",
        "          ('XGB', XGBRegressor()),\n",
        "          ('Elastic', ElasticNet()),\n",
        "          #('SVR', SVR()),\n",
        "          ('GradientBoost', GradientBoostingRegressor()),\n",
        "          ('LGBM', LGBMRegressor())\n",
        "          #('SGD', SGDRegressor())\n",
        "]\n",
        "\n",
        "res_dict = first_tune(\n",
        "    models,\n",
        "    scoring='neg_mean_squared_log_error',\n",
        "    X_train=train,\n",
        "    Y_train=y,\n",
        "    transformers = dict(\n",
        "        a=cat_transformer,\n",
        "        b=num_transformer\n",
        "    )\n",
        ")\n",
        "d_sorted = {k:v.mean() for k, v in sorted(res_dict.items(), key = lambda item: item[1].mean())}\n",
        "d_sorted"
      ],
      "execution_count": null,
      "outputs": []
    },
    {
      "cell_type": "markdown",
      "metadata": {
        "id": "YdtF1FWDHAwx"
      },
      "source": [
        "**Cat Boost Regression shows best metrics**"
      ]
    },
    {
      "cell_type": "markdown",
      "metadata": {
        "id": "6v_6zovfHFQg"
      },
      "source": [
        ""
      ]
    },
    {
      "cell_type": "markdown",
      "metadata": {
        "id": "2TC9K6kqIW8I"
      },
      "source": [
        "## **3.3. Fine tune & train val split**"
      ]
    },
    {
      "cell_type": "code",
      "metadata": {
        "id": "wN5xrmhMIq58"
      },
      "source": [
        "train.shape"
      ],
      "execution_count": null,
      "outputs": []
    },
    {
      "cell_type": "code",
      "metadata": {
        "id": "Nc8zjz9vIcba"
      },
      "source": [
        "X_train, X_val, y_train, y_val = train_test_split(train, y,\n",
        "                                                  train_size=train_proportion,\n",
        "                                                  random_state=rand_state)"
      ],
      "execution_count": null,
      "outputs": []
    },
    {
      "cell_type": "code",
      "metadata": {
        "id": "6DLbhJxJI86Z"
      },
      "source": [
        "X_train.shape, X_val.shape"
      ],
      "execution_count": null,
      "outputs": []
    },
    {
      "cell_type": "code",
      "metadata": {
        "id": "QsslwXQXI_Qd"
      },
      "source": [
        "fine_tune_models = [(\n",
        "    'CatBoost',\n",
        "    CatBoostRegressor(verbose=0),{\n",
        "        'model__depth': [4, 7],\n",
        "        'model__learning_rate': [0.03, 0.1],\n",
        "        'model__iterations': [100, 150, 200],\n",
        "        'model__l2_leaf_reg': [0.2, 0.5, 1]\n",
        "    }\n",
        ")]\n",
        "\n",
        "catboost_res = fine_tune(\n",
        "    fine_tune_models,\n",
        "    X_train,\n",
        "    y_train,\n",
        "    strategy='GridSearchCV',\n",
        "    search_params = dict(\n",
        "        verbose=3,\n",
        "        return_train_score=True,\n",
        "        n_jobs=-1,\n",
        "        scoring='neg_mean_squared_log_error',\n",
        "        cv=6\n",
        "    ),\n",
        "    transformers = dict(\n",
        "        numeric = num_transformer,\n",
        "        categorical = cat_transformer\n",
        "    )\n",
        ")"
      ],
      "execution_count": null,
      "outputs": []
    },
    {
      "cell_type": "markdown",
      "metadata": {
        "id": "e5eLNJJKNsLs"
      },
      "source": [
        "## **3.4. Best Model Selection**"
      ]
    },
    {
      "cell_type": "code",
      "metadata": {
        "id": "DpeEoB6rMmY-"
      },
      "source": [
        "best_model_score = catboost_res['CatBoost'].best_score_\n",
        "best_estimator = catboost_res['CatBoost'].best_estimator_\n",
        "print(best_model_score)"
      ],
      "execution_count": null,
      "outputs": []
    },
    {
      "cell_type": "code",
      "metadata": {
        "id": "QNv5dHqhNDDo"
      },
      "source": [
        "print(best_estimator)"
      ],
      "execution_count": null,
      "outputs": []
    },
    {
      "cell_type": "code",
      "metadata": {
        "id": "6iropJh1N5vr"
      },
      "source": [
        "best_estimator.fit(X_train, y_train)"
      ],
      "execution_count": null,
      "outputs": []
    },
    {
      "cell_type": "code",
      "metadata": {
        "id": "aYyH3misOKfZ"
      },
      "source": [
        "predicted = best_estimator.predict(X_val)\n",
        "print(mean_squared_log_error(predicted, y_val))"
      ],
      "execution_count": null,
      "outputs": []
    },
    {
      "cell_type": "markdown",
      "metadata": {
        "id": "Or_p2g7QPYVx"
      },
      "source": [
        "# **4. Submission**"
      ]
    },
    {
      "cell_type": "code",
      "metadata": {
        "id": "ZxYTkrmlPbdZ"
      },
      "source": [
        "best_estimator.fit(train, y)\n",
        "final_predictions = best_estimator.predict(test)"
      ],
      "execution_count": null,
      "outputs": []
    },
    {
      "cell_type": "code",
      "metadata": {
        "id": "8T0jYjXHP0p9"
      },
      "source": [
        "sample_submission = pd.read_csv(sample_submission_path, index_col='Id')\n",
        "submission = pd.DataFrame({\n",
        "    'Id': sample_submission.index,\n",
        "    'SalePrice': final_predictions\n",
        "})\n",
        "submission.to_csv(submission_path, index=False)"
      ],
      "execution_count": null,
      "outputs": []
    }
  ]
}