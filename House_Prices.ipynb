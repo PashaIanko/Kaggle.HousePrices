{
  "nbformat": 4,
  "nbformat_minor": 0,
  "metadata": {
    "colab": {
      "name": "House Prices.ipynb",
      "provenance": [],
      "authorship_tag": "ABX9TyPXyPbFTmkBQETX3kynpQGl",
      "include_colab_link": true
    },
    "kernelspec": {
      "name": "python3",
      "display_name": "Python 3"
    },
    "language_info": {
      "name": "python"
    }
  },
  "cells": [
    {
      "cell_type": "markdown",
      "metadata": {
        "id": "view-in-github",
        "colab_type": "text"
      },
      "source": [
        "<a href=\"https://colab.research.google.com/github/PashaIanko/Kaggle.HousePrices/blob/NewProcessing/House_Prices.ipynb\" target=\"_parent\"><img src=\"https://colab.research.google.com/assets/colab-badge.svg\" alt=\"Open In Colab\"/></a>"
      ]
    },
    {
      "cell_type": "markdown",
      "metadata": {
        "id": "dOwBkv6KSQWq"
      },
      "source": [
        "### Objectives:\n",
        "1. Learn important feature selection\n",
        "- SelectKBest from scikit learn\n",
        "- Correlation matrix\n",
        "- Feature importance from classifiers\n",
        "\n",
        "# Train preparation:\n",
        "1. Delete certain Nan cols\n",
        "2. Keep only selected numeric & categorical features\n"
      ]
    },
    {
      "cell_type": "markdown",
      "metadata": {
        "id": "aaX5wuXJXzOK"
      },
      "source": [
        "# **0. Packages, constants and Functions**"
      ]
    },
    {
      "cell_type": "markdown",
      "metadata": {
        "id": "0Sk1ghqfZ7oP"
      },
      "source": [
        "## Packages"
      ]
    },
    {
      "cell_type": "code",
      "metadata": {
        "id": "Mz9r2L2_hL-L",
        "colab": {
          "base_uri": "https://localhost:8080/"
        },
        "outputId": "3f58f4c8-44e3-49d4-8db9-6303529b4c9f"
      },
      "source": [
        "!pip install catboost"
      ],
      "execution_count": 173,
      "outputs": [
        {
          "output_type": "stream",
          "name": "stdout",
          "text": [
            "Requirement already satisfied: catboost in /usr/local/lib/python3.7/dist-packages (1.0.3)\n",
            "Requirement already satisfied: six in /usr/local/lib/python3.7/dist-packages (from catboost) (1.15.0)\n",
            "Requirement already satisfied: plotly in /usr/local/lib/python3.7/dist-packages (from catboost) (4.4.1)\n",
            "Requirement already satisfied: pandas>=0.24.0 in /usr/local/lib/python3.7/dist-packages (from catboost) (1.1.5)\n",
            "Requirement already satisfied: matplotlib in /usr/local/lib/python3.7/dist-packages (from catboost) (3.2.2)\n",
            "Requirement already satisfied: scipy in /usr/local/lib/python3.7/dist-packages (from catboost) (1.4.1)\n",
            "Requirement already satisfied: numpy>=1.16.0 in /usr/local/lib/python3.7/dist-packages (from catboost) (1.19.5)\n",
            "Requirement already satisfied: graphviz in /usr/local/lib/python3.7/dist-packages (from catboost) (0.10.1)\n",
            "Requirement already satisfied: python-dateutil>=2.7.3 in /usr/local/lib/python3.7/dist-packages (from pandas>=0.24.0->catboost) (2.8.2)\n",
            "Requirement already satisfied: pytz>=2017.2 in /usr/local/lib/python3.7/dist-packages (from pandas>=0.24.0->catboost) (2018.9)\n",
            "Requirement already satisfied: kiwisolver>=1.0.1 in /usr/local/lib/python3.7/dist-packages (from matplotlib->catboost) (1.3.2)\n",
            "Requirement already satisfied: pyparsing!=2.0.4,!=2.1.2,!=2.1.6,>=2.0.1 in /usr/local/lib/python3.7/dist-packages (from matplotlib->catboost) (2.4.7)\n",
            "Requirement already satisfied: cycler>=0.10 in /usr/local/lib/python3.7/dist-packages (from matplotlib->catboost) (0.10.0)\n",
            "Requirement already satisfied: retrying>=1.3.3 in /usr/local/lib/python3.7/dist-packages (from plotly->catboost) (1.3.3)\n"
          ]
        }
      ]
    },
    {
      "cell_type": "code",
      "metadata": {
        "id": "qkS-hIDT602H",
        "outputId": "d2452f35-7613-4568-e9af-da63fdab7539",
        "colab": {
          "base_uri": "https://localhost:8080/"
        }
      },
      "source": [
        "!pip install category_encoders"
      ],
      "execution_count": 174,
      "outputs": [
        {
          "output_type": "stream",
          "name": "stdout",
          "text": [
            "Requirement already satisfied: category_encoders in /usr/local/lib/python3.7/dist-packages (2.3.0)\n",
            "Requirement already satisfied: scikit-learn>=0.20.0 in /usr/local/lib/python3.7/dist-packages (from category_encoders) (0.22.2.post1)\n",
            "Requirement already satisfied: numpy>=1.14.0 in /usr/local/lib/python3.7/dist-packages (from category_encoders) (1.19.5)\n",
            "Requirement already satisfied: statsmodels>=0.9.0 in /usr/local/lib/python3.7/dist-packages (from category_encoders) (0.10.2)\n",
            "Requirement already satisfied: pandas>=0.21.1 in /usr/local/lib/python3.7/dist-packages (from category_encoders) (1.1.5)\n",
            "Requirement already satisfied: scipy>=1.0.0 in /usr/local/lib/python3.7/dist-packages (from category_encoders) (1.4.1)\n",
            "Requirement already satisfied: patsy>=0.5.1 in /usr/local/lib/python3.7/dist-packages (from category_encoders) (0.5.2)\n",
            "Requirement already satisfied: pytz>=2017.2 in /usr/local/lib/python3.7/dist-packages (from pandas>=0.21.1->category_encoders) (2018.9)\n",
            "Requirement already satisfied: python-dateutil>=2.7.3 in /usr/local/lib/python3.7/dist-packages (from pandas>=0.21.1->category_encoders) (2.8.2)\n",
            "Requirement already satisfied: six in /usr/local/lib/python3.7/dist-packages (from patsy>=0.5.1->category_encoders) (1.15.0)\n",
            "Requirement already satisfied: joblib>=0.11 in /usr/local/lib/python3.7/dist-packages (from scikit-learn>=0.20.0->category_encoders) (1.0.1)\n"
          ]
        }
      ]
    },
    {
      "cell_type": "code",
      "metadata": {
        "id": "2k0DiSDHYGf0"
      },
      "source": [
        "import pandas as pd\n",
        "import numpy as np\n",
        "from google.colab import drive\n",
        "\n",
        "# Plots\n",
        "import matplotlib.pyplot as plt\n",
        "import seaborn as sns\n",
        "\n",
        "# Printing\n",
        "import pprint\n",
        "\n",
        "# Feature selection\n",
        "from sklearn.feature_selection import chi2\n",
        "from sklearn.feature_selection import SelectKBest\n",
        "\n",
        "# Encoding\n",
        "from sklearn.preprocessing import OrdinalEncoder\n",
        "import category_encoders as ce\n",
        "\n",
        "# Pipeline\n",
        "from sklearn.pipeline import Pipeline\n",
        "from sklearn.impute import KNNImputer, SimpleImputer\n",
        "from sklearn.pipeline import make_pipeline\n",
        "\n",
        "# Model\n",
        "from sklearn.linear_model import LinearRegression\n",
        "from sklearn.ensemble import RandomForestRegressor\n",
        "from xgboost.sklearn import XGBRegressor\n",
        "from catboost import CatBoostRegressor\n",
        "from sklearn.linear_model import SGDRegressor\n",
        "from sklearn.linear_model import ElasticNet\n",
        "from sklearn.ensemble import GradientBoostingRegressor\n",
        "from sklearn.svm import SVR\n",
        "from lightgbm import LGBMRegressor\n",
        "\n",
        "from sklearn.model_selection import GridSearchCV\n",
        "from sklearn.model_selection import RandomizedSearchCV\n",
        "from sklearn.preprocessing import OrdinalEncoder, StandardScaler\n",
        "from sklearn.preprocessing import OneHotEncoder, MinMaxScaler, RobustScaler\n",
        "from sklearn.model_selection import train_test_split\n",
        "\n",
        "# For my functions\n",
        "from sklearn.model_selection import cross_val_score\n",
        "from sklearn.compose import ColumnTransformer\n",
        "\n",
        "# Metrics\n",
        "from sklearn.metrics import mean_squared_log_error"
      ],
      "execution_count": 175,
      "outputs": []
    },
    {
      "cell_type": "markdown",
      "metadata": {
        "id": "0CXWNiSkZjCI"
      },
      "source": [
        "## Constants"
      ]
    },
    {
      "cell_type": "code",
      "metadata": {
        "id": "D0Z1X3eqZqL-"
      },
      "source": [
        "train_proportion = 0.9\n",
        "validation_proportion = 0.1\n",
        "rand_state = 42\n",
        "\n",
        "# Feature selection\n",
        "select_k_numerics = 20  # select 20 out of 36 numeric features\n",
        "nan_drop_thresh = 0.25"
      ],
      "execution_count": 176,
      "outputs": []
    },
    {
      "cell_type": "markdown",
      "metadata": {
        "id": "bAEQWCI7Zm6n"
      },
      "source": [
        "## Functions"
      ]
    },
    {
      "cell_type": "code",
      "metadata": {
        "id": "ugkSwbcUZzzi"
      },
      "source": [
        "def nan_statistics(df, nan_thresh=0.0):\n",
        "    res = {}\n",
        "    nan_cols = df.loc[:, df.isna().any()].columns\n",
        "    for col in nan_cols:\n",
        "        res[col] = nan_percentage(df, col)\n",
        "    print(f'Col -- Nan percentage')\n",
        "    for key, val in sorted(res.items(), key=lambda item: item[1], reverse=True):\n",
        "        if val >= nan_thresh * 100:\n",
        "            print(key, val)\n",
        "        else:\n",
        "            del res[key]\n",
        "    return res\n",
        "\n",
        "def nan_percentage(df, colname):\n",
        "    return (df[colname].isnull().sum() / df.shape[0]) * 100\n",
        "\n",
        "def corr_filter(corr_matrix, target_feature, abs_thresh=0.3):\n",
        "    res = {}\n",
        "    series = corr_matrix[target_feature]\n",
        "    for idx, val in series.items():\n",
        "        if abs(val) >= abs_thresh:\n",
        "            res[idx] = val  # Feature names and corr coeff\n",
        "    return res\n",
        "\n",
        "def print_unique_dtypes(df):\n",
        "    print(set(train.dtypes.values))\n",
        "\n",
        "class FeaturesTransformers:\n",
        "    def __init__(self, features, transformers):\n",
        "        self.features = features\n",
        "        self.transformers = transformers"
      ],
      "execution_count": 177,
      "outputs": []
    },
    {
      "cell_type": "code",
      "metadata": {
        "id": "xgs5Ef8csT-z"
      },
      "source": [
        "def build_pipe(model, **transformers):\n",
        "    res_transformers = []\n",
        "    for key, val in transformers.items():\n",
        "        res_transformers.append((key, val.transformers, val.features))\n",
        "\n",
        "    preprocess = ColumnTransformer(\n",
        "        res_transformers\n",
        "    )\n",
        "    \n",
        "    pipe = Pipeline(\n",
        "        steps = [\n",
        "                 ('preprocessing', preprocess),\n",
        "                 ('model', model)\n",
        "        ]\n",
        "    )\n",
        "    return pipe\n",
        "\n",
        "def first_tune(models, scoring, X_train, Y_train, transformers):\n",
        "    res = dict()\n",
        "    for name, model in models:\n",
        "        model_pipeline = build_pipe(model, **transformers)\n",
        "        cv_scores = cross_val_score(model_pipeline, X_train, Y_train, scoring=scoring)\n",
        "        res[name] = cv_scores\n",
        "\n",
        "    return dict(sorted(res.items(), reverse=True, key=lambda x: np.mean(x[1])))"
      ],
      "execution_count": 178,
      "outputs": []
    },
    {
      "cell_type": "code",
      "metadata": {
        "id": "gZjqmf_vJgfp"
      },
      "source": [
        "def fine_tune(models, X_train, Y_train, strategy, search_params, transformers):\n",
        "\n",
        "    fine_tune_res = {}\n",
        "\n",
        "    for name, model, param_grid in models:\n",
        "        print(search_params)\n",
        "        pipe = build_pipe(model, **transformers)\n",
        "\n",
        "        if strategy == 'GridSearchCV':\n",
        "            search_res = GridSearchCV(\n",
        "                estimator = pipe, \n",
        "                param_grid = param_grid,\n",
        "                **search_params\n",
        "            )\n",
        "\n",
        "        elif strategy == 'RandomizedSearchCV':\n",
        "            search_res = RandomizedSearchCV(\n",
        "                pipe, \n",
        "                param_grid,\n",
        "                **search_params\n",
        "            )\n",
        "        search_res.fit(X_train, Y_train)\n",
        "        fine_tune_res[name] = search_res\n",
        "    \n",
        "    return dict(sorted(fine_tune_res.items(), reverse=True, key=lambda x: x[1].best_score_))\n",
        "\n",
        "class FeaturesTransformers:\n",
        "    def __init__(self, features, transformers):\n",
        "        self.features = features\n",
        "        self.transformers = transformers"
      ],
      "execution_count": 179,
      "outputs": []
    },
    {
      "cell_type": "code",
      "metadata": {
        "id": "F7i4IaZf8qTX"
      },
      "source": [
        "import seaborn as sns\n",
        "import numpy as np\n",
        "import math\n",
        "import scipy.stats as ss\n",
        "import matplotlib.pyplot as plt\n",
        "\n",
        "def skew_autotransform(DF, include = None, exclude = None, plot = False, threshold = 1, exp = False):\n",
        "    \n",
        "    #Get list of column names that should be processed based on input parameters\n",
        "    if include is None and exclude is None:\n",
        "        colnames = DF.columns.values\n",
        "    elif include is not None:\n",
        "        colnames = include\n",
        "    elif exclude is not None:\n",
        "        colnames = [item for item in list(DF.columns.values) if item not in exclude]\n",
        "    else:\n",
        "        print('No columns to process!')\n",
        "    \n",
        "    #Helper function that checks if all values are positive\n",
        "    def make_positive(series):\n",
        "        minimum = np.amin(series)\n",
        "        #If minimum is negative, offset all values by a constant to move all values to positive teritory\n",
        "        if minimum <= 0:\n",
        "            series = series + abs(minimum) + 0.01\n",
        "        return series\n",
        "    \n",
        "    \n",
        "    #Go throug desired columns in DataFrame\n",
        "    for col in colnames:\n",
        "        #Get column skewness\n",
        "        skew = DF[col].skew()\n",
        "        transformed = True\n",
        "        \n",
        "        if plot:\n",
        "            #Prep the plot of original data\n",
        "            sns.set_style(\"darkgrid\")\n",
        "            sns.set_palette(\"Blues_r\")\n",
        "            fig, axes = plt.subplots(1, 2, figsize=(10, 5))\n",
        "            ax1 = sns.distplot(DF[col], ax=axes[0])\n",
        "            ax1.set(xlabel='Original ' + col)\n",
        "        \n",
        "        #If skewness is larger than threshold and positively skewed; If yes, apply appropriate transformation\n",
        "        if abs(skew) > threshold and skew > 0:\n",
        "            skewType = 'positive'\n",
        "            #Make sure all values are positive\n",
        "            DF[col] = make_positive(DF[col])\n",
        "            \n",
        "            if exp:\n",
        "               #Apply log transformation \n",
        "               DF[col] = DF[col].apply(math.log)\n",
        "            else:\n",
        "                #Apply boxcox transformation\n",
        "                DF[col] = ss.boxcox(DF[col])[0]\n",
        "            skew_new = DF[col].skew()\n",
        "         \n",
        "        elif abs(skew) > threshold and skew < 0:\n",
        "            skewType = 'negative'\n",
        "            #Make sure all values are positive\n",
        "            DF[col] = make_positive(DF[col])\n",
        "            \n",
        "            if exp:\n",
        "               #Apply exp transformation \n",
        "               DF[col] = DF[col].pow(10)\n",
        "            else:\n",
        "                #Apply boxcox transformation\n",
        "                DF[col] = ss.boxcox(DF[col])[0]\n",
        "            skew_new = DF[col].skew()\n",
        "        \n",
        "        else:\n",
        "            #Flag if no transformation was performed\n",
        "            transformed = False\n",
        "            skew_new = skew\n",
        "        \n",
        "        #Compare before and after if plot is True\n",
        "        if plot:\n",
        "            print('\\n ------------------------------------------------------')     \n",
        "            if transformed:\n",
        "                print('\\n %r had %r skewness of %2.2f' %(col, skewType, skew))\n",
        "                print('\\n Transformation yielded skewness of %2.2f' %(skew_new))\n",
        "                sns.set_palette(\"Paired\")\n",
        "                ax2 = sns.distplot(DF[col], ax=axes[1], color = 'r')\n",
        "                ax2.set(xlabel='Transformed ' + col)\n",
        "                plt.show()\n",
        "            else:\n",
        "                print('\\n NO TRANSFORMATION APPLIED FOR %r . Skewness = %2.2f' %(col, skew))\n",
        "                ax2 = sns.distplot(DF[col], ax=axes[1])\n",
        "                ax2.set(xlabel='NO TRANSFORM ' + col)\n",
        "                plt.show()\n",
        "                \n",
        "\n",
        "    return DF"
      ],
      "execution_count": 180,
      "outputs": []
    },
    {
      "cell_type": "markdown",
      "metadata": {
        "id": "jLW5Vm2ciR3k"
      },
      "source": [
        "## Transformers"
      ]
    },
    {
      "cell_type": "code",
      "metadata": {
        "id": "tM7iwlGKiUcf"
      },
      "source": [
        "from abc import abstractmethod\n",
        "\n",
        "class Transformer:\n",
        "    def __init__(self):\n",
        "        pass\n",
        "    @abstractmethod\n",
        "    def transform():\n",
        "        pass\n",
        "\n",
        "class NanRemover(Transformer):\n",
        "    def __init__(self):\n",
        "        super().__init__()\n",
        "\n",
        "    def transform(df, cols):\n",
        "        df.drop(columns = cols, inplace=True)\n",
        "\n",
        "class NanCatFiller(Transformer):\n",
        "    def __init__(self):\n",
        "        super().__init()\n",
        "    \n",
        "    def transform(df, cols, val):\n",
        "        for c in cols:\n",
        "            df[c].fillna(value=val, inplace=True)\n",
        "\n",
        "class NanNumFiller(Transformer):\n",
        "    def __init__(self):\n",
        "        super().__init__()\n",
        "\n",
        "    def transform(df, cols, method):\n",
        "        if method == 'median':\n",
        "            for c in cols:\n",
        "                df[c].fillna(value=df[c].median(), inplace=True)"
      ],
      "execution_count": 181,
      "outputs": []
    },
    {
      "cell_type": "markdown",
      "metadata": {
        "id": "eqlgsEjCZ_b2"
      },
      "source": [
        "## Data download"
      ]
    },
    {
      "cell_type": "code",
      "metadata": {
        "id": "-RyB-68MYTrS",
        "colab": {
          "base_uri": "https://localhost:8080/"
        },
        "outputId": "6e841a80-bcab-487b-e6ea-7f52510c2317"
      },
      "source": [
        "# Setting file download from google Drive\n",
        "\n",
        "drive.mount('/content/gdrive')\n",
        "gdrive_path = '/content/gdrive/MyDrive/'\n",
        "df_path = 'ML/Datasets/2.HousePrices/'\n",
        "\n",
        "train_path = gdrive_path + df_path + \"train.csv\"\n",
        "test_path =  gdrive_path + df_path + \"test.csv\"\n",
        "submission_path = gdrive_path + df_path + \"submission.csv\"\n",
        "sample_submission_path = gdrive_path + df_path + \"sample_submission.csv\""
      ],
      "execution_count": 208,
      "outputs": [
        {
          "output_type": "stream",
          "name": "stdout",
          "text": [
            "Drive already mounted at /content/gdrive; to attempt to forcibly remount, call drive.mount(\"/content/gdrive\", force_remount=True).\n"
          ]
        }
      ]
    },
    {
      "cell_type": "code",
      "metadata": {
        "id": "KGzQlfveYcxI"
      },
      "source": [
        "train = pd.read_csv(train_path, index_col='Id')\n",
        "test = pd.read_csv(test_path, index_col='Id')\n",
        "target = train['SalePrice']"
      ],
      "execution_count": 209,
      "outputs": []
    },
    {
      "cell_type": "markdown",
      "metadata": {
        "id": "Ib1P9wY7kMdL"
      },
      "source": [
        "## **Nan statistics & remove Nans**"
      ]
    },
    {
      "cell_type": "code",
      "metadata": {
        "id": "MN8ZS_FJarp2",
        "colab": {
          "base_uri": "https://localhost:8080/"
        },
        "outputId": "09761eee-825a-4202-9cdc-a8582fde087f"
      },
      "source": [
        "# Remove columns with nan % > threshold\n",
        "\n",
        "res_nan_stat = nan_statistics(train, nan_thresh=0.2)\n",
        "print(res_nan_stat)\n",
        "NanRemover.transform(train, res_nan_stat.keys())\n",
        "NanRemover.transform(test, res_nan_stat.keys())"
      ],
      "execution_count": 210,
      "outputs": [
        {
          "output_type": "stream",
          "name": "stdout",
          "text": [
            "Col -- Nan percentage\n",
            "PoolQC 99.52054794520548\n",
            "MiscFeature 96.30136986301369\n",
            "Alley 93.76712328767123\n",
            "Fence 80.75342465753424\n",
            "FireplaceQu 47.26027397260274\n",
            "{'Alley': 93.76712328767123, 'FireplaceQu': 47.26027397260274, 'PoolQC': 99.52054794520548, 'Fence': 80.75342465753424, 'MiscFeature': 96.30136986301369}\n"
          ]
        }
      ]
    },
    {
      "cell_type": "markdown",
      "metadata": {
        "id": "Abd50tF_cSbv"
      },
      "source": [
        "**Insight #1: Remove features with Nans > 40% (PoolQC, MiscFeature, Alley, Fence, FireplaceQu)**"
      ]
    },
    {
      "cell_type": "markdown",
      "metadata": {
        "id": "Dr51gdz2i0Vm"
      },
      "source": [
        "## **Fill Na**"
      ]
    },
    {
      "cell_type": "code",
      "metadata": {
        "id": "nbJvWCxHi4xp",
        "colab": {
          "base_uri": "https://localhost:8080/"
        },
        "outputId": "4f32382c-f939-42e5-c5bf-ae61628c83d3"
      },
      "source": [
        "nan_statistics(train, nan_thresh=0.0).items()"
      ],
      "execution_count": 211,
      "outputs": [
        {
          "output_type": "stream",
          "name": "stdout",
          "text": [
            "Col -- Nan percentage\n",
            "LotFrontage 17.73972602739726\n",
            "GarageType 5.5479452054794525\n",
            "GarageYrBlt 5.5479452054794525\n",
            "GarageFinish 5.5479452054794525\n",
            "GarageQual 5.5479452054794525\n",
            "GarageCond 5.5479452054794525\n",
            "BsmtExposure 2.6027397260273974\n",
            "BsmtFinType2 2.6027397260273974\n",
            "BsmtQual 2.5342465753424657\n",
            "BsmtCond 2.5342465753424657\n",
            "BsmtFinType1 2.5342465753424657\n",
            "MasVnrType 0.547945205479452\n",
            "MasVnrArea 0.547945205479452\n",
            "Electrical 0.0684931506849315\n"
          ]
        },
        {
          "output_type": "execute_result",
          "data": {
            "text/plain": [
              "dict_items([('LotFrontage', 17.73972602739726), ('MasVnrType', 0.547945205479452), ('MasVnrArea', 0.547945205479452), ('BsmtQual', 2.5342465753424657), ('BsmtCond', 2.5342465753424657), ('BsmtExposure', 2.6027397260273974), ('BsmtFinType1', 2.5342465753424657), ('BsmtFinType2', 2.6027397260273974), ('Electrical', 0.0684931506849315), ('GarageType', 5.5479452054794525), ('GarageYrBlt', 5.5479452054794525), ('GarageFinish', 5.5479452054794525), ('GarageQual', 5.5479452054794525), ('GarageCond', 5.5479452054794525)])"
            ]
          },
          "metadata": {},
          "execution_count": 211
        }
      ]
    },
    {
      "cell_type": "code",
      "metadata": {
        "id": "2uO8lBo-jfAB"
      },
      "source": [
        "cat_colnames = train.select_dtypes(include=['O']).columns\n",
        "num_colnames = train.select_dtypes(include=['int64', 'float64']).columns\n",
        "num_test_colnames = [c for c in num_colnames if not (c == 'SalePrice')]\n",
        "\n",
        "NanCatFiller.transform(train, cat_colnames, val='Missing')\n",
        "NanCatFiller.transform(test, cat_colnames, val='Missing')\n",
        "\n",
        "NanNumFiller.transform(train, num_colnames, method='median')\n",
        "NanNumFiller.transform(test, num_test_colnames, method='median')"
      ],
      "execution_count": 212,
      "outputs": []
    },
    {
      "cell_type": "code",
      "metadata": {
        "id": "9XszMNerkgQy",
        "colab": {
          "base_uri": "https://localhost:8080/"
        },
        "outputId": "09aa3de9-9afc-4f2e-efb2-cd06b40abddf"
      },
      "source": [
        "nan_statistics(train, nan_thresh=0.0)"
      ],
      "execution_count": 213,
      "outputs": [
        {
          "output_type": "stream",
          "name": "stdout",
          "text": [
            "Col -- Nan percentage\n"
          ]
        },
        {
          "output_type": "execute_result",
          "data": {
            "text/plain": [
              "{}"
            ]
          },
          "metadata": {},
          "execution_count": 213
        }
      ]
    },
    {
      "cell_type": "markdown",
      "metadata": {
        "id": "Kc2gOxaWmzae"
      },
      "source": [
        "## **Explore categorical**"
      ]
    },
    {
      "cell_type": "code",
      "metadata": {
        "id": "q1ag_s9am43n",
        "colab": {
          "base_uri": "https://localhost:8080/"
        },
        "outputId": "5bfa63d0-4038-4981-9e47-e5df5b091b48"
      },
      "source": [
        "train.shape, test.shape"
      ],
      "execution_count": 188,
      "outputs": [
        {
          "output_type": "execute_result",
          "data": {
            "text/plain": [
              "((1460, 75), (1459, 74))"
            ]
          },
          "metadata": {},
          "execution_count": 188
        }
      ]
    },
    {
      "cell_type": "code",
      "metadata": {
        "id": "d9ScM90Mm8Ln",
        "colab": {
          "base_uri": "https://localhost:8080/"
        },
        "outputId": "edf2ad8d-cead-4120-f662-f8c11f949d65"
      },
      "source": [
        "cat_features = train.select_dtypes(include=['O']).columns\n",
        "print(len(cat_features))"
      ],
      "execution_count": 189,
      "outputs": [
        {
          "output_type": "stream",
          "name": "stdout",
          "text": [
            "38\n"
          ]
        }
      ]
    },
    {
      "cell_type": "code",
      "metadata": {
        "id": "SxPIhEaboEDO",
        "colab": {
          "base_uri": "https://localhost:8080/",
          "height": 0
        },
        "outputId": "b0cd3f34-bfa4-4919-f7b0-a5b850a25a83"
      },
      "source": [
        "def plot(feature):\n",
        "    subset = train[[feature, 'SalePrice']]\n",
        "    s = subset.groupby([feature]).median().sort_values(by='SalePrice')\n",
        "    \n",
        "    fig = plt.figure(figsize=(15, 5))\n",
        "    plt.subplot(1, 2, 1)\n",
        "    sns.histplot(x = feature, data=train, stat='percent')\n",
        "    plt.subplot(1, 2, 2)\n",
        "    sns.boxplot(x=feature, y='SalePrice', data=train, order=s.index)\n",
        "\n",
        "plot(cat_features[0])"
      ],
      "execution_count": 190,
      "outputs": [
        {
          "output_type": "display_data",
          "data": {
            "image/png": "[encoded data removed]",
            "text/plain": [
              "<Figure size 1080x360 with 2 Axes>"
            ]
          },
          "metadata": {
            "needs_background": "light"
          }
        }
      ]
    },
    {
      "cell_type": "code",
      "metadata": {
        "id": "MIXFoSMsssY9",
        "colab": {
          "base_uri": "https://localhost:8080/",
          "height": 0
        },
        "outputId": "8541ac0b-3a41-42f3-c422-41acb20afb00"
      },
      "source": [
        "plot(cat_features[1])"
      ],
      "execution_count": 191,
      "outputs": [
        {
          "output_type": "display_data",
          "data": {
            "image/png": "[encoded data removed]",
            "text/plain": [
              "<Figure size 1080x360 with 2 Axes>"
            ]
          },
          "metadata": {
            "needs_background": "light"
          }
        }
      ]
    },
    {
      "cell_type": "code",
      "metadata": {
        "id": "_I1CHFUMs2Lx",
        "colab": {
          "base_uri": "https://localhost:8080/",
          "height": 0
        },
        "outputId": "5a1a8cae-4a8a-4cf3-f988-c2a4ced621a1"
      },
      "source": [
        "plot(cat_features[2])"
      ],
      "execution_count": 192,
      "outputs": [
        {
          "output_type": "display_data",
          "data": {
            "image/png": "[encoded data removed]",
            "text/plain": [
              "<Figure size 1080x360 with 2 Axes>"
            ]
          },
          "metadata": {
            "needs_background": "light"
          }
        }
      ]
    },
    {
      "cell_type": "code",
      "metadata": {
        "id": "S2qGxAO_ti9V",
        "colab": {
          "base_uri": "https://localhost:8080/",
          "height": 0
        },
        "outputId": "8d01b3cb-281e-4a48-add8-d8563b6463f0"
      },
      "source": [
        "plot(cat_features[3])"
      ],
      "execution_count": 193,
      "outputs": [
        {
          "output_type": "display_data",
          "data": {
            "image/png": "[encoded data removed]",
            "text/plain": [
              "<Figure size 1080x360 with 2 Axes>"
            ]
          },
          "metadata": {
            "needs_background": "light"
          }
        }
      ]
    },
    {
      "cell_type": "code",
      "metadata": {
        "id": "7k2kftZ5twXj",
        "colab": {
          "base_uri": "https://localhost:8080/",
          "height": 0
        },
        "outputId": "5558aa33-9445-484c-be11-d1339bb43dae"
      },
      "source": [
        "plot(cat_features[4])"
      ],
      "execution_count": 194,
      "outputs": [
        {
          "output_type": "display_data",
          "data": {
            "image/png": "[encoded data removed]",
            "text/plain": [
              "<Figure size 1080x360 with 2 Axes>"
            ]
          },
          "metadata": {
            "needs_background": "light"
          }
        }
      ]
    },
    {
      "cell_type": "code",
      "metadata": {
        "id": "x-eiV7JNt8cR",
        "colab": {
          "base_uri": "https://localhost:8080/",
          "height": 0
        },
        "outputId": "caf1dc2c-f97a-4331-a15b-b43d695721ae"
      },
      "source": [
        "plot(cat_features[5])"
      ],
      "execution_count": 195,
      "outputs": [
        {
          "output_type": "display_data",
          "data": {
            "image/png": "[encoded data removed]",
            "text/plain": [
              "<Figure size 1080x360 with 2 Axes>"
            ]
          },
          "metadata": {
            "needs_background": "light"
          }
        }
      ]
    },
    {
      "cell_type": "code",
      "metadata": {
        "id": "CzBfRSNOuUT_",
        "colab": {
          "base_uri": "https://localhost:8080/",
          "height": 0
        },
        "outputId": "a3ad4016-95ab-49e1-9600-40a89bdd87da"
      },
      "source": [
        "plot(cat_features[6])"
      ],
      "execution_count": 196,
      "outputs": [
        {
          "output_type": "display_data",
          "data": {
            "image/png": "[encoded data removed]",
            "text/plain": [
              "<Figure size 1080x360 with 2 Axes>"
            ]
          },
          "metadata": {
            "needs_background": "light"
          }
        }
      ]
    },
    {
      "cell_type": "code",
      "metadata": {
        "id": "4XqjVWhPuoc6",
        "colab": {
          "base_uri": "https://localhost:8080/",
          "height": 0
        },
        "outputId": "80230e43-5192-4ace-c066-f3aacdf0eb43"
      },
      "source": [
        "plot(cat_features[7])"
      ],
      "execution_count": 197,
      "outputs": [
        {
          "output_type": "display_data",
          "data": {
            "image/png": "[encoded data removed]",
            "text/plain": [
              "<Figure size 1080x360 with 2 Axes>"
            ]
          },
          "metadata": {
            "needs_background": "light"
          }
        }
      ]
    },
    {
      "cell_type": "code",
      "metadata": {
        "id": "NoNJ_GJL0tNM",
        "colab": {
          "base_uri": "https://localhost:8080/",
          "height": 0
        },
        "outputId": "361d9f11-f4fb-451e-a66e-d32b97d6d2c2"
      },
      "source": [
        "plot(cat_features[8])"
      ],
      "execution_count": 198,
      "outputs": [
        {
          "output_type": "display_data",
          "data": {
            "image/png": "[encoded data removed]",
            "text/plain": [
              "<Figure size 1080x360 with 2 Axes>"
            ]
          },
          "metadata": {
            "needs_background": "light"
          }
        }
      ]
    },
    {
      "cell_type": "code",
      "metadata": {
        "id": "ZQCo3t2B0vch",
        "colab": {
          "base_uri": "https://localhost:8080/",
          "height": 0
        },
        "outputId": "391a4a43-86f2-4d04-a5db-a353652b92f4"
      },
      "source": [
        "plot(cat_features[9])"
      ],
      "execution_count": 199,
      "outputs": [
        {
          "output_type": "display_data",
          "data": {
            "image/png": "[encoded data removed]",
            "text/plain": [
              "<Figure size 1080x360 with 2 Axes>"
            ]
          },
          "metadata": {
            "needs_background": "light"
          }
        }
      ]
    },
    {
      "cell_type": "code",
      "metadata": {
        "id": "Q1WWmUzo09Di",
        "colab": {
          "base_uri": "https://localhost:8080/",
          "height": 0
        },
        "outputId": "05007d43-4242-47be-f80b-af35f4764c8b"
      },
      "source": [
        "plot(cat_features[10])"
      ],
      "execution_count": 200,
      "outputs": [
        {
          "output_type": "display_data",
          "data": {
            "image/png": "[encoded data removed]",
            "text/plain": [
              "<Figure size 1080x360 with 2 Axes>"
            ]
          },
          "metadata": {
            "needs_background": "light"
          }
        }
      ]
    },
    {
      "cell_type": "code",
      "metadata": {
        "id": "QfiOqs1Z1Dxv",
        "colab": {
          "base_uri": "https://localhost:8080/",
          "height": 0
        },
        "outputId": "f22b2e08-b052-49a9-bbc4-5f0fb6154823"
      },
      "source": [
        "plot(cat_features[11])"
      ],
      "execution_count": 201,
      "outputs": [
        {
          "output_type": "display_data",
          "data": {
            "image/png": "[encoded data removed]",
            "text/plain": [
              "<Figure size 1080x360 with 2 Axes>"
            ]
          },
          "metadata": {
            "needs_background": "light"
          }
        }
      ]
    },
    {
      "cell_type": "markdown",
      "metadata": {
        "id": "xUjVghRQtA03"
      },
      "source": [
        "- MSZoning\n",
        "    - Order: I C FV A RH RM RL RP\n",
        "- LotShape\n",
        "    - R2 + R3 + R1 unite to 'irregular'\n",
        "- Utilities\n",
        "    - Remove column\n",
        "- Street\n",
        "    - Remove column\n",
        "- LotConfig\n",
        "    - Order: Inside FR2 Coner CullDSac FR3\n",
        "    - Remove FR3\n",
        "- LandSlope\n",
        "    - Mod & Sev -> unite\n",
        "    - Order: Gtl -> Other\n",
        "- Condition2\n",
        "    - Remove column\n",
        "- BidgeType\n",
        "    - Remove column\n"
      ]
    },
    {
      "cell_type": "markdown",
      "metadata": {
        "id": "HSdVxHFK1UGV"
      },
      "source": [
        "## **Encode categorical**"
      ]
    },
    {
      "cell_type": "code",
      "metadata": {
        "id": "DV8b96Af1cLS",
        "colab": {
          "base_uri": "https://localhost:8080/",
          "height": 370
        },
        "outputId": "e00ea0fe-da7d-4de9-e5da-29a7b3d1a474"
      },
      "source": [
        "def get_order(feature):\n",
        "    # Impose order depending on the median price\n",
        "    subset = train[[feature, 'SalePrice']]\n",
        "    s = subset.groupby([feature]).median().sort_values(by='SalePrice')\n",
        "    return list(s.index)\n",
        "\n",
        "def prepare_labels(ordered_features):\n",
        "    return {k: ordered_features.index(k) + 1 for k in ordered_features}\n",
        "    #return [[f, ordered_features.index(f) + 1] for f in ordered_features]\n",
        "\n",
        "class CatEncoder(Transformer):\n",
        "    def __init__(self):\n",
        "        super().__init__()\n",
        "\n",
        "    def transform(df, col, dictionary):\n",
        "        # dict with cat_feature_name: new_value\n",
        "        for name, new_val in dictionary.items():\n",
        "            df[col].mask(df == name, new_val)  # loc[(df[col] == name)] = new_val\n",
        "\n",
        "for feature in cat_features[0:2]:\n",
        "    order = get_order(feature)  # median ascending order\n",
        "    labels = prepare_labels(f)\n",
        "\n",
        "    CatEncoder.transform(train, feature, labels)"
      ],
      "execution_count": 214,
      "outputs": [
        {
          "output_type": "error",
          "ename": "ValueError",
          "evalue": "ignored",
          "traceback": [
            "\u001b[0;31m---------------------------------------------------------------------------\u001b[0m",
            "\u001b[0;31mValueError\u001b[0m                                Traceback (most recent call last)",
            "\u001b[0;32m<ipython-input-214-ac50b41b7cc3>\u001b[0m in \u001b[0;36m<module>\u001b[0;34m()\u001b[0m\n\u001b[1;32m     22\u001b[0m     \u001b[0mlabels\u001b[0m \u001b[0;34m=\u001b[0m \u001b[0mprepare_labels\u001b[0m\u001b[0;34m(\u001b[0m\u001b[0mf\u001b[0m\u001b[0;34m)\u001b[0m\u001b[0;34m\u001b[0m\u001b[0;34m\u001b[0m\u001b[0m\n\u001b[1;32m     23\u001b[0m \u001b[0;34m\u001b[0m\u001b[0m\n\u001b[0;32m---> 24\u001b[0;31m     \u001b[0mCatEncoder\u001b[0m\u001b[0;34m.\u001b[0m\u001b[0mtransform\u001b[0m\u001b[0;34m(\u001b[0m\u001b[0mtrain\u001b[0m\u001b[0;34m,\u001b[0m \u001b[0mfeature\u001b[0m\u001b[0;34m,\u001b[0m \u001b[0mlabels\u001b[0m\u001b[0;34m)\u001b[0m\u001b[0;34m\u001b[0m\u001b[0;34m\u001b[0m\u001b[0m\n\u001b[0m",
            "\u001b[0;32m<ipython-input-214-ac50b41b7cc3>\u001b[0m in \u001b[0;36mtransform\u001b[0;34m(df, col, dictionary)\u001b[0m\n\u001b[1;32m     16\u001b[0m         \u001b[0;31m# dict with cat_feature_name: new_value\u001b[0m\u001b[0;34m\u001b[0m\u001b[0;34m\u001b[0m\u001b[0;34m\u001b[0m\u001b[0m\n\u001b[1;32m     17\u001b[0m         \u001b[0;32mfor\u001b[0m \u001b[0mname\u001b[0m\u001b[0;34m,\u001b[0m \u001b[0mnew_val\u001b[0m \u001b[0;32min\u001b[0m \u001b[0mdictionary\u001b[0m\u001b[0;34m.\u001b[0m\u001b[0mitems\u001b[0m\u001b[0;34m(\u001b[0m\u001b[0;34m)\u001b[0m\u001b[0;34m:\u001b[0m\u001b[0;34m\u001b[0m\u001b[0;34m\u001b[0m\u001b[0m\n\u001b[0;32m---> 18\u001b[0;31m             \u001b[0mdf\u001b[0m\u001b[0;34m[\u001b[0m\u001b[0mcol\u001b[0m\u001b[0;34m]\u001b[0m\u001b[0;34m.\u001b[0m\u001b[0mmask\u001b[0m\u001b[0;34m(\u001b[0m\u001b[0mdf\u001b[0m \u001b[0;34m==\u001b[0m \u001b[0mname\u001b[0m\u001b[0;34m,\u001b[0m \u001b[0mnew_val\u001b[0m\u001b[0;34m)\u001b[0m  \u001b[0;31m# loc[(df[col] == name)] = new_val\u001b[0m\u001b[0;34m\u001b[0m\u001b[0;34m\u001b[0m\u001b[0m\n\u001b[0m\u001b[1;32m     19\u001b[0m \u001b[0;34m\u001b[0m\u001b[0m\n\u001b[1;32m     20\u001b[0m \u001b[0;32mfor\u001b[0m \u001b[0mfeature\u001b[0m \u001b[0;32min\u001b[0m \u001b[0mcat_features\u001b[0m\u001b[0;34m[\u001b[0m\u001b[0;36m0\u001b[0m\u001b[0;34m:\u001b[0m\u001b[0;36m2\u001b[0m\u001b[0;34m]\u001b[0m\u001b[0;34m:\u001b[0m\u001b[0;34m\u001b[0m\u001b[0;34m\u001b[0m\u001b[0m\n",
            "\u001b[0;32m/usr/local/lib/python3.7/dist-packages/pandas/core/generic.py\u001b[0m in \u001b[0;36mmask\u001b[0;34m(self, cond, other, inplace, axis, level, errors, try_cast)\u001b[0m\n\u001b[1;32m   9045\u001b[0m             \u001b[0mlevel\u001b[0m\u001b[0;34m=\u001b[0m\u001b[0mlevel\u001b[0m\u001b[0;34m,\u001b[0m\u001b[0;34m\u001b[0m\u001b[0;34m\u001b[0m\u001b[0m\n\u001b[1;32m   9046\u001b[0m             \u001b[0mtry_cast\u001b[0m\u001b[0;34m=\u001b[0m\u001b[0mtry_cast\u001b[0m\u001b[0;34m,\u001b[0m\u001b[0;34m\u001b[0m\u001b[0;34m\u001b[0m\u001b[0m\n\u001b[0;32m-> 9047\u001b[0;31m             \u001b[0merrors\u001b[0m\u001b[0;34m=\u001b[0m\u001b[0merrors\u001b[0m\u001b[0;34m,\u001b[0m\u001b[0;34m\u001b[0m\u001b[0;34m\u001b[0m\u001b[0m\n\u001b[0m\u001b[1;32m   9048\u001b[0m         )\n\u001b[1;32m   9049\u001b[0m \u001b[0;34m\u001b[0m\u001b[0m\n",
            "\u001b[0;32m/usr/local/lib/python3.7/dist-packages/pandas/core/generic.py\u001b[0m in \u001b[0;36mwhere\u001b[0;34m(self, cond, other, inplace, axis, level, errors, try_cast)\u001b[0m\n\u001b[1;32m   9009\u001b[0m         \u001b[0mother\u001b[0m \u001b[0;34m=\u001b[0m \u001b[0mcom\u001b[0m\u001b[0;34m.\u001b[0m\u001b[0mapply_if_callable\u001b[0m\u001b[0;34m(\u001b[0m\u001b[0mother\u001b[0m\u001b[0;34m,\u001b[0m \u001b[0mself\u001b[0m\u001b[0;34m)\u001b[0m\u001b[0;34m\u001b[0m\u001b[0;34m\u001b[0m\u001b[0m\n\u001b[1;32m   9010\u001b[0m         return self._where(\n\u001b[0;32m-> 9011\u001b[0;31m             \u001b[0mcond\u001b[0m\u001b[0;34m,\u001b[0m \u001b[0mother\u001b[0m\u001b[0;34m,\u001b[0m \u001b[0minplace\u001b[0m\u001b[0;34m,\u001b[0m \u001b[0maxis\u001b[0m\u001b[0;34m,\u001b[0m \u001b[0mlevel\u001b[0m\u001b[0;34m,\u001b[0m \u001b[0merrors\u001b[0m\u001b[0;34m=\u001b[0m\u001b[0merrors\u001b[0m\u001b[0;34m,\u001b[0m \u001b[0mtry_cast\u001b[0m\u001b[0;34m=\u001b[0m\u001b[0mtry_cast\u001b[0m\u001b[0;34m\u001b[0m\u001b[0;34m\u001b[0m\u001b[0m\n\u001b[0m\u001b[1;32m   9012\u001b[0m         )\n\u001b[1;32m   9013\u001b[0m \u001b[0;34m\u001b[0m\u001b[0m\n",
            "\u001b[0;32m/usr/local/lib/python3.7/dist-packages/pandas/core/generic.py\u001b[0m in \u001b[0;36m_where\u001b[0;34m(self, cond, other, inplace, axis, level, errors, try_cast)\u001b[0m\n\u001b[1;32m   8871\u001b[0m                 \u001b[0merrors\u001b[0m\u001b[0;34m=\u001b[0m\u001b[0merrors\u001b[0m\u001b[0;34m,\u001b[0m\u001b[0;34m\u001b[0m\u001b[0;34m\u001b[0m\u001b[0m\n\u001b[1;32m   8872\u001b[0m                 \u001b[0mtry_cast\u001b[0m\u001b[0;34m=\u001b[0m\u001b[0mtry_cast\u001b[0m\u001b[0;34m,\u001b[0m\u001b[0;34m\u001b[0m\u001b[0;34m\u001b[0m\u001b[0m\n\u001b[0;32m-> 8873\u001b[0;31m                 \u001b[0maxis\u001b[0m\u001b[0;34m=\u001b[0m\u001b[0mblock_axis\u001b[0m\u001b[0;34m,\u001b[0m\u001b[0;34m\u001b[0m\u001b[0;34m\u001b[0m\u001b[0m\n\u001b[0m\u001b[1;32m   8874\u001b[0m             )\n\u001b[1;32m   8875\u001b[0m             \u001b[0mresult\u001b[0m \u001b[0;34m=\u001b[0m \u001b[0mself\u001b[0m\u001b[0;34m.\u001b[0m\u001b[0m_constructor\u001b[0m\u001b[0;34m(\u001b[0m\u001b[0mnew_data\u001b[0m\u001b[0;34m)\u001b[0m\u001b[0;34m\u001b[0m\u001b[0;34m\u001b[0m\u001b[0m\n",
            "\u001b[0;32m/usr/local/lib/python3.7/dist-packages/pandas/core/internals/managers.py\u001b[0m in \u001b[0;36mwhere\u001b[0;34m(self, other, cond, align, errors, try_cast, axis)\u001b[0m\n\u001b[1;32m    537\u001b[0m             \u001b[0merrors\u001b[0m\u001b[0;34m=\u001b[0m\u001b[0merrors\u001b[0m\u001b[0;34m,\u001b[0m\u001b[0;34m\u001b[0m\u001b[0;34m\u001b[0m\u001b[0m\n\u001b[1;32m    538\u001b[0m             \u001b[0mtry_cast\u001b[0m\u001b[0;34m=\u001b[0m\u001b[0mtry_cast\u001b[0m\u001b[0;34m,\u001b[0m\u001b[0;34m\u001b[0m\u001b[0;34m\u001b[0m\u001b[0m\n\u001b[0;32m--> 539\u001b[0;31m             \u001b[0maxis\u001b[0m\u001b[0;34m=\u001b[0m\u001b[0maxis\u001b[0m\u001b[0;34m,\u001b[0m\u001b[0;34m\u001b[0m\u001b[0;34m\u001b[0m\u001b[0m\n\u001b[0m\u001b[1;32m    540\u001b[0m         )\n\u001b[1;32m    541\u001b[0m \u001b[0;34m\u001b[0m\u001b[0m\n",
            "\u001b[0;32m/usr/local/lib/python3.7/dist-packages/pandas/core/internals/managers.py\u001b[0m in \u001b[0;36mapply\u001b[0;34m(self, f, align_keys, **kwargs)\u001b[0m\n\u001b[1;32m    407\u001b[0m                 \u001b[0mapplied\u001b[0m \u001b[0;34m=\u001b[0m \u001b[0mb\u001b[0m\u001b[0;34m.\u001b[0m\u001b[0mapply\u001b[0m\u001b[0;34m(\u001b[0m\u001b[0mf\u001b[0m\u001b[0;34m,\u001b[0m \u001b[0;34m**\u001b[0m\u001b[0mkwargs\u001b[0m\u001b[0;34m)\u001b[0m\u001b[0;34m\u001b[0m\u001b[0;34m\u001b[0m\u001b[0m\n\u001b[1;32m    408\u001b[0m             \u001b[0;32melse\u001b[0m\u001b[0;34m:\u001b[0m\u001b[0;34m\u001b[0m\u001b[0;34m\u001b[0m\u001b[0m\n\u001b[0;32m--> 409\u001b[0;31m                 \u001b[0mapplied\u001b[0m \u001b[0;34m=\u001b[0m \u001b[0mgetattr\u001b[0m\u001b[0;34m(\u001b[0m\u001b[0mb\u001b[0m\u001b[0;34m,\u001b[0m \u001b[0mf\u001b[0m\u001b[0;34m)\u001b[0m\u001b[0;34m(\u001b[0m\u001b[0;34m**\u001b[0m\u001b[0mkwargs\u001b[0m\u001b[0;34m)\u001b[0m\u001b[0;34m\u001b[0m\u001b[0;34m\u001b[0m\u001b[0m\n\u001b[0m\u001b[1;32m    410\u001b[0m             \u001b[0mresult_blocks\u001b[0m \u001b[0;34m=\u001b[0m \u001b[0m_extend_blocks\u001b[0m\u001b[0;34m(\u001b[0m\u001b[0mapplied\u001b[0m\u001b[0;34m,\u001b[0m \u001b[0mresult_blocks\u001b[0m\u001b[0;34m)\u001b[0m\u001b[0;34m\u001b[0m\u001b[0;34m\u001b[0m\u001b[0m\n\u001b[1;32m    411\u001b[0m \u001b[0;34m\u001b[0m\u001b[0m\n",
            "\u001b[0;32m/usr/local/lib/python3.7/dist-packages/pandas/core/internals/blocks.py\u001b[0m in \u001b[0;36mwhere\u001b[0;34m(self, other, cond, errors, try_cast, axis)\u001b[0m\n\u001b[1;32m   1351\u001b[0m             \u001b[0;31m# or if we are a single block (ndim == 1)\u001b[0m\u001b[0;34m\u001b[0m\u001b[0;34m\u001b[0m\u001b[0;34m\u001b[0m\u001b[0m\n\u001b[1;32m   1352\u001b[0m             \u001b[0;32mtry\u001b[0m\u001b[0;34m:\u001b[0m\u001b[0;34m\u001b[0m\u001b[0;34m\u001b[0m\u001b[0m\n\u001b[0;32m-> 1353\u001b[0;31m                 \u001b[0mresult\u001b[0m \u001b[0;34m=\u001b[0m \u001b[0mwhere_func\u001b[0m\u001b[0;34m(\u001b[0m\u001b[0mcond\u001b[0m\u001b[0;34m,\u001b[0m \u001b[0mvalues\u001b[0m\u001b[0;34m,\u001b[0m \u001b[0mother\u001b[0m\u001b[0;34m)\u001b[0m\u001b[0;34m\u001b[0m\u001b[0;34m\u001b[0m\u001b[0m\n\u001b[0m\u001b[1;32m   1354\u001b[0m             \u001b[0;32mexcept\u001b[0m \u001b[0mTypeError\u001b[0m\u001b[0;34m:\u001b[0m\u001b[0;34m\u001b[0m\u001b[0;34m\u001b[0m\u001b[0m\n\u001b[1;32m   1355\u001b[0m \u001b[0;34m\u001b[0m\u001b[0m\n",
            "\u001b[0;32m/usr/local/lib/python3.7/dist-packages/pandas/core/internals/blocks.py\u001b[0m in \u001b[0;36mwhere_func\u001b[0;34m(cond, values, other)\u001b[0m\n\u001b[1;32m   1342\u001b[0m             \u001b[0;31m# By the time we get here, we should have all Series/Index\u001b[0m\u001b[0;34m\u001b[0m\u001b[0;34m\u001b[0m\u001b[0;34m\u001b[0m\u001b[0m\n\u001b[1;32m   1343\u001b[0m             \u001b[0;31m#  args extracted to  ndarray\u001b[0m\u001b[0;34m\u001b[0m\u001b[0;34m\u001b[0m\u001b[0;34m\u001b[0m\u001b[0m\n\u001b[0;32m-> 1344\u001b[0;31m             \u001b[0mfastres\u001b[0m \u001b[0;34m=\u001b[0m \u001b[0mexpressions\u001b[0m\u001b[0;34m.\u001b[0m\u001b[0mwhere\u001b[0m\u001b[0;34m(\u001b[0m\u001b[0mcond\u001b[0m\u001b[0;34m,\u001b[0m \u001b[0mvalues\u001b[0m\u001b[0;34m,\u001b[0m \u001b[0mother\u001b[0m\u001b[0;34m)\u001b[0m\u001b[0;34m\u001b[0m\u001b[0;34m\u001b[0m\u001b[0m\n\u001b[0m\u001b[1;32m   1345\u001b[0m             \u001b[0;32mreturn\u001b[0m \u001b[0mfastres\u001b[0m\u001b[0;34m\u001b[0m\u001b[0;34m\u001b[0m\u001b[0m\n\u001b[1;32m   1346\u001b[0m \u001b[0;34m\u001b[0m\u001b[0m\n",
            "\u001b[0;32m/usr/local/lib/python3.7/dist-packages/pandas/core/computation/expressions.py\u001b[0m in \u001b[0;36mwhere\u001b[0;34m(cond, a, b, use_numexpr)\u001b[0m\n\u001b[1;32m    247\u001b[0m         \u001b[0mWhether\u001b[0m \u001b[0mto\u001b[0m \u001b[0;32mtry\u001b[0m \u001b[0mto\u001b[0m \u001b[0muse\u001b[0m \u001b[0mnumexpr\u001b[0m\u001b[0;34m.\u001b[0m\u001b[0;34m\u001b[0m\u001b[0;34m\u001b[0m\u001b[0m\n\u001b[1;32m    248\u001b[0m     \"\"\"\n\u001b[0;32m--> 249\u001b[0;31m     \u001b[0;32mreturn\u001b[0m \u001b[0m_where\u001b[0m\u001b[0;34m(\u001b[0m\u001b[0mcond\u001b[0m\u001b[0;34m,\u001b[0m \u001b[0ma\u001b[0m\u001b[0;34m,\u001b[0m \u001b[0mb\u001b[0m\u001b[0;34m)\u001b[0m \u001b[0;32mif\u001b[0m \u001b[0muse_numexpr\u001b[0m \u001b[0;32melse\u001b[0m \u001b[0m_where_standard\u001b[0m\u001b[0;34m(\u001b[0m\u001b[0mcond\u001b[0m\u001b[0;34m,\u001b[0m \u001b[0ma\u001b[0m\u001b[0;34m,\u001b[0m \u001b[0mb\u001b[0m\u001b[0;34m)\u001b[0m\u001b[0;34m\u001b[0m\u001b[0;34m\u001b[0m\u001b[0m\n\u001b[0m\u001b[1;32m    250\u001b[0m \u001b[0;34m\u001b[0m\u001b[0m\n\u001b[1;32m    251\u001b[0m \u001b[0;34m\u001b[0m\u001b[0m\n",
            "\u001b[0;32m/usr/local/lib/python3.7/dist-packages/pandas/core/computation/expressions.py\u001b[0m in \u001b[0;36m_where_numexpr\u001b[0;34m(cond, a, b)\u001b[0m\n\u001b[1;32m    175\u001b[0m \u001b[0;34m\u001b[0m\u001b[0m\n\u001b[1;32m    176\u001b[0m     \u001b[0;32mif\u001b[0m \u001b[0mresult\u001b[0m \u001b[0;32mis\u001b[0m \u001b[0;32mNone\u001b[0m\u001b[0;34m:\u001b[0m\u001b[0;34m\u001b[0m\u001b[0;34m\u001b[0m\u001b[0m\n\u001b[0;32m--> 177\u001b[0;31m         \u001b[0mresult\u001b[0m \u001b[0;34m=\u001b[0m \u001b[0m_where_standard\u001b[0m\u001b[0;34m(\u001b[0m\u001b[0mcond\u001b[0m\u001b[0;34m,\u001b[0m \u001b[0ma\u001b[0m\u001b[0;34m,\u001b[0m \u001b[0mb\u001b[0m\u001b[0;34m)\u001b[0m\u001b[0;34m\u001b[0m\u001b[0;34m\u001b[0m\u001b[0m\n\u001b[0m\u001b[1;32m    178\u001b[0m \u001b[0;34m\u001b[0m\u001b[0m\n\u001b[1;32m    179\u001b[0m     \u001b[0;32mreturn\u001b[0m \u001b[0mresult\u001b[0m\u001b[0;34m\u001b[0m\u001b[0;34m\u001b[0m\u001b[0m\n",
            "\u001b[0;32m/usr/local/lib/python3.7/dist-packages/pandas/core/computation/expressions.py\u001b[0m in \u001b[0;36m_where_standard\u001b[0;34m(cond, a, b)\u001b[0m\n\u001b[1;32m    159\u001b[0m \u001b[0;32mdef\u001b[0m \u001b[0m_where_standard\u001b[0m\u001b[0;34m(\u001b[0m\u001b[0mcond\u001b[0m\u001b[0;34m,\u001b[0m \u001b[0ma\u001b[0m\u001b[0;34m,\u001b[0m \u001b[0mb\u001b[0m\u001b[0;34m)\u001b[0m\u001b[0;34m:\u001b[0m\u001b[0;34m\u001b[0m\u001b[0;34m\u001b[0m\u001b[0m\n\u001b[1;32m    160\u001b[0m     \u001b[0;31m# Caller is responsible for extracting ndarray if necessary\u001b[0m\u001b[0;34m\u001b[0m\u001b[0;34m\u001b[0m\u001b[0;34m\u001b[0m\u001b[0m\n\u001b[0;32m--> 161\u001b[0;31m     \u001b[0;32mreturn\u001b[0m \u001b[0mnp\u001b[0m\u001b[0;34m.\u001b[0m\u001b[0mwhere\u001b[0m\u001b[0;34m(\u001b[0m\u001b[0mcond\u001b[0m\u001b[0;34m,\u001b[0m \u001b[0ma\u001b[0m\u001b[0;34m,\u001b[0m \u001b[0mb\u001b[0m\u001b[0;34m)\u001b[0m\u001b[0;34m\u001b[0m\u001b[0;34m\u001b[0m\u001b[0m\n\u001b[0m\u001b[1;32m    162\u001b[0m \u001b[0;34m\u001b[0m\u001b[0m\n\u001b[1;32m    163\u001b[0m \u001b[0;34m\u001b[0m\u001b[0m\n",
            "\u001b[0;32m<__array_function__ internals>\u001b[0m in \u001b[0;36mwhere\u001b[0;34m(*args, **kwargs)\u001b[0m\n",
            "\u001b[0;31mValueError\u001b[0m: operands could not be broadcast together with shapes (1460,75) (1460,) () "
          ]
        }
      ]
    },
    {
      "cell_type": "code",
      "metadata": {
        "id": "IWvgqSZR8-dL",
        "outputId": "5da9c5f7-a25f-4e4a-9423-6b8cce63185b",
        "colab": {
          "base_uri": "https://localhost:8080/",
          "height": 254
        }
      },
      "source": [
        "train.head()"
      ],
      "execution_count": 207,
      "outputs": [
        {
          "output_type": "execute_result",
          "data": {
            "text/html": [
              "<div>\n",
              "<style scoped>\n",
              "    .dataframe tbody tr th:only-of-type {\n",
              "        vertical-align: middle;\n",
              "    }\n",
              "\n",
              "    .dataframe tbody tr th {\n",
              "        vertical-align: top;\n",
              "    }\n",
              "\n",
              "    .dataframe thead th {\n",
              "        text-align: right;\n",
              "    }\n",
              "</style>\n",
              "<table border=\"1\" class=\"dataframe\">\n",
              "  <thead>\n",
              "    <tr style=\"text-align: right;\">\n",
              "      <th></th>\n",
              "      <th>MSSubClass</th>\n",
              "      <th>MSZoning</th>\n",
              "      <th>LotFrontage</th>\n",
              "      <th>LotArea</th>\n",
              "      <th>Street</th>\n",
              "      <th>LotShape</th>\n",
              "      <th>LandContour</th>\n",
              "      <th>Utilities</th>\n",
              "      <th>LotConfig</th>\n",
              "      <th>LandSlope</th>\n",
              "      <th>Neighborhood</th>\n",
              "      <th>Condition1</th>\n",
              "      <th>Condition2</th>\n",
              "      <th>BldgType</th>\n",
              "      <th>HouseStyle</th>\n",
              "      <th>OverallQual</th>\n",
              "      <th>OverallCond</th>\n",
              "      <th>YearBuilt</th>\n",
              "      <th>YearRemodAdd</th>\n",
              "      <th>RoofStyle</th>\n",
              "      <th>RoofMatl</th>\n",
              "      <th>Exterior1st</th>\n",
              "      <th>Exterior2nd</th>\n",
              "      <th>MasVnrType</th>\n",
              "      <th>MasVnrArea</th>\n",
              "      <th>ExterQual</th>\n",
              "      <th>ExterCond</th>\n",
              "      <th>Foundation</th>\n",
              "      <th>BsmtQual</th>\n",
              "      <th>BsmtCond</th>\n",
              "      <th>BsmtExposure</th>\n",
              "      <th>BsmtFinType1</th>\n",
              "      <th>BsmtFinSF1</th>\n",
              "      <th>BsmtFinType2</th>\n",
              "      <th>BsmtFinSF2</th>\n",
              "      <th>BsmtUnfSF</th>\n",
              "      <th>TotalBsmtSF</th>\n",
              "      <th>Heating</th>\n",
              "      <th>HeatingQC</th>\n",
              "      <th>CentralAir</th>\n",
              "      <th>Electrical</th>\n",
              "      <th>1stFlrSF</th>\n",
              "      <th>2ndFlrSF</th>\n",
              "      <th>LowQualFinSF</th>\n",
              "      <th>GrLivArea</th>\n",
              "      <th>BsmtFullBath</th>\n",
              "      <th>BsmtHalfBath</th>\n",
              "      <th>FullBath</th>\n",
              "      <th>HalfBath</th>\n",
              "      <th>BedroomAbvGr</th>\n",
              "      <th>KitchenAbvGr</th>\n",
              "      <th>KitchenQual</th>\n",
              "      <th>TotRmsAbvGrd</th>\n",
              "      <th>Functional</th>\n",
              "      <th>Fireplaces</th>\n",
              "      <th>GarageType</th>\n",
              "      <th>GarageYrBlt</th>\n",
              "      <th>GarageFinish</th>\n",
              "      <th>GarageCars</th>\n",
              "      <th>GarageArea</th>\n",
              "      <th>GarageQual</th>\n",
              "      <th>GarageCond</th>\n",
              "      <th>PavedDrive</th>\n",
              "      <th>WoodDeckSF</th>\n",
              "      <th>OpenPorchSF</th>\n",
              "      <th>EnclosedPorch</th>\n",
              "      <th>3SsnPorch</th>\n",
              "      <th>ScreenPorch</th>\n",
              "      <th>PoolArea</th>\n",
              "      <th>MiscVal</th>\n",
              "      <th>MoSold</th>\n",
              "      <th>YrSold</th>\n",
              "      <th>SaleType</th>\n",
              "      <th>SaleCondition</th>\n",
              "      <th>SalePrice</th>\n",
              "    </tr>\n",
              "    <tr>\n",
              "      <th>Id</th>\n",
              "      <th></th>\n",
              "      <th></th>\n",
              "      <th></th>\n",
              "      <th></th>\n",
              "      <th></th>\n",
              "      <th></th>\n",
              "      <th></th>\n",
              "      <th></th>\n",
              "      <th></th>\n",
              "      <th></th>\n",
              "      <th></th>\n",
              "      <th></th>\n",
              "      <th></th>\n",
              "      <th></th>\n",
              "      <th></th>\n",
              "      <th></th>\n",
              "      <th></th>\n",
              "      <th></th>\n",
              "      <th></th>\n",
              "      <th></th>\n",
              "      <th></th>\n",
              "      <th></th>\n",
              "      <th></th>\n",
              "      <th></th>\n",
              "      <th></th>\n",
              "      <th></th>\n",
              "      <th></th>\n",
              "      <th></th>\n",
              "      <th></th>\n",
              "      <th></th>\n",
              "      <th></th>\n",
              "      <th></th>\n",
              "      <th></th>\n",
              "      <th></th>\n",
              "      <th></th>\n",
              "      <th></th>\n",
              "      <th></th>\n",
              "      <th></th>\n",
              "      <th></th>\n",
              "      <th></th>\n",
              "      <th></th>\n",
              "      <th></th>\n",
              "      <th></th>\n",
              "      <th></th>\n",
              "      <th></th>\n",
              "      <th></th>\n",
              "      <th></th>\n",
              "      <th></th>\n",
              "      <th></th>\n",
              "      <th></th>\n",
              "      <th></th>\n",
              "      <th></th>\n",
              "      <th></th>\n",
              "      <th></th>\n",
              "      <th></th>\n",
              "      <th></th>\n",
              "      <th></th>\n",
              "      <th></th>\n",
              "      <th></th>\n",
              "      <th></th>\n",
              "      <th></th>\n",
              "      <th></th>\n",
              "      <th></th>\n",
              "      <th></th>\n",
              "      <th></th>\n",
              "      <th></th>\n",
              "      <th></th>\n",
              "      <th></th>\n",
              "      <th></th>\n",
              "      <th></th>\n",
              "      <th></th>\n",
              "      <th></th>\n",
              "      <th></th>\n",
              "      <th></th>\n",
              "      <th></th>\n",
              "    </tr>\n",
              "  </thead>\n",
              "  <tbody>\n",
              "    <tr>\n",
              "      <th>1</th>\n",
              "      <td>4</td>\n",
              "      <td>4</td>\n",
              "      <td>4.0</td>\n",
              "      <td>4</td>\n",
              "      <td>4</td>\n",
              "      <td>4</td>\n",
              "      <td>4</td>\n",
              "      <td>4</td>\n",
              "      <td>4</td>\n",
              "      <td>4</td>\n",
              "      <td>4</td>\n",
              "      <td>4</td>\n",
              "      <td>4</td>\n",
              "      <td>4</td>\n",
              "      <td>4</td>\n",
              "      <td>4</td>\n",
              "      <td>4</td>\n",
              "      <td>4</td>\n",
              "      <td>4</td>\n",
              "      <td>4</td>\n",
              "      <td>4</td>\n",
              "      <td>4</td>\n",
              "      <td>4</td>\n",
              "      <td>4</td>\n",
              "      <td>4.0</td>\n",
              "      <td>4</td>\n",
              "      <td>4</td>\n",
              "      <td>4</td>\n",
              "      <td>4</td>\n",
              "      <td>4</td>\n",
              "      <td>4</td>\n",
              "      <td>4</td>\n",
              "      <td>4</td>\n",
              "      <td>4</td>\n",
              "      <td>4</td>\n",
              "      <td>4</td>\n",
              "      <td>4</td>\n",
              "      <td>4</td>\n",
              "      <td>4</td>\n",
              "      <td>4</td>\n",
              "      <td>4</td>\n",
              "      <td>4</td>\n",
              "      <td>4</td>\n",
              "      <td>4</td>\n",
              "      <td>4</td>\n",
              "      <td>4</td>\n",
              "      <td>4</td>\n",
              "      <td>4</td>\n",
              "      <td>4</td>\n",
              "      <td>4</td>\n",
              "      <td>4</td>\n",
              "      <td>4</td>\n",
              "      <td>4</td>\n",
              "      <td>4</td>\n",
              "      <td>4</td>\n",
              "      <td>4</td>\n",
              "      <td>4.0</td>\n",
              "      <td>4</td>\n",
              "      <td>4</td>\n",
              "      <td>4</td>\n",
              "      <td>4</td>\n",
              "      <td>4</td>\n",
              "      <td>4</td>\n",
              "      <td>4</td>\n",
              "      <td>4</td>\n",
              "      <td>4</td>\n",
              "      <td>4</td>\n",
              "      <td>4</td>\n",
              "      <td>4</td>\n",
              "      <td>4</td>\n",
              "      <td>4</td>\n",
              "      <td>4</td>\n",
              "      <td>4</td>\n",
              "      <td>4</td>\n",
              "      <td>4</td>\n",
              "    </tr>\n",
              "    <tr>\n",
              "      <th>2</th>\n",
              "      <td>4</td>\n",
              "      <td>4</td>\n",
              "      <td>4.0</td>\n",
              "      <td>4</td>\n",
              "      <td>4</td>\n",
              "      <td>4</td>\n",
              "      <td>4</td>\n",
              "      <td>4</td>\n",
              "      <td>4</td>\n",
              "      <td>4</td>\n",
              "      <td>4</td>\n",
              "      <td>4</td>\n",
              "      <td>4</td>\n",
              "      <td>4</td>\n",
              "      <td>4</td>\n",
              "      <td>4</td>\n",
              "      <td>4</td>\n",
              "      <td>4</td>\n",
              "      <td>4</td>\n",
              "      <td>4</td>\n",
              "      <td>4</td>\n",
              "      <td>4</td>\n",
              "      <td>4</td>\n",
              "      <td>4</td>\n",
              "      <td>4.0</td>\n",
              "      <td>4</td>\n",
              "      <td>4</td>\n",
              "      <td>4</td>\n",
              "      <td>4</td>\n",
              "      <td>4</td>\n",
              "      <td>4</td>\n",
              "      <td>4</td>\n",
              "      <td>4</td>\n",
              "      <td>4</td>\n",
              "      <td>4</td>\n",
              "      <td>4</td>\n",
              "      <td>4</td>\n",
              "      <td>4</td>\n",
              "      <td>4</td>\n",
              "      <td>4</td>\n",
              "      <td>4</td>\n",
              "      <td>4</td>\n",
              "      <td>4</td>\n",
              "      <td>4</td>\n",
              "      <td>4</td>\n",
              "      <td>4</td>\n",
              "      <td>4</td>\n",
              "      <td>4</td>\n",
              "      <td>4</td>\n",
              "      <td>4</td>\n",
              "      <td>4</td>\n",
              "      <td>4</td>\n",
              "      <td>4</td>\n",
              "      <td>4</td>\n",
              "      <td>4</td>\n",
              "      <td>4</td>\n",
              "      <td>4.0</td>\n",
              "      <td>4</td>\n",
              "      <td>4</td>\n",
              "      <td>4</td>\n",
              "      <td>4</td>\n",
              "      <td>4</td>\n",
              "      <td>4</td>\n",
              "      <td>4</td>\n",
              "      <td>4</td>\n",
              "      <td>4</td>\n",
              "      <td>4</td>\n",
              "      <td>4</td>\n",
              "      <td>4</td>\n",
              "      <td>4</td>\n",
              "      <td>4</td>\n",
              "      <td>4</td>\n",
              "      <td>4</td>\n",
              "      <td>4</td>\n",
              "      <td>4</td>\n",
              "    </tr>\n",
              "    <tr>\n",
              "      <th>3</th>\n",
              "      <td>4</td>\n",
              "      <td>4</td>\n",
              "      <td>4.0</td>\n",
              "      <td>4</td>\n",
              "      <td>4</td>\n",
              "      <td>4</td>\n",
              "      <td>4</td>\n",
              "      <td>4</td>\n",
              "      <td>4</td>\n",
              "      <td>4</td>\n",
              "      <td>4</td>\n",
              "      <td>4</td>\n",
              "      <td>4</td>\n",
              "      <td>4</td>\n",
              "      <td>4</td>\n",
              "      <td>4</td>\n",
              "      <td>4</td>\n",
              "      <td>4</td>\n",
              "      <td>4</td>\n",
              "      <td>4</td>\n",
              "      <td>4</td>\n",
              "      <td>4</td>\n",
              "      <td>4</td>\n",
              "      <td>4</td>\n",
              "      <td>4.0</td>\n",
              "      <td>4</td>\n",
              "      <td>4</td>\n",
              "      <td>4</td>\n",
              "      <td>4</td>\n",
              "      <td>4</td>\n",
              "      <td>4</td>\n",
              "      <td>4</td>\n",
              "      <td>4</td>\n",
              "      <td>4</td>\n",
              "      <td>4</td>\n",
              "      <td>4</td>\n",
              "      <td>4</td>\n",
              "      <td>4</td>\n",
              "      <td>4</td>\n",
              "      <td>4</td>\n",
              "      <td>4</td>\n",
              "      <td>4</td>\n",
              "      <td>4</td>\n",
              "      <td>4</td>\n",
              "      <td>4</td>\n",
              "      <td>4</td>\n",
              "      <td>4</td>\n",
              "      <td>4</td>\n",
              "      <td>4</td>\n",
              "      <td>4</td>\n",
              "      <td>4</td>\n",
              "      <td>4</td>\n",
              "      <td>4</td>\n",
              "      <td>4</td>\n",
              "      <td>4</td>\n",
              "      <td>4</td>\n",
              "      <td>4.0</td>\n",
              "      <td>4</td>\n",
              "      <td>4</td>\n",
              "      <td>4</td>\n",
              "      <td>4</td>\n",
              "      <td>4</td>\n",
              "      <td>4</td>\n",
              "      <td>4</td>\n",
              "      <td>4</td>\n",
              "      <td>4</td>\n",
              "      <td>4</td>\n",
              "      <td>4</td>\n",
              "      <td>4</td>\n",
              "      <td>4</td>\n",
              "      <td>4</td>\n",
              "      <td>4</td>\n",
              "      <td>4</td>\n",
              "      <td>4</td>\n",
              "      <td>4</td>\n",
              "    </tr>\n",
              "    <tr>\n",
              "      <th>4</th>\n",
              "      <td>4</td>\n",
              "      <td>4</td>\n",
              "      <td>4.0</td>\n",
              "      <td>4</td>\n",
              "      <td>4</td>\n",
              "      <td>4</td>\n",
              "      <td>4</td>\n",
              "      <td>4</td>\n",
              "      <td>4</td>\n",
              "      <td>4</td>\n",
              "      <td>4</td>\n",
              "      <td>4</td>\n",
              "      <td>4</td>\n",
              "      <td>4</td>\n",
              "      <td>4</td>\n",
              "      <td>4</td>\n",
              "      <td>4</td>\n",
              "      <td>4</td>\n",
              "      <td>4</td>\n",
              "      <td>4</td>\n",
              "      <td>4</td>\n",
              "      <td>4</td>\n",
              "      <td>4</td>\n",
              "      <td>4</td>\n",
              "      <td>4.0</td>\n",
              "      <td>4</td>\n",
              "      <td>4</td>\n",
              "      <td>4</td>\n",
              "      <td>4</td>\n",
              "      <td>4</td>\n",
              "      <td>4</td>\n",
              "      <td>4</td>\n",
              "      <td>4</td>\n",
              "      <td>4</td>\n",
              "      <td>4</td>\n",
              "      <td>4</td>\n",
              "      <td>4</td>\n",
              "      <td>4</td>\n",
              "      <td>4</td>\n",
              "      <td>4</td>\n",
              "      <td>4</td>\n",
              "      <td>4</td>\n",
              "      <td>4</td>\n",
              "      <td>4</td>\n",
              "      <td>4</td>\n",
              "      <td>4</td>\n",
              "      <td>4</td>\n",
              "      <td>4</td>\n",
              "      <td>4</td>\n",
              "      <td>4</td>\n",
              "      <td>4</td>\n",
              "      <td>4</td>\n",
              "      <td>4</td>\n",
              "      <td>4</td>\n",
              "      <td>4</td>\n",
              "      <td>4</td>\n",
              "      <td>4.0</td>\n",
              "      <td>4</td>\n",
              "      <td>4</td>\n",
              "      <td>4</td>\n",
              "      <td>4</td>\n",
              "      <td>4</td>\n",
              "      <td>4</td>\n",
              "      <td>4</td>\n",
              "      <td>4</td>\n",
              "      <td>4</td>\n",
              "      <td>4</td>\n",
              "      <td>4</td>\n",
              "      <td>4</td>\n",
              "      <td>4</td>\n",
              "      <td>4</td>\n",
              "      <td>4</td>\n",
              "      <td>4</td>\n",
              "      <td>4</td>\n",
              "      <td>4</td>\n",
              "    </tr>\n",
              "    <tr>\n",
              "      <th>5</th>\n",
              "      <td>4</td>\n",
              "      <td>4</td>\n",
              "      <td>4.0</td>\n",
              "      <td>4</td>\n",
              "      <td>4</td>\n",
              "      <td>4</td>\n",
              "      <td>4</td>\n",
              "      <td>4</td>\n",
              "      <td>4</td>\n",
              "      <td>4</td>\n",
              "      <td>4</td>\n",
              "      <td>4</td>\n",
              "      <td>4</td>\n",
              "      <td>4</td>\n",
              "      <td>4</td>\n",
              "      <td>4</td>\n",
              "      <td>4</td>\n",
              "      <td>4</td>\n",
              "      <td>4</td>\n",
              "      <td>4</td>\n",
              "      <td>4</td>\n",
              "      <td>4</td>\n",
              "      <td>4</td>\n",
              "      <td>4</td>\n",
              "      <td>4.0</td>\n",
              "      <td>4</td>\n",
              "      <td>4</td>\n",
              "      <td>4</td>\n",
              "      <td>4</td>\n",
              "      <td>4</td>\n",
              "      <td>4</td>\n",
              "      <td>4</td>\n",
              "      <td>4</td>\n",
              "      <td>4</td>\n",
              "      <td>4</td>\n",
              "      <td>4</td>\n",
              "      <td>4</td>\n",
              "      <td>4</td>\n",
              "      <td>4</td>\n",
              "      <td>4</td>\n",
              "      <td>4</td>\n",
              "      <td>4</td>\n",
              "      <td>4</td>\n",
              "      <td>4</td>\n",
              "      <td>4</td>\n",
              "      <td>4</td>\n",
              "      <td>4</td>\n",
              "      <td>4</td>\n",
              "      <td>4</td>\n",
              "      <td>4</td>\n",
              "      <td>4</td>\n",
              "      <td>4</td>\n",
              "      <td>4</td>\n",
              "      <td>4</td>\n",
              "      <td>4</td>\n",
              "      <td>4</td>\n",
              "      <td>4.0</td>\n",
              "      <td>4</td>\n",
              "      <td>4</td>\n",
              "      <td>4</td>\n",
              "      <td>4</td>\n",
              "      <td>4</td>\n",
              "      <td>4</td>\n",
              "      <td>4</td>\n",
              "      <td>4</td>\n",
              "      <td>4</td>\n",
              "      <td>4</td>\n",
              "      <td>4</td>\n",
              "      <td>4</td>\n",
              "      <td>4</td>\n",
              "      <td>4</td>\n",
              "      <td>4</td>\n",
              "      <td>4</td>\n",
              "      <td>4</td>\n",
              "      <td>4</td>\n",
              "    </tr>\n",
              "  </tbody>\n",
              "</table>\n",
              "</div>"
            ],
            "text/plain": [
              "    MSSubClass MSZoning  LotFrontage  ...  SaleType SaleCondition SalePrice\n",
              "Id                                    ...                                  \n",
              "1            4        4          4.0  ...         4             4         4\n",
              "2            4        4          4.0  ...         4             4         4\n",
              "3            4        4          4.0  ...         4             4         4\n",
              "4            4        4          4.0  ...         4             4         4\n",
              "5            4        4          4.0  ...         4             4         4\n",
              "\n",
              "[5 rows x 75 columns]"
            ]
          },
          "metadata": {},
          "execution_count": 207
        }
      ]
    },
    {
      "cell_type": "code",
      "metadata": {
        "id": "4vcB4BNv9EjJ"
      },
      "source": [
        "train.head()"
      ],
      "execution_count": null,
      "outputs": []
    },
    {
      "cell_type": "markdown",
      "metadata": {
        "id": "evJy9NNjaLhX"
      },
      "source": [
        "# **1. Feature exploration**"
      ]
    },
    {
      "cell_type": "markdown",
      "metadata": {
        "id": "d3Q_I6B9kTwy"
      },
      "source": [
        "## **1.2. Select K best numerics**"
      ]
    },
    {
      "cell_type": "code",
      "metadata": {
        "id": "yUwISi6PfPVb"
      },
      "source": [
        "# Choose numeric types and try SelectKBest features\n",
        "train_numeric = train.select_dtypes(include=['float64', 'int64'])\n",
        "\n",
        "train_numeric.drop(columns=['SalePrice'], inplace=True)\n",
        "train_numeric.fillna(train_numeric.median(), inplace=True)"
      ],
      "execution_count": null,
      "outputs": []
    },
    {
      "cell_type": "code",
      "metadata": {
        "id": "Q92uEfNKf8bw"
      },
      "source": [
        "features_selector = SelectKBest(score_func=chi2, k=select_k_numerics)\n",
        "fit = features_selector.fit(train_numeric, target)"
      ],
      "execution_count": null,
      "outputs": []
    },
    {
      "cell_type": "code",
      "metadata": {
        "id": "eEm9rsOWidOx"
      },
      "source": [
        "feature_scores = pd.DataFrame({\n",
        "    'Scores': pd.Series(fit.scores_),\n",
        "    'Colnames': pd.Series(train_numeric.columns)\n",
        "})\n",
        "feature_scores.nlargest(select_k_numerics, 'Scores')"
      ],
      "execution_count": null,
      "outputs": []
    },
    {
      "cell_type": "markdown",
      "metadata": {
        "id": "0elLUuTTlxI6"
      },
      "source": [
        "**Insight #2. Number of important numeric columns**"
      ]
    },
    {
      "cell_type": "markdown",
      "metadata": {
        "id": "joal-ISg8fEk"
      },
      "source": [
        "## **1.3. Heatmap for numerics**"
      ]
    },
    {
      "cell_type": "code",
      "metadata": {
        "id": "W6dLHPlLVLLA"
      },
      "source": [
        "corrs = train.drop('SalePrice',axis=1).corrwith(train['SalePrice']).sort_values(ascending=False)\n",
        "\n",
        "fig,axes=plt.subplots(1,1,figsize=(12,9))\n",
        "axes.axhline(corrs[corrs>0].mean(), ls=':',color='black',linewidth=2)\n",
        "axes.text(25.5,corrs[corrs>0].mean()+.015, \"Average = {:.3f}\".format(corrs[corrs>0].mean()),color='black',size=14)\n",
        "axes.axhline(corrs[corrs<0].mean(), ls=':',color='black',linewidth=2)\n",
        "axes.text(25.5,corrs[corrs<0].mean()-.035, \"Average = {:.3f}\".format(corrs[corrs<0].mean()),color='black',size=14)\n",
        "sns.barplot(y=corrs,x=corrs.index,palette='Spectral')\n",
        "plt.title('Correlation of Sale Price to other Features',size=20,color='black',y=1.03)\n",
        "plt.xticks(rotation=90)\n",
        "for p in axes.patches:\n",
        "            value = p.get_height()\n",
        "            if value <=.5:\n",
        "                continue\n",
        "            x = p.get_x() + p.get_width()-.9\n",
        "            y = p.get_y() + p.get_height()+(.02*value)\n",
        "            axes.text(x, y, str(value)[1:5], ha=\"left\",fontsize=12,color='#000000')\n",
        "plt.tight_layout()"
      ],
      "execution_count": null,
      "outputs": []
    },
    {
      "cell_type": "code",
      "metadata": {
        "id": "D5SxVO858qmi"
      },
      "source": [
        "train_numeric['SalePrice'] = target\n",
        "corr_matrix = train_numeric.corr()\n",
        "\n",
        "plt.figure(figsize=(15,15))\n",
        "sns.heatmap(corr_matrix, cmap=\"RdYlGn\")"
      ],
      "execution_count": null,
      "outputs": []
    },
    {
      "cell_type": "markdown",
      "metadata": {
        "id": "WPhfXL-Q-zN3"
      },
      "source": [
        "**Insight. There are ~14 numeric features, highly correlated with the target**"
      ]
    },
    {
      "cell_type": "code",
      "metadata": {
        "id": "klvLAXxZ_K2U"
      },
      "source": [
        "num_corr_res = corr_filter(\n",
        "    corr_matrix,\n",
        "    target_feature='SalePrice',\n",
        "    abs_thresh=0.4)\n",
        "del num_corr_res['SalePrice']"
      ],
      "execution_count": null,
      "outputs": []
    },
    {
      "cell_type": "code",
      "metadata": {
        "id": "5m0CCVthAq6W"
      },
      "source": [
        "for feature_name, corr_coef in num_corr_res.items():\n",
        "    print(feature_name, corr_coef)"
      ],
      "execution_count": null,
      "outputs": []
    },
    {
      "cell_type": "markdown",
      "metadata": {
        "id": "Kfdo5dzVCdUs"
      },
      "source": [
        ""
      ]
    },
    {
      "cell_type": "markdown",
      "metadata": {
        "id": "2d53YHKUCoLL"
      },
      "source": [
        "## **1.4. Select K best categorical**"
      ]
    },
    {
      "cell_type": "code",
      "metadata": {
        "id": "tJ2KBCfJCwwj"
      },
      "source": [
        "print_unique_dtypes(train)"
      ],
      "execution_count": null,
      "outputs": []
    },
    {
      "cell_type": "code",
      "metadata": {
        "id": "Dhdp7LhOFOXj"
      },
      "source": [
        "train_categorical = train.select_dtypes(include=['O'])\n",
        "train_categorical.fillna(\"Missing\", inplace=True)\n",
        "train_categorical['SalePrice'] = target\n",
        "train_categorical.head()"
      ],
      "execution_count": null,
      "outputs": []
    },
    {
      "cell_type": "code",
      "metadata": {
        "id": "KjxkKDsmH64x"
      },
      "source": [
        "encoder = OrdinalEncoder()\n",
        "encoder.fit(train_categorical)\n",
        "train_categorical_enc = pd.DataFrame(encoder.transform(train_categorical), columns=train_categorical.columns)"
      ],
      "execution_count": null,
      "outputs": []
    },
    {
      "cell_type": "code",
      "metadata": {
        "id": "egob9fUJXDYb"
      },
      "source": [
        "for c1, c2 in zip(train_categorical.columns, train_categorical_enc.columns):\n",
        "    if len(train_categorical[c1].unique()) != len(train_categorical_enc[c2].unique()):\n",
        "        print(f'SMTH WRONG!!')"
      ],
      "execution_count": null,
      "outputs": []
    },
    {
      "cell_type": "code",
      "metadata": {
        "id": "qktG1Wv7GPuG"
      },
      "source": [
        "plt.figure(figsize = (15, 15))\n",
        "sns.heatmap(train_categorical_enc.corr())"
      ],
      "execution_count": null,
      "outputs": []
    },
    {
      "cell_type": "code",
      "metadata": {
        "id": "DZ1oeOf8a8eK"
      },
      "source": [
        "cat_corr_res = corr_filter(\n",
        "    train_categorical_enc.corr(),\n",
        "    target_feature='SalePrice',\n",
        "    abs_thresh=0.4)\n",
        "del cat_corr_res['SalePrice']"
      ],
      "execution_count": null,
      "outputs": []
    },
    {
      "cell_type": "code",
      "metadata": {
        "id": "yNr1s1LkbMvB"
      },
      "source": [
        "for k, v in cat_corr_res.items():\n",
        "    print(k, v)"
      ],
      "execution_count": null,
      "outputs": []
    },
    {
      "cell_type": "markdown",
      "metadata": {
        "id": "G65C7ybGbh8P"
      },
      "source": [
        "**Insight. Categorical values, highly (>0.4) correlated with the target**\n",
        "**(Probably, manually insert ordering -> we will catch more features)**"
      ]
    },
    {
      "cell_type": "markdown",
      "metadata": {
        "id": "zfh-qzGKcuEm"
      },
      "source": [
        "#**2. Dataset clean (based on insights)**"
      ]
    },
    {
      "cell_type": "code",
      "metadata": {
        "id": "HrJFrIZVc7Dn"
      },
      "source": [
        "nan_features = res_nan_stat.keys()\n",
        "\n",
        "num_features_to_keep = list(num_corr_res.keys())\n",
        "cat_features_to_keep = list(cat_corr_res.keys())\n",
        "\n",
        "print(num_features_to_keep)\n",
        "print(cat_features_to_keep)\n",
        "print(nan_features)"
      ],
      "execution_count": null,
      "outputs": []
    },
    {
      "cell_type": "markdown",
      "metadata": {
        "id": "PG4P8aKqfyqq"
      },
      "source": [
        "## **2.1. Drop Nan**"
      ]
    },
    {
      "cell_type": "code",
      "metadata": {
        "id": "87tT2CNaf42i"
      },
      "source": [
        "def drop_cols(df, cols):\n",
        "    df.drop(columns = cols, inplace=True)"
      ],
      "execution_count": null,
      "outputs": []
    },
    {
      "cell_type": "markdown",
      "metadata": {
        "id": "rsmJPQY7gEy0"
      },
      "source": [
        "## **2.2. Keep only relevant features**"
      ]
    },
    {
      "cell_type": "code",
      "metadata": {
        "id": "Yo9o9LfSeE2W"
      },
      "source": [
        "def drop_cols_except(df, num_features, cat_features):\n",
        "    df.drop(df.columns.difference(cat_features + num_features), 1, inplace=True)"
      ],
      "execution_count": null,
      "outputs": []
    },
    {
      "cell_type": "markdown",
      "metadata": {
        "id": "2mJsWKY226RT"
      },
      "source": [
        "## **Skewed features**"
      ]
    },
    {
      "cell_type": "code",
      "metadata": {
        "id": "EQq8-KcD28rl"
      },
      "source": [
        "from scipy.stats import skew\n",
        "skewed = train.skew().sort_values(ascending=False)\n",
        "print(skewed)"
      ],
      "execution_count": null,
      "outputs": []
    },
    {
      "cell_type": "code",
      "metadata": {
        "id": "4CcQPM8V3zHw"
      },
      "source": [
        "sns.histplot(train['MasVnrArea'])"
      ],
      "execution_count": null,
      "outputs": []
    },
    {
      "cell_type": "code",
      "metadata": {
        "id": "lK3tgVcT5T0z"
      },
      "source": [
        "sns.histplot(train['TotalBsmtSF'])"
      ],
      "execution_count": null,
      "outputs": []
    },
    {
      "cell_type": "code",
      "metadata": {
        "id": "p2XcsDbE5cP5"
      },
      "source": [
        "sns.histplot(train['1stFlrSF'])"
      ],
      "execution_count": null,
      "outputs": []
    },
    {
      "cell_type": "code",
      "metadata": {
        "id": "RCf1IZhJ5m27"
      },
      "source": [
        "sns.histplot(train['GrLivArea'])"
      ],
      "execution_count": null,
      "outputs": []
    },
    {
      "cell_type": "markdown",
      "metadata": {
        "id": "8GhIdX2E68eo"
      },
      "source": [
        "**Insight: logarithmic transformation**"
      ]
    },
    {
      "cell_type": "markdown",
      "metadata": {
        "id": "WdPDCFOfgVOs"
      },
      "source": [
        "## **Final procedure**"
      ]
    },
    {
      "cell_type": "code",
      "metadata": {
        "id": "Z0XKOX5fgZSH"
      },
      "source": [
        "log_transform_features = ['MasVnrArea', 'TotalBsmtSF', '1stFlrSF', 'GrLivArea']\n",
        "\n",
        "# Train\n",
        "drop_cols(train, nan_features)\n",
        "drop_cols_except(\n",
        "    train, \n",
        "    num_features_to_keep + ['SalePrice'], \n",
        "    cat_features_to_keep\n",
        ")\n",
        "train['HeatingQC'] = train['HeatingQC'].astype('category').cat.codes\n",
        "for col in log_transform_features:\n",
        "    train[col] = np.log(train[col] + 0.001)\n",
        "train.fillna(method='bfill')\n",
        "# -----\n",
        "\n",
        "# Test\n",
        "drop_cols(test, nan_features)\n",
        "drop_cols_except(\n",
        "    test,\n",
        "    num_features_to_keep,\n",
        "    cat_features_to_keep\n",
        ")\n",
        "test['HeatingQC'] = test['HeatingQC'].astype('category').cat.codes\n",
        "for col in log_transform_features:\n",
        "    test[col] = np.log(test[col] + 0.001)\n",
        "test.fillna(method='bfill')\n",
        "# -----\n",
        "\n",
        "y = train['SalePrice']\n",
        "train.drop(columns=['SalePrice'], inplace=True)"
      ],
      "execution_count": null,
      "outputs": []
    },
    {
      "cell_type": "markdown",
      "metadata": {
        "id": "701VK4AeiMzl"
      },
      "source": [
        "# **3. Baseline Model**"
      ]
    },
    {
      "cell_type": "markdown",
      "metadata": {
        "id": "BUfRYQvbyMuj"
      },
      "source": [
        "## **3.1. Define pipelines & transformers for num & cat features**"
      ]
    },
    {
      "cell_type": "code",
      "metadata": {
        "id": "ud0byCrxiQ5y"
      },
      "source": [
        "print(train.dtypes.unique())\n",
        "\n",
        "num_features = list(train.select_dtypes(include=['int64', 'float64']).columns)\n",
        "cat_features = list(train.select_dtypes(include=['O']).columns)\n",
        "\n",
        "print(cat_features)\n",
        "print(num_features)"
      ],
      "execution_count": null,
      "outputs": []
    },
    {
      "cell_type": "code",
      "metadata": {
        "id": "KgZusBsroj5M"
      },
      "source": [
        "cat_pipeline = Pipeline(\n",
        "    steps = [\n",
        "             ('imputer', SimpleImputer(strategy='most_frequent')),\n",
        "             ('ordinal', OrdinalEncoder())\n",
        "    ]\n",
        ")\n",
        "\n",
        "num_pipeline = Pipeline(\n",
        "    steps = [\n",
        "             ('imputer', SimpleImputer()),\n",
        "             ('scaler', StandardScaler())\n",
        "    ]\n",
        ")\n",
        "\n",
        "cat_transformer = FeaturesTransformers(cat_features, cat_pipeline)\n",
        "num_transformer = FeaturesTransformers(num_features, num_pipeline)"
      ],
      "execution_count": null,
      "outputs": []
    },
    {
      "cell_type": "markdown",
      "metadata": {
        "id": "iqd21TCeyVU2"
      },
      "source": [
        "## **3.2. Approximate tune, try models**"
      ]
    },
    {
      "cell_type": "code",
      "metadata": {
        "id": "pCGvfySRoF_g"
      },
      "source": [
        "models = [\n",
        "          #('Regression', LinearRegression()),\n",
        "          #('RF', RandomForestRegressor()),\n",
        "          ('CatBoost', CatBoostRegressor(verbose=0)),\n",
        "          ('XGB', XGBRegressor()),\n",
        "          ('Elastic', ElasticNet()),\n",
        "          #('SVR', SVR()),\n",
        "          ('GradientBoost', GradientBoostingRegressor()),\n",
        "          ('LGBM', LGBMRegressor())\n",
        "          #('SGD', SGDRegressor())\n",
        "]\n",
        "\n",
        "res_dict = first_tune(\n",
        "    models,\n",
        "    scoring='neg_mean_squared_log_error',\n",
        "    X_train=train,\n",
        "    Y_train=y,\n",
        "    transformers = dict(\n",
        "        a=cat_transformer,\n",
        "        b=num_transformer\n",
        "    )\n",
        ")\n",
        "d_sorted = {k:v.mean() for k, v in sorted(res_dict.items(), key = lambda item: item[1].mean())}\n",
        "d_sorted"
      ],
      "execution_count": null,
      "outputs": []
    },
    {
      "cell_type": "markdown",
      "metadata": {
        "id": "YdtF1FWDHAwx"
      },
      "source": [
        "**Cat Boost Regression shows best metrics**"
      ]
    },
    {
      "cell_type": "markdown",
      "metadata": {
        "id": "6v_6zovfHFQg"
      },
      "source": [
        ""
      ]
    },
    {
      "cell_type": "markdown",
      "metadata": {
        "id": "2TC9K6kqIW8I"
      },
      "source": [
        "## **3.3. Fine tune & train val split**"
      ]
    },
    {
      "cell_type": "code",
      "metadata": {
        "id": "wN5xrmhMIq58"
      },
      "source": [
        "train.shape"
      ],
      "execution_count": null,
      "outputs": []
    },
    {
      "cell_type": "code",
      "metadata": {
        "id": "Nc8zjz9vIcba"
      },
      "source": [
        "X_train, X_val, y_train, y_val = train_test_split(train, y,\n",
        "                                                  train_size=train_proportion,\n",
        "                                                  random_state=rand_state)"
      ],
      "execution_count": null,
      "outputs": []
    },
    {
      "cell_type": "code",
      "metadata": {
        "id": "6DLbhJxJI86Z"
      },
      "source": [
        "X_train.shape, X_val.shape"
      ],
      "execution_count": null,
      "outputs": []
    },
    {
      "cell_type": "code",
      "metadata": {
        "id": "QsslwXQXI_Qd"
      },
      "source": [
        "fine_tune_models = [(\n",
        "    'CatBoost',\n",
        "    CatBoostRegressor(verbose=0),{\n",
        "        'model__depth': [4, 7],\n",
        "        'model__learning_rate': [0.03, 0.1],\n",
        "        'model__iterations': [100, 150, 200],\n",
        "        'model__l2_leaf_reg': [0.2, 0.5, 1]\n",
        "    }\n",
        ")]\n",
        "\n",
        "catboost_res = fine_tune(\n",
        "    fine_tune_models,\n",
        "    X_train,\n",
        "    y_train,\n",
        "    strategy='GridSearchCV',\n",
        "    search_params = dict(\n",
        "        verbose=3,\n",
        "        return_train_score=True,\n",
        "        n_jobs=-1,\n",
        "        scoring='neg_mean_squared_log_error',\n",
        "        cv=6\n",
        "    ),\n",
        "    transformers = dict(\n",
        "        numeric = num_transformer,\n",
        "        categorical = cat_transformer\n",
        "    )\n",
        ")"
      ],
      "execution_count": null,
      "outputs": []
    },
    {
      "cell_type": "markdown",
      "metadata": {
        "id": "e5eLNJJKNsLs"
      },
      "source": [
        "## **3.4. Best Model Selection**"
      ]
    },
    {
      "cell_type": "code",
      "metadata": {
        "id": "DpeEoB6rMmY-"
      },
      "source": [
        "best_model_score = catboost_res['CatBoost'].best_score_\n",
        "best_estimator = catboost_res['CatBoost'].best_estimator_\n",
        "print(best_model_score)"
      ],
      "execution_count": null,
      "outputs": []
    },
    {
      "cell_type": "code",
      "metadata": {
        "id": "QNv5dHqhNDDo"
      },
      "source": [
        "print(best_estimator)"
      ],
      "execution_count": null,
      "outputs": []
    },
    {
      "cell_type": "code",
      "metadata": {
        "id": "6iropJh1N5vr"
      },
      "source": [
        "best_estimator.fit(X_train, y_train)"
      ],
      "execution_count": null,
      "outputs": []
    },
    {
      "cell_type": "code",
      "metadata": {
        "id": "aYyH3misOKfZ"
      },
      "source": [
        "predicted = best_estimator.predict(X_val)\n",
        "print(mean_squared_log_error(predicted, y_val))"
      ],
      "execution_count": null,
      "outputs": []
    },
    {
      "cell_type": "markdown",
      "metadata": {
        "id": "Or_p2g7QPYVx"
      },
      "source": [
        "# **4. Submission**"
      ]
    },
    {
      "cell_type": "code",
      "metadata": {
        "id": "ZxYTkrmlPbdZ"
      },
      "source": [
        "best_estimator.fit(train, y)\n",
        "final_predictions = best_estimator.predict(test)"
      ],
      "execution_count": null,
      "outputs": []
    },
    {
      "cell_type": "code",
      "metadata": {
        "id": "8T0jYjXHP0p9"
      },
      "source": [
        "sample_submission = pd.read_csv(sample_submission_path, index_col='Id')\n",
        "submission = pd.DataFrame({\n",
        "    'Id': sample_submission.index,\n",
        "    'SalePrice': final_predictions\n",
        "})\n",
        "submission.to_csv(submission_path, index=False)"
      ],
      "execution_count": null,
      "outputs": []
    }
  ]
}