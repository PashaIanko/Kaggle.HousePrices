{
  "nbformat": 4,
  "nbformat_minor": 0,
  "metadata": {
    "colab": {
      "name": "House Prices.ipynb",
      "provenance": [],
      "authorship_tag": "ABX9TyO1kQAtG5OLSQZvtz1fyBNP",
      "include_colab_link": true
    },
    "kernelspec": {
      "name": "python3",
      "display_name": "Python 3"
    },
    "language_info": {
      "name": "python"
    }
  },
  "cells": [
    {
      "cell_type": "markdown",
      "metadata": {
        "id": "view-in-github",
        "colab_type": "text"
      },
      "source": [
        "<a href=\"https://colab.research.google.com/github/PashaIanko/Kaggle.HousePrices/blob/NewProcessing/House_Prices.ipynb\" target=\"_parent\"><img src=\"https://colab.research.google.com/assets/colab-badge.svg\" alt=\"Open In Colab\"/></a>"
      ]
    },
    {
      "cell_type": "markdown",
      "metadata": {
        "id": "dOwBkv6KSQWq"
      },
      "source": [
        "### Objectives:\n",
        "1. Learn important feature selection\n",
        "- SelectKBest from scikit learn\n",
        "- Correlation matrix\n",
        "- Feature importance from classifiers\n",
        "\n",
        "### Train preparation:\n",
        "1. Delete certain Nan cols\n",
        "2. Keep only selected numeric & categorical features\n"
      ]
    },
    {
      "cell_type": "markdown",
      "metadata": {
        "id": "0Sk1ghqfZ7oP"
      },
      "source": [
        "## Packages"
      ]
    },
    {
      "cell_type": "code",
      "metadata": {
        "id": "Mz9r2L2_hL-L",
        "colab": {
          "base_uri": "https://localhost:8080/"
        },
        "outputId": "23830c2a-917b-4c59-f0c6-d697a8e47b3e"
      },
      "source": [
        "!pip install catboost"
      ],
      "execution_count": 452,
      "outputs": [
        {
          "output_type": "stream",
          "name": "stdout",
          "text": [
            "Requirement already satisfied: catboost in /usr/local/lib/python3.7/dist-packages (1.0.3)\n",
            "Requirement already satisfied: six in /usr/local/lib/python3.7/dist-packages (from catboost) (1.15.0)\n",
            "Requirement already satisfied: scipy in /usr/local/lib/python3.7/dist-packages (from catboost) (1.4.1)\n",
            "Requirement already satisfied: graphviz in /usr/local/lib/python3.7/dist-packages (from catboost) (0.10.1)\n",
            "Requirement already satisfied: pandas>=0.24.0 in /usr/local/lib/python3.7/dist-packages (from catboost) (1.1.5)\n",
            "Requirement already satisfied: numpy>=1.16.0 in /usr/local/lib/python3.7/dist-packages (from catboost) (1.19.5)\n",
            "Requirement already satisfied: matplotlib in /usr/local/lib/python3.7/dist-packages (from catboost) (3.2.2)\n",
            "Requirement already satisfied: plotly in /usr/local/lib/python3.7/dist-packages (from catboost) (4.4.1)\n",
            "Requirement already satisfied: pytz>=2017.2 in /usr/local/lib/python3.7/dist-packages (from pandas>=0.24.0->catboost) (2018.9)\n",
            "Requirement already satisfied: python-dateutil>=2.7.3 in /usr/local/lib/python3.7/dist-packages (from pandas>=0.24.0->catboost) (2.8.2)\n",
            "Requirement already satisfied: pyparsing!=2.0.4,!=2.1.2,!=2.1.6,>=2.0.1 in /usr/local/lib/python3.7/dist-packages (from matplotlib->catboost) (2.4.7)\n",
            "Requirement already satisfied: kiwisolver>=1.0.1 in /usr/local/lib/python3.7/dist-packages (from matplotlib->catboost) (1.3.2)\n",
            "Requirement already satisfied: cycler>=0.10 in /usr/local/lib/python3.7/dist-packages (from matplotlib->catboost) (0.10.0)\n",
            "Requirement already satisfied: retrying>=1.3.3 in /usr/local/lib/python3.7/dist-packages (from plotly->catboost) (1.3.3)\n"
          ]
        }
      ]
    },
    {
      "cell_type": "code",
      "metadata": {
        "id": "qkS-hIDT602H",
        "colab": {
          "base_uri": "https://localhost:8080/"
        },
        "outputId": "7299e2e1-2e05-491b-ca3d-1814b3665a46"
      },
      "source": [
        "!pip install category_encoders"
      ],
      "execution_count": 453,
      "outputs": [
        {
          "output_type": "stream",
          "name": "stdout",
          "text": [
            "Requirement already satisfied: category_encoders in /usr/local/lib/python3.7/dist-packages (2.3.0)\n",
            "Requirement already satisfied: statsmodels>=0.9.0 in /usr/local/lib/python3.7/dist-packages (from category_encoders) (0.10.2)\n",
            "Requirement already satisfied: pandas>=0.21.1 in /usr/local/lib/python3.7/dist-packages (from category_encoders) (1.1.5)\n",
            "Requirement already satisfied: scikit-learn>=0.20.0 in /usr/local/lib/python3.7/dist-packages (from category_encoders) (0.22.2.post1)\n",
            "Requirement already satisfied: patsy>=0.5.1 in /usr/local/lib/python3.7/dist-packages (from category_encoders) (0.5.2)\n",
            "Requirement already satisfied: scipy>=1.0.0 in /usr/local/lib/python3.7/dist-packages (from category_encoders) (1.4.1)\n",
            "Requirement already satisfied: numpy>=1.14.0 in /usr/local/lib/python3.7/dist-packages (from category_encoders) (1.19.5)\n",
            "Requirement already satisfied: pytz>=2017.2 in /usr/local/lib/python3.7/dist-packages (from pandas>=0.21.1->category_encoders) (2018.9)\n",
            "Requirement already satisfied: python-dateutil>=2.7.3 in /usr/local/lib/python3.7/dist-packages (from pandas>=0.21.1->category_encoders) (2.8.2)\n",
            "Requirement already satisfied: six in /usr/local/lib/python3.7/dist-packages (from patsy>=0.5.1->category_encoders) (1.15.0)\n",
            "Requirement already satisfied: joblib>=0.11 in /usr/local/lib/python3.7/dist-packages (from scikit-learn>=0.20.0->category_encoders) (1.0.1)\n"
          ]
        }
      ]
    },
    {
      "cell_type": "code",
      "metadata": {
        "id": "2k0DiSDHYGf0"
      },
      "source": [
        "import pandas as pd\n",
        "import numpy as np\n",
        "from google.colab import drive\n",
        "\n",
        "# Plots\n",
        "import matplotlib.pyplot as plt\n",
        "import seaborn as sns\n",
        "\n",
        "# Printing\n",
        "import pprint\n",
        "\n",
        "# Feature selection\n",
        "from sklearn.feature_selection import chi2\n",
        "from sklearn.feature_selection import f_classif\n",
        "from sklearn.feature_selection import SelectKBest\n",
        "\n",
        "# Encoding\n",
        "from sklearn.preprocessing import OrdinalEncoder\n",
        "import category_encoders as ce\n",
        "\n",
        "# Pipeline\n",
        "from sklearn.pipeline import Pipeline\n",
        "from sklearn.impute import KNNImputer, SimpleImputer\n",
        "from sklearn.pipeline import make_pipeline\n",
        "from scipy.stats import skew\n",
        "\n",
        "# Model\n",
        "from sklearn.linear_model import LinearRegression\n",
        "from sklearn.ensemble import RandomForestRegressor\n",
        "from xgboost.sklearn import XGBRegressor\n",
        "from catboost import CatBoostRegressor\n",
        "from sklearn.linear_model import SGDRegressor\n",
        "from sklearn.linear_model import ElasticNet\n",
        "from sklearn.ensemble import GradientBoostingRegressor\n",
        "from sklearn.svm import SVR\n",
        "from lightgbm import LGBMRegressor\n",
        "\n",
        "from sklearn.model_selection import GridSearchCV\n",
        "from sklearn.model_selection import RandomizedSearchCV\n",
        "from sklearn.preprocessing import OrdinalEncoder, StandardScaler\n",
        "from sklearn.preprocessing import OneHotEncoder, MinMaxScaler, RobustScaler\n",
        "from sklearn.model_selection import train_test_split\n",
        "\n",
        "# For my functions\n",
        "from sklearn.model_selection import cross_val_score\n",
        "from sklearn.compose import ColumnTransformer\n",
        "\n",
        "# Metrics\n",
        "from sklearn.metrics import mean_squared_log_error\n",
        "from sklearn.metrics import mean_squared_error"
      ],
      "execution_count": 454,
      "outputs": []
    },
    {
      "cell_type": "markdown",
      "metadata": {
        "id": "0CXWNiSkZjCI"
      },
      "source": [
        "## Constants"
      ]
    },
    {
      "cell_type": "code",
      "metadata": {
        "id": "D0Z1X3eqZqL-"
      },
      "source": [
        "train_proportion = 0.9\n",
        "validation_proportion = 0.1\n",
        "rand_state = 42\n",
        "\n",
        "# Feature selection\n",
        "select_k_numerics = 30  # select 20 out of 36 numeric features\n",
        "nan_drop_thresh = 0.25"
      ],
      "execution_count": 455,
      "outputs": []
    },
    {
      "cell_type": "markdown",
      "metadata": {
        "id": "bAEQWCI7Zm6n"
      },
      "source": [
        "## Functions"
      ]
    },
    {
      "cell_type": "code",
      "metadata": {
        "id": "ugkSwbcUZzzi"
      },
      "source": [
        "def nan_statistics(df, nan_thresh=0.0):\n",
        "    res = {}\n",
        "    nan_cols = df.loc[:, df.isna().any()].columns\n",
        "    for col in nan_cols:\n",
        "        res[col] = nan_percentage(df, col)\n",
        "    print(f'Col -- Nan percentage')\n",
        "    for key, val in sorted(res.items(), key=lambda item: item[1], reverse=True):\n",
        "        if val >= nan_thresh * 100:\n",
        "            print(key, val)\n",
        "        else:\n",
        "            del res[key]\n",
        "    return res\n",
        "\n",
        "def nan_percentage(df, colname):\n",
        "    return (df[colname].isnull().sum() / df.shape[0]) * 100\n",
        "\n",
        "def corr_filter(corr_matrix, target_feature, abs_thresh=0.3):\n",
        "    res = {}\n",
        "    series = corr_matrix[target_feature]\n",
        "    for idx, val in series.items():\n",
        "        if abs(val) >= abs_thresh:\n",
        "            res[idx] = val  # Feature names and corr coeff\n",
        "    return res\n",
        "\n",
        "def print_unique_dtypes(df):\n",
        "    print(set(train.dtypes.values))\n",
        "\n",
        "class FeaturesTransformers:\n",
        "    def __init__(self, features, transformers):\n",
        "        self.features = features\n",
        "        self.transformers = transformers"
      ],
      "execution_count": 456,
      "outputs": []
    },
    {
      "cell_type": "code",
      "metadata": {
        "id": "xgs5Ef8csT-z"
      },
      "source": [
        "def build_pipe(model, **transformers):\n",
        "    res_transformers = []\n",
        "    for key, val in transformers.items():\n",
        "        res_transformers.append((key, val.transformers, val.features))\n",
        "\n",
        "    preprocess = ColumnTransformer(\n",
        "        res_transformers\n",
        "    )\n",
        "    \n",
        "    pipe = Pipeline(\n",
        "        steps = [\n",
        "                 ('preprocessing', preprocess),\n",
        "                 ('model', model)\n",
        "        ]\n",
        "    )\n",
        "    return pipe\n",
        "\n",
        "def first_tune(models, scoring, X_train, Y_train, transformers):\n",
        "    res = dict()\n",
        "    for name, model in models:\n",
        "        model_pipeline = build_pipe(model, **transformers)\n",
        "        cv_scores = cross_val_score(model_pipeline, X_train, Y_train, scoring=scoring)\n",
        "        res[name] = cv_scores\n",
        "\n",
        "    return dict(sorted(res.items(), reverse=True, key=lambda x: np.mean(x[1])))"
      ],
      "execution_count": 457,
      "outputs": []
    },
    {
      "cell_type": "code",
      "metadata": {
        "id": "gZjqmf_vJgfp"
      },
      "source": [
        "def fine_tune(models, X_train, Y_train, strategy, search_params, transformers):\n",
        "\n",
        "    fine_tune_res = {}\n",
        "\n",
        "    for name, model, param_grid in models:\n",
        "        print(search_params)\n",
        "        pipe = build_pipe(model, **transformers)\n",
        "\n",
        "        if strategy == 'GridSearchCV':\n",
        "            search_res = GridSearchCV(\n",
        "                estimator = pipe, \n",
        "                param_grid = param_grid,\n",
        "                **search_params\n",
        "            )\n",
        "\n",
        "        elif strategy == 'RandomizedSearchCV':\n",
        "            search_res = RandomizedSearchCV(\n",
        "                pipe, \n",
        "                param_grid,\n",
        "                **search_params\n",
        "            )\n",
        "        search_res.fit(X_train, Y_train)\n",
        "        fine_tune_res[name] = search_res\n",
        "    \n",
        "    return dict(sorted(fine_tune_res.items(), reverse=True, key=lambda x: x[1].best_score_))"
      ],
      "execution_count": 458,
      "outputs": []
    },
    {
      "cell_type": "code",
      "metadata": {
        "id": "F7i4IaZf8qTX"
      },
      "source": [
        "import seaborn as sns\n",
        "import numpy as np\n",
        "import math\n",
        "import scipy.stats as ss\n",
        "import matplotlib.pyplot as plt\n",
        "\n",
        "def skew_autotransform(DF, include = None, exclude = None, plot = False, threshold = 1, exp = False):\n",
        "    \n",
        "    #Get list of column names that should be processed based on input parameters\n",
        "    if include is None and exclude is None:\n",
        "        colnames = DF.columns.values\n",
        "    elif include is not None:\n",
        "        colnames = include\n",
        "    elif exclude is not None:\n",
        "        colnames = [item for item in list(DF.columns.values) if item not in exclude]\n",
        "    else:\n",
        "        print('No columns to process!')\n",
        "    \n",
        "    #Helper function that checks if all values are positive\n",
        "    def make_positive(series):\n",
        "        minimum = np.amin(series)\n",
        "        #If minimum is negative, offset all values by a constant to move all values to positive teritory\n",
        "        if minimum <= 0:\n",
        "            series = series + abs(minimum) + 0.01\n",
        "        return series\n",
        "    \n",
        "    \n",
        "    #Go throug desired columns in DataFrame\n",
        "    for col in colnames:\n",
        "        #Get column skewness\n",
        "        skew = DF[col].skew()\n",
        "        transformed = True\n",
        "        \n",
        "        if plot:\n",
        "            #Prep the plot of original data\n",
        "            sns.set_style(\"darkgrid\")\n",
        "            sns.set_palette(\"Blues_r\")\n",
        "            fig, axes = plt.subplots(1, 2, figsize=(10, 5))\n",
        "            ax1 = sns.distplot(DF[col], ax=axes[0])\n",
        "            ax1.set(xlabel='Original ' + col)\n",
        "        \n",
        "        #If skewness is larger than threshold and positively skewed; If yes, apply appropriate transformation\n",
        "        if abs(skew) > threshold and skew > 0:\n",
        "            skewType = 'positive'\n",
        "            #Make sure all values are positive\n",
        "            DF[col] = make_positive(DF[col])\n",
        "            \n",
        "            if exp:\n",
        "               #Apply log transformation \n",
        "               DF[col] = DF[col].apply(math.log)\n",
        "            else:\n",
        "                #Apply boxcox transformation\n",
        "                DF[col] = ss.boxcox(DF[col])[0]\n",
        "            skew_new = DF[col].skew()\n",
        "         \n",
        "        elif abs(skew) > threshold and skew < 0:\n",
        "            skewType = 'negative'\n",
        "            #Make sure all values are positive\n",
        "            DF[col] = make_positive(DF[col])\n",
        "            \n",
        "            if exp:\n",
        "               #Apply exp transformation \n",
        "               DF[col] = DF[col].pow(10)\n",
        "            else:\n",
        "                #Apply boxcox transformation\n",
        "                DF[col] = ss.boxcox(DF[col])[0]\n",
        "            skew_new = DF[col].skew()\n",
        "        \n",
        "        else:\n",
        "            #Flag if no transformation was performed\n",
        "            transformed = False\n",
        "            skew_new = skew\n",
        "        \n",
        "        #Compare before and after if plot is True\n",
        "        if plot:\n",
        "            print('\\n ------------------------------------------------------')     \n",
        "            if transformed:\n",
        "                print('\\n %r had %r skewness of %2.2f' %(col, skewType, skew))\n",
        "                print('\\n Transformation yielded skewness of %2.2f' %(skew_new))\n",
        "                sns.set_palette(\"Paired\")\n",
        "                ax2 = sns.distplot(DF[col], ax=axes[1], color = 'r')\n",
        "                ax2.set(xlabel='Transformed ' + col)\n",
        "                plt.show()\n",
        "            else:\n",
        "                print('\\n NO TRANSFORMATION APPLIED FOR %r . Skewness = %2.2f' %(col, skew))\n",
        "                ax2 = sns.distplot(DF[col], ax=axes[1])\n",
        "                ax2.set(xlabel='NO TRANSFORM ' + col)\n",
        "                plt.show()\n",
        "                \n",
        "\n",
        "    return DF"
      ],
      "execution_count": 459,
      "outputs": []
    },
    {
      "cell_type": "code",
      "metadata": {
        "id": "eHVBZiQfLhDm"
      },
      "source": [
        "def get_order(df, feature):\n",
        "    # Impose order depending on the median price\n",
        "    subset = df[[feature, 'SalePrice']]\n",
        "    s = subset.groupby([feature]).median().sort_values(by='SalePrice')\n",
        "    return list(s.index)\n",
        "\n",
        "def prepare_labels(ordered_features):\n",
        "    return {k: ordered_features.index(k) + 1 for k in ordered_features}"
      ],
      "execution_count": 460,
      "outputs": []
    },
    {
      "cell_type": "markdown",
      "metadata": {
        "id": "jLW5Vm2ciR3k"
      },
      "source": [
        "## Transformers"
      ]
    },
    {
      "cell_type": "code",
      "metadata": {
        "id": "tM7iwlGKiUcf"
      },
      "source": [
        "from abc import abstractmethod\n",
        "\n",
        "class Transformer:\n",
        "    def __init__(self):\n",
        "        pass\n",
        "    @abstractmethod\n",
        "    def transform():\n",
        "        pass\n",
        "\n",
        "class NanRemover(Transformer):\n",
        "    def __init__(self):\n",
        "        super().__init__()\n",
        "\n",
        "    def transform(df, cols):\n",
        "        df.drop(columns = cols, inplace=True)\n",
        "\n",
        "class NanCatFiller(Transformer):\n",
        "    def __init__(self):\n",
        "        super().__init()\n",
        "    \n",
        "    def transform(df, cols, val):\n",
        "        for c in cols:\n",
        "            df[c].fillna(value=val, inplace=True)\n",
        "\n",
        "class NanNumFiller(Transformer):\n",
        "    def __init__(self):\n",
        "        super().__init__()\n",
        "\n",
        "    def transform(df, cols, method):\n",
        "        if method == 'median':\n",
        "            for c in cols:\n",
        "                df[c].fillna(value=df[c].median(), inplace=True)\n",
        "\n",
        "class CatEncoder(Transformer):\n",
        "    def __init__(self):\n",
        "        super().__init__()\n",
        "\n",
        "    def transform(df, colname, dictionary):\n",
        "        # dict with cat_feature_name: new_value\n",
        "        # dict = {'FeatureA': 1} // encoded value\n",
        "        series = df[colname]  # Series\n",
        "        for f_name, new_val in dictionary.items():\n",
        "            series[series == f_name] = new_val\n",
        "        df[colname] = series\n",
        "\n",
        "class ColumnKeeper(Transformer):\n",
        "    def __init__(self):\n",
        "        super().__init__()\n",
        "    \n",
        "    def transform(df, features_to_keep):\n",
        "        df.drop(df.columns.difference(features_to_keep), 1, inplace=True)"
      ],
      "execution_count": 461,
      "outputs": []
    },
    {
      "cell_type": "code",
      "metadata": {
        "id": "LoBVvGW3szZV"
      },
      "source": [
        "class LogTransformer(Transformer):\n",
        "    def __init__(self):\n",
        "        super().init()\n",
        "    def transform(df, colnames, offset=0.001):\n",
        "        for c in colnames:\n",
        "            df[c] = df[c].map(lambda i: np.log(i) if i > 0 else np.log(i + offset))"
      ],
      "execution_count": 462,
      "outputs": []
    },
    {
      "cell_type": "code",
      "metadata": {
        "id": "2l1PBws3ZnwR"
      },
      "source": [
        "class QuantileRemover(Transformer):\n",
        "    def __init__(self):\n",
        "        super().__init__()\n",
        "    \n",
        "    def transform(df, cols, percent_low, percent_high):\n",
        "        for c in cols:\n",
        "            q_low = df[c].quantile(percent_low)\n",
        "            q_high = df[c].quantile(percent_high)\n",
        "            df = df[df[c].between(q_low, q_high)]\n",
        "            #return df[(df[c] > q_low) & (df[c] < q_high)]\n",
        "            return df\n",
        "\n",
        "class IQRRemover(Transformer):\n",
        "    def __init__(self):\n",
        "        super().__init__()\n",
        "    \n",
        "    def transform(df, columns, range_width=1.5):\n",
        "        for c in columns:\n",
        "            Q1 = df[c].quantile(0.25)\n",
        "            Q3 = df[c].quantile(0.75)\n",
        "            IQR = Q3 - Q1\n",
        "            df = df[(df[c] < Q1 - range_width * IQR) & \n",
        "                    (df[c] > Q3 + range_width * IQR)]\n",
        "            return df"
      ],
      "execution_count": 463,
      "outputs": []
    },
    {
      "cell_type": "markdown",
      "metadata": {
        "id": "eqlgsEjCZ_b2"
      },
      "source": [
        "## Data download"
      ]
    },
    {
      "cell_type": "code",
      "metadata": {
        "id": "-RyB-68MYTrS",
        "colab": {
          "base_uri": "https://localhost:8080/"
        },
        "outputId": "4f19b5e3-0c30-4d71-a47e-f07f8acd7953"
      },
      "source": [
        "# Setting file download from google Drive\n",
        "drive.mount('/content/gdrive')\n",
        "gdrive_path = '/content/gdrive/MyDrive/'\n",
        "df_path = 'ML/Datasets/2.HousePrices/'\n",
        "\n",
        "train_path = gdrive_path + df_path + \"train.csv\"\n",
        "test_path =  gdrive_path + df_path + \"test.csv\"\n",
        "submission_path = gdrive_path + df_path + \"submission.csv\"\n",
        "sample_submission_path = gdrive_path + df_path + \"sample_submission.csv\""
      ],
      "execution_count": 464,
      "outputs": [
        {
          "output_type": "stream",
          "name": "stdout",
          "text": [
            "Drive already mounted at /content/gdrive; to attempt to forcibly remount, call drive.mount(\"/content/gdrive\", force_remount=True).\n"
          ]
        }
      ]
    },
    {
      "cell_type": "code",
      "metadata": {
        "id": "KGzQlfveYcxI"
      },
      "source": [
        "train = pd.read_csv(train_path, index_col='Id')\n",
        "test = pd.read_csv(test_path, index_col='Id')\n",
        "target = train['SalePrice']"
      ],
      "execution_count": 465,
      "outputs": []
    },
    {
      "cell_type": "markdown",
      "metadata": {
        "id": "Ib1P9wY7kMdL"
      },
      "source": [
        "## **Nan statistics & remove Nans**"
      ]
    },
    {
      "cell_type": "code",
      "metadata": {
        "id": "MN8ZS_FJarp2",
        "colab": {
          "base_uri": "https://localhost:8080/"
        },
        "outputId": "821ec0fe-b933-4d9d-ccd8-68f3a7296ec3"
      },
      "source": [
        "# Remove columns with nan % > threshold\n",
        "res_nan_stat = nan_statistics(train, nan_thresh=0.2)\n",
        "print(res_nan_stat)\n",
        "NanRemover.transform(train, res_nan_stat.keys())\n",
        "NanRemover.transform(test, res_nan_stat.keys())"
      ],
      "execution_count": 466,
      "outputs": [
        {
          "output_type": "stream",
          "name": "stdout",
          "text": [
            "Col -- Nan percentage\n",
            "PoolQC 99.52054794520548\n",
            "MiscFeature 96.30136986301369\n",
            "Alley 93.76712328767123\n",
            "Fence 80.75342465753424\n",
            "FireplaceQu 47.26027397260274\n",
            "{'Alley': 93.76712328767123, 'FireplaceQu': 47.26027397260274, 'PoolQC': 99.52054794520548, 'Fence': 80.75342465753424, 'MiscFeature': 96.30136986301369}\n"
          ]
        }
      ]
    },
    {
      "cell_type": "markdown",
      "metadata": {
        "id": "Abd50tF_cSbv"
      },
      "source": [
        "**Insight #1: Remove features with Nans > 40% (PoolQC, MiscFeature, Alley, Fence, FireplaceQu)**"
      ]
    },
    {
      "cell_type": "markdown",
      "metadata": {
        "id": "Dr51gdz2i0Vm"
      },
      "source": [
        "## **Fill Na**"
      ]
    },
    {
      "cell_type": "code",
      "metadata": {
        "id": "nbJvWCxHi4xp",
        "colab": {
          "base_uri": "https://localhost:8080/"
        },
        "outputId": "f05a8604-0243-44d9-dc59-97ed471f2132"
      },
      "source": [
        "nan_statistics(train, nan_thresh=0.0).items()"
      ],
      "execution_count": 467,
      "outputs": [
        {
          "output_type": "stream",
          "name": "stdout",
          "text": [
            "Col -- Nan percentage\n",
            "LotFrontage 17.73972602739726\n",
            "GarageType 5.5479452054794525\n",
            "GarageYrBlt 5.5479452054794525\n",
            "GarageFinish 5.5479452054794525\n",
            "GarageQual 5.5479452054794525\n",
            "GarageCond 5.5479452054794525\n",
            "BsmtExposure 2.6027397260273974\n",
            "BsmtFinType2 2.6027397260273974\n",
            "BsmtQual 2.5342465753424657\n",
            "BsmtCond 2.5342465753424657\n",
            "BsmtFinType1 2.5342465753424657\n",
            "MasVnrType 0.547945205479452\n",
            "MasVnrArea 0.547945205479452\n",
            "Electrical 0.0684931506849315\n"
          ]
        },
        {
          "output_type": "execute_result",
          "data": {
            "text/plain": [
              "dict_items([('LotFrontage', 17.73972602739726), ('MasVnrType', 0.547945205479452), ('MasVnrArea', 0.547945205479452), ('BsmtQual', 2.5342465753424657), ('BsmtCond', 2.5342465753424657), ('BsmtExposure', 2.6027397260273974), ('BsmtFinType1', 2.5342465753424657), ('BsmtFinType2', 2.6027397260273974), ('Electrical', 0.0684931506849315), ('GarageType', 5.5479452054794525), ('GarageYrBlt', 5.5479452054794525), ('GarageFinish', 5.5479452054794525), ('GarageQual', 5.5479452054794525), ('GarageCond', 5.5479452054794525)])"
            ]
          },
          "metadata": {},
          "execution_count": 467
        }
      ]
    },
    {
      "cell_type": "code",
      "metadata": {
        "id": "2uO8lBo-jfAB"
      },
      "source": [
        "cat_colnames = train.select_dtypes(include=['O']).columns\n",
        "num_colnames = train.select_dtypes(include=['int64', 'float64']).columns\n",
        "num_test_colnames = [c for c in num_colnames if not (c == 'SalePrice')]\n",
        "\n",
        "NanCatFiller.transform(train, cat_colnames, val='Missing')\n",
        "NanCatFiller.transform(test, cat_colnames, val='Missing')\n",
        "\n",
        "NanNumFiller.transform(train, num_colnames, method='median')\n",
        "NanNumFiller.transform(test, num_test_colnames, method='median')"
      ],
      "execution_count": 468,
      "outputs": []
    },
    {
      "cell_type": "code",
      "metadata": {
        "id": "9XszMNerkgQy",
        "colab": {
          "base_uri": "https://localhost:8080/"
        },
        "outputId": "62036151-f413-4bf5-e3a8-8ab7f2909bb7"
      },
      "source": [
        "nan_statistics(train, nan_thresh=0.0)"
      ],
      "execution_count": 469,
      "outputs": [
        {
          "output_type": "stream",
          "name": "stdout",
          "text": [
            "Col -- Nan percentage\n"
          ]
        },
        {
          "output_type": "execute_result",
          "data": {
            "text/plain": [
              "{}"
            ]
          },
          "metadata": {},
          "execution_count": 469
        }
      ]
    },
    {
      "cell_type": "code",
      "metadata": {
        "id": "zjPjRSdiNbVz",
        "colab": {
          "base_uri": "https://localhost:8080/"
        },
        "outputId": "3986cbe0-f682-48f4-9ad5-914aa8e75be2"
      },
      "source": [
        "nan_statistics(test)"
      ],
      "execution_count": 470,
      "outputs": [
        {
          "output_type": "stream",
          "name": "stdout",
          "text": [
            "Col -- Nan percentage\n"
          ]
        },
        {
          "output_type": "execute_result",
          "data": {
            "text/plain": [
              "{}"
            ]
          },
          "metadata": {},
          "execution_count": 470
        }
      ]
    },
    {
      "cell_type": "markdown",
      "metadata": {
        "id": "Kc2gOxaWmzae"
      },
      "source": [
        "## **Explore categorical**"
      ]
    },
    {
      "cell_type": "code",
      "metadata": {
        "id": "d9ScM90Mm8Ln",
        "colab": {
          "base_uri": "https://localhost:8080/"
        },
        "outputId": "6303cb90-3928-4b31-f909-559ccbebef1e"
      },
      "source": [
        "cat_features = train.select_dtypes(include=['O']).columns\n",
        "print(len(cat_features))"
      ],
      "execution_count": 471,
      "outputs": [
        {
          "output_type": "stream",
          "name": "stdout",
          "text": [
            "38\n"
          ]
        }
      ]
    },
    {
      "cell_type": "code",
      "metadata": {
        "id": "SxPIhEaboEDO",
        "colab": {
          "base_uri": "https://localhost:8080/",
          "height": 0
        },
        "outputId": "f71f65c7-7f7a-48c8-8929-0ecb1bc7694b"
      },
      "source": [
        "def plot(feature):\n",
        "    subset = train[[feature, 'SalePrice']]\n",
        "    s = subset.groupby([feature]).median().sort_values(by='SalePrice')\n",
        "    \n",
        "    fig = plt.figure(figsize=(15, 5))\n",
        "    plt.subplot(1, 2, 1)\n",
        "    sns.histplot(x = feature, data=train, stat='percent')\n",
        "    plt.subplot(1, 2, 2)\n",
        "    sns.boxplot(x=feature, y='SalePrice', data=train, order=s.index)\n",
        "\n",
        "plot(cat_features[0])"
      ],
      "execution_count": 472,
      "outputs": [
        {
          "output_type": "display_data",
          "data": {
            "image/png": "[encoded data removed]",
            "text/plain": [
              "<Figure size 1080x360 with 2 Axes>"
            ]
          },
          "metadata": {
            "needs_background": "light"
          }
        }
      ]
    },
    {
      "cell_type": "code",
      "metadata": {
        "id": "MIXFoSMsssY9",
        "colab": {
          "base_uri": "https://localhost:8080/",
          "height": 0
        },
        "outputId": "e61dd81e-aeb1-4de7-bce2-d167b5fcb833"
      },
      "source": [
        "plot(cat_features[1])"
      ],
      "execution_count": 473,
      "outputs": [
        {
          "output_type": "display_data",
          "data": {
            "image/png": "[encoded data removed]",
            "text/plain": [
              "<Figure size 1080x360 with 2 Axes>"
            ]
          },
          "metadata": {
            "needs_background": "light"
          }
        }
      ]
    },
    {
      "cell_type": "code",
      "metadata": {
        "id": "_I1CHFUMs2Lx",
        "colab": {
          "base_uri": "https://localhost:8080/",
          "height": 0
        },
        "outputId": "11c85f10-7fd2-46b1-fbdf-7cc014933f7f"
      },
      "source": [
        "plot(cat_features[2])"
      ],
      "execution_count": 474,
      "outputs": [
        {
          "output_type": "display_data",
          "data": {
            "image/png": "[encoded data removed]",
            "text/plain": [
              "<Figure size 1080x360 with 2 Axes>"
            ]
          },
          "metadata": {
            "needs_background": "light"
          }
        }
      ]
    },
    {
      "cell_type": "code",
      "metadata": {
        "id": "S2qGxAO_ti9V",
        "colab": {
          "base_uri": "https://localhost:8080/",
          "height": 0
        },
        "outputId": "db64a61a-a184-4941-ebdd-1d7902dc8931"
      },
      "source": [
        "plot(cat_features[3])"
      ],
      "execution_count": 475,
      "outputs": [
        {
          "output_type": "display_data",
          "data": {
            "image/png": "[encoded data removed]",
            "text/plain": [
              "<Figure size 1080x360 with 2 Axes>"
            ]
          },
          "metadata": {
            "needs_background": "light"
          }
        }
      ]
    },
    {
      "cell_type": "code",
      "metadata": {
        "id": "7k2kftZ5twXj",
        "colab": {
          "base_uri": "https://localhost:8080/",
          "height": 0
        },
        "outputId": "49bfa726-9493-47e1-a150-cf8740ae75a4"
      },
      "source": [
        "plot(cat_features[4])"
      ],
      "execution_count": 476,
      "outputs": [
        {
          "output_type": "display_data",
          "data": {
            "image/png": "[encoded data removed]",
            "text/plain": [
              "<Figure size 1080x360 with 2 Axes>"
            ]
          },
          "metadata": {
            "needs_background": "light"
          }
        }
      ]
    },
    {
      "cell_type": "code",
      "metadata": {
        "id": "x-eiV7JNt8cR",
        "colab": {
          "base_uri": "https://localhost:8080/",
          "height": 0
        },
        "outputId": "b9b1ee52-2ed2-4968-9c00-e0c3284f516e"
      },
      "source": [
        "plot(cat_features[5])"
      ],
      "execution_count": 477,
      "outputs": [
        {
          "output_type": "display_data",
          "data": {
            "image/png": "[encoded data removed]",
            "text/plain": [
              "<Figure size 1080x360 with 2 Axes>"
            ]
          },
          "metadata": {
            "needs_background": "light"
          }
        }
      ]
    },
    {
      "cell_type": "code",
      "metadata": {
        "id": "CzBfRSNOuUT_",
        "colab": {
          "base_uri": "https://localhost:8080/",
          "height": 0
        },
        "outputId": "8a5056e8-61f9-4041-88ce-1d7e0a65329b"
      },
      "source": [
        "plot(cat_features[6])"
      ],
      "execution_count": 478,
      "outputs": [
        {
          "output_type": "display_data",
          "data": {
            "image/png": "[encoded data removed]",
            "text/plain": [
              "<Figure size 1080x360 with 2 Axes>"
            ]
          },
          "metadata": {
            "needs_background": "light"
          }
        }
      ]
    },
    {
      "cell_type": "code",
      "metadata": {
        "id": "4XqjVWhPuoc6",
        "colab": {
          "base_uri": "https://localhost:8080/",
          "height": 0
        },
        "outputId": "fe463746-a673-4fd2-af7f-5188c93977d2"
      },
      "source": [
        "plot(cat_features[7])"
      ],
      "execution_count": 479,
      "outputs": [
        {
          "output_type": "display_data",
          "data": {
            "image/png": "[encoded data removed]",
            "text/plain": [
              "<Figure size 1080x360 with 2 Axes>"
            ]
          },
          "metadata": {
            "needs_background": "light"
          }
        }
      ]
    },
    {
      "cell_type": "code",
      "metadata": {
        "id": "NoNJ_GJL0tNM",
        "colab": {
          "base_uri": "https://localhost:8080/",
          "height": 0
        },
        "outputId": "3440f2ba-4603-48b0-a56c-0eaee49b3d63"
      },
      "source": [
        "plot(cat_features[8])"
      ],
      "execution_count": 480,
      "outputs": [
        {
          "output_type": "display_data",
          "data": {
            "image/png": "[encoded data removed]",
            "text/plain": [
              "<Figure size 1080x360 with 2 Axes>"
            ]
          },
          "metadata": {
            "needs_background": "light"
          }
        }
      ]
    },
    {
      "cell_type": "code",
      "metadata": {
        "id": "ZQCo3t2B0vch",
        "colab": {
          "base_uri": "https://localhost:8080/",
          "height": 0
        },
        "outputId": "345ff630-7c5f-4dc3-a81c-582cce309b67"
      },
      "source": [
        "plot(cat_features[9])"
      ],
      "execution_count": 481,
      "outputs": [
        {
          "output_type": "display_data",
          "data": {
            "image/png": "[encoded data removed]",
            "text/plain": [
              "<Figure size 1080x360 with 2 Axes>"
            ]
          },
          "metadata": {
            "needs_background": "light"
          }
        }
      ]
    },
    {
      "cell_type": "code",
      "metadata": {
        "id": "Q1WWmUzo09Di",
        "colab": {
          "base_uri": "https://localhost:8080/",
          "height": 0
        },
        "outputId": "2d8fc38b-37e7-4fa4-9da4-7b2bd7d62fd0"
      },
      "source": [
        "plot(cat_features[10])"
      ],
      "execution_count": 482,
      "outputs": [
        {
          "output_type": "display_data",
          "data": {
            "image/png": "[encoded data removed]",
            "text/plain": [
              "<Figure size 1080x360 with 2 Axes>"
            ]
          },
          "metadata": {
            "needs_background": "light"
          }
        }
      ]
    },
    {
      "cell_type": "code",
      "metadata": {
        "id": "QfiOqs1Z1Dxv",
        "colab": {
          "base_uri": "https://localhost:8080/",
          "height": 0
        },
        "outputId": "9e391168-a35d-45db-8420-090b91221a08"
      },
      "source": [
        "plot(cat_features[11])"
      ],
      "execution_count": 483,
      "outputs": [
        {
          "output_type": "display_data",
          "data": {
            "image/png": "[encoded data removed]",
            "text/plain": [
              "<Figure size 1080x360 with 2 Axes>"
            ]
          },
          "metadata": {
            "needs_background": "light"
          }
        }
      ]
    },
    {
      "cell_type": "markdown",
      "metadata": {
        "id": "xUjVghRQtA03"
      },
      "source": [
        "- MSZoning\n",
        "    - Order: I C FV A RH RM RL RP\n",
        "- LotShape\n",
        "    - R2 + R3 + R1 unite to 'irregular'\n",
        "- Utilities\n",
        "    - Remove column\n",
        "- Street\n",
        "    - Remove column\n",
        "- LotConfig\n",
        "    - Order: Inside FR2 Coner CullDSac FR3\n",
        "    - Remove FR3\n",
        "- LandSlope\n",
        "    - Mod & Sev -> unite\n",
        "    - Order: Gtl -> Other\n",
        "- Condition2\n",
        "    - Remove column\n",
        "- BidgeType\n",
        "    - Remove column\n"
      ]
    },
    {
      "cell_type": "markdown",
      "metadata": {
        "id": "HSdVxHFK1UGV"
      },
      "source": [
        "## **Encode categorical**"
      ]
    },
    {
      "cell_type": "code",
      "metadata": {
        "id": "Y_NpJ32MIvUW",
        "colab": {
          "base_uri": "https://localhost:8080/"
        },
        "outputId": "193eaae4-5e70-42c3-b2a5-375929b45f16"
      },
      "source": [
        "for f in cat_features:\n",
        "    order = get_order(train, f)\n",
        "\n",
        "    labels_dict = prepare_labels(order)\n",
        "    labels_dict.update({'Missing': 0})\n",
        "\n",
        "    CatEncoder.transform(train, f, labels_dict)\n",
        "    CatEncoder.transform(test, f, labels_dict)\n",
        "\n",
        "    train[f] = train[f].astype('int64')\n",
        "    test[f] = test[f].astype('int64')"
      ],
      "execution_count": 484,
      "outputs": [
        {
          "output_type": "stream",
          "name": "stderr",
          "text": [
            "/usr/local/lib/python3.7/dist-packages/ipykernel_launcher.py:43: SettingWithCopyWarning: \n",
            "A value is trying to be set on a copy of a slice from a DataFrame\n",
            "\n",
            "See the caveats in the documentation: https://pandas.pydata.org/pandas-docs/stable/user_guide/indexing.html#returning-a-view-versus-a-copy\n"
          ]
        }
      ]
    },
    {
      "cell_type": "code",
      "metadata": {
        "id": "udJUiqUzKh_b",
        "colab": {
          "base_uri": "https://localhost:8080/"
        },
        "outputId": "b36d6fd9-2d70-4eeb-f6ec-0047de3f7aa3"
      },
      "source": [
        "train.dtypes"
      ],
      "execution_count": 485,
      "outputs": [
        {
          "output_type": "execute_result",
          "data": {
            "text/plain": [
              "MSSubClass         int64\n",
              "MSZoning           int64\n",
              "LotFrontage      float64\n",
              "LotArea            int64\n",
              "Street             int64\n",
              "                  ...   \n",
              "MoSold             int64\n",
              "YrSold             int64\n",
              "SaleType           int64\n",
              "SaleCondition      int64\n",
              "SalePrice          int64\n",
              "Length: 75, dtype: object"
            ]
          },
          "metadata": {},
          "execution_count": 485
        }
      ]
    },
    {
      "cell_type": "code",
      "metadata": {
        "id": "vlPtoRG8Q51C",
        "colab": {
          "base_uri": "https://localhost:8080/",
          "height": 0
        },
        "outputId": "86b97263-04d5-44af-f9c1-08b069f01c6d"
      },
      "source": [
        "test.head()"
      ],
      "execution_count": 486,
      "outputs": [
        {
          "output_type": "execute_result",
          "data": {
            "text/html": [
              "<div>\n",
              "<style scoped>\n",
              "    .dataframe tbody tr th:only-of-type {\n",
              "        vertical-align: middle;\n",
              "    }\n",
              "\n",
              "    .dataframe tbody tr th {\n",
              "        vertical-align: top;\n",
              "    }\n",
              "\n",
              "    .dataframe thead th {\n",
              "        text-align: right;\n",
              "    }\n",
              "</style>\n",
              "<table border=\"1\" class=\"dataframe\">\n",
              "  <thead>\n",
              "    <tr style=\"text-align: right;\">\n",
              "      <th></th>\n",
              "      <th>MSSubClass</th>\n",
              "      <th>MSZoning</th>\n",
              "      <th>LotFrontage</th>\n",
              "      <th>LotArea</th>\n",
              "      <th>Street</th>\n",
              "      <th>LotShape</th>\n",
              "      <th>LandContour</th>\n",
              "      <th>Utilities</th>\n",
              "      <th>LotConfig</th>\n",
              "      <th>LandSlope</th>\n",
              "      <th>Neighborhood</th>\n",
              "      <th>Condition1</th>\n",
              "      <th>Condition2</th>\n",
              "      <th>BldgType</th>\n",
              "      <th>HouseStyle</th>\n",
              "      <th>OverallQual</th>\n",
              "      <th>OverallCond</th>\n",
              "      <th>YearBuilt</th>\n",
              "      <th>YearRemodAdd</th>\n",
              "      <th>RoofStyle</th>\n",
              "      <th>RoofMatl</th>\n",
              "      <th>Exterior1st</th>\n",
              "      <th>Exterior2nd</th>\n",
              "      <th>MasVnrType</th>\n",
              "      <th>MasVnrArea</th>\n",
              "      <th>ExterQual</th>\n",
              "      <th>ExterCond</th>\n",
              "      <th>Foundation</th>\n",
              "      <th>BsmtQual</th>\n",
              "      <th>BsmtCond</th>\n",
              "      <th>BsmtExposure</th>\n",
              "      <th>BsmtFinType1</th>\n",
              "      <th>BsmtFinSF1</th>\n",
              "      <th>BsmtFinType2</th>\n",
              "      <th>BsmtFinSF2</th>\n",
              "      <th>BsmtUnfSF</th>\n",
              "      <th>TotalBsmtSF</th>\n",
              "      <th>Heating</th>\n",
              "      <th>HeatingQC</th>\n",
              "      <th>CentralAir</th>\n",
              "      <th>Electrical</th>\n",
              "      <th>1stFlrSF</th>\n",
              "      <th>2ndFlrSF</th>\n",
              "      <th>LowQualFinSF</th>\n",
              "      <th>GrLivArea</th>\n",
              "      <th>BsmtFullBath</th>\n",
              "      <th>BsmtHalfBath</th>\n",
              "      <th>FullBath</th>\n",
              "      <th>HalfBath</th>\n",
              "      <th>BedroomAbvGr</th>\n",
              "      <th>KitchenAbvGr</th>\n",
              "      <th>KitchenQual</th>\n",
              "      <th>TotRmsAbvGrd</th>\n",
              "      <th>Functional</th>\n",
              "      <th>Fireplaces</th>\n",
              "      <th>GarageType</th>\n",
              "      <th>GarageYrBlt</th>\n",
              "      <th>GarageFinish</th>\n",
              "      <th>GarageCars</th>\n",
              "      <th>GarageArea</th>\n",
              "      <th>GarageQual</th>\n",
              "      <th>GarageCond</th>\n",
              "      <th>PavedDrive</th>\n",
              "      <th>WoodDeckSF</th>\n",
              "      <th>OpenPorchSF</th>\n",
              "      <th>EnclosedPorch</th>\n",
              "      <th>3SsnPorch</th>\n",
              "      <th>ScreenPorch</th>\n",
              "      <th>PoolArea</th>\n",
              "      <th>MiscVal</th>\n",
              "      <th>MoSold</th>\n",
              "      <th>YrSold</th>\n",
              "      <th>SaleType</th>\n",
              "      <th>SaleCondition</th>\n",
              "    </tr>\n",
              "    <tr>\n",
              "      <th>Id</th>\n",
              "      <th></th>\n",
              "      <th></th>\n",
              "      <th></th>\n",
              "      <th></th>\n",
              "      <th></th>\n",
              "      <th></th>\n",
              "      <th></th>\n",
              "      <th></th>\n",
              "      <th></th>\n",
              "      <th></th>\n",
              "      <th></th>\n",
              "      <th></th>\n",
              "      <th></th>\n",
              "      <th></th>\n",
              "      <th></th>\n",
              "      <th></th>\n",
              "      <th></th>\n",
              "      <th></th>\n",
              "      <th></th>\n",
              "      <th></th>\n",
              "      <th></th>\n",
              "      <th></th>\n",
              "      <th></th>\n",
              "      <th></th>\n",
              "      <th></th>\n",
              "      <th></th>\n",
              "      <th></th>\n",
              "      <th></th>\n",
              "      <th></th>\n",
              "      <th></th>\n",
              "      <th></th>\n",
              "      <th></th>\n",
              "      <th></th>\n",
              "      <th></th>\n",
              "      <th></th>\n",
              "      <th></th>\n",
              "      <th></th>\n",
              "      <th></th>\n",
              "      <th></th>\n",
              "      <th></th>\n",
              "      <th></th>\n",
              "      <th></th>\n",
              "      <th></th>\n",
              "      <th></th>\n",
              "      <th></th>\n",
              "      <th></th>\n",
              "      <th></th>\n",
              "      <th></th>\n",
              "      <th></th>\n",
              "      <th></th>\n",
              "      <th></th>\n",
              "      <th></th>\n",
              "      <th></th>\n",
              "      <th></th>\n",
              "      <th></th>\n",
              "      <th></th>\n",
              "      <th></th>\n",
              "      <th></th>\n",
              "      <th></th>\n",
              "      <th></th>\n",
              "      <th></th>\n",
              "      <th></th>\n",
              "      <th></th>\n",
              "      <th></th>\n",
              "      <th></th>\n",
              "      <th></th>\n",
              "      <th></th>\n",
              "      <th></th>\n",
              "      <th></th>\n",
              "      <th></th>\n",
              "      <th></th>\n",
              "      <th></th>\n",
              "      <th></th>\n",
              "      <th></th>\n",
              "    </tr>\n",
              "  </thead>\n",
              "  <tbody>\n",
              "    <tr>\n",
              "      <th>1461</th>\n",
              "      <td>20</td>\n",
              "      <td>3</td>\n",
              "      <td>80.0</td>\n",
              "      <td>11622</td>\n",
              "      <td>2</td>\n",
              "      <td>1</td>\n",
              "      <td>2</td>\n",
              "      <td>2</td>\n",
              "      <td>1</td>\n",
              "      <td>1</td>\n",
              "      <td>10</td>\n",
              "      <td>2</td>\n",
              "      <td>5</td>\n",
              "      <td>4</td>\n",
              "      <td>5</td>\n",
              "      <td>5</td>\n",
              "      <td>6</td>\n",
              "      <td>1961</td>\n",
              "      <td>1961</td>\n",
              "      <td>2</td>\n",
              "      <td>3</td>\n",
              "      <td>12</td>\n",
              "      <td>14</td>\n",
              "      <td>2</td>\n",
              "      <td>0.0</td>\n",
              "      <td>2</td>\n",
              "      <td>5</td>\n",
              "      <td>4</td>\n",
              "      <td>3</td>\n",
              "      <td>4</td>\n",
              "      <td>2</td>\n",
              "      <td>4</td>\n",
              "      <td>468.0</td>\n",
              "      <td>4</td>\n",
              "      <td>144.0</td>\n",
              "      <td>270.0</td>\n",
              "      <td>882.0</td>\n",
              "      <td>6</td>\n",
              "      <td>3</td>\n",
              "      <td>2</td>\n",
              "      <td>6</td>\n",
              "      <td>896</td>\n",
              "      <td>0</td>\n",
              "      <td>0</td>\n",
              "      <td>896</td>\n",
              "      <td>0.0</td>\n",
              "      <td>0.0</td>\n",
              "      <td>1</td>\n",
              "      <td>0</td>\n",
              "      <td>2</td>\n",
              "      <td>1</td>\n",
              "      <td>2</td>\n",
              "      <td>5</td>\n",
              "      <td>7</td>\n",
              "      <td>0</td>\n",
              "      <td>6</td>\n",
              "      <td>1961.0</td>\n",
              "      <td>2</td>\n",
              "      <td>1.0</td>\n",
              "      <td>730.0</td>\n",
              "      <td>5</td>\n",
              "      <td>6</td>\n",
              "      <td>3</td>\n",
              "      <td>140</td>\n",
              "      <td>0</td>\n",
              "      <td>0</td>\n",
              "      <td>0</td>\n",
              "      <td>120</td>\n",
              "      <td>0</td>\n",
              "      <td>0</td>\n",
              "      <td>6</td>\n",
              "      <td>2010</td>\n",
              "      <td>6</td>\n",
              "      <td>5</td>\n",
              "    </tr>\n",
              "    <tr>\n",
              "      <th>1462</th>\n",
              "      <td>20</td>\n",
              "      <td>4</td>\n",
              "      <td>81.0</td>\n",
              "      <td>14267</td>\n",
              "      <td>2</td>\n",
              "      <td>2</td>\n",
              "      <td>2</td>\n",
              "      <td>2</td>\n",
              "      <td>2</td>\n",
              "      <td>1</td>\n",
              "      <td>10</td>\n",
              "      <td>4</td>\n",
              "      <td>5</td>\n",
              "      <td>4</td>\n",
              "      <td>5</td>\n",
              "      <td>6</td>\n",
              "      <td>6</td>\n",
              "      <td>1958</td>\n",
              "      <td>1958</td>\n",
              "      <td>4</td>\n",
              "      <td>3</td>\n",
              "      <td>6</td>\n",
              "      <td>3</td>\n",
              "      <td>3</td>\n",
              "      <td>108.0</td>\n",
              "      <td>2</td>\n",
              "      <td>5</td>\n",
              "      <td>4</td>\n",
              "      <td>3</td>\n",
              "      <td>4</td>\n",
              "      <td>2</td>\n",
              "      <td>5</td>\n",
              "      <td>923.0</td>\n",
              "      <td>5</td>\n",
              "      <td>0.0</td>\n",
              "      <td>406.0</td>\n",
              "      <td>1329.0</td>\n",
              "      <td>6</td>\n",
              "      <td>3</td>\n",
              "      <td>2</td>\n",
              "      <td>6</td>\n",
              "      <td>1329</td>\n",
              "      <td>0</td>\n",
              "      <td>0</td>\n",
              "      <td>1329</td>\n",
              "      <td>0.0</td>\n",
              "      <td>0.0</td>\n",
              "      <td>1</td>\n",
              "      <td>1</td>\n",
              "      <td>3</td>\n",
              "      <td>1</td>\n",
              "      <td>3</td>\n",
              "      <td>6</td>\n",
              "      <td>7</td>\n",
              "      <td>0</td>\n",
              "      <td>6</td>\n",
              "      <td>1958.0</td>\n",
              "      <td>2</td>\n",
              "      <td>1.0</td>\n",
              "      <td>312.0</td>\n",
              "      <td>5</td>\n",
              "      <td>6</td>\n",
              "      <td>3</td>\n",
              "      <td>393</td>\n",
              "      <td>36</td>\n",
              "      <td>0</td>\n",
              "      <td>0</td>\n",
              "      <td>0</td>\n",
              "      <td>0</td>\n",
              "      <td>12500</td>\n",
              "      <td>6</td>\n",
              "      <td>2010</td>\n",
              "      <td>6</td>\n",
              "      <td>5</td>\n",
              "    </tr>\n",
              "    <tr>\n",
              "      <th>1463</th>\n",
              "      <td>60</td>\n",
              "      <td>4</td>\n",
              "      <td>74.0</td>\n",
              "      <td>13830</td>\n",
              "      <td>2</td>\n",
              "      <td>2</td>\n",
              "      <td>2</td>\n",
              "      <td>2</td>\n",
              "      <td>1</td>\n",
              "      <td>1</td>\n",
              "      <td>14</td>\n",
              "      <td>4</td>\n",
              "      <td>5</td>\n",
              "      <td>4</td>\n",
              "      <td>7</td>\n",
              "      <td>5</td>\n",
              "      <td>5</td>\n",
              "      <td>1997</td>\n",
              "      <td>1998</td>\n",
              "      <td>2</td>\n",
              "      <td>3</td>\n",
              "      <td>12</td>\n",
              "      <td>14</td>\n",
              "      <td>2</td>\n",
              "      <td>0.0</td>\n",
              "      <td>2</td>\n",
              "      <td>5</td>\n",
              "      <td>6</td>\n",
              "      <td>4</td>\n",
              "      <td>4</td>\n",
              "      <td>2</td>\n",
              "      <td>7</td>\n",
              "      <td>791.0</td>\n",
              "      <td>5</td>\n",
              "      <td>0.0</td>\n",
              "      <td>137.0</td>\n",
              "      <td>928.0</td>\n",
              "      <td>6</td>\n",
              "      <td>4</td>\n",
              "      <td>2</td>\n",
              "      <td>6</td>\n",
              "      <td>928</td>\n",
              "      <td>701</td>\n",
              "      <td>0</td>\n",
              "      <td>1629</td>\n",
              "      <td>0.0</td>\n",
              "      <td>0.0</td>\n",
              "      <td>2</td>\n",
              "      <td>1</td>\n",
              "      <td>3</td>\n",
              "      <td>1</td>\n",
              "      <td>2</td>\n",
              "      <td>6</td>\n",
              "      <td>7</td>\n",
              "      <td>1</td>\n",
              "      <td>6</td>\n",
              "      <td>1997.0</td>\n",
              "      <td>4</td>\n",
              "      <td>2.0</td>\n",
              "      <td>482.0</td>\n",
              "      <td>5</td>\n",
              "      <td>6</td>\n",
              "      <td>3</td>\n",
              "      <td>212</td>\n",
              "      <td>34</td>\n",
              "      <td>0</td>\n",
              "      <td>0</td>\n",
              "      <td>0</td>\n",
              "      <td>0</td>\n",
              "      <td>0</td>\n",
              "      <td>3</td>\n",
              "      <td>2010</td>\n",
              "      <td>6</td>\n",
              "      <td>5</td>\n",
              "    </tr>\n",
              "    <tr>\n",
              "      <th>1464</th>\n",
              "      <td>60</td>\n",
              "      <td>4</td>\n",
              "      <td>78.0</td>\n",
              "      <td>9978</td>\n",
              "      <td>2</td>\n",
              "      <td>2</td>\n",
              "      <td>2</td>\n",
              "      <td>2</td>\n",
              "      <td>1</td>\n",
              "      <td>1</td>\n",
              "      <td>14</td>\n",
              "      <td>4</td>\n",
              "      <td>5</td>\n",
              "      <td>4</td>\n",
              "      <td>7</td>\n",
              "      <td>6</td>\n",
              "      <td>6</td>\n",
              "      <td>1998</td>\n",
              "      <td>1998</td>\n",
              "      <td>2</td>\n",
              "      <td>3</td>\n",
              "      <td>12</td>\n",
              "      <td>14</td>\n",
              "      <td>3</td>\n",
              "      <td>20.0</td>\n",
              "      <td>2</td>\n",
              "      <td>5</td>\n",
              "      <td>6</td>\n",
              "      <td>3</td>\n",
              "      <td>4</td>\n",
              "      <td>2</td>\n",
              "      <td>7</td>\n",
              "      <td>602.0</td>\n",
              "      <td>5</td>\n",
              "      <td>0.0</td>\n",
              "      <td>324.0</td>\n",
              "      <td>926.0</td>\n",
              "      <td>6</td>\n",
              "      <td>5</td>\n",
              "      <td>2</td>\n",
              "      <td>6</td>\n",
              "      <td>926</td>\n",
              "      <td>678</td>\n",
              "      <td>0</td>\n",
              "      <td>1604</td>\n",
              "      <td>0.0</td>\n",
              "      <td>0.0</td>\n",
              "      <td>2</td>\n",
              "      <td>1</td>\n",
              "      <td>3</td>\n",
              "      <td>1</td>\n",
              "      <td>3</td>\n",
              "      <td>7</td>\n",
              "      <td>7</td>\n",
              "      <td>1</td>\n",
              "      <td>6</td>\n",
              "      <td>1998.0</td>\n",
              "      <td>4</td>\n",
              "      <td>2.0</td>\n",
              "      <td>470.0</td>\n",
              "      <td>5</td>\n",
              "      <td>6</td>\n",
              "      <td>3</td>\n",
              "      <td>360</td>\n",
              "      <td>36</td>\n",
              "      <td>0</td>\n",
              "      <td>0</td>\n",
              "      <td>0</td>\n",
              "      <td>0</td>\n",
              "      <td>0</td>\n",
              "      <td>6</td>\n",
              "      <td>2010</td>\n",
              "      <td>6</td>\n",
              "      <td>5</td>\n",
              "    </tr>\n",
              "    <tr>\n",
              "      <th>1465</th>\n",
              "      <td>120</td>\n",
              "      <td>4</td>\n",
              "      <td>43.0</td>\n",
              "      <td>5005</td>\n",
              "      <td>2</td>\n",
              "      <td>2</td>\n",
              "      <td>4</td>\n",
              "      <td>2</td>\n",
              "      <td>1</td>\n",
              "      <td>1</td>\n",
              "      <td>23</td>\n",
              "      <td>4</td>\n",
              "      <td>5</td>\n",
              "      <td>5</td>\n",
              "      <td>5</td>\n",
              "      <td>8</td>\n",
              "      <td>5</td>\n",
              "      <td>1992</td>\n",
              "      <td>1992</td>\n",
              "      <td>2</td>\n",
              "      <td>3</td>\n",
              "      <td>9</td>\n",
              "      <td>9</td>\n",
              "      <td>2</td>\n",
              "      <td>0.0</td>\n",
              "      <td>3</td>\n",
              "      <td>5</td>\n",
              "      <td>6</td>\n",
              "      <td>4</td>\n",
              "      <td>4</td>\n",
              "      <td>2</td>\n",
              "      <td>5</td>\n",
              "      <td>263.0</td>\n",
              "      <td>5</td>\n",
              "      <td>0.0</td>\n",
              "      <td>1017.0</td>\n",
              "      <td>1280.0</td>\n",
              "      <td>6</td>\n",
              "      <td>5</td>\n",
              "      <td>2</td>\n",
              "      <td>6</td>\n",
              "      <td>1280</td>\n",
              "      <td>0</td>\n",
              "      <td>0</td>\n",
              "      <td>1280</td>\n",
              "      <td>0.0</td>\n",
              "      <td>0.0</td>\n",
              "      <td>2</td>\n",
              "      <td>0</td>\n",
              "      <td>2</td>\n",
              "      <td>1</td>\n",
              "      <td>3</td>\n",
              "      <td>5</td>\n",
              "      <td>7</td>\n",
              "      <td>0</td>\n",
              "      <td>6</td>\n",
              "      <td>1992.0</td>\n",
              "      <td>3</td>\n",
              "      <td>2.0</td>\n",
              "      <td>506.0</td>\n",
              "      <td>5</td>\n",
              "      <td>6</td>\n",
              "      <td>3</td>\n",
              "      <td>0</td>\n",
              "      <td>82</td>\n",
              "      <td>0</td>\n",
              "      <td>0</td>\n",
              "      <td>144</td>\n",
              "      <td>0</td>\n",
              "      <td>0</td>\n",
              "      <td>1</td>\n",
              "      <td>2010</td>\n",
              "      <td>6</td>\n",
              "      <td>5</td>\n",
              "    </tr>\n",
              "  </tbody>\n",
              "</table>\n",
              "</div>"
            ],
            "text/plain": [
              "      MSSubClass  MSZoning  LotFrontage  ...  YrSold  SaleType  SaleCondition\n",
              "Id                                       ...                                 \n",
              "1461          20         3         80.0  ...    2010         6              5\n",
              "1462          20         4         81.0  ...    2010         6              5\n",
              "1463          60         4         74.0  ...    2010         6              5\n",
              "1464          60         4         78.0  ...    2010         6              5\n",
              "1465         120         4         43.0  ...    2010         6              5\n",
              "\n",
              "[5 rows x 74 columns]"
            ]
          },
          "metadata": {},
          "execution_count": 486
        }
      ]
    },
    {
      "cell_type": "code",
      "metadata": {
        "id": "nfezghifN1kj",
        "colab": {
          "base_uri": "https://localhost:8080/",
          "height": 0
        },
        "outputId": "bfa3ee19-912d-475e-85bc-e1ef328e189f"
      },
      "source": [
        "test.head()"
      ],
      "execution_count": 487,
      "outputs": [
        {
          "output_type": "execute_result",
          "data": {
            "text/html": [
              "<div>\n",
              "<style scoped>\n",
              "    .dataframe tbody tr th:only-of-type {\n",
              "        vertical-align: middle;\n",
              "    }\n",
              "\n",
              "    .dataframe tbody tr th {\n",
              "        vertical-align: top;\n",
              "    }\n",
              "\n",
              "    .dataframe thead th {\n",
              "        text-align: right;\n",
              "    }\n",
              "</style>\n",
              "<table border=\"1\" class=\"dataframe\">\n",
              "  <thead>\n",
              "    <tr style=\"text-align: right;\">\n",
              "      <th></th>\n",
              "      <th>MSSubClass</th>\n",
              "      <th>MSZoning</th>\n",
              "      <th>LotFrontage</th>\n",
              "      <th>LotArea</th>\n",
              "      <th>Street</th>\n",
              "      <th>LotShape</th>\n",
              "      <th>LandContour</th>\n",
              "      <th>Utilities</th>\n",
              "      <th>LotConfig</th>\n",
              "      <th>LandSlope</th>\n",
              "      <th>Neighborhood</th>\n",
              "      <th>Condition1</th>\n",
              "      <th>Condition2</th>\n",
              "      <th>BldgType</th>\n",
              "      <th>HouseStyle</th>\n",
              "      <th>OverallQual</th>\n",
              "      <th>OverallCond</th>\n",
              "      <th>YearBuilt</th>\n",
              "      <th>YearRemodAdd</th>\n",
              "      <th>RoofStyle</th>\n",
              "      <th>RoofMatl</th>\n",
              "      <th>Exterior1st</th>\n",
              "      <th>Exterior2nd</th>\n",
              "      <th>MasVnrType</th>\n",
              "      <th>MasVnrArea</th>\n",
              "      <th>ExterQual</th>\n",
              "      <th>ExterCond</th>\n",
              "      <th>Foundation</th>\n",
              "      <th>BsmtQual</th>\n",
              "      <th>BsmtCond</th>\n",
              "      <th>BsmtExposure</th>\n",
              "      <th>BsmtFinType1</th>\n",
              "      <th>BsmtFinSF1</th>\n",
              "      <th>BsmtFinType2</th>\n",
              "      <th>BsmtFinSF2</th>\n",
              "      <th>BsmtUnfSF</th>\n",
              "      <th>TotalBsmtSF</th>\n",
              "      <th>Heating</th>\n",
              "      <th>HeatingQC</th>\n",
              "      <th>CentralAir</th>\n",
              "      <th>Electrical</th>\n",
              "      <th>1stFlrSF</th>\n",
              "      <th>2ndFlrSF</th>\n",
              "      <th>LowQualFinSF</th>\n",
              "      <th>GrLivArea</th>\n",
              "      <th>BsmtFullBath</th>\n",
              "      <th>BsmtHalfBath</th>\n",
              "      <th>FullBath</th>\n",
              "      <th>HalfBath</th>\n",
              "      <th>BedroomAbvGr</th>\n",
              "      <th>KitchenAbvGr</th>\n",
              "      <th>KitchenQual</th>\n",
              "      <th>TotRmsAbvGrd</th>\n",
              "      <th>Functional</th>\n",
              "      <th>Fireplaces</th>\n",
              "      <th>GarageType</th>\n",
              "      <th>GarageYrBlt</th>\n",
              "      <th>GarageFinish</th>\n",
              "      <th>GarageCars</th>\n",
              "      <th>GarageArea</th>\n",
              "      <th>GarageQual</th>\n",
              "      <th>GarageCond</th>\n",
              "      <th>PavedDrive</th>\n",
              "      <th>WoodDeckSF</th>\n",
              "      <th>OpenPorchSF</th>\n",
              "      <th>EnclosedPorch</th>\n",
              "      <th>3SsnPorch</th>\n",
              "      <th>ScreenPorch</th>\n",
              "      <th>PoolArea</th>\n",
              "      <th>MiscVal</th>\n",
              "      <th>MoSold</th>\n",
              "      <th>YrSold</th>\n",
              "      <th>SaleType</th>\n",
              "      <th>SaleCondition</th>\n",
              "    </tr>\n",
              "    <tr>\n",
              "      <th>Id</th>\n",
              "      <th></th>\n",
              "      <th></th>\n",
              "      <th></th>\n",
              "      <th></th>\n",
              "      <th></th>\n",
              "      <th></th>\n",
              "      <th></th>\n",
              "      <th></th>\n",
              "      <th></th>\n",
              "      <th></th>\n",
              "      <th></th>\n",
              "      <th></th>\n",
              "      <th></th>\n",
              "      <th></th>\n",
              "      <th></th>\n",
              "      <th></th>\n",
              "      <th></th>\n",
              "      <th></th>\n",
              "      <th></th>\n",
              "      <th></th>\n",
              "      <th></th>\n",
              "      <th></th>\n",
              "      <th></th>\n",
              "      <th></th>\n",
              "      <th></th>\n",
              "      <th></th>\n",
              "      <th></th>\n",
              "      <th></th>\n",
              "      <th></th>\n",
              "      <th></th>\n",
              "      <th></th>\n",
              "      <th></th>\n",
              "      <th></th>\n",
              "      <th></th>\n",
              "      <th></th>\n",
              "      <th></th>\n",
              "      <th></th>\n",
              "      <th></th>\n",
              "      <th></th>\n",
              "      <th></th>\n",
              "      <th></th>\n",
              "      <th></th>\n",
              "      <th></th>\n",
              "      <th></th>\n",
              "      <th></th>\n",
              "      <th></th>\n",
              "      <th></th>\n",
              "      <th></th>\n",
              "      <th></th>\n",
              "      <th></th>\n",
              "      <th></th>\n",
              "      <th></th>\n",
              "      <th></th>\n",
              "      <th></th>\n",
              "      <th></th>\n",
              "      <th></th>\n",
              "      <th></th>\n",
              "      <th></th>\n",
              "      <th></th>\n",
              "      <th></th>\n",
              "      <th></th>\n",
              "      <th></th>\n",
              "      <th></th>\n",
              "      <th></th>\n",
              "      <th></th>\n",
              "      <th></th>\n",
              "      <th></th>\n",
              "      <th></th>\n",
              "      <th></th>\n",
              "      <th></th>\n",
              "      <th></th>\n",
              "      <th></th>\n",
              "      <th></th>\n",
              "      <th></th>\n",
              "    </tr>\n",
              "  </thead>\n",
              "  <tbody>\n",
              "    <tr>\n",
              "      <th>1461</th>\n",
              "      <td>20</td>\n",
              "      <td>3</td>\n",
              "      <td>80.0</td>\n",
              "      <td>11622</td>\n",
              "      <td>2</td>\n",
              "      <td>1</td>\n",
              "      <td>2</td>\n",
              "      <td>2</td>\n",
              "      <td>1</td>\n",
              "      <td>1</td>\n",
              "      <td>10</td>\n",
              "      <td>2</td>\n",
              "      <td>5</td>\n",
              "      <td>4</td>\n",
              "      <td>5</td>\n",
              "      <td>5</td>\n",
              "      <td>6</td>\n",
              "      <td>1961</td>\n",
              "      <td>1961</td>\n",
              "      <td>2</td>\n",
              "      <td>3</td>\n",
              "      <td>12</td>\n",
              "      <td>14</td>\n",
              "      <td>2</td>\n",
              "      <td>0.0</td>\n",
              "      <td>2</td>\n",
              "      <td>5</td>\n",
              "      <td>4</td>\n",
              "      <td>3</td>\n",
              "      <td>4</td>\n",
              "      <td>2</td>\n",
              "      <td>4</td>\n",
              "      <td>468.0</td>\n",
              "      <td>4</td>\n",
              "      <td>144.0</td>\n",
              "      <td>270.0</td>\n",
              "      <td>882.0</td>\n",
              "      <td>6</td>\n",
              "      <td>3</td>\n",
              "      <td>2</td>\n",
              "      <td>6</td>\n",
              "      <td>896</td>\n",
              "      <td>0</td>\n",
              "      <td>0</td>\n",
              "      <td>896</td>\n",
              "      <td>0.0</td>\n",
              "      <td>0.0</td>\n",
              "      <td>1</td>\n",
              "      <td>0</td>\n",
              "      <td>2</td>\n",
              "      <td>1</td>\n",
              "      <td>2</td>\n",
              "      <td>5</td>\n",
              "      <td>7</td>\n",
              "      <td>0</td>\n",
              "      <td>6</td>\n",
              "      <td>1961.0</td>\n",
              "      <td>2</td>\n",
              "      <td>1.0</td>\n",
              "      <td>730.0</td>\n",
              "      <td>5</td>\n",
              "      <td>6</td>\n",
              "      <td>3</td>\n",
              "      <td>140</td>\n",
              "      <td>0</td>\n",
              "      <td>0</td>\n",
              "      <td>0</td>\n",
              "      <td>120</td>\n",
              "      <td>0</td>\n",
              "      <td>0</td>\n",
              "      <td>6</td>\n",
              "      <td>2010</td>\n",
              "      <td>6</td>\n",
              "      <td>5</td>\n",
              "    </tr>\n",
              "    <tr>\n",
              "      <th>1462</th>\n",
              "      <td>20</td>\n",
              "      <td>4</td>\n",
              "      <td>81.0</td>\n",
              "      <td>14267</td>\n",
              "      <td>2</td>\n",
              "      <td>2</td>\n",
              "      <td>2</td>\n",
              "      <td>2</td>\n",
              "      <td>2</td>\n",
              "      <td>1</td>\n",
              "      <td>10</td>\n",
              "      <td>4</td>\n",
              "      <td>5</td>\n",
              "      <td>4</td>\n",
              "      <td>5</td>\n",
              "      <td>6</td>\n",
              "      <td>6</td>\n",
              "      <td>1958</td>\n",
              "      <td>1958</td>\n",
              "      <td>4</td>\n",
              "      <td>3</td>\n",
              "      <td>6</td>\n",
              "      <td>3</td>\n",
              "      <td>3</td>\n",
              "      <td>108.0</td>\n",
              "      <td>2</td>\n",
              "      <td>5</td>\n",
              "      <td>4</td>\n",
              "      <td>3</td>\n",
              "      <td>4</td>\n",
              "      <td>2</td>\n",
              "      <td>5</td>\n",
              "      <td>923.0</td>\n",
              "      <td>5</td>\n",
              "      <td>0.0</td>\n",
              "      <td>406.0</td>\n",
              "      <td>1329.0</td>\n",
              "      <td>6</td>\n",
              "      <td>3</td>\n",
              "      <td>2</td>\n",
              "      <td>6</td>\n",
              "      <td>1329</td>\n",
              "      <td>0</td>\n",
              "      <td>0</td>\n",
              "      <td>1329</td>\n",
              "      <td>0.0</td>\n",
              "      <td>0.0</td>\n",
              "      <td>1</td>\n",
              "      <td>1</td>\n",
              "      <td>3</td>\n",
              "      <td>1</td>\n",
              "      <td>3</td>\n",
              "      <td>6</td>\n",
              "      <td>7</td>\n",
              "      <td>0</td>\n",
              "      <td>6</td>\n",
              "      <td>1958.0</td>\n",
              "      <td>2</td>\n",
              "      <td>1.0</td>\n",
              "      <td>312.0</td>\n",
              "      <td>5</td>\n",
              "      <td>6</td>\n",
              "      <td>3</td>\n",
              "      <td>393</td>\n",
              "      <td>36</td>\n",
              "      <td>0</td>\n",
              "      <td>0</td>\n",
              "      <td>0</td>\n",
              "      <td>0</td>\n",
              "      <td>12500</td>\n",
              "      <td>6</td>\n",
              "      <td>2010</td>\n",
              "      <td>6</td>\n",
              "      <td>5</td>\n",
              "    </tr>\n",
              "    <tr>\n",
              "      <th>1463</th>\n",
              "      <td>60</td>\n",
              "      <td>4</td>\n",
              "      <td>74.0</td>\n",
              "      <td>13830</td>\n",
              "      <td>2</td>\n",
              "      <td>2</td>\n",
              "      <td>2</td>\n",
              "      <td>2</td>\n",
              "      <td>1</td>\n",
              "      <td>1</td>\n",
              "      <td>14</td>\n",
              "      <td>4</td>\n",
              "      <td>5</td>\n",
              "      <td>4</td>\n",
              "      <td>7</td>\n",
              "      <td>5</td>\n",
              "      <td>5</td>\n",
              "      <td>1997</td>\n",
              "      <td>1998</td>\n",
              "      <td>2</td>\n",
              "      <td>3</td>\n",
              "      <td>12</td>\n",
              "      <td>14</td>\n",
              "      <td>2</td>\n",
              "      <td>0.0</td>\n",
              "      <td>2</td>\n",
              "      <td>5</td>\n",
              "      <td>6</td>\n",
              "      <td>4</td>\n",
              "      <td>4</td>\n",
              "      <td>2</td>\n",
              "      <td>7</td>\n",
              "      <td>791.0</td>\n",
              "      <td>5</td>\n",
              "      <td>0.0</td>\n",
              "      <td>137.0</td>\n",
              "      <td>928.0</td>\n",
              "      <td>6</td>\n",
              "      <td>4</td>\n",
              "      <td>2</td>\n",
              "      <td>6</td>\n",
              "      <td>928</td>\n",
              "      <td>701</td>\n",
              "      <td>0</td>\n",
              "      <td>1629</td>\n",
              "      <td>0.0</td>\n",
              "      <td>0.0</td>\n",
              "      <td>2</td>\n",
              "      <td>1</td>\n",
              "      <td>3</td>\n",
              "      <td>1</td>\n",
              "      <td>2</td>\n",
              "      <td>6</td>\n",
              "      <td>7</td>\n",
              "      <td>1</td>\n",
              "      <td>6</td>\n",
              "      <td>1997.0</td>\n",
              "      <td>4</td>\n",
              "      <td>2.0</td>\n",
              "      <td>482.0</td>\n",
              "      <td>5</td>\n",
              "      <td>6</td>\n",
              "      <td>3</td>\n",
              "      <td>212</td>\n",
              "      <td>34</td>\n",
              "      <td>0</td>\n",
              "      <td>0</td>\n",
              "      <td>0</td>\n",
              "      <td>0</td>\n",
              "      <td>0</td>\n",
              "      <td>3</td>\n",
              "      <td>2010</td>\n",
              "      <td>6</td>\n",
              "      <td>5</td>\n",
              "    </tr>\n",
              "    <tr>\n",
              "      <th>1464</th>\n",
              "      <td>60</td>\n",
              "      <td>4</td>\n",
              "      <td>78.0</td>\n",
              "      <td>9978</td>\n",
              "      <td>2</td>\n",
              "      <td>2</td>\n",
              "      <td>2</td>\n",
              "      <td>2</td>\n",
              "      <td>1</td>\n",
              "      <td>1</td>\n",
              "      <td>14</td>\n",
              "      <td>4</td>\n",
              "      <td>5</td>\n",
              "      <td>4</td>\n",
              "      <td>7</td>\n",
              "      <td>6</td>\n",
              "      <td>6</td>\n",
              "      <td>1998</td>\n",
              "      <td>1998</td>\n",
              "      <td>2</td>\n",
              "      <td>3</td>\n",
              "      <td>12</td>\n",
              "      <td>14</td>\n",
              "      <td>3</td>\n",
              "      <td>20.0</td>\n",
              "      <td>2</td>\n",
              "      <td>5</td>\n",
              "      <td>6</td>\n",
              "      <td>3</td>\n",
              "      <td>4</td>\n",
              "      <td>2</td>\n",
              "      <td>7</td>\n",
              "      <td>602.0</td>\n",
              "      <td>5</td>\n",
              "      <td>0.0</td>\n",
              "      <td>324.0</td>\n",
              "      <td>926.0</td>\n",
              "      <td>6</td>\n",
              "      <td>5</td>\n",
              "      <td>2</td>\n",
              "      <td>6</td>\n",
              "      <td>926</td>\n",
              "      <td>678</td>\n",
              "      <td>0</td>\n",
              "      <td>1604</td>\n",
              "      <td>0.0</td>\n",
              "      <td>0.0</td>\n",
              "      <td>2</td>\n",
              "      <td>1</td>\n",
              "      <td>3</td>\n",
              "      <td>1</td>\n",
              "      <td>3</td>\n",
              "      <td>7</td>\n",
              "      <td>7</td>\n",
              "      <td>1</td>\n",
              "      <td>6</td>\n",
              "      <td>1998.0</td>\n",
              "      <td>4</td>\n",
              "      <td>2.0</td>\n",
              "      <td>470.0</td>\n",
              "      <td>5</td>\n",
              "      <td>6</td>\n",
              "      <td>3</td>\n",
              "      <td>360</td>\n",
              "      <td>36</td>\n",
              "      <td>0</td>\n",
              "      <td>0</td>\n",
              "      <td>0</td>\n",
              "      <td>0</td>\n",
              "      <td>0</td>\n",
              "      <td>6</td>\n",
              "      <td>2010</td>\n",
              "      <td>6</td>\n",
              "      <td>5</td>\n",
              "    </tr>\n",
              "    <tr>\n",
              "      <th>1465</th>\n",
              "      <td>120</td>\n",
              "      <td>4</td>\n",
              "      <td>43.0</td>\n",
              "      <td>5005</td>\n",
              "      <td>2</td>\n",
              "      <td>2</td>\n",
              "      <td>4</td>\n",
              "      <td>2</td>\n",
              "      <td>1</td>\n",
              "      <td>1</td>\n",
              "      <td>23</td>\n",
              "      <td>4</td>\n",
              "      <td>5</td>\n",
              "      <td>5</td>\n",
              "      <td>5</td>\n",
              "      <td>8</td>\n",
              "      <td>5</td>\n",
              "      <td>1992</td>\n",
              "      <td>1992</td>\n",
              "      <td>2</td>\n",
              "      <td>3</td>\n",
              "      <td>9</td>\n",
              "      <td>9</td>\n",
              "      <td>2</td>\n",
              "      <td>0.0</td>\n",
              "      <td>3</td>\n",
              "      <td>5</td>\n",
              "      <td>6</td>\n",
              "      <td>4</td>\n",
              "      <td>4</td>\n",
              "      <td>2</td>\n",
              "      <td>5</td>\n",
              "      <td>263.0</td>\n",
              "      <td>5</td>\n",
              "      <td>0.0</td>\n",
              "      <td>1017.0</td>\n",
              "      <td>1280.0</td>\n",
              "      <td>6</td>\n",
              "      <td>5</td>\n",
              "      <td>2</td>\n",
              "      <td>6</td>\n",
              "      <td>1280</td>\n",
              "      <td>0</td>\n",
              "      <td>0</td>\n",
              "      <td>1280</td>\n",
              "      <td>0.0</td>\n",
              "      <td>0.0</td>\n",
              "      <td>2</td>\n",
              "      <td>0</td>\n",
              "      <td>2</td>\n",
              "      <td>1</td>\n",
              "      <td>3</td>\n",
              "      <td>5</td>\n",
              "      <td>7</td>\n",
              "      <td>0</td>\n",
              "      <td>6</td>\n",
              "      <td>1992.0</td>\n",
              "      <td>3</td>\n",
              "      <td>2.0</td>\n",
              "      <td>506.0</td>\n",
              "      <td>5</td>\n",
              "      <td>6</td>\n",
              "      <td>3</td>\n",
              "      <td>0</td>\n",
              "      <td>82</td>\n",
              "      <td>0</td>\n",
              "      <td>0</td>\n",
              "      <td>144</td>\n",
              "      <td>0</td>\n",
              "      <td>0</td>\n",
              "      <td>1</td>\n",
              "      <td>2010</td>\n",
              "      <td>6</td>\n",
              "      <td>5</td>\n",
              "    </tr>\n",
              "  </tbody>\n",
              "</table>\n",
              "</div>"
            ],
            "text/plain": [
              "      MSSubClass  MSZoning  LotFrontage  ...  YrSold  SaleType  SaleCondition\n",
              "Id                                       ...                                 \n",
              "1461          20         3         80.0  ...    2010         6              5\n",
              "1462          20         4         81.0  ...    2010         6              5\n",
              "1463          60         4         74.0  ...    2010         6              5\n",
              "1464          60         4         78.0  ...    2010         6              5\n",
              "1465         120         4         43.0  ...    2010         6              5\n",
              "\n",
              "[5 rows x 74 columns]"
            ]
          },
          "metadata": {},
          "execution_count": 487
        }
      ]
    },
    {
      "cell_type": "code",
      "metadata": {
        "id": "1pkaN-j4Rj1j",
        "colab": {
          "base_uri": "https://localhost:8080/"
        },
        "outputId": "1f10bfc1-07c8-45b9-a1a3-e15168331b20"
      },
      "source": [
        "test['MSZoning'].value_counts()"
      ],
      "execution_count": 488,
      "outputs": [
        {
          "output_type": "execute_result",
          "data": {
            "text/plain": [
              "4    1114\n",
              "2     242\n",
              "5      74\n",
              "1      15\n",
              "3      10\n",
              "0       4\n",
              "Name: MSZoning, dtype: int64"
            ]
          },
          "metadata": {},
          "execution_count": 488
        }
      ]
    },
    {
      "cell_type": "code",
      "metadata": {
        "id": "LOXyzDPaRmWr",
        "colab": {
          "base_uri": "https://localhost:8080/"
        },
        "outputId": "06124672-85cc-41dd-d835-3dbd32d7287c"
      },
      "source": [
        "train['MSZoning'].value_counts()"
      ],
      "execution_count": 489,
      "outputs": [
        {
          "output_type": "execute_result",
          "data": {
            "text/plain": [
              "4    1151\n",
              "2     218\n",
              "5      65\n",
              "3      16\n",
              "1      10\n",
              "Name: MSZoning, dtype: int64"
            ]
          },
          "metadata": {},
          "execution_count": 489
        }
      ]
    },
    {
      "cell_type": "markdown",
      "metadata": {
        "id": "aSG3Gr7xnT0z"
      },
      "source": [
        ""
      ]
    },
    {
      "cell_type": "markdown",
      "metadata": {
        "id": "bo0QfhawnVuj"
      },
      "source": [
        "## **Feature Engineering**"
      ]
    },
    {
      "cell_type": "code",
      "metadata": {
        "id": "sT8CJOQMnZ8Z",
        "colab": {
          "base_uri": "https://localhost:8080/",
          "height": 0
        },
        "outputId": "088cb445-b4bc-40e9-ae7c-5f8eac291b32"
      },
      "source": [
        "train.head()"
      ],
      "execution_count": 490,
      "outputs": [
        {
          "output_type": "execute_result",
          "data": {
            "text/html": [
              "<div>\n",
              "<style scoped>\n",
              "    .dataframe tbody tr th:only-of-type {\n",
              "        vertical-align: middle;\n",
              "    }\n",
              "\n",
              "    .dataframe tbody tr th {\n",
              "        vertical-align: top;\n",
              "    }\n",
              "\n",
              "    .dataframe thead th {\n",
              "        text-align: right;\n",
              "    }\n",
              "</style>\n",
              "<table border=\"1\" class=\"dataframe\">\n",
              "  <thead>\n",
              "    <tr style=\"text-align: right;\">\n",
              "      <th></th>\n",
              "      <th>MSSubClass</th>\n",
              "      <th>MSZoning</th>\n",
              "      <th>LotFrontage</th>\n",
              "      <th>LotArea</th>\n",
              "      <th>Street</th>\n",
              "      <th>LotShape</th>\n",
              "      <th>LandContour</th>\n",
              "      <th>Utilities</th>\n",
              "      <th>LotConfig</th>\n",
              "      <th>LandSlope</th>\n",
              "      <th>Neighborhood</th>\n",
              "      <th>Condition1</th>\n",
              "      <th>Condition2</th>\n",
              "      <th>BldgType</th>\n",
              "      <th>HouseStyle</th>\n",
              "      <th>OverallQual</th>\n",
              "      <th>OverallCond</th>\n",
              "      <th>YearBuilt</th>\n",
              "      <th>YearRemodAdd</th>\n",
              "      <th>RoofStyle</th>\n",
              "      <th>RoofMatl</th>\n",
              "      <th>Exterior1st</th>\n",
              "      <th>Exterior2nd</th>\n",
              "      <th>MasVnrType</th>\n",
              "      <th>MasVnrArea</th>\n",
              "      <th>ExterQual</th>\n",
              "      <th>ExterCond</th>\n",
              "      <th>Foundation</th>\n",
              "      <th>BsmtQual</th>\n",
              "      <th>BsmtCond</th>\n",
              "      <th>BsmtExposure</th>\n",
              "      <th>BsmtFinType1</th>\n",
              "      <th>BsmtFinSF1</th>\n",
              "      <th>BsmtFinType2</th>\n",
              "      <th>BsmtFinSF2</th>\n",
              "      <th>BsmtUnfSF</th>\n",
              "      <th>TotalBsmtSF</th>\n",
              "      <th>Heating</th>\n",
              "      <th>HeatingQC</th>\n",
              "      <th>CentralAir</th>\n",
              "      <th>Electrical</th>\n",
              "      <th>1stFlrSF</th>\n",
              "      <th>2ndFlrSF</th>\n",
              "      <th>LowQualFinSF</th>\n",
              "      <th>GrLivArea</th>\n",
              "      <th>BsmtFullBath</th>\n",
              "      <th>BsmtHalfBath</th>\n",
              "      <th>FullBath</th>\n",
              "      <th>HalfBath</th>\n",
              "      <th>BedroomAbvGr</th>\n",
              "      <th>KitchenAbvGr</th>\n",
              "      <th>KitchenQual</th>\n",
              "      <th>TotRmsAbvGrd</th>\n",
              "      <th>Functional</th>\n",
              "      <th>Fireplaces</th>\n",
              "      <th>GarageType</th>\n",
              "      <th>GarageYrBlt</th>\n",
              "      <th>GarageFinish</th>\n",
              "      <th>GarageCars</th>\n",
              "      <th>GarageArea</th>\n",
              "      <th>GarageQual</th>\n",
              "      <th>GarageCond</th>\n",
              "      <th>PavedDrive</th>\n",
              "      <th>WoodDeckSF</th>\n",
              "      <th>OpenPorchSF</th>\n",
              "      <th>EnclosedPorch</th>\n",
              "      <th>3SsnPorch</th>\n",
              "      <th>ScreenPorch</th>\n",
              "      <th>PoolArea</th>\n",
              "      <th>MiscVal</th>\n",
              "      <th>MoSold</th>\n",
              "      <th>YrSold</th>\n",
              "      <th>SaleType</th>\n",
              "      <th>SaleCondition</th>\n",
              "      <th>SalePrice</th>\n",
              "    </tr>\n",
              "    <tr>\n",
              "      <th>Id</th>\n",
              "      <th></th>\n",
              "      <th></th>\n",
              "      <th></th>\n",
              "      <th></th>\n",
              "      <th></th>\n",
              "      <th></th>\n",
              "      <th></th>\n",
              "      <th></th>\n",
              "      <th></th>\n",
              "      <th></th>\n",
              "      <th></th>\n",
              "      <th></th>\n",
              "      <th></th>\n",
              "      <th></th>\n",
              "      <th></th>\n",
              "      <th></th>\n",
              "      <th></th>\n",
              "      <th></th>\n",
              "      <th></th>\n",
              "      <th></th>\n",
              "      <th></th>\n",
              "      <th></th>\n",
              "      <th></th>\n",
              "      <th></th>\n",
              "      <th></th>\n",
              "      <th></th>\n",
              "      <th></th>\n",
              "      <th></th>\n",
              "      <th></th>\n",
              "      <th></th>\n",
              "      <th></th>\n",
              "      <th></th>\n",
              "      <th></th>\n",
              "      <th></th>\n",
              "      <th></th>\n",
              "      <th></th>\n",
              "      <th></th>\n",
              "      <th></th>\n",
              "      <th></th>\n",
              "      <th></th>\n",
              "      <th></th>\n",
              "      <th></th>\n",
              "      <th></th>\n",
              "      <th></th>\n",
              "      <th></th>\n",
              "      <th></th>\n",
              "      <th></th>\n",
              "      <th></th>\n",
              "      <th></th>\n",
              "      <th></th>\n",
              "      <th></th>\n",
              "      <th></th>\n",
              "      <th></th>\n",
              "      <th></th>\n",
              "      <th></th>\n",
              "      <th></th>\n",
              "      <th></th>\n",
              "      <th></th>\n",
              "      <th></th>\n",
              "      <th></th>\n",
              "      <th></th>\n",
              "      <th></th>\n",
              "      <th></th>\n",
              "      <th></th>\n",
              "      <th></th>\n",
              "      <th></th>\n",
              "      <th></th>\n",
              "      <th></th>\n",
              "      <th></th>\n",
              "      <th></th>\n",
              "      <th></th>\n",
              "      <th></th>\n",
              "      <th></th>\n",
              "      <th></th>\n",
              "      <th></th>\n",
              "    </tr>\n",
              "  </thead>\n",
              "  <tbody>\n",
              "    <tr>\n",
              "      <th>1</th>\n",
              "      <td>60</td>\n",
              "      <td>4</td>\n",
              "      <td>65.0</td>\n",
              "      <td>8450</td>\n",
              "      <td>2</td>\n",
              "      <td>1</td>\n",
              "      <td>2</td>\n",
              "      <td>2</td>\n",
              "      <td>1</td>\n",
              "      <td>1</td>\n",
              "      <td>17</td>\n",
              "      <td>4</td>\n",
              "      <td>5</td>\n",
              "      <td>4</td>\n",
              "      <td>7</td>\n",
              "      <td>7</td>\n",
              "      <td>5</td>\n",
              "      <td>2003</td>\n",
              "      <td>2003</td>\n",
              "      <td>2</td>\n",
              "      <td>3</td>\n",
              "      <td>12</td>\n",
              "      <td>14</td>\n",
              "      <td>3</td>\n",
              "      <td>196.0</td>\n",
              "      <td>3</td>\n",
              "      <td>5</td>\n",
              "      <td>6</td>\n",
              "      <td>4</td>\n",
              "      <td>4</td>\n",
              "      <td>2</td>\n",
              "      <td>7</td>\n",
              "      <td>706</td>\n",
              "      <td>5</td>\n",
              "      <td>0</td>\n",
              "      <td>150</td>\n",
              "      <td>856</td>\n",
              "      <td>6</td>\n",
              "      <td>5</td>\n",
              "      <td>2</td>\n",
              "      <td>6</td>\n",
              "      <td>856</td>\n",
              "      <td>854</td>\n",
              "      <td>0</td>\n",
              "      <td>1710</td>\n",
              "      <td>1</td>\n",
              "      <td>0</td>\n",
              "      <td>2</td>\n",
              "      <td>1</td>\n",
              "      <td>3</td>\n",
              "      <td>1</td>\n",
              "      <td>3</td>\n",
              "      <td>8</td>\n",
              "      <td>7</td>\n",
              "      <td>0</td>\n",
              "      <td>6</td>\n",
              "      <td>2003.0</td>\n",
              "      <td>3</td>\n",
              "      <td>2</td>\n",
              "      <td>548</td>\n",
              "      <td>5</td>\n",
              "      <td>6</td>\n",
              "      <td>3</td>\n",
              "      <td>0</td>\n",
              "      <td>61</td>\n",
              "      <td>0</td>\n",
              "      <td>0</td>\n",
              "      <td>0</td>\n",
              "      <td>0</td>\n",
              "      <td>0</td>\n",
              "      <td>2</td>\n",
              "      <td>2008</td>\n",
              "      <td>6</td>\n",
              "      <td>5</td>\n",
              "      <td>208500</td>\n",
              "    </tr>\n",
              "    <tr>\n",
              "      <th>2</th>\n",
              "      <td>20</td>\n",
              "      <td>4</td>\n",
              "      <td>80.0</td>\n",
              "      <td>9600</td>\n",
              "      <td>2</td>\n",
              "      <td>1</td>\n",
              "      <td>2</td>\n",
              "      <td>2</td>\n",
              "      <td>3</td>\n",
              "      <td>1</td>\n",
              "      <td>20</td>\n",
              "      <td>2</td>\n",
              "      <td>5</td>\n",
              "      <td>4</td>\n",
              "      <td>5</td>\n",
              "      <td>6</td>\n",
              "      <td>8</td>\n",
              "      <td>1976</td>\n",
              "      <td>1976</td>\n",
              "      <td>2</td>\n",
              "      <td>3</td>\n",
              "      <td>7</td>\n",
              "      <td>5</td>\n",
              "      <td>2</td>\n",
              "      <td>0.0</td>\n",
              "      <td>2</td>\n",
              "      <td>5</td>\n",
              "      <td>4</td>\n",
              "      <td>4</td>\n",
              "      <td>4</td>\n",
              "      <td>5</td>\n",
              "      <td>5</td>\n",
              "      <td>978</td>\n",
              "      <td>5</td>\n",
              "      <td>0</td>\n",
              "      <td>284</td>\n",
              "      <td>1262</td>\n",
              "      <td>6</td>\n",
              "      <td>5</td>\n",
              "      <td>2</td>\n",
              "      <td>6</td>\n",
              "      <td>1262</td>\n",
              "      <td>0</td>\n",
              "      <td>0</td>\n",
              "      <td>1262</td>\n",
              "      <td>0</td>\n",
              "      <td>1</td>\n",
              "      <td>2</td>\n",
              "      <td>0</td>\n",
              "      <td>3</td>\n",
              "      <td>1</td>\n",
              "      <td>2</td>\n",
              "      <td>6</td>\n",
              "      <td>7</td>\n",
              "      <td>1</td>\n",
              "      <td>6</td>\n",
              "      <td>1976.0</td>\n",
              "      <td>3</td>\n",
              "      <td>2</td>\n",
              "      <td>460</td>\n",
              "      <td>5</td>\n",
              "      <td>6</td>\n",
              "      <td>3</td>\n",
              "      <td>298</td>\n",
              "      <td>0</td>\n",
              "      <td>0</td>\n",
              "      <td>0</td>\n",
              "      <td>0</td>\n",
              "      <td>0</td>\n",
              "      <td>0</td>\n",
              "      <td>5</td>\n",
              "      <td>2007</td>\n",
              "      <td>6</td>\n",
              "      <td>5</td>\n",
              "      <td>181500</td>\n",
              "    </tr>\n",
              "    <tr>\n",
              "      <th>3</th>\n",
              "      <td>60</td>\n",
              "      <td>4</td>\n",
              "      <td>68.0</td>\n",
              "      <td>11250</td>\n",
              "      <td>2</td>\n",
              "      <td>2</td>\n",
              "      <td>2</td>\n",
              "      <td>2</td>\n",
              "      <td>1</td>\n",
              "      <td>1</td>\n",
              "      <td>17</td>\n",
              "      <td>4</td>\n",
              "      <td>5</td>\n",
              "      <td>4</td>\n",
              "      <td>7</td>\n",
              "      <td>7</td>\n",
              "      <td>5</td>\n",
              "      <td>2001</td>\n",
              "      <td>2002</td>\n",
              "      <td>2</td>\n",
              "      <td>3</td>\n",
              "      <td>12</td>\n",
              "      <td>14</td>\n",
              "      <td>3</td>\n",
              "      <td>162.0</td>\n",
              "      <td>3</td>\n",
              "      <td>5</td>\n",
              "      <td>6</td>\n",
              "      <td>4</td>\n",
              "      <td>4</td>\n",
              "      <td>3</td>\n",
              "      <td>7</td>\n",
              "      <td>486</td>\n",
              "      <td>5</td>\n",
              "      <td>0</td>\n",
              "      <td>434</td>\n",
              "      <td>920</td>\n",
              "      <td>6</td>\n",
              "      <td>5</td>\n",
              "      <td>2</td>\n",
              "      <td>6</td>\n",
              "      <td>920</td>\n",
              "      <td>866</td>\n",
              "      <td>0</td>\n",
              "      <td>1786</td>\n",
              "      <td>1</td>\n",
              "      <td>0</td>\n",
              "      <td>2</td>\n",
              "      <td>1</td>\n",
              "      <td>3</td>\n",
              "      <td>1</td>\n",
              "      <td>3</td>\n",
              "      <td>6</td>\n",
              "      <td>7</td>\n",
              "      <td>1</td>\n",
              "      <td>6</td>\n",
              "      <td>2001.0</td>\n",
              "      <td>3</td>\n",
              "      <td>2</td>\n",
              "      <td>608</td>\n",
              "      <td>5</td>\n",
              "      <td>6</td>\n",
              "      <td>3</td>\n",
              "      <td>0</td>\n",
              "      <td>42</td>\n",
              "      <td>0</td>\n",
              "      <td>0</td>\n",
              "      <td>0</td>\n",
              "      <td>0</td>\n",
              "      <td>0</td>\n",
              "      <td>9</td>\n",
              "      <td>2008</td>\n",
              "      <td>6</td>\n",
              "      <td>5</td>\n",
              "      <td>223500</td>\n",
              "    </tr>\n",
              "    <tr>\n",
              "      <th>4</th>\n",
              "      <td>70</td>\n",
              "      <td>4</td>\n",
              "      <td>60.0</td>\n",
              "      <td>9550</td>\n",
              "      <td>2</td>\n",
              "      <td>2</td>\n",
              "      <td>2</td>\n",
              "      <td>2</td>\n",
              "      <td>2</td>\n",
              "      <td>1</td>\n",
              "      <td>19</td>\n",
              "      <td>4</td>\n",
              "      <td>5</td>\n",
              "      <td>4</td>\n",
              "      <td>7</td>\n",
              "      <td>7</td>\n",
              "      <td>5</td>\n",
              "      <td>1915</td>\n",
              "      <td>1970</td>\n",
              "      <td>2</td>\n",
              "      <td>3</td>\n",
              "      <td>6</td>\n",
              "      <td>4</td>\n",
              "      <td>2</td>\n",
              "      <td>0.0</td>\n",
              "      <td>2</td>\n",
              "      <td>5</td>\n",
              "      <td>2</td>\n",
              "      <td>3</td>\n",
              "      <td>5</td>\n",
              "      <td>2</td>\n",
              "      <td>5</td>\n",
              "      <td>216</td>\n",
              "      <td>5</td>\n",
              "      <td>0</td>\n",
              "      <td>540</td>\n",
              "      <td>756</td>\n",
              "      <td>6</td>\n",
              "      <td>4</td>\n",
              "      <td>2</td>\n",
              "      <td>6</td>\n",
              "      <td>961</td>\n",
              "      <td>756</td>\n",
              "      <td>0</td>\n",
              "      <td>1717</td>\n",
              "      <td>1</td>\n",
              "      <td>0</td>\n",
              "      <td>1</td>\n",
              "      <td>0</td>\n",
              "      <td>3</td>\n",
              "      <td>1</td>\n",
              "      <td>3</td>\n",
              "      <td>7</td>\n",
              "      <td>7</td>\n",
              "      <td>1</td>\n",
              "      <td>3</td>\n",
              "      <td>1998.0</td>\n",
              "      <td>2</td>\n",
              "      <td>3</td>\n",
              "      <td>642</td>\n",
              "      <td>5</td>\n",
              "      <td>6</td>\n",
              "      <td>3</td>\n",
              "      <td>0</td>\n",
              "      <td>35</td>\n",
              "      <td>272</td>\n",
              "      <td>0</td>\n",
              "      <td>0</td>\n",
              "      <td>0</td>\n",
              "      <td>0</td>\n",
              "      <td>2</td>\n",
              "      <td>2006</td>\n",
              "      <td>6</td>\n",
              "      <td>2</td>\n",
              "      <td>140000</td>\n",
              "    </tr>\n",
              "    <tr>\n",
              "      <th>5</th>\n",
              "      <td>60</td>\n",
              "      <td>4</td>\n",
              "      <td>84.0</td>\n",
              "      <td>14260</td>\n",
              "      <td>2</td>\n",
              "      <td>2</td>\n",
              "      <td>2</td>\n",
              "      <td>2</td>\n",
              "      <td>3</td>\n",
              "      <td>1</td>\n",
              "      <td>24</td>\n",
              "      <td>4</td>\n",
              "      <td>5</td>\n",
              "      <td>4</td>\n",
              "      <td>7</td>\n",
              "      <td>8</td>\n",
              "      <td>5</td>\n",
              "      <td>2000</td>\n",
              "      <td>2000</td>\n",
              "      <td>2</td>\n",
              "      <td>3</td>\n",
              "      <td>12</td>\n",
              "      <td>14</td>\n",
              "      <td>3</td>\n",
              "      <td>350.0</td>\n",
              "      <td>3</td>\n",
              "      <td>5</td>\n",
              "      <td>6</td>\n",
              "      <td>4</td>\n",
              "      <td>4</td>\n",
              "      <td>4</td>\n",
              "      <td>7</td>\n",
              "      <td>655</td>\n",
              "      <td>5</td>\n",
              "      <td>0</td>\n",
              "      <td>490</td>\n",
              "      <td>1145</td>\n",
              "      <td>6</td>\n",
              "      <td>5</td>\n",
              "      <td>2</td>\n",
              "      <td>6</td>\n",
              "      <td>1145</td>\n",
              "      <td>1053</td>\n",
              "      <td>0</td>\n",
              "      <td>2198</td>\n",
              "      <td>1</td>\n",
              "      <td>0</td>\n",
              "      <td>2</td>\n",
              "      <td>1</td>\n",
              "      <td>4</td>\n",
              "      <td>1</td>\n",
              "      <td>3</td>\n",
              "      <td>9</td>\n",
              "      <td>7</td>\n",
              "      <td>1</td>\n",
              "      <td>6</td>\n",
              "      <td>2000.0</td>\n",
              "      <td>3</td>\n",
              "      <td>3</td>\n",
              "      <td>836</td>\n",
              "      <td>5</td>\n",
              "      <td>6</td>\n",
              "      <td>3</td>\n",
              "      <td>192</td>\n",
              "      <td>84</td>\n",
              "      <td>0</td>\n",
              "      <td>0</td>\n",
              "      <td>0</td>\n",
              "      <td>0</td>\n",
              "      <td>0</td>\n",
              "      <td>12</td>\n",
              "      <td>2008</td>\n",
              "      <td>6</td>\n",
              "      <td>5</td>\n",
              "      <td>250000</td>\n",
              "    </tr>\n",
              "  </tbody>\n",
              "</table>\n",
              "</div>"
            ],
            "text/plain": [
              "    MSSubClass  MSZoning  LotFrontage  ...  SaleType  SaleCondition  SalePrice\n",
              "Id                                     ...                                    \n",
              "1           60         4         65.0  ...         6              5     208500\n",
              "2           20         4         80.0  ...         6              5     181500\n",
              "3           60         4         68.0  ...         6              5     223500\n",
              "4           70         4         60.0  ...         6              2     140000\n",
              "5           60         4         84.0  ...         6              5     250000\n",
              "\n",
              "[5 rows x 75 columns]"
            ]
          },
          "metadata": {},
          "execution_count": 490
        }
      ]
    },
    {
      "cell_type": "markdown",
      "metadata": {
        "id": "c4gxbo55oQU0"
      },
      "source": [
        "### **If has garage feature**"
      ]
    },
    {
      "cell_type": "code",
      "metadata": {
        "id": "aYKW4hjSoCvs"
      },
      "source": [
        "train['HasGarage'] = np.where(train['GarageArea'] != 0, 1, 0)\n",
        "test['HasGarage'] = np.where(test['GarageArea'] != 0, 1, 0)"
      ],
      "execution_count": 491,
      "outputs": []
    },
    {
      "cell_type": "markdown",
      "metadata": {
        "id": "IgJ0kh9qpcs6"
      },
      "source": [
        "### **Has Mas Vnr**"
      ]
    },
    {
      "cell_type": "code",
      "metadata": {
        "id": "hJ9eR_9Fpf6D"
      },
      "source": [
        "train['HasMasVnr'] = np.where(train['MasVnrArea'] != 0, 1, 0)\n",
        "test['HasMasVnr'] = np.where(test['MasVnrArea'] != 0, 1, 0)"
      ],
      "execution_count": 492,
      "outputs": []
    },
    {
      "cell_type": "markdown",
      "metadata": {
        "id": "NjIJYcKoqYCJ"
      },
      "source": [
        "## **Skewness check, log Transform**"
      ]
    },
    {
      "cell_type": "code",
      "metadata": {
        "id": "n_3rW02suBIC",
        "colab": {
          "base_uri": "https://localhost:8080/",
          "height": 296
        },
        "outputId": "abb7a667-fc21-4681-b7ae-0cf61da009c2"
      },
      "source": [
        "sns.histplot(train['LotArea'])"
      ],
      "execution_count": 493,
      "outputs": [
        {
          "output_type": "execute_result",
          "data": {
            "text/plain": [
              "<matplotlib.axes._subplots.AxesSubplot at 0x7fd7009aaa90>"
            ]
          },
          "metadata": {},
          "execution_count": 493
        },
        {
          "output_type": "display_data",
          "data": {
            "image/png": "[encoded data removed]",
            "text/plain": [
              "<Figure size 432x288 with 1 Axes>"
            ]
          },
          "metadata": {
            "needs_background": "light"
          }
        }
      ]
    },
    {
      "cell_type": "code",
      "metadata": {
        "id": "j6aNIm5hqcH6",
        "colab": {
          "base_uri": "https://localhost:8080/"
        },
        "outputId": "3dcdeca5-20c3-40d9-85f0-72b38d09c7f5"
      },
      "source": [
        "skewed_features = (train.skew().sort_values(ascending=False)).index\n",
        "skewed_features"
      ],
      "execution_count": 494,
      "outputs": [
        {
          "output_type": "execute_result",
          "data": {
            "text/plain": [
              "Index(['MiscVal', 'PoolArea', 'LotArea', '3SsnPorch', 'RoofMatl',\n",
              "       'LowQualFinSF', 'KitchenAbvGr', 'BsmtFinSF2', 'LandSlope',\n",
              "       'ScreenPorch', 'BsmtHalfBath', 'EnclosedPorch', 'MasVnrArea',\n",
              "       'LandContour', 'LotConfig', 'LotFrontage', 'OpenPorchSF', 'SalePrice',\n",
              "       'LotShape', 'BsmtFinSF1', 'WoodDeckSF', 'TotalBsmtSF', 'RoofStyle',\n",
              "       'MasVnrType', 'MSSubClass', '1stFlrSF', 'GrLivArea', 'BsmtUnfSF',\n",
              "       'ExterQual', '2ndFlrSF', 'BsmtExposure', 'OverallCond', 'TotRmsAbvGrd',\n",
              "       'HalfBath', 'Fireplaces', 'BsmtFullBath', 'HasMasVnr', 'KitchenQual',\n",
              "       'OverallQual', 'MoSold', 'BedroomAbvGr', 'GarageArea', 'Neighborhood',\n",
              "       'Condition1', 'YrSold', 'FullBath', 'Exterior2nd', 'GarageCars',\n",
              "       'Exterior1st', 'YearRemodAdd', 'HeatingQC', 'GarageFinish',\n",
              "       'Foundation', 'YearBuilt', 'GarageYrBlt', 'HouseStyle', 'BsmtFinType1',\n",
              "       'SaleType', 'GarageType', 'BsmtQual', 'MSZoning', 'SaleCondition',\n",
              "       'BldgType', 'ExterCond', 'BsmtFinType2', 'GarageCond', 'PavedDrive',\n",
              "       'GarageQual', 'CentralAir', 'Electrical', 'HasGarage', 'BsmtCond',\n",
              "       'Functional', 'Condition2', 'Heating', 'Street', 'Utilities'],\n",
              "      dtype='object')"
            ]
          },
          "metadata": {},
          "execution_count": 494
        }
      ]
    },
    {
      "cell_type": "code",
      "metadata": {
        "id": "F0O0hcnms41-"
      },
      "source": [
        "LogTransformer.transform(train, skewed_features, offset=0.001)\n",
        "LogTransformer.transform(test, skewed_features.drop('SalePrice'), offset=0.001)"
      ],
      "execution_count": 495,
      "outputs": []
    },
    {
      "cell_type": "code",
      "metadata": {
        "id": "vFli0_WqrgQh",
        "colab": {
          "base_uri": "https://localhost:8080/",
          "height": 296
        },
        "outputId": "55d4fa9a-eb74-40e5-c3f4-e76d91682624"
      },
      "source": [
        "sns.histplot(train['LotArea'])"
      ],
      "execution_count": 496,
      "outputs": [
        {
          "output_type": "execute_result",
          "data": {
            "text/plain": [
              "<matplotlib.axes._subplots.AxesSubplot at 0x7fd700a7a710>"
            ]
          },
          "metadata": {},
          "execution_count": 496
        },
        {
          "output_type": "display_data",
          "data": {
            "image/png": "[encoded data removed]",
            "text/plain": [
              "<Figure size 432x288 with 1 Axes>"
            ]
          },
          "metadata": {
            "needs_background": "light"
          }
        }
      ]
    },
    {
      "cell_type": "code",
      "metadata": {
        "id": "bQLN1egUTzk1",
        "outputId": "18338f5b-f506-4d50-ec44-dc49a73fb6eb",
        "colab": {
          "base_uri": "https://localhost:8080/",
          "height": 296
        }
      },
      "source": [
        "sns.histplot(train['SalePrice'])"
      ],
      "execution_count": 497,
      "outputs": [
        {
          "output_type": "execute_result",
          "data": {
            "text/plain": [
              "<matplotlib.axes._subplots.AxesSubplot at 0x7fd716cfd090>"
            ]
          },
          "metadata": {},
          "execution_count": 497
        },
        {
          "output_type": "display_data",
          "data": {
            "image/png": "[encoded data removed]",
            "text/plain": [
              "<Figure size 432x288 with 1 Axes>"
            ]
          },
          "metadata": {
            "needs_background": "light"
          }
        }
      ]
    },
    {
      "cell_type": "code",
      "metadata": {
        "id": "63S3qmnEuCem",
        "colab": {
          "base_uri": "https://localhost:8080/"
        },
        "outputId": "23cddf95-c506-457a-832e-3fcf4bdcea60"
      },
      "source": [
        "train.skew().sort_values(ascending=True)"
      ],
      "execution_count": 498,
      "outputs": [
        {
          "output_type": "execute_result",
          "data": {
            "text/plain": [
              "Utilities      -38.209946\n",
              "Electrical     -22.903089\n",
              "KitchenAbvGr   -16.601568\n",
              "Street         -15.518770\n",
              "Condition2     -14.886998\n",
              "                  ...    \n",
              "MiscVal          5.052355\n",
              "RoofMatl         6.862016\n",
              "LowQualFinSF     7.334348\n",
              "3SsnPorch        7.638788\n",
              "PoolArea        14.355068\n",
              "Length: 77, dtype: float64"
            ]
          },
          "metadata": {},
          "execution_count": 498
        }
      ]
    },
    {
      "cell_type": "markdown",
      "metadata": {
        "id": "yUCWeodAuca9"
      },
      "source": [
        "## **IQR Filter**"
      ]
    },
    {
      "cell_type": "code",
      "metadata": {
        "id": "ivVpAuuYZFOt",
        "outputId": "2c902f74-66c0-4e5c-d4da-2b300abcd5c7",
        "colab": {
          "base_uri": "https://localhost:8080/",
          "height": 296
        }
      },
      "source": [
        "sns.histplot(train['SalePrice'])"
      ],
      "execution_count": 499,
      "outputs": [
        {
          "output_type": "execute_result",
          "data": {
            "text/plain": [
              "<matplotlib.axes._subplots.AxesSubplot at 0x7fd7044c8c50>"
            ]
          },
          "metadata": {},
          "execution_count": 499
        },
        {
          "output_type": "display_data",
          "data": {
            "image/png": "[encoded data removed]",
            "text/plain": [
              "<Figure size 432x288 with 1 Axes>"
            ]
          },
          "metadata": {
            "needs_background": "light"
          }
        }
      ]
    },
    {
      "cell_type": "code",
      "metadata": {
        "id": "2w7bCthDWkKO",
        "outputId": "a2b5a668-0ea0-421e-b7ad-caa51134c7e0",
        "colab": {
          "base_uri": "https://localhost:8080/"
        }
      },
      "source": [
        "#IQRRemover.transform(train, ['SalePrice'])\n",
        "print(f'Size before: {train.shape}')\n",
        "train = QuantileRemover.transform(train, ['SalePrice'], 0.02, 0.98)\n",
        "print(f'Size after: {train.shape}')"
      ],
      "execution_count": 500,
      "outputs": [
        {
          "output_type": "stream",
          "name": "stdout",
          "text": [
            "Size before: (1460, 77)\n",
            "Size after: (1401, 77)\n"
          ]
        }
      ]
    },
    {
      "cell_type": "code",
      "metadata": {
        "id": "ihoba0ijWxRU",
        "outputId": "63550543-ec40-497e-8af9-34e95bd16e59",
        "colab": {
          "base_uri": "https://localhost:8080/",
          "height": 296
        }
      },
      "source": [
        "sns.histplot(train['SalePrice'])"
      ],
      "execution_count": 501,
      "outputs": [
        {
          "output_type": "execute_result",
          "data": {
            "text/plain": [
              "<matplotlib.axes._subplots.AxesSubplot at 0x7fd7035ac410>"
            ]
          },
          "metadata": {},
          "execution_count": 501
        },
        {
          "output_type": "display_data",
          "data": {
            "image/png": "[encoded data removed]",
            "text/plain": [
              "<Figure size 432x288 with 1 Axes>"
            ]
          },
          "metadata": {
            "needs_background": "light"
          }
        }
      ]
    },
    {
      "cell_type": "code",
      "metadata": {
        "id": "tb0o_NhXzU4-",
        "colab": {
          "base_uri": "https://localhost:8080/"
        },
        "outputId": "21f8f8c8-32d4-4aa5-aec9-d069424b4432"
      },
      "source": [
        "nan_statistics(train), nan_statistics(test)"
      ],
      "execution_count": 502,
      "outputs": [
        {
          "output_type": "stream",
          "name": "stdout",
          "text": [
            "Col -- Nan percentage\n",
            "Col -- Nan percentage\n"
          ]
        },
        {
          "output_type": "execute_result",
          "data": {
            "text/plain": [
              "({}, {})"
            ]
          },
          "metadata": {},
          "execution_count": 502
        }
      ]
    },
    {
      "cell_type": "markdown",
      "metadata": {
        "id": "d3Q_I6B9kTwy"
      },
      "source": [
        "## **Select K best features**"
      ]
    },
    {
      "cell_type": "code",
      "metadata": {
        "id": "yUwISi6PfPVb"
      },
      "source": [
        "# Choose numeric types and try SelectKBest features\n",
        "target = train['SalePrice']\n",
        "train.drop(columns=['SalePrice'], inplace=True)"
      ],
      "execution_count": 503,
      "outputs": []
    },
    {
      "cell_type": "code",
      "metadata": {
        "id": "Q92uEfNKf8bw"
      },
      "source": [
        "features_selector = SelectKBest(score_func=f_classif, k=select_k_numerics)\n",
        "fit = features_selector.fit(train, target)"
      ],
      "execution_count": 504,
      "outputs": []
    },
    {
      "cell_type": "code",
      "metadata": {
        "id": "eEm9rsOWidOx"
      },
      "source": [
        "feature_scores = pd.DataFrame({\n",
        "    'Scores': pd.Series(fit.scores_),\n",
        "    'Colnames': pd.Series(train.columns)\n",
        "})\n",
        "feature_scores = feature_scores.nlargest(select_k_numerics, 'Scores')"
      ],
      "execution_count": 505,
      "outputs": []
    },
    {
      "cell_type": "code",
      "metadata": {
        "id": "bpTrsVxH1562"
      },
      "source": [
        "k_best_features = feature_scores['Colnames'].values"
      ],
      "execution_count": 506,
      "outputs": []
    },
    {
      "cell_type": "code",
      "metadata": {
        "id": "dfpN4lkD3ZyM",
        "colab": {
          "base_uri": "https://localhost:8080/"
        },
        "outputId": "b1d877fe-cb5c-4844-f4a0-7b8323057713"
      },
      "source": [
        "k_best_features"
      ],
      "execution_count": 507,
      "outputs": [
        {
          "output_type": "execute_result",
          "data": {
            "text/plain": [
              "array(['MasVnrType', 'OverallQual', 'ExterQual', 'Neighborhood',\n",
              "       'GrLivArea', 'KitchenQual', 'YearBuilt', 'BsmtQual', 'TotalBsmtSF',\n",
              "       '1stFlrSF', 'BsmtCond', 'BsmtExposure', 'BsmtFinType1',\n",
              "       'BsmtFinType2', 'Foundation', 'FullBath', 'GarageYrBlt',\n",
              "       'YearRemodAdd', 'Fireplaces', 'OpenPorchSF', 'TotRmsAbvGrd',\n",
              "       'Exterior1st', 'Street', 'Heating', 'HalfBath', 'LotShape',\n",
              "       'Exterior2nd', 'LotArea', 'MasVnrArea', 'WoodDeckSF'], dtype=object)"
            ]
          },
          "metadata": {},
          "execution_count": 507
        }
      ]
    },
    {
      "cell_type": "markdown",
      "metadata": {
        "id": "joal-ISg8fEk"
      },
      "source": [
        "## **Heatmap for numerics**"
      ]
    },
    {
      "cell_type": "code",
      "metadata": {
        "id": "eeA7stZw1MSi"
      },
      "source": [
        "train['SalePrice'] = target"
      ],
      "execution_count": 508,
      "outputs": []
    },
    {
      "cell_type": "code",
      "metadata": {
        "id": "W6dLHPlLVLLA",
        "colab": {
          "base_uri": "https://localhost:8080/",
          "height": 0
        },
        "outputId": "88a5a38d-aa16-4594-a896-56895b2bad23"
      },
      "source": [
        "corrs = train.drop('SalePrice',axis=1).corrwith(train['SalePrice']).sort_values(ascending=False)\n",
        "\n",
        "fig,axes=plt.subplots(1,1,figsize=(12,9))\n",
        "axes.axhline(corrs[corrs>0].mean(), ls=':',color='black',linewidth=2)\n",
        "axes.text(25.5,corrs[corrs>0].mean()+.015, \"Average = {:.3f}\".format(corrs[corrs>0].mean()),color='black',size=14)\n",
        "axes.axhline(corrs[corrs<0].mean(), ls=':',color='black',linewidth=2)\n",
        "axes.text(25.5,corrs[corrs<0].mean()-.035, \"Average = {:.3f}\".format(corrs[corrs<0].mean()),color='black',size=14)\n",
        "sns.barplot(y=corrs,x=corrs.index,palette='Spectral')\n",
        "plt.title('Correlation of Sale Price to other Features',size=20,color='black',y=1.03)\n",
        "plt.xticks(rotation=90)\n",
        "for p in axes.patches:\n",
        "            value = p.get_height()\n",
        "            if value <=.5:\n",
        "                continue\n",
        "            x = p.get_x() + p.get_width()-.9\n",
        "            y = p.get_y() + p.get_height()+(.02*value)\n",
        "            axes.text(x, y, str(value)[1:5], ha=\"left\",fontsize=12,color='#000000')\n",
        "plt.tight_layout()"
      ],
      "execution_count": 509,
      "outputs": [
        {
          "output_type": "display_data",
          "data": {
            "image/png": "[encoded data removed]",
            "text/plain": [
              "<Figure size 864x648 with 1 Axes>"
            ]
          },
          "metadata": {
            "needs_background": "light"
          }
        }
      ]
    },
    {
      "cell_type": "code",
      "metadata": {
        "id": "D5SxVO858qmi",
        "colab": {
          "base_uri": "https://localhost:8080/",
          "height": 0
        },
        "outputId": "145d4351-6da9-420d-f692-2e8ed31f3024"
      },
      "source": [
        "corr_matrix = train.corr()\n",
        "\n",
        "plt.figure(figsize=(15,15))\n",
        "sns.heatmap(corr_matrix, cmap=\"RdYlGn\")"
      ],
      "execution_count": 510,
      "outputs": [
        {
          "output_type": "execute_result",
          "data": {
            "text/plain": [
              "<matplotlib.axes._subplots.AxesSubplot at 0x7fd701f26050>"
            ]
          },
          "metadata": {},
          "execution_count": 510
        },
        {
          "output_type": "display_data",
          "data": {
            "image/png": "[encoded data removed]",
            "text/plain": [
              "<Figure size 1080x1080 with 2 Axes>"
            ]
          },
          "metadata": {
            "needs_background": "light"
          }
        }
      ]
    },
    {
      "cell_type": "markdown",
      "metadata": {
        "id": "WPhfXL-Q-zN3"
      },
      "source": [
        "**Insight. There are ~14 numeric features, highly correlated with the target**"
      ]
    },
    {
      "cell_type": "code",
      "metadata": {
        "id": "klvLAXxZ_K2U"
      },
      "source": [
        "corr_res = corr_filter(\n",
        "    corr_matrix,\n",
        "    target_feature='SalePrice',\n",
        "    abs_thresh=0.4)\n",
        "del corr_res['SalePrice']"
      ],
      "execution_count": 511,
      "outputs": []
    },
    {
      "cell_type": "code",
      "metadata": {
        "id": "5m0CCVthAq6W"
      },
      "source": [
        "best_fatures_corr = corr_res.keys()\n",
        "set_k_best = set(k_best_features)\n",
        "set_corr = set(best_fatures_corr)"
      ],
      "execution_count": 512,
      "outputs": []
    },
    {
      "cell_type": "markdown",
      "metadata": {
        "id": "Kfdo5dzVCdUs"
      },
      "source": [
        ""
      ]
    },
    {
      "cell_type": "markdown",
      "metadata": {
        "id": "zfh-qzGKcuEm"
      },
      "source": [
        "## **Keep only relevant features**"
      ]
    },
    {
      "cell_type": "code",
      "metadata": {
        "id": "HrJFrIZVc7Dn",
        "colab": {
          "base_uri": "https://localhost:8080/"
        },
        "outputId": "8bf9ecb2-7357-47d2-b09e-d30101e5c588"
      },
      "source": [
        "features_to_keep = list(set_k_best.union(set_corr))\n",
        "print(features_to_keep)\n",
        "print(len(features_to_keep), 'SalePrice' in features_to_keep)"
      ],
      "execution_count": 513,
      "outputs": [
        {
          "output_type": "stream",
          "name": "stdout",
          "text": [
            "['WoodDeckSF', 'FullBath', 'YearBuilt', 'Fireplaces', 'Street', 'BsmtFinType2', 'TotRmsAbvGrd', 'BsmtCond', 'Exterior2nd', 'GrLivArea', 'KitchenQual', 'TotalBsmtSF', 'HeatingQC', 'Neighborhood', 'BsmtFinType1', 'YearRemodAdd', 'Exterior1st', 'Heating', 'MasVnrArea', 'BsmtQual', 'OpenPorchSF', 'ExterQual', 'GarageCars', 'Foundation', 'OverallQual', 'GarageYrBlt', '1stFlrSF', 'BsmtExposure', 'HalfBath', 'MasVnrType', 'LotArea', 'LotShape']\n",
            "32 False\n"
          ]
        }
      ]
    },
    {
      "cell_type": "code",
      "metadata": {
        "id": "eblGO6vLE6NO"
      },
      "source": [
        "ColumnKeeper.transform(train, features_to_keep + ['SalePrice'])\n",
        "ColumnKeeper.transform(test, features_to_keep)"
      ],
      "execution_count": 514,
      "outputs": []
    },
    {
      "cell_type": "code",
      "metadata": {
        "id": "-d897yBWFhlw",
        "colab": {
          "base_uri": "https://localhost:8080/"
        },
        "outputId": "5cdaf656-bb72-4697-e5fe-be07a5469392"
      },
      "source": [
        "train.shape, test.shape"
      ],
      "execution_count": 515,
      "outputs": [
        {
          "output_type": "execute_result",
          "data": {
            "text/plain": [
              "((1401, 33), (1459, 32))"
            ]
          },
          "metadata": {},
          "execution_count": 515
        }
      ]
    },
    {
      "cell_type": "code",
      "metadata": {
        "id": "7PhqtsvLFkzB",
        "colab": {
          "base_uri": "https://localhost:8080/",
          "height": 0
        },
        "outputId": "e6ad39f8-ba09-4a0b-cf8d-81024fb96bec"
      },
      "source": [
        "train.head()"
      ],
      "execution_count": 516,
      "outputs": [
        {
          "output_type": "execute_result",
          "data": {
            "text/html": [
              "<div>\n",
              "<style scoped>\n",
              "    .dataframe tbody tr th:only-of-type {\n",
              "        vertical-align: middle;\n",
              "    }\n",
              "\n",
              "    .dataframe tbody tr th {\n",
              "        vertical-align: top;\n",
              "    }\n",
              "\n",
              "    .dataframe thead th {\n",
              "        text-align: right;\n",
              "    }\n",
              "</style>\n",
              "<table border=\"1\" class=\"dataframe\">\n",
              "  <thead>\n",
              "    <tr style=\"text-align: right;\">\n",
              "      <th></th>\n",
              "      <th>LotArea</th>\n",
              "      <th>Street</th>\n",
              "      <th>LotShape</th>\n",
              "      <th>Neighborhood</th>\n",
              "      <th>OverallQual</th>\n",
              "      <th>YearBuilt</th>\n",
              "      <th>YearRemodAdd</th>\n",
              "      <th>Exterior1st</th>\n",
              "      <th>Exterior2nd</th>\n",
              "      <th>MasVnrType</th>\n",
              "      <th>MasVnrArea</th>\n",
              "      <th>ExterQual</th>\n",
              "      <th>Foundation</th>\n",
              "      <th>BsmtQual</th>\n",
              "      <th>BsmtCond</th>\n",
              "      <th>BsmtExposure</th>\n",
              "      <th>BsmtFinType1</th>\n",
              "      <th>BsmtFinType2</th>\n",
              "      <th>TotalBsmtSF</th>\n",
              "      <th>Heating</th>\n",
              "      <th>HeatingQC</th>\n",
              "      <th>1stFlrSF</th>\n",
              "      <th>GrLivArea</th>\n",
              "      <th>FullBath</th>\n",
              "      <th>HalfBath</th>\n",
              "      <th>KitchenQual</th>\n",
              "      <th>TotRmsAbvGrd</th>\n",
              "      <th>Fireplaces</th>\n",
              "      <th>GarageYrBlt</th>\n",
              "      <th>GarageCars</th>\n",
              "      <th>WoodDeckSF</th>\n",
              "      <th>OpenPorchSF</th>\n",
              "      <th>SalePrice</th>\n",
              "    </tr>\n",
              "    <tr>\n",
              "      <th>Id</th>\n",
              "      <th></th>\n",
              "      <th></th>\n",
              "      <th></th>\n",
              "      <th></th>\n",
              "      <th></th>\n",
              "      <th></th>\n",
              "      <th></th>\n",
              "      <th></th>\n",
              "      <th></th>\n",
              "      <th></th>\n",
              "      <th></th>\n",
              "      <th></th>\n",
              "      <th></th>\n",
              "      <th></th>\n",
              "      <th></th>\n",
              "      <th></th>\n",
              "      <th></th>\n",
              "      <th></th>\n",
              "      <th></th>\n",
              "      <th></th>\n",
              "      <th></th>\n",
              "      <th></th>\n",
              "      <th></th>\n",
              "      <th></th>\n",
              "      <th></th>\n",
              "      <th></th>\n",
              "      <th></th>\n",
              "      <th></th>\n",
              "      <th></th>\n",
              "      <th></th>\n",
              "      <th></th>\n",
              "      <th></th>\n",
              "      <th></th>\n",
              "    </tr>\n",
              "  </thead>\n",
              "  <tbody>\n",
              "    <tr>\n",
              "      <th>1</th>\n",
              "      <td>9.041922</td>\n",
              "      <td>0.693147</td>\n",
              "      <td>0.000000</td>\n",
              "      <td>2.833213</td>\n",
              "      <td>1.945910</td>\n",
              "      <td>7.602401</td>\n",
              "      <td>7.602401</td>\n",
              "      <td>2.484907</td>\n",
              "      <td>2.639057</td>\n",
              "      <td>1.098612</td>\n",
              "      <td>5.278115</td>\n",
              "      <td>1.098612</td>\n",
              "      <td>1.791759</td>\n",
              "      <td>1.386294</td>\n",
              "      <td>1.386294</td>\n",
              "      <td>0.693147</td>\n",
              "      <td>1.945910</td>\n",
              "      <td>1.609438</td>\n",
              "      <td>6.752270</td>\n",
              "      <td>1.791759</td>\n",
              "      <td>1.609438</td>\n",
              "      <td>6.752270</td>\n",
              "      <td>7.444249</td>\n",
              "      <td>0.693147</td>\n",
              "      <td>0.000000</td>\n",
              "      <td>1.098612</td>\n",
              "      <td>2.079442</td>\n",
              "      <td>-6.907755</td>\n",
              "      <td>7.602401</td>\n",
              "      <td>0.693147</td>\n",
              "      <td>-6.907755</td>\n",
              "      <td>4.110874</td>\n",
              "      <td>12.247694</td>\n",
              "    </tr>\n",
              "    <tr>\n",
              "      <th>2</th>\n",
              "      <td>9.169518</td>\n",
              "      <td>0.693147</td>\n",
              "      <td>0.000000</td>\n",
              "      <td>2.995732</td>\n",
              "      <td>1.791759</td>\n",
              "      <td>7.588830</td>\n",
              "      <td>7.588830</td>\n",
              "      <td>1.945910</td>\n",
              "      <td>1.609438</td>\n",
              "      <td>0.693147</td>\n",
              "      <td>-6.907755</td>\n",
              "      <td>0.693147</td>\n",
              "      <td>1.386294</td>\n",
              "      <td>1.386294</td>\n",
              "      <td>1.386294</td>\n",
              "      <td>1.609438</td>\n",
              "      <td>1.609438</td>\n",
              "      <td>1.609438</td>\n",
              "      <td>7.140453</td>\n",
              "      <td>1.791759</td>\n",
              "      <td>1.609438</td>\n",
              "      <td>7.140453</td>\n",
              "      <td>7.140453</td>\n",
              "      <td>0.693147</td>\n",
              "      <td>-6.907755</td>\n",
              "      <td>0.693147</td>\n",
              "      <td>1.791759</td>\n",
              "      <td>0.000000</td>\n",
              "      <td>7.588830</td>\n",
              "      <td>0.693147</td>\n",
              "      <td>5.697093</td>\n",
              "      <td>-6.907755</td>\n",
              "      <td>12.109011</td>\n",
              "    </tr>\n",
              "    <tr>\n",
              "      <th>3</th>\n",
              "      <td>9.328123</td>\n",
              "      <td>0.693147</td>\n",
              "      <td>0.693147</td>\n",
              "      <td>2.833213</td>\n",
              "      <td>1.945910</td>\n",
              "      <td>7.601402</td>\n",
              "      <td>7.601902</td>\n",
              "      <td>2.484907</td>\n",
              "      <td>2.639057</td>\n",
              "      <td>1.098612</td>\n",
              "      <td>5.087596</td>\n",
              "      <td>1.098612</td>\n",
              "      <td>1.791759</td>\n",
              "      <td>1.386294</td>\n",
              "      <td>1.386294</td>\n",
              "      <td>1.098612</td>\n",
              "      <td>1.945910</td>\n",
              "      <td>1.609438</td>\n",
              "      <td>6.824374</td>\n",
              "      <td>1.791759</td>\n",
              "      <td>1.609438</td>\n",
              "      <td>6.824374</td>\n",
              "      <td>7.487734</td>\n",
              "      <td>0.693147</td>\n",
              "      <td>0.000000</td>\n",
              "      <td>1.098612</td>\n",
              "      <td>1.791759</td>\n",
              "      <td>0.000000</td>\n",
              "      <td>7.601402</td>\n",
              "      <td>0.693147</td>\n",
              "      <td>-6.907755</td>\n",
              "      <td>3.737670</td>\n",
              "      <td>12.317167</td>\n",
              "    </tr>\n",
              "    <tr>\n",
              "      <th>4</th>\n",
              "      <td>9.164296</td>\n",
              "      <td>0.693147</td>\n",
              "      <td>0.693147</td>\n",
              "      <td>2.944439</td>\n",
              "      <td>1.945910</td>\n",
              "      <td>7.557473</td>\n",
              "      <td>7.585789</td>\n",
              "      <td>1.791759</td>\n",
              "      <td>1.386294</td>\n",
              "      <td>0.693147</td>\n",
              "      <td>-6.907755</td>\n",
              "      <td>0.693147</td>\n",
              "      <td>0.693147</td>\n",
              "      <td>1.098612</td>\n",
              "      <td>1.609438</td>\n",
              "      <td>0.693147</td>\n",
              "      <td>1.609438</td>\n",
              "      <td>1.609438</td>\n",
              "      <td>6.628041</td>\n",
              "      <td>1.791759</td>\n",
              "      <td>1.386294</td>\n",
              "      <td>6.867974</td>\n",
              "      <td>7.448334</td>\n",
              "      <td>0.000000</td>\n",
              "      <td>-6.907755</td>\n",
              "      <td>1.098612</td>\n",
              "      <td>1.945910</td>\n",
              "      <td>0.000000</td>\n",
              "      <td>7.599902</td>\n",
              "      <td>1.098612</td>\n",
              "      <td>-6.907755</td>\n",
              "      <td>3.555348</td>\n",
              "      <td>11.849398</td>\n",
              "    </tr>\n",
              "    <tr>\n",
              "      <th>5</th>\n",
              "      <td>9.565214</td>\n",
              "      <td>0.693147</td>\n",
              "      <td>0.693147</td>\n",
              "      <td>3.178054</td>\n",
              "      <td>2.079442</td>\n",
              "      <td>7.600902</td>\n",
              "      <td>7.600902</td>\n",
              "      <td>2.484907</td>\n",
              "      <td>2.639057</td>\n",
              "      <td>1.098612</td>\n",
              "      <td>5.857933</td>\n",
              "      <td>1.098612</td>\n",
              "      <td>1.791759</td>\n",
              "      <td>1.386294</td>\n",
              "      <td>1.386294</td>\n",
              "      <td>1.386294</td>\n",
              "      <td>1.945910</td>\n",
              "      <td>1.609438</td>\n",
              "      <td>7.043160</td>\n",
              "      <td>1.791759</td>\n",
              "      <td>1.609438</td>\n",
              "      <td>7.043160</td>\n",
              "      <td>7.695303</td>\n",
              "      <td>0.693147</td>\n",
              "      <td>0.000000</td>\n",
              "      <td>1.098612</td>\n",
              "      <td>2.197225</td>\n",
              "      <td>0.000000</td>\n",
              "      <td>7.600902</td>\n",
              "      <td>1.098612</td>\n",
              "      <td>5.257495</td>\n",
              "      <td>4.430817</td>\n",
              "      <td>12.429216</td>\n",
              "    </tr>\n",
              "  </tbody>\n",
              "</table>\n",
              "</div>"
            ],
            "text/plain": [
              "     LotArea    Street  LotShape  ...  WoodDeckSF  OpenPorchSF  SalePrice\n",
              "Id                                ...                                    \n",
              "1   9.041922  0.693147  0.000000  ...   -6.907755     4.110874  12.247694\n",
              "2   9.169518  0.693147  0.000000  ...    5.697093    -6.907755  12.109011\n",
              "3   9.328123  0.693147  0.693147  ...   -6.907755     3.737670  12.317167\n",
              "4   9.164296  0.693147  0.693147  ...   -6.907755     3.555348  11.849398\n",
              "5   9.565214  0.693147  0.693147  ...    5.257495     4.430817  12.429216\n",
              "\n",
              "[5 rows x 33 columns]"
            ]
          },
          "metadata": {},
          "execution_count": 516
        }
      ]
    },
    {
      "cell_type": "code",
      "metadata": {
        "id": "m-aplGejTbhR",
        "outputId": "55615900-30c9-4339-f31c-7299dbb1b6a2",
        "colab": {
          "base_uri": "https://localhost:8080/",
          "height": 0
        }
      },
      "source": [
        "sns.histplot(train['SalePrice'])"
      ],
      "execution_count": 517,
      "outputs": [
        {
          "output_type": "execute_result",
          "data": {
            "text/plain": [
              "<matplotlib.axes._subplots.AxesSubplot at 0x7fd700d79fd0>"
            ]
          },
          "metadata": {},
          "execution_count": 517
        },
        {
          "output_type": "display_data",
          "data": {
            "image/png": "[encoded data removed]",
            "text/plain": [
              "<Figure size 432x288 with 1 Axes>"
            ]
          },
          "metadata": {
            "needs_background": "light"
          }
        }
      ]
    },
    {
      "cell_type": "markdown",
      "metadata": {
        "id": "jJF-dUeFGNM-"
      },
      "source": [
        "## **Train Validation split (& Log transform of target)**"
      ]
    },
    {
      "cell_type": "code",
      "metadata": {
        "id": "p_uqFZ5nGsP9"
      },
      "source": [
        "y = train['SalePrice']\n",
        "train.drop(columns=['SalePrice'], inplace=True)"
      ],
      "execution_count": 518,
      "outputs": []
    },
    {
      "cell_type": "code",
      "metadata": {
        "id": "gK4KeTjcGR01"
      },
      "source": [
        "X_train_val, X_test, y_train_val, y_test = train_test_split(\n",
        "    train, \n",
        "    y,\n",
        "    train_size=train_proportion,\n",
        "    random_state=rand_state\n",
        ")"
      ],
      "execution_count": 519,
      "outputs": []
    },
    {
      "cell_type": "code",
      "metadata": {
        "id": "aL5-Rcq_HGfl",
        "colab": {
          "base_uri": "https://localhost:8080/"
        },
        "outputId": "052f3d55-7a7a-4ac0-851d-2c800e437e03"
      },
      "source": [
        "X_train_val.shape, X_test.shape, y_train_val.shape, y_test.shape"
      ],
      "execution_count": 520,
      "outputs": [
        {
          "output_type": "execute_result",
          "data": {
            "text/plain": [
              "((1260, 32), (141, 32), (1260,), (141,))"
            ]
          },
          "metadata": {},
          "execution_count": 520
        }
      ]
    },
    {
      "cell_type": "markdown",
      "metadata": {
        "id": "BUfRYQvbyMuj"
      },
      "source": [
        "## **Pipeline for features scaling + Transformers**"
      ]
    },
    {
      "cell_type": "code",
      "metadata": {
        "id": "ud0byCrxiQ5y",
        "colab": {
          "base_uri": "https://localhost:8080/"
        },
        "outputId": "5b5b41b7-0ba6-4b48-f45d-9b2b93b33061"
      },
      "source": [
        "num_features = list(train.select_dtypes(include=['int64', 'float64']).columns)\n",
        "cat_features = list(train.select_dtypes(include=['O']).columns)\n",
        "\n",
        "print(cat_features)\n",
        "print(num_features)"
      ],
      "execution_count": 521,
      "outputs": [
        {
          "output_type": "stream",
          "name": "stdout",
          "text": [
            "[]\n",
            "['LotArea', 'Street', 'LotShape', 'Neighborhood', 'OverallQual', 'YearBuilt', 'YearRemodAdd', 'Exterior1st', 'Exterior2nd', 'MasVnrType', 'MasVnrArea', 'ExterQual', 'Foundation', 'BsmtQual', 'BsmtCond', 'BsmtExposure', 'BsmtFinType1', 'BsmtFinType2', 'TotalBsmtSF', 'Heating', 'HeatingQC', '1stFlrSF', 'GrLivArea', 'FullBath', 'HalfBath', 'KitchenQual', 'TotRmsAbvGrd', 'Fireplaces', 'GarageYrBlt', 'GarageCars', 'WoodDeckSF', 'OpenPorchSF']\n"
          ]
        }
      ]
    },
    {
      "cell_type": "code",
      "metadata": {
        "id": "KgZusBsroj5M"
      },
      "source": [
        "num_pipeline = Pipeline(\n",
        "    steps = [\n",
        "             ('imputer', SimpleImputer()),\n",
        "             ('scaler', RobustScaler())\n",
        "    ]\n",
        ")\n",
        "num_transformer = FeaturesTransformers(num_features, num_pipeline)"
      ],
      "execution_count": 522,
      "outputs": []
    },
    {
      "cell_type": "markdown",
      "metadata": {
        "id": "iqd21TCeyVU2"
      },
      "source": [
        "## **Approximate tune, try models**"
      ]
    },
    {
      "cell_type": "code",
      "metadata": {
        "id": "pCGvfySRoF_g",
        "colab": {
          "base_uri": "https://localhost:8080/"
        },
        "outputId": "661f8671-91e1-4d70-c56c-7b246b2cde10"
      },
      "source": [
        "models = [\n",
        "          #('Regression', LinearRegression()),\n",
        "          #('RF', RandomForestRegressor()),\n",
        "          ('CatBoost', CatBoostRegressor(verbose=0)),\n",
        "          ('XGB', XGBRegressor()),\n",
        "          ('Elastic', ElasticNet()),\n",
        "          #('SVR', SVR()),\n",
        "          ('GradientBoost', GradientBoostingRegressor()),\n",
        "          ('LGBM', LGBMRegressor())\n",
        "          #('SGD', SGDRegressor())\n",
        "]\n",
        "\n",
        "res_dict = first_tune(\n",
        "    models,\n",
        "    scoring='neg_mean_squared_error',\n",
        "    X_train=X_train_val,\n",
        "    Y_train=y_train_val,\n",
        "    transformers = dict(\n",
        "        num=num_transformer\n",
        "    )\n",
        ")\n",
        "d_sorted = {k:v.mean() for k, v in sorted(res_dict.items(), key = lambda item: item[1].mean())}\n",
        "d_sorted"
      ],
      "execution_count": null,
      "outputs": [
        {
          "output_type": "stream",
          "name": "stdout",
          "text": [
            "[11:27:13] WARNING: /workspace/src/objective/regression_obj.cu:152: reg:linear is now deprecated in favor of reg:squarederror.\n",
            "[11:27:13] WARNING: /workspace/src/objective/regression_obj.cu:152: reg:linear is now deprecated in favor of reg:squarederror.\n",
            "[11:27:13] WARNING: /workspace/src/objective/regression_obj.cu:152: reg:linear is now deprecated in favor of reg:squarederror.\n",
            "[11:27:13] WARNING: /workspace/src/objective/regression_obj.cu:152: reg:linear is now deprecated in favor of reg:squarederror.\n",
            "[11:27:13] WARNING: /workspace/src/objective/regression_obj.cu:152: reg:linear is now deprecated in favor of reg:squarederror.\n"
          ]
        },
        {
          "output_type": "execute_result",
          "data": {
            "text/plain": [
              "{'CatBoost': -0.016894650297906242,\n",
              " 'Elastic': -0.1549471147999328,\n",
              " 'GradientBoost': -0.019028994037649904,\n",
              " 'LGBM': -0.019914242875806974,\n",
              " 'XGB': -0.018925463490975382}"
            ]
          },
          "metadata": {},
          "execution_count": 156
        }
      ]
    },
    {
      "cell_type": "markdown",
      "metadata": {
        "id": "YdtF1FWDHAwx"
      },
      "source": [
        "**Cat Boost Regression shows best metrics**"
      ]
    },
    {
      "cell_type": "markdown",
      "metadata": {
        "id": "6v_6zovfHFQg"
      },
      "source": [
        ""
      ]
    },
    {
      "cell_type": "markdown",
      "metadata": {
        "id": "2TC9K6kqIW8I"
      },
      "source": [
        "## **Model fine tune**"
      ]
    },
    {
      "cell_type": "code",
      "metadata": {
        "id": "QsslwXQXI_Qd",
        "colab": {
          "base_uri": "https://localhost:8080/"
        },
        "outputId": "308e7d2b-2f35-4507-c09c-724b03d2f526"
      },
      "source": [
        "catboost_models = [(\n",
        "    'CatBoost',\n",
        "    CatBoostRegressor(verbose=0),{\n",
        "        'model__depth': [4, 6],\n",
        "        'model__learning_rate': [0.03, 0.1],\n",
        "        'model__iterations': [100, 150, 200],\n",
        "        'model__l2_leaf_reg': [0.3, 0.5, 1]\n",
        "    }\n",
        ")]\n",
        "\n",
        "catboost_res = fine_tune(\n",
        "    catboost_models,\n",
        "    X_train_val,\n",
        "    y_train_val,\n",
        "    strategy='GridSearchCV',\n",
        "    search_params = dict(\n",
        "        verbose=3,\n",
        "        return_train_score=True,\n",
        "        n_jobs=-1,\n",
        "        scoring='neg_root_mean_squared_error',\n",
        "        cv=6\n",
        "    ),\n",
        "    transformers = dict(\n",
        "        numeric = num_transformer\n",
        "    )\n",
        ")"
      ],
      "execution_count": 523,
      "outputs": [
        {
          "output_type": "stream",
          "name": "stdout",
          "text": [
            "{'verbose': 3, 'return_train_score': True, 'n_jobs': -1, 'scoring': 'neg_root_mean_squared_error', 'cv': 6}\n",
            "Fitting 6 folds for each of 36 candidates, totalling 216 fits\n"
          ]
        },
        {
          "output_type": "stream",
          "name": "stderr",
          "text": [
            "[Parallel(n_jobs=-1)]: Using backend LokyBackend with 2 concurrent workers.\n",
            "[Parallel(n_jobs=-1)]: Done  28 tasks      | elapsed:    5.6s\n",
            "[Parallel(n_jobs=-1)]: Done 124 tasks      | elapsed:   35.4s\n",
            "[Parallel(n_jobs=-1)]: Done 216 out of 216 | elapsed:  1.5min finished\n"
          ]
        }
      ]
    },
    {
      "cell_type": "markdown",
      "metadata": {
        "id": "e5eLNJJKNsLs"
      },
      "source": [
        "## **Best Model Selection**"
      ]
    },
    {
      "cell_type": "code",
      "metadata": {
        "id": "DpeEoB6rMmY-",
        "colab": {
          "base_uri": "https://localhost:8080/"
        },
        "outputId": "409288ad-45a5-43e2-f4c5-692abcc0c4cf"
      },
      "source": [
        "best_model_score = catboost_res['CatBoost'].best_score_\n",
        "best_estimator = catboost_res['CatBoost'].best_estimator_\n",
        "print(best_model_score)"
      ],
      "execution_count": 524,
      "outputs": [
        {
          "output_type": "stream",
          "name": "stdout",
          "text": [
            "-0.1134287579334796\n"
          ]
        }
      ]
    },
    {
      "cell_type": "code",
      "metadata": {
        "id": "6iropJh1N5vr",
        "colab": {
          "base_uri": "https://localhost:8080/"
        },
        "outputId": "1bcb374d-7f58-49e4-f3a0-e5028e7191f7"
      },
      "source": [
        "best_estimator.fit(X_train_val, y_train_val)"
      ],
      "execution_count": 531,
      "outputs": [
        {
          "output_type": "execute_result",
          "data": {
            "text/plain": [
              "Pipeline(memory=None,\n",
              "         steps=[('preprocessing',\n",
              "                 ColumnTransformer(n_jobs=None, remainder='drop',\n",
              "                                   sparse_threshold=0.3,\n",
              "                                   transformer_weights=None,\n",
              "                                   transformers=[('numeric',\n",
              "                                                  Pipeline(memory=None,\n",
              "                                                           steps=[('imputer',\n",
              "                                                                   SimpleImputer(add_indicator=False,\n",
              "                                                                                 copy=True,\n",
              "                                                                                 fill_value=None,\n",
              "                                                                                 missing_values=nan,\n",
              "                                                                                 strategy='mean',\n",
              "                                                                                 verbose=0)),\n",
              "                                                                  ('scaler',\n",
              "                                                                   RobustScaler(copy=True,\n",
              "                                                                                quantile...\n",
              "                                                   'MasVnrType', 'MasVnrArea',\n",
              "                                                   'ExterQual', 'Foundation',\n",
              "                                                   'BsmtQual', 'BsmtCond',\n",
              "                                                   'BsmtExposure',\n",
              "                                                   'BsmtFinType1',\n",
              "                                                   'BsmtFinType2',\n",
              "                                                   'TotalBsmtSF', 'Heating',\n",
              "                                                   'HeatingQC', '1stFlrSF',\n",
              "                                                   'GrLivArea', 'FullBath',\n",
              "                                                   'HalfBath', 'KitchenQual',\n",
              "                                                   'TotRmsAbvGrd', 'Fireplaces',\n",
              "                                                   'GarageYrBlt', 'GarageCars', ...])],\n",
              "                                   verbose=False)),\n",
              "                ('model',\n",
              "                 <catboost.core.CatBoostRegressor object at 0x7fd700c91b90>)],\n",
              "         verbose=False)"
            ]
          },
          "metadata": {},
          "execution_count": 531
        }
      ]
    },
    {
      "cell_type": "code",
      "metadata": {
        "id": "aYyH3misOKfZ",
        "colab": {
          "base_uri": "https://localhost:8080/"
        },
        "outputId": "de0bd615-0175-492d-ed70-b13c0d95b80b"
      },
      "source": [
        "predicted = best_estimator.predict(X_test)\n",
        "print(mean_squared_error(predicted, y_test))"
      ],
      "execution_count": 527,
      "outputs": [
        {
          "output_type": "stream",
          "name": "stdout",
          "text": [
            "0.011496532037648874\n"
          ]
        }
      ]
    },
    {
      "cell_type": "markdown",
      "metadata": {
        "id": "Or_p2g7QPYVx"
      },
      "source": [
        "# **Submission**"
      ]
    },
    {
      "cell_type": "code",
      "metadata": {
        "id": "ZxYTkrmlPbdZ"
      },
      "source": [
        "best_estimator.fit(train, y)\n",
        "final_predictions = np.exp(best_estimator.predict(test))"
      ],
      "execution_count": 528,
      "outputs": []
    },
    {
      "cell_type": "code",
      "metadata": {
        "id": "l9on2VKNLe7I",
        "colab": {
          "base_uri": "https://localhost:8080/"
        },
        "outputId": "5af76f28-ac51-476a-e44e-7f26ea5e90d2"
      },
      "source": [
        "final_predictions"
      ],
      "execution_count": 529,
      "outputs": [
        {
          "output_type": "execute_result",
          "data": {
            "text/plain": [
              "array([119948.76859817, 155719.34370961, 183760.05033173, ...,\n",
              "       157638.57533892, 121589.18416492, 203658.78857734])"
            ]
          },
          "metadata": {},
          "execution_count": 529
        }
      ]
    },
    {
      "cell_type": "code",
      "metadata": {
        "id": "8T0jYjXHP0p9"
      },
      "source": [
        "sample_submission = pd.read_csv(sample_submission_path, index_col='Id')\n",
        "submission = pd.DataFrame({\n",
        "    'Id': sample_submission.index,\n",
        "    'SalePrice': final_predictions\n",
        "})\n",
        "submission.to_csv(submission_path, index=False)"
      ],
      "execution_count": 530,
      "outputs": []
    }
  ]
}